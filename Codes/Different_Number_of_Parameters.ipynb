{
  "cells": [
    {
      "cell_type": "markdown",
      "source": [
        "# **Import Libraries**"
      ],
      "metadata": {
        "id": "GU0eIzoYdFKG"
      }
    },
    {
      "cell_type": "code",
      "execution_count": 24,
      "metadata": {
        "id": "UGhk-teb1YP2"
      },
      "outputs": [],
      "source": [
        "from tensorflow import keras\n",
        "from keras.models import Sequential\n",
        "from keras.layers import Dense, Dropout, Flatten\n",
        "from sklearn.model_selection import train_test_split\n",
        "import numpy as np\n",
        "import pandas as pd\n",
        "import time"
      ]
    },
    {
      "cell_type": "code",
      "execution_count": 26,
      "metadata": {
        "id": "tcVRbqFW2dGR"
      },
      "outputs": [],
      "source": [
        "np.random.seed(42)"
      ]
    },
    {
      "cell_type": "code",
      "execution_count": 28,
      "metadata": {
        "id": "20Mc5_hf2efy"
      },
      "outputs": [],
      "source": [
        "import tensorflow as tf\n",
        "\n",
        "tf.keras.utils.set_random_seed(1)\n",
        "tf.config.experimental.enable_op_determinism()"
      ]
    },
    {
      "cell_type": "markdown",
      "source": [
        "# **Data Pre-processing**"
      ],
      "metadata": {
        "id": "p9ySKnjQdJIx"
      }
    },
    {
      "cell_type": "markdown",
      "source": [
        "## Import Dataset"
      ],
      "metadata": {
        "id": "x8LHZCGHdcc_"
      }
    },
    {
      "cell_type": "code",
      "execution_count": 30,
      "metadata": {
        "id": "1AcZ5fFq2fg7"
      },
      "outputs": [],
      "source": [
        "# import the DataSet\n",
        "dt = pd.read_csv('Interpolated_Training_Data.csv')"
      ]
    },
    {
      "cell_type": "code",
      "execution_count": 32,
      "metadata": {
        "colab": {
          "base_uri": "https://localhost:8080/",
          "height": 423
        },
        "id": "5U8Ny5pd2grK",
        "outputId": "c672b12b-60ca-4f58-900b-4f801cf61e57"
      },
      "outputs": [
        {
          "output_type": "execute_result",
          "data": {
            "text/plain": [
              "     Configuration  Pressure     Theta1    Theta2    Theta3    Theta4  \\\n",
              "0     DS10DS10_0_1       0.0 -14.266649 -8.307888 -5.844170 -4.538399   \n",
              "1     DS10DS10_0_1       8.5 -14.408452 -8.399550 -5.738773 -4.142236   \n",
              "2     DS10DS10_0_1      17.0 -13.957240 -7.325239 -4.092228 -2.035293   \n",
              "3     DS10DS10_0_1      25.5 -13.576226 -6.441465 -2.790626 -0.286894   \n",
              "4     DS10DS10_0_1      34.0 -13.579100 -6.399944 -2.623292  0.035310   \n",
              "...            ...       ...        ...       ...       ...       ...   \n",
              "4177    E30E30_3_6     306.0 -15.068790 -9.740283 -6.932789 -5.844170   \n",
              "4178    E30E30_3_6     314.5 -15.068790 -9.740283 -6.932789 -5.892871   \n",
              "4179    E30E30_3_6     323.0 -15.126086 -9.740283 -6.932789 -5.901465   \n",
              "4180    E30E30_3_6     331.5 -15.068790 -9.740283 -6.932789 -5.844170   \n",
              "4181    E30E30_3_6     340.0 -15.126086 -9.740283 -6.932789 -5.844170   \n",
              "\n",
              "        Theta5    Theta6  \n",
              "0    -3.596456 -3.205699  \n",
              "1    -2.953373 -2.136300  \n",
              "2    -0.421883  0.750848  \n",
              "3     1.695869  3.151817  \n",
              "4     2.201195  3.861465  \n",
              "...        ...       ...  \n",
              "4177 -5.786874 -6.119189  \n",
              "4178 -5.844170 -6.179350  \n",
              "4179 -5.844170 -6.296806  \n",
              "4180 -5.789739 -6.356967  \n",
              "4181 -5.786874 -6.187944  \n",
              "\n",
              "[4182 rows x 8 columns]"
            ],
            "text/html": [
              "\n",
              "  <div id=\"df-c186b70a-99d5-4c81-af06-a65ee7d42434\" class=\"colab-df-container\">\n",
              "    <div>\n",
              "<style scoped>\n",
              "    .dataframe tbody tr th:only-of-type {\n",
              "        vertical-align: middle;\n",
              "    }\n",
              "\n",
              "    .dataframe tbody tr th {\n",
              "        vertical-align: top;\n",
              "    }\n",
              "\n",
              "    .dataframe thead th {\n",
              "        text-align: right;\n",
              "    }\n",
              "</style>\n",
              "<table border=\"1\" class=\"dataframe\">\n",
              "  <thead>\n",
              "    <tr style=\"text-align: right;\">\n",
              "      <th></th>\n",
              "      <th>Configuration</th>\n",
              "      <th>Pressure</th>\n",
              "      <th>Theta1</th>\n",
              "      <th>Theta2</th>\n",
              "      <th>Theta3</th>\n",
              "      <th>Theta4</th>\n",
              "      <th>Theta5</th>\n",
              "      <th>Theta6</th>\n",
              "    </tr>\n",
              "  </thead>\n",
              "  <tbody>\n",
              "    <tr>\n",
              "      <th>0</th>\n",
              "      <td>DS10DS10_0_1</td>\n",
              "      <td>0.0</td>\n",
              "      <td>-14.266649</td>\n",
              "      <td>-8.307888</td>\n",
              "      <td>-5.844170</td>\n",
              "      <td>-4.538399</td>\n",
              "      <td>-3.596456</td>\n",
              "      <td>-3.205699</td>\n",
              "    </tr>\n",
              "    <tr>\n",
              "      <th>1</th>\n",
              "      <td>DS10DS10_0_1</td>\n",
              "      <td>8.5</td>\n",
              "      <td>-14.408452</td>\n",
              "      <td>-8.399550</td>\n",
              "      <td>-5.738773</td>\n",
              "      <td>-4.142236</td>\n",
              "      <td>-2.953373</td>\n",
              "      <td>-2.136300</td>\n",
              "    </tr>\n",
              "    <tr>\n",
              "      <th>2</th>\n",
              "      <td>DS10DS10_0_1</td>\n",
              "      <td>17.0</td>\n",
              "      <td>-13.957240</td>\n",
              "      <td>-7.325239</td>\n",
              "      <td>-4.092228</td>\n",
              "      <td>-2.035293</td>\n",
              "      <td>-0.421883</td>\n",
              "      <td>0.750848</td>\n",
              "    </tr>\n",
              "    <tr>\n",
              "      <th>3</th>\n",
              "      <td>DS10DS10_0_1</td>\n",
              "      <td>25.5</td>\n",
              "      <td>-13.576226</td>\n",
              "      <td>-6.441465</td>\n",
              "      <td>-2.790626</td>\n",
              "      <td>-0.286894</td>\n",
              "      <td>1.695869</td>\n",
              "      <td>3.151817</td>\n",
              "    </tr>\n",
              "    <tr>\n",
              "      <th>4</th>\n",
              "      <td>DS10DS10_0_1</td>\n",
              "      <td>34.0</td>\n",
              "      <td>-13.579100</td>\n",
              "      <td>-6.399944</td>\n",
              "      <td>-2.623292</td>\n",
              "      <td>0.035310</td>\n",
              "      <td>2.201195</td>\n",
              "      <td>3.861465</td>\n",
              "    </tr>\n",
              "    <tr>\n",
              "      <th>...</th>\n",
              "      <td>...</td>\n",
              "      <td>...</td>\n",
              "      <td>...</td>\n",
              "      <td>...</td>\n",
              "      <td>...</td>\n",
              "      <td>...</td>\n",
              "      <td>...</td>\n",
              "      <td>...</td>\n",
              "    </tr>\n",
              "    <tr>\n",
              "      <th>4177</th>\n",
              "      <td>E30E30_3_6</td>\n",
              "      <td>306.0</td>\n",
              "      <td>-15.068790</td>\n",
              "      <td>-9.740283</td>\n",
              "      <td>-6.932789</td>\n",
              "      <td>-5.844170</td>\n",
              "      <td>-5.786874</td>\n",
              "      <td>-6.119189</td>\n",
              "    </tr>\n",
              "    <tr>\n",
              "      <th>4178</th>\n",
              "      <td>E30E30_3_6</td>\n",
              "      <td>314.5</td>\n",
              "      <td>-15.068790</td>\n",
              "      <td>-9.740283</td>\n",
              "      <td>-6.932789</td>\n",
              "      <td>-5.892871</td>\n",
              "      <td>-5.844170</td>\n",
              "      <td>-6.179350</td>\n",
              "    </tr>\n",
              "    <tr>\n",
              "      <th>4179</th>\n",
              "      <td>E30E30_3_6</td>\n",
              "      <td>323.0</td>\n",
              "      <td>-15.126086</td>\n",
              "      <td>-9.740283</td>\n",
              "      <td>-6.932789</td>\n",
              "      <td>-5.901465</td>\n",
              "      <td>-5.844170</td>\n",
              "      <td>-6.296806</td>\n",
              "    </tr>\n",
              "    <tr>\n",
              "      <th>4180</th>\n",
              "      <td>E30E30_3_6</td>\n",
              "      <td>331.5</td>\n",
              "      <td>-15.068790</td>\n",
              "      <td>-9.740283</td>\n",
              "      <td>-6.932789</td>\n",
              "      <td>-5.844170</td>\n",
              "      <td>-5.789739</td>\n",
              "      <td>-6.356967</td>\n",
              "    </tr>\n",
              "    <tr>\n",
              "      <th>4181</th>\n",
              "      <td>E30E30_3_6</td>\n",
              "      <td>340.0</td>\n",
              "      <td>-15.126086</td>\n",
              "      <td>-9.740283</td>\n",
              "      <td>-6.932789</td>\n",
              "      <td>-5.844170</td>\n",
              "      <td>-5.786874</td>\n",
              "      <td>-6.187944</td>\n",
              "    </tr>\n",
              "  </tbody>\n",
              "</table>\n",
              "<p>4182 rows × 8 columns</p>\n",
              "</div>\n",
              "    <div class=\"colab-df-buttons\">\n",
              "\n",
              "  <div class=\"colab-df-container\">\n",
              "    <button class=\"colab-df-convert\" onclick=\"convertToInteractive('df-c186b70a-99d5-4c81-af06-a65ee7d42434')\"\n",
              "            title=\"Convert this dataframe to an interactive table.\"\n",
              "            style=\"display:none;\">\n",
              "\n",
              "  <svg xmlns=\"http://www.w3.org/2000/svg\" height=\"24px\" viewBox=\"0 -960 960 960\">\n",
              "    <path d=\"M120-120v-720h720v720H120Zm60-500h600v-160H180v160Zm220 220h160v-160H400v160Zm0 220h160v-160H400v160ZM180-400h160v-160H180v160Zm440 0h160v-160H620v160ZM180-180h160v-160H180v160Zm440 0h160v-160H620v160Z\"/>\n",
              "  </svg>\n",
              "    </button>\n",
              "\n",
              "  <style>\n",
              "    .colab-df-container {\n",
              "      display:flex;\n",
              "      gap: 12px;\n",
              "    }\n",
              "\n",
              "    .colab-df-convert {\n",
              "      background-color: #E8F0FE;\n",
              "      border: none;\n",
              "      border-radius: 50%;\n",
              "      cursor: pointer;\n",
              "      display: none;\n",
              "      fill: #1967D2;\n",
              "      height: 32px;\n",
              "      padding: 0 0 0 0;\n",
              "      width: 32px;\n",
              "    }\n",
              "\n",
              "    .colab-df-convert:hover {\n",
              "      background-color: #E2EBFA;\n",
              "      box-shadow: 0px 1px 2px rgba(60, 64, 67, 0.3), 0px 1px 3px 1px rgba(60, 64, 67, 0.15);\n",
              "      fill: #174EA6;\n",
              "    }\n",
              "\n",
              "    .colab-df-buttons div {\n",
              "      margin-bottom: 4px;\n",
              "    }\n",
              "\n",
              "    [theme=dark] .colab-df-convert {\n",
              "      background-color: #3B4455;\n",
              "      fill: #D2E3FC;\n",
              "    }\n",
              "\n",
              "    [theme=dark] .colab-df-convert:hover {\n",
              "      background-color: #434B5C;\n",
              "      box-shadow: 0px 1px 3px 1px rgba(0, 0, 0, 0.15);\n",
              "      filter: drop-shadow(0px 1px 2px rgba(0, 0, 0, 0.3));\n",
              "      fill: #FFFFFF;\n",
              "    }\n",
              "  </style>\n",
              "\n",
              "    <script>\n",
              "      const buttonEl =\n",
              "        document.querySelector('#df-c186b70a-99d5-4c81-af06-a65ee7d42434 button.colab-df-convert');\n",
              "      buttonEl.style.display =\n",
              "        google.colab.kernel.accessAllowed ? 'block' : 'none';\n",
              "\n",
              "      async function convertToInteractive(key) {\n",
              "        const element = document.querySelector('#df-c186b70a-99d5-4c81-af06-a65ee7d42434');\n",
              "        const dataTable =\n",
              "          await google.colab.kernel.invokeFunction('convertToInteractive',\n",
              "                                                    [key], {});\n",
              "        if (!dataTable) return;\n",
              "\n",
              "        const docLinkHtml = 'Like what you see? Visit the ' +\n",
              "          '<a target=\"_blank\" href=https://colab.research.google.com/notebooks/data_table.ipynb>data table notebook</a>'\n",
              "          + ' to learn more about interactive tables.';\n",
              "        element.innerHTML = '';\n",
              "        dataTable['output_type'] = 'display_data';\n",
              "        await google.colab.output.renderOutput(dataTable, element);\n",
              "        const docLink = document.createElement('div');\n",
              "        docLink.innerHTML = docLinkHtml;\n",
              "        element.appendChild(docLink);\n",
              "      }\n",
              "    </script>\n",
              "  </div>\n",
              "\n",
              "\n",
              "<div id=\"df-a97fd88f-6456-489f-a189-9a14b26e6394\">\n",
              "  <button class=\"colab-df-quickchart\" onclick=\"quickchart('df-a97fd88f-6456-489f-a189-9a14b26e6394')\"\n",
              "            title=\"Suggest charts\"\n",
              "            style=\"display:none;\">\n",
              "\n",
              "<svg xmlns=\"http://www.w3.org/2000/svg\" height=\"24px\"viewBox=\"0 0 24 24\"\n",
              "     width=\"24px\">\n",
              "    <g>\n",
              "        <path d=\"M19 3H5c-1.1 0-2 .9-2 2v14c0 1.1.9 2 2 2h14c1.1 0 2-.9 2-2V5c0-1.1-.9-2-2-2zM9 17H7v-7h2v7zm4 0h-2V7h2v10zm4 0h-2v-4h2v4z\"/>\n",
              "    </g>\n",
              "</svg>\n",
              "  </button>\n",
              "\n",
              "<style>\n",
              "  .colab-df-quickchart {\n",
              "      --bg-color: #E8F0FE;\n",
              "      --fill-color: #1967D2;\n",
              "      --hover-bg-color: #E2EBFA;\n",
              "      --hover-fill-color: #174EA6;\n",
              "      --disabled-fill-color: #AAA;\n",
              "      --disabled-bg-color: #DDD;\n",
              "  }\n",
              "\n",
              "  [theme=dark] .colab-df-quickchart {\n",
              "      --bg-color: #3B4455;\n",
              "      --fill-color: #D2E3FC;\n",
              "      --hover-bg-color: #434B5C;\n",
              "      --hover-fill-color: #FFFFFF;\n",
              "      --disabled-bg-color: #3B4455;\n",
              "      --disabled-fill-color: #666;\n",
              "  }\n",
              "\n",
              "  .colab-df-quickchart {\n",
              "    background-color: var(--bg-color);\n",
              "    border: none;\n",
              "    border-radius: 50%;\n",
              "    cursor: pointer;\n",
              "    display: none;\n",
              "    fill: var(--fill-color);\n",
              "    height: 32px;\n",
              "    padding: 0;\n",
              "    width: 32px;\n",
              "  }\n",
              "\n",
              "  .colab-df-quickchart:hover {\n",
              "    background-color: var(--hover-bg-color);\n",
              "    box-shadow: 0 1px 2px rgba(60, 64, 67, 0.3), 0 1px 3px 1px rgba(60, 64, 67, 0.15);\n",
              "    fill: var(--button-hover-fill-color);\n",
              "  }\n",
              "\n",
              "  .colab-df-quickchart-complete:disabled,\n",
              "  .colab-df-quickchart-complete:disabled:hover {\n",
              "    background-color: var(--disabled-bg-color);\n",
              "    fill: var(--disabled-fill-color);\n",
              "    box-shadow: none;\n",
              "  }\n",
              "\n",
              "  .colab-df-spinner {\n",
              "    border: 2px solid var(--fill-color);\n",
              "    border-color: transparent;\n",
              "    border-bottom-color: var(--fill-color);\n",
              "    animation:\n",
              "      spin 1s steps(1) infinite;\n",
              "  }\n",
              "\n",
              "  @keyframes spin {\n",
              "    0% {\n",
              "      border-color: transparent;\n",
              "      border-bottom-color: var(--fill-color);\n",
              "      border-left-color: var(--fill-color);\n",
              "    }\n",
              "    20% {\n",
              "      border-color: transparent;\n",
              "      border-left-color: var(--fill-color);\n",
              "      border-top-color: var(--fill-color);\n",
              "    }\n",
              "    30% {\n",
              "      border-color: transparent;\n",
              "      border-left-color: var(--fill-color);\n",
              "      border-top-color: var(--fill-color);\n",
              "      border-right-color: var(--fill-color);\n",
              "    }\n",
              "    40% {\n",
              "      border-color: transparent;\n",
              "      border-right-color: var(--fill-color);\n",
              "      border-top-color: var(--fill-color);\n",
              "    }\n",
              "    60% {\n",
              "      border-color: transparent;\n",
              "      border-right-color: var(--fill-color);\n",
              "    }\n",
              "    80% {\n",
              "      border-color: transparent;\n",
              "      border-right-color: var(--fill-color);\n",
              "      border-bottom-color: var(--fill-color);\n",
              "    }\n",
              "    90% {\n",
              "      border-color: transparent;\n",
              "      border-bottom-color: var(--fill-color);\n",
              "    }\n",
              "  }\n",
              "</style>\n",
              "\n",
              "  <script>\n",
              "    async function quickchart(key) {\n",
              "      const quickchartButtonEl =\n",
              "        document.querySelector('#' + key + ' button');\n",
              "      quickchartButtonEl.disabled = true;  // To prevent multiple clicks.\n",
              "      quickchartButtonEl.classList.add('colab-df-spinner');\n",
              "      try {\n",
              "        const charts = await google.colab.kernel.invokeFunction(\n",
              "            'suggestCharts', [key], {});\n",
              "      } catch (error) {\n",
              "        console.error('Error during call to suggestCharts:', error);\n",
              "      }\n",
              "      quickchartButtonEl.classList.remove('colab-df-spinner');\n",
              "      quickchartButtonEl.classList.add('colab-df-quickchart-complete');\n",
              "    }\n",
              "    (() => {\n",
              "      let quickchartButtonEl =\n",
              "        document.querySelector('#df-a97fd88f-6456-489f-a189-9a14b26e6394 button');\n",
              "      quickchartButtonEl.style.display =\n",
              "        google.colab.kernel.accessAllowed ? 'block' : 'none';\n",
              "    })();\n",
              "  </script>\n",
              "</div>\n",
              "\n",
              "  <div id=\"id_36b7bd0b-52a3-433b-9c21-30d20f66ceb0\">\n",
              "    <style>\n",
              "      .colab-df-generate {\n",
              "        background-color: #E8F0FE;\n",
              "        border: none;\n",
              "        border-radius: 50%;\n",
              "        cursor: pointer;\n",
              "        display: none;\n",
              "        fill: #1967D2;\n",
              "        height: 32px;\n",
              "        padding: 0 0 0 0;\n",
              "        width: 32px;\n",
              "      }\n",
              "\n",
              "      .colab-df-generate:hover {\n",
              "        background-color: #E2EBFA;\n",
              "        box-shadow: 0px 1px 2px rgba(60, 64, 67, 0.3), 0px 1px 3px 1px rgba(60, 64, 67, 0.15);\n",
              "        fill: #174EA6;\n",
              "      }\n",
              "\n",
              "      [theme=dark] .colab-df-generate {\n",
              "        background-color: #3B4455;\n",
              "        fill: #D2E3FC;\n",
              "      }\n",
              "\n",
              "      [theme=dark] .colab-df-generate:hover {\n",
              "        background-color: #434B5C;\n",
              "        box-shadow: 0px 1px 3px 1px rgba(0, 0, 0, 0.15);\n",
              "        filter: drop-shadow(0px 1px 2px rgba(0, 0, 0, 0.3));\n",
              "        fill: #FFFFFF;\n",
              "      }\n",
              "    </style>\n",
              "    <button class=\"colab-df-generate\" onclick=\"generateWithVariable('dt')\"\n",
              "            title=\"Generate code using this dataframe.\"\n",
              "            style=\"display:none;\">\n",
              "\n",
              "  <svg xmlns=\"http://www.w3.org/2000/svg\" height=\"24px\"viewBox=\"0 0 24 24\"\n",
              "       width=\"24px\">\n",
              "    <path d=\"M7,19H8.4L18.45,9,17,7.55,7,17.6ZM5,21V16.75L18.45,3.32a2,2,0,0,1,2.83,0l1.4,1.43a1.91,1.91,0,0,1,.58,1.4,1.91,1.91,0,0,1-.58,1.4L9.25,21ZM18.45,9,17,7.55Zm-12,3A5.31,5.31,0,0,0,4.9,8.1,5.31,5.31,0,0,0,1,6.5,5.31,5.31,0,0,0,4.9,4.9,5.31,5.31,0,0,0,6.5,1,5.31,5.31,0,0,0,8.1,4.9,5.31,5.31,0,0,0,12,6.5,5.46,5.46,0,0,0,6.5,12Z\"/>\n",
              "  </svg>\n",
              "    </button>\n",
              "    <script>\n",
              "      (() => {\n",
              "      const buttonEl =\n",
              "        document.querySelector('#id_36b7bd0b-52a3-433b-9c21-30d20f66ceb0 button.colab-df-generate');\n",
              "      buttonEl.style.display =\n",
              "        google.colab.kernel.accessAllowed ? 'block' : 'none';\n",
              "\n",
              "      buttonEl.onclick = () => {\n",
              "        google.colab.notebook.generateWithVariable('dt');\n",
              "      }\n",
              "      })();\n",
              "    </script>\n",
              "  </div>\n",
              "\n",
              "    </div>\n",
              "  </div>\n"
            ],
            "application/vnd.google.colaboratory.intrinsic+json": {
              "type": "dataframe",
              "variable_name": "dt",
              "summary": "{\n  \"name\": \"dt\",\n  \"rows\": 4182,\n  \"fields\": [\n    {\n      \"column\": \"Configuration\",\n      \"properties\": {\n        \"dtype\": \"category\",\n        \"num_unique_values\": 102,\n        \"samples\": [\n          \"DS10E30_2_2\",\n          \"DS30DS30_0_3\",\n          \"DS20E30_6_2\"\n        ],\n        \"semantic_type\": \"\",\n        \"description\": \"\"\n      }\n    },\n    {\n      \"column\": \"Pressure\",\n      \"properties\": {\n        \"dtype\": \"number\",\n        \"std\": 100.58538302201153,\n        \"min\": 0.0,\n        \"max\": 340.0,\n        \"num_unique_values\": 41,\n        \"samples\": [\n          204.0,\n          110.5,\n          68.0\n        ],\n        \"semantic_type\": \"\",\n        \"description\": \"\"\n      }\n    },\n    {\n      \"column\": \"Theta1\",\n      \"properties\": {\n        \"dtype\": \"number\",\n        \"std\": 2.683540006346695,\n        \"min\": -23.43397382,\n        \"max\": -9.167324722,\n        \"num_unique_values\": 1911,\n        \"samples\": [\n          -20.18530312,\n          -14.72644761,\n          -15.2005703\n        ],\n        \"semantic_type\": \"\",\n        \"description\": \"\"\n      }\n    },\n    {\n      \"column\": \"Theta2\",\n      \"properties\": {\n        \"dtype\": \"number\",\n        \"std\": 5.6950391801898865,\n        \"min\": -25.32186976,\n        \"max\": 5.786873731,\n        \"num_unique_values\": 2767,\n        \"samples\": [\n          -6.316859691,\n          -1.539537596,\n          -18.17135647\n        ],\n        \"semantic_type\": \"\",\n        \"description\": \"\"\n      }\n    },\n    {\n      \"column\": \"Theta3\",\n      \"properties\": {\n        \"dtype\": \"number\",\n        \"std\": 8.80967335584435,\n        \"min\": -31.16890406,\n        \"max\": 17.70439587,\n        \"num_unique_values\": 3093,\n        \"samples\": [\n          -26.24433181,\n          2.31016583,\n          -5.469798887\n        ],\n        \"semantic_type\": \"\",\n        \"description\": \"\"\n      }\n    },\n    {\n      \"column\": \"Theta4\",\n      \"properties\": {\n        \"dtype\": \"number\",\n        \"std\": 12.02557510529297,\n        \"min\": -39.7059752,\n        \"max\": 29.67921379,\n        \"num_unique_values\": 3517,\n        \"samples\": [\n          6.875493542,\n          12.26129682,\n          -8.204755626\n        ],\n        \"semantic_type\": \"\",\n        \"description\": \"\"\n      }\n    },\n    {\n      \"column\": \"Theta5\",\n      \"properties\": {\n        \"dtype\": \"number\",\n        \"std\": 15.655797917996574,\n        \"min\": -48.35477312,\n        \"max\": 44.63341224,\n        \"num_unique_values\": 3622,\n        \"samples\": [\n          -8.296428873,\n          -2.613403743,\n          -21.88698777\n        ],\n        \"semantic_type\": \"\",\n        \"description\": \"\"\n      }\n    },\n    {\n      \"column\": \"Theta6\",\n      \"properties\": {\n        \"dtype\": \"number\",\n        \"std\": 19.487691044180277,\n        \"min\": -57.9231683,\n        \"max\": 55.11853989,\n        \"num_unique_values\": 3715,\n        \"samples\": [\n          4.155132902,\n          -2.809455577,\n          -12.29280949\n        ],\n        \"semantic_type\": \"\",\n        \"description\": \"\"\n      }\n    }\n  ]\n}"
            }
          },
          "metadata": {},
          "execution_count": 32
        }
      ],
      "source": [
        "dt = dt.dropna()\n",
        "dt"
      ]
    },
    {
      "cell_type": "code",
      "execution_count": 34,
      "metadata": {
        "colab": {
          "base_uri": "https://localhost:8080/"
        },
        "id": "TJ1oIvIH3OaH",
        "outputId": "967415f9-d990-4859-80f8-cf97a8e8de91"
      },
      "outputs": [
        {
          "output_type": "execute_result",
          "data": {
            "text/plain": [
              "array([-3.20569886, -2.13630041,  0.75084829, ..., -6.29680617,\n",
              "       -6.35696674, -6.18794419])"
            ]
          },
          "metadata": {},
          "execution_count": 34
        }
      ],
      "source": [
        "dt[dt.columns[7]].to_numpy()"
      ]
    },
    {
      "cell_type": "markdown",
      "source": [
        "## Divide Dataset into Data and Target Sets"
      ],
      "metadata": {
        "id": "Xkb2gsSBdjhj"
      }
    },
    {
      "cell_type": "code",
      "execution_count": 35,
      "metadata": {
        "colab": {
          "base_uri": "https://localhost:8080/"
        },
        "id": "Cxr5R5YN4Ny8",
        "outputId": "a0c00636-e28e-416c-db9b-7b1be75f3fc7"
      },
      "outputs": [
        {
          "output_type": "execute_result",
          "data": {
            "text/plain": [
              "array(['DS10DS10_0_1', 'DS10DS10_0_2', 'DS10DS10_0_3', 'DS10DS10_0_6',\n",
              "       'DS10DS10_1_2', 'DS10DS10_1_3', 'DS10DS10_1_6', 'DS10DS10_2_3',\n",
              "       'DS10DS10_2_6', 'DS10DS10_3_6', 'DS10DS30_1_1', 'DS10DS30_1_2',\n",
              "       'DS10DS30_1_3', 'DS10DS30_1_6', 'DS10DS30_2_1', 'DS10DS30_2_2',\n",
              "       'DS10DS30_2_3', 'DS10DS30_2_6', 'DS10DS30_3_1', 'DS10DS30_3_2',\n",
              "       'DS10DS30_3_3', 'DS10DS30_3_6', 'DS10DS30_6_1', 'DS10DS30_6_2',\n",
              "       'DS10DS30_6_3', 'DS10DS30_6_6', 'DS10E30_1_1', 'DS10E30_1_2',\n",
              "       'DS10E30_1_3', 'DS10E30_2_1', 'DS10E30_2_2', 'DS10E30_2_3',\n",
              "       'DS10E30_2_6', 'DS10E30_3_1', 'DS10E30_3_2', 'DS10E30_3_3',\n",
              "       'DS10E30_3_6', 'DS10E30_6_1', 'DS10E30_6_3', 'DS10E30_6_6',\n",
              "       'DS20DS20_0_1', 'DS20DS20_0_2', 'DS20DS20_0_3', 'DS20DS20_0_6',\n",
              "       'DS20DS20_1_2', 'DS20DS20_1_3', 'DS20DS20_1_6', 'DS20DS20_2_3',\n",
              "       'DS20DS20_2_6', 'DS20DS20_3_6', 'DS20E30_1_1', 'DS20E30_1_2',\n",
              "       'DS20E30_1_3', 'DS20E30_1_6', 'DS20E30_2_1', 'DS20E30_2_2',\n",
              "       'DS20E30_2_6', 'DS20E30_3_1', 'DS20E30_3_2', 'DS20E30_3_3',\n",
              "       'DS20E30_3_6', 'DS20E30_6_1', 'DS20E30_6_2', 'DS20E30_6_3',\n",
              "       'DS20E30_6_6', 'DS30DS30_0_1', 'DS30DS30_0_2', 'DS30DS30_0_3',\n",
              "       'DS30DS30_0_6', 'DS30DS30_1_2', 'DS30DS30_1_3', 'DS30DS30_1_6',\n",
              "       'DS30DS30_2_3', 'DS30DS30_2_6', 'DS30DS30_3_6', 'DS30DS30_6_6',\n",
              "       'DS30E30_1_1', 'DS30E30_1_2', 'DS30E30_1_3', 'DS30E30_1_6',\n",
              "       'DS30E30_2_1', 'DS30E30_2_2', 'DS30E30_2_3', 'DS30E30_2_6',\n",
              "       'DS30E30_3_1', 'DS30E30_3_2', 'DS30E30_3_3', 'DS30E30_3_6',\n",
              "       'DS30E30_6_1', 'DS30E30_6_2', 'DS30E30_6_3', 'DS30E30_6_6',\n",
              "       'E30E30_0_1', 'E30E30_0_2', 'E30E30_0_3', 'E30E30_0_6',\n",
              "       'E30E30_1_2', 'E30E30_1_3', 'E30E30_1_6', 'E30E30_2_3',\n",
              "       'E30E30_2_6', 'E30E30_3_6'], dtype=object)"
            ]
          },
          "metadata": {},
          "execution_count": 35
        }
      ],
      "source": [
        "# Dividing Data and Target set\n",
        "data_0 = dt[['Pressure', 'Theta6']].to_numpy()\n",
        "data_1 = dt[['Pressure', 'Theta1', 'Theta6']].to_numpy()\n",
        "data_2 = dt[['Pressure', 'Theta1', 'Theta2', 'Theta6']].to_numpy()\n",
        "data_3 = dt[['Pressure', 'Theta1', 'Theta2', 'Theta3', 'Theta6']].to_numpy()\n",
        "data_4 = dt[['Pressure', 'Theta1', 'Theta2', 'Theta3', 'Theta4', 'Theta6']].to_numpy()\n",
        "data_5 = dt[['Pressure', 'Theta1', 'Theta2', 'Theta3', 'Theta4', 'Theta5', 'Theta6']].to_numpy()\n",
        "target = dt['Configuration'].to_numpy()\n",
        "dt['Configuration'].unique()"
      ]
    },
    {
      "cell_type": "code",
      "execution_count": 36,
      "metadata": {
        "colab": {
          "base_uri": "https://localhost:8080/"
        },
        "id": "igOcSHOS4sWh",
        "outputId": "2ce48599-b8d7-4a7f-8eba-2ce11aa55d11"
      },
      "outputs": [
        {
          "output_type": "execute_result",
          "data": {
            "text/plain": [
              "(102,)"
            ]
          },
          "metadata": {},
          "execution_count": 36
        }
      ],
      "source": [
        "np.shape(dt['Configuration'].unique())"
      ]
    },
    {
      "cell_type": "markdown",
      "metadata": {
        "id": "-3-WLhK546Ua"
      },
      "source": [
        "## Decoding"
      ]
    },
    {
      "cell_type": "code",
      "execution_count": 37,
      "metadata": {
        "colab": {
          "base_uri": "https://localhost:8080/"
        },
        "id": "T8H3heM-43vb",
        "outputId": "b05fc379-6d85-49a2-eb19-ff9af8c250c2"
      },
      "outputs": [
        {
          "output_type": "stream",
          "name": "stdout",
          "text": [
            "Encoded Labels: [  0   1   2   3   4   5   6   7   8   9  10  11  12  13  14  15  16  17\n",
            "  18  19  20  21  22  23  24  25  26  27  28  29  30  31  32  33  34  35\n",
            "  36  37  38  39  40  41  42  43  44  45  46  47  48  49  50  51  52  53\n",
            "  54  55  56  57  58  59  60  61  62  63  64  65  66  67  68  69  70  71\n",
            "  72  73  74  75  76  77  78  79  80  81  82  83  84  85  86  87  88  89\n",
            "  90  91  92  93  94  95  96  97  98  99 100 101]\n",
            "Decoded Labels: ['DS10DS10_0_1' 'DS10DS10_0_2' 'DS10DS10_0_3' 'DS10DS10_0_6'\n",
            " 'DS10DS10_1_2' 'DS10DS10_1_3' 'DS10DS10_1_6' 'DS10DS10_2_3'\n",
            " 'DS10DS10_2_6' 'DS10DS10_3_6' 'DS10DS30_1_1' 'DS10DS30_1_2'\n",
            " 'DS10DS30_1_3' 'DS10DS30_1_6' 'DS10DS30_2_1' 'DS10DS30_2_2'\n",
            " 'DS10DS30_2_3' 'DS10DS30_2_6' 'DS10DS30_3_1' 'DS10DS30_3_2'\n",
            " 'DS10DS30_3_3' 'DS10DS30_3_6' 'DS10DS30_6_1' 'DS10DS30_6_2'\n",
            " 'DS10DS30_6_3' 'DS10DS30_6_6' 'DS10E30_1_1' 'DS10E30_1_2' 'DS10E30_1_3'\n",
            " 'DS10E30_2_1' 'DS10E30_2_2' 'DS10E30_2_3' 'DS10E30_2_6' 'DS10E30_3_1'\n",
            " 'DS10E30_3_2' 'DS10E30_3_3' 'DS10E30_3_6' 'DS10E30_6_1' 'DS10E30_6_3'\n",
            " 'DS10E30_6_6' 'DS20DS20_0_1' 'DS20DS20_0_2' 'DS20DS20_0_3' 'DS20DS20_0_6'\n",
            " 'DS20DS20_1_2' 'DS20DS20_1_3' 'DS20DS20_1_6' 'DS20DS20_2_3'\n",
            " 'DS20DS20_2_6' 'DS20DS20_3_6' 'DS20E30_1_1' 'DS20E30_1_2' 'DS20E30_1_3'\n",
            " 'DS20E30_1_6' 'DS20E30_2_1' 'DS20E30_2_2' 'DS20E30_2_6' 'DS20E30_3_1'\n",
            " 'DS20E30_3_2' 'DS20E30_3_3' 'DS20E30_3_6' 'DS20E30_6_1' 'DS20E30_6_2'\n",
            " 'DS20E30_6_3' 'DS20E30_6_6' 'DS30DS30_0_1' 'DS30DS30_0_2' 'DS30DS30_0_3'\n",
            " 'DS30DS30_0_6' 'DS30DS30_1_2' 'DS30DS30_1_3' 'DS30DS30_1_6'\n",
            " 'DS30DS30_2_3' 'DS30DS30_2_6' 'DS30DS30_3_6' 'DS30DS30_6_6' 'DS30E30_1_1'\n",
            " 'DS30E30_1_2' 'DS30E30_1_3' 'DS30E30_1_6' 'DS30E30_2_1' 'DS30E30_2_2'\n",
            " 'DS30E30_2_3' 'DS30E30_2_6' 'DS30E30_3_1' 'DS30E30_3_2' 'DS30E30_3_3'\n",
            " 'DS30E30_3_6' 'DS30E30_6_1' 'DS30E30_6_2' 'DS30E30_6_3' 'DS30E30_6_6'\n",
            " 'E30E30_0_1' 'E30E30_0_2' 'E30E30_0_3' 'E30E30_0_6' 'E30E30_1_2'\n",
            " 'E30E30_1_3' 'E30E30_1_6' 'E30E30_2_3' 'E30E30_2_6' 'E30E30_3_6']\n"
          ]
        }
      ],
      "source": [
        "from sklearn import preprocessing\n",
        "from keras.utils import to_categorical\n",
        "\n",
        "le = preprocessing.LabelEncoder()\n",
        "\n",
        "categories = dt['Configuration'].unique()\n",
        "\n",
        "# Fit the encoder to the categories and transform (encode) them\n",
        "encoded_labels = le.fit_transform(categories)\n",
        "\n",
        "# Now to decode, use inverse_transform\n",
        "decoded_labels = le.inverse_transform(encoded_labels)\n",
        "\n",
        "# Print encoded and decoded results for comparison\n",
        "print(\"Encoded Labels:\", encoded_labels)\n",
        "print(\"Decoded Labels:\", decoded_labels)"
      ]
    },
    {
      "cell_type": "markdown",
      "metadata": {
        "id": "BkOsHU6I4_nm"
      },
      "source": [
        "## Label Encoding"
      ]
    },
    {
      "cell_type": "code",
      "execution_count": 38,
      "metadata": {
        "colab": {
          "base_uri": "https://localhost:8080/"
        },
        "id": "ehyappl44_dM",
        "outputId": "28d46dce-7932-4617-97b9-18d2e2e2d129"
      },
      "outputs": [
        {
          "output_type": "execute_result",
          "data": {
            "text/plain": [
              "(4182, 102)"
            ]
          },
          "metadata": {},
          "execution_count": 38
        }
      ],
      "source": [
        "# Label encoding\n",
        "\n",
        "le.fit(target)\n",
        "target_encoded = to_categorical(le.transform(target), 102) # Number has to be changed\n",
        "np.shape(target_encoded)"
      ]
    },
    {
      "cell_type": "code",
      "execution_count": 39,
      "metadata": {
        "colab": {
          "base_uri": "https://localhost:8080/"
        },
        "id": "pj6BZ4QA49R-",
        "outputId": "acb0fd5e-ac28-4151-d6fb-00571be8a47e"
      },
      "outputs": [
        {
          "output_type": "execute_result",
          "data": {
            "text/plain": [
              "array([[1., 0., 0., ..., 0., 0., 0.],\n",
              "       [1., 0., 0., ..., 0., 0., 0.],\n",
              "       [1., 0., 0., ..., 0., 0., 0.],\n",
              "       ...,\n",
              "       [0., 0., 0., ..., 0., 0., 1.],\n",
              "       [0., 0., 0., ..., 0., 0., 1.],\n",
              "       [0., 0., 0., ..., 0., 0., 1.]])"
            ]
          },
          "metadata": {},
          "execution_count": 39
        }
      ],
      "source": [
        "target_encoded"
      ]
    },
    {
      "cell_type": "markdown",
      "metadata": {
        "id": "EWxgHYUQ5MtQ"
      },
      "source": [
        "## Split Train & Validation Set"
      ]
    },
    {
      "cell_type": "code",
      "execution_count": 40,
      "metadata": {
        "colab": {
          "base_uri": "https://localhost:8080/"
        },
        "id": "LBX-Tp5q5B4p",
        "outputId": "a7b68943-e35e-49dc-a9e4-d620ec8287fc"
      },
      "outputs": [
        {
          "output_type": "stream",
          "name": "stdout",
          "text": [
            "tf.Tensor(\n",
            "[[ 68.         -11.43623759]\n",
            " [170.           8.3938317 ]\n",
            " [212.5         -9.45380362]\n",
            " ...\n",
            " [340.         -44.175046  ]\n",
            " [ 17.          -3.45043779]\n",
            " [204.         -27.22695442]], shape=(4182, 2), dtype=float64)\n",
            "tf.Tensor(\n",
            "[[0. 0. 0. ... 0. 0. 0.]\n",
            " [0. 0. 0. ... 0. 0. 0.]\n",
            " [0. 0. 0. ... 0. 0. 0.]\n",
            " ...\n",
            " [0. 0. 0. ... 0. 0. 0.]\n",
            " [0. 0. 0. ... 0. 0. 0.]\n",
            " [0. 0. 0. ... 0. 0. 0.]], shape=(4182, 102), dtype=float64)\n"
          ]
        }
      ],
      "source": [
        "# Shuffle the data and target\n",
        "permutation = tf.random.shuffle(tf.range(tf.shape(data_0)[0]))\n",
        "\n",
        "# Shuffle Data\n",
        "data_shuffled_0 = tf.gather(data_0, permutation)\n",
        "data_shuffled_1 = tf.gather(data_1, permutation)\n",
        "data_shuffled_2 = tf.gather(data_2, permutation)\n",
        "data_shuffled_3 = tf.gather(data_3, permutation)\n",
        "data_shuffled_4 = tf.gather(data_4, permutation)\n",
        "data_shuffled_5 = tf.gather(data_5, permutation)\n",
        "\n",
        "# Shuffle Target\n",
        "target_shuffled = tf.gather(target_encoded, permutation)\n",
        "\n",
        "print(data_shuffled_0)\n",
        "print(target_shuffled)\n",
        "\n",
        "# Split train and Validation Set\n",
        "train_data_0 = data_shuffled_0\n",
        "train_data_1 = data_shuffled_1\n",
        "train_data_2 = data_shuffled_2\n",
        "train_data_3 = data_shuffled_3\n",
        "train_data_4 = data_shuffled_4\n",
        "train_data_5 = data_shuffled_5\n",
        "\n",
        "train_target = target_shuffled"
      ]
    },
    {
      "cell_type": "code",
      "execution_count": 41,
      "metadata": {
        "id": "AqHalTUJ8F1g"
      },
      "outputs": [],
      "source": [
        "# Calculate the number of samples for validation set (20% of the data)\\\n",
        "num_val_samples = int(0.2 * int(tf.shape(data_0)[0]))\n",
        "\n",
        "# Get the validation data and target\n",
        "val_data_0 = data_shuffled_0[:num_val_samples]\n",
        "val_data_1 = data_shuffled_1[:num_val_samples]\n",
        "val_data_2 = data_shuffled_2[:num_val_samples]\n",
        "val_data_3 = data_shuffled_3[:num_val_samples]\n",
        "val_data_4 = data_shuffled_4[:num_val_samples]\n",
        "val_data_5 = data_shuffled_5[:num_val_samples]\n",
        "\n",
        "val_target = target_shuffled[:num_val_samples]"
      ]
    },
    {
      "cell_type": "markdown",
      "metadata": {
        "id": "NQP7cDug8WF0"
      },
      "source": [
        "## Standardlization"
      ]
    },
    {
      "cell_type": "code",
      "execution_count": 42,
      "metadata": {
        "id": "rzogSM388Fzm"
      },
      "outputs": [],
      "source": [
        "# Standarlization\n",
        "\n",
        "from sklearn.preprocessing import StandardScaler\n",
        "def Standarlization(data, train_data, val_data):\n",
        "    ss = StandardScaler()\n",
        "    ss.fit(data)\n",
        "    train_scaled = ss.transform(train_data)\n",
        "    val_scaled = ss.transform(val_data)\n",
        "    return train_scaled, val_scaled\n",
        "\n",
        "train_scaled_0, val_scaled_0 = Standarlization(data_0, train_data_0, val_data_0)\n",
        "train_scaled_1, val_scaled_1 = Standarlization(data_1, train_data_1, val_data_1)\n",
        "train_scaled_2, val_scaled_2 = Standarlization(data_2, train_data_2, val_data_2)\n",
        "train_scaled_3, val_scaled_3 = Standarlization(data_3, train_data_3, val_data_3)\n",
        "train_scaled_4, val_scaled_4 = Standarlization(data_4, train_data_4, val_data_4)\n",
        "train_scaled_5, val_scaled_5 = Standarlization(data_5, train_data_5, val_data_5)"
      ]
    },
    {
      "cell_type": "code",
      "execution_count": 43,
      "metadata": {
        "colab": {
          "base_uri": "https://localhost:8080/"
        },
        "id": "QgDwP50b8Fxu",
        "outputId": "a26c39ac-a75f-40b6-acd3-1a68355efe4d"
      },
      "outputs": [
        {
          "output_type": "stream",
          "name": "stdout",
          "text": [
            "(4182, 2) (4182, 102)\n"
          ]
        }
      ],
      "source": [
        "print(train_scaled_0.shape, train_target.shape)"
      ]
    },
    {
      "cell_type": "markdown",
      "metadata": {
        "id": "qQpmTQqe9zcr"
      },
      "source": [
        "# **Create FNN Model**"
      ]
    },
    {
      "cell_type": "code",
      "execution_count": 44,
      "metadata": {
        "id": "B0fCG0zj8Fvg"
      },
      "outputs": [],
      "source": [
        "#checkpoint_cb = keras.callbacks.ModelCheckpoint('/content/my_model.keras')\n",
        "#early_stopping_cb = keras.callbacks.EarlyStopping(patience=5, restore_best_weights=True)"
      ]
    },
    {
      "cell_type": "code",
      "execution_count": 57,
      "metadata": {
        "id": "NhN8CNBdAgOe"
      },
      "outputs": [],
      "source": [
        "# Model\n",
        "def Model (train_scaled, train_target, val_scaled, val_target, input_dim):\n",
        "  # Define the model\n",
        "  model = Sequential()\n",
        "  model.add(Dense(512, input_dim=input_dim, activation=keras.layers.LeakyReLU(alpha=0.01))) # Number need to be changed depend on training data columns\n",
        "  model.add(Dropout(0.2))\n",
        "  model.add(Dense(100, activation=keras.layers.LeakyReLU(alpha=0.01)))\n",
        "  model.add(Dense(102, activation='softmax')) # Number has to be changed depends on .unique()\n",
        "\n",
        "  # compile model\n",
        "  model.compile(loss='categorical_crossentropy', optimizer='adam', metrics=['accuracy'])\n",
        "\n",
        "  # Record the start time\n",
        "  start_time = time.time()\n",
        "\n",
        "  # Model Fit\n",
        "  history = model.fit(train_scaled, train_target, epochs=50,\n",
        "                    validation_data=(val_scaled, val_target)) #,\n",
        "                    #callbacks=[checkpoint_cb, early_stopping_cb])\n",
        "\n",
        "  # Record the end time\n",
        "  end_time = time.time()\n",
        "\n",
        "  # Calculate the duration\n",
        "  duration = end_time - start_time\n",
        "\n",
        "  # Evaluate the model\n",
        "  loss, accuracy = model.evaluate(val_scaled, val_target)\n",
        "\n",
        "  return model, history, loss, accuracy, duration"
      ]
    },
    {
      "cell_type": "code",
      "execution_count": 58,
      "metadata": {
        "id": "ieZ__PLE8Ftc"
      },
      "outputs": [],
      "source": [
        "# Define the model\n",
        "model = Sequential()\n",
        "model.add(Dense(512, input_dim=7, activation=keras.layers.LeakyReLU(alpha=0.01))) # Number need to be changed depend on training data columns\n",
        "model.add(Dropout(0.2))\n",
        "model.add(Dense(100, activation=keras.layers.LeakyReLU(alpha=0.01)))\n",
        "model.add(Dense(102, activation='softmax')) # Number has to be changed depends on .unique()\n"
      ]
    },
    {
      "cell_type": "code",
      "execution_count": 59,
      "metadata": {
        "id": "vb15JwQK8Fra"
      },
      "outputs": [],
      "source": [
        "# compile model\n",
        "from keras.optimizers import SGD\n",
        "\n",
        "model.compile(loss='categorical_crossentropy', optimizer='adam', metrics=['accuracy'])"
      ]
    },
    {
      "cell_type": "markdown",
      "metadata": {
        "id": "GuaM7TMY96WI"
      },
      "source": [
        "## Model fit with 0 Additional Parameter"
      ]
    },
    {
      "cell_type": "code",
      "execution_count": 60,
      "metadata": {
        "colab": {
          "base_uri": "https://localhost:8080/"
        },
        "id": "mj3vx4YB93xB",
        "outputId": "921896eb-cdb7-439d-f894-a3389ded1e80"
      },
      "outputs": [
        {
          "output_type": "stream",
          "name": "stdout",
          "text": [
            "Epoch 1/50\n",
            "\u001b[1m131/131\u001b[0m \u001b[32m━━━━━━━━━━━━━━━━━━━━\u001b[0m\u001b[37m\u001b[0m \u001b[1m2s\u001b[0m 5ms/step - accuracy: 0.0161 - loss: 4.5030 - val_accuracy: 0.0275 - val_loss: 3.9768\n",
            "Epoch 2/50\n",
            "\u001b[1m131/131\u001b[0m \u001b[32m━━━━━━━━━━━━━━━━━━━━\u001b[0m\u001b[37m\u001b[0m \u001b[1m1s\u001b[0m 6ms/step - accuracy: 0.0296 - loss: 3.9096 - val_accuracy: 0.0682 - val_loss: 3.5398\n",
            "Epoch 3/50\n",
            "\u001b[1m131/131\u001b[0m \u001b[32m━━━━━━━━━━━━━━━━━━━━\u001b[0m\u001b[37m\u001b[0m \u001b[1m1s\u001b[0m 6ms/step - accuracy: 0.0553 - loss: 3.5381 - val_accuracy: 0.1148 - val_loss: 3.2733\n",
            "Epoch 4/50\n",
            "\u001b[1m131/131\u001b[0m \u001b[32m━━━━━━━━━━━━━━━━━━━━\u001b[0m\u001b[37m\u001b[0m \u001b[1m1s\u001b[0m 7ms/step - accuracy: 0.0706 - loss: 3.3193 - val_accuracy: 0.1220 - val_loss: 3.1046\n",
            "Epoch 5/50\n",
            "\u001b[1m131/131\u001b[0m \u001b[32m━━━━━━━━━━━━━━━━━━━━\u001b[0m\u001b[37m\u001b[0m \u001b[1m1s\u001b[0m 4ms/step - accuracy: 0.0755 - loss: 3.1813 - val_accuracy: 0.1316 - val_loss: 2.9865\n",
            "Epoch 6/50\n",
            "\u001b[1m131/131\u001b[0m \u001b[32m━━━━━━━━━━━━━━━━━━━━\u001b[0m\u001b[37m\u001b[0m \u001b[1m1s\u001b[0m 4ms/step - accuracy: 0.0909 - loss: 3.0785 - val_accuracy: 0.1411 - val_loss: 2.8925\n",
            "Epoch 7/50\n",
            "\u001b[1m131/131\u001b[0m \u001b[32m━━━━━━━━━━━━━━━━━━━━\u001b[0m\u001b[37m\u001b[0m \u001b[1m1s\u001b[0m 4ms/step - accuracy: 0.0997 - loss: 2.9996 - val_accuracy: 0.1483 - val_loss: 2.8166\n",
            "Epoch 8/50\n",
            "\u001b[1m131/131\u001b[0m \u001b[32m━━━━━━━━━━━━━━━━━━━━\u001b[0m\u001b[37m\u001b[0m \u001b[1m1s\u001b[0m 4ms/step - accuracy: 0.1049 - loss: 2.9364 - val_accuracy: 0.1495 - val_loss: 2.7508\n",
            "Epoch 9/50\n",
            "\u001b[1m131/131\u001b[0m \u001b[32m━━━━━━━━━━━━━━━━━━━━\u001b[0m\u001b[37m\u001b[0m \u001b[1m1s\u001b[0m 3ms/step - accuracy: 0.1078 - loss: 2.8640 - val_accuracy: 0.1543 - val_loss: 2.6968\n",
            "Epoch 10/50\n",
            "\u001b[1m131/131\u001b[0m \u001b[32m━━━━━━━━━━━━━━━━━━━━\u001b[0m\u001b[37m\u001b[0m \u001b[1m1s\u001b[0m 4ms/step - accuracy: 0.1228 - loss: 2.8159 - val_accuracy: 0.1687 - val_loss: 2.6518\n",
            "Epoch 11/50\n",
            "\u001b[1m131/131\u001b[0m \u001b[32m━━━━━━━━━━━━━━━━━━━━\u001b[0m\u001b[37m\u001b[0m \u001b[1m1s\u001b[0m 4ms/step - accuracy: 0.1139 - loss: 2.7847 - val_accuracy: 0.1699 - val_loss: 2.6021\n",
            "Epoch 12/50\n",
            "\u001b[1m131/131\u001b[0m \u001b[32m━━━━━━━━━━━━━━━━━━━━\u001b[0m\u001b[37m\u001b[0m \u001b[1m1s\u001b[0m 4ms/step - accuracy: 0.1281 - loss: 2.7353 - val_accuracy: 0.1758 - val_loss: 2.5619\n",
            "Epoch 13/50\n",
            "\u001b[1m131/131\u001b[0m \u001b[32m━━━━━━━━━━━━━━━━━━━━\u001b[0m\u001b[37m\u001b[0m \u001b[1m0s\u001b[0m 4ms/step - accuracy: 0.1277 - loss: 2.6966 - val_accuracy: 0.1842 - val_loss: 2.5317\n",
            "Epoch 14/50\n",
            "\u001b[1m131/131\u001b[0m \u001b[32m━━━━━━━━━━━━━━━━━━━━\u001b[0m\u001b[37m\u001b[0m \u001b[1m1s\u001b[0m 4ms/step - accuracy: 0.1386 - loss: 2.6735 - val_accuracy: 0.1902 - val_loss: 2.4972\n",
            "Epoch 15/50\n",
            "\u001b[1m131/131\u001b[0m \u001b[32m━━━━━━━━━━━━━━━━━━━━\u001b[0m\u001b[37m\u001b[0m \u001b[1m1s\u001b[0m 4ms/step - accuracy: 0.1384 - loss: 2.6411 - val_accuracy: 0.2057 - val_loss: 2.4636\n",
            "Epoch 16/50\n",
            "\u001b[1m131/131\u001b[0m \u001b[32m━━━━━━━━━━━━━━━━━━━━\u001b[0m\u001b[37m\u001b[0m \u001b[1m1s\u001b[0m 4ms/step - accuracy: 0.1476 - loss: 2.6087 - val_accuracy: 0.1938 - val_loss: 2.4392\n",
            "Epoch 17/50\n",
            "\u001b[1m131/131\u001b[0m \u001b[32m━━━━━━━━━━━━━━━━━━━━\u001b[0m\u001b[37m\u001b[0m \u001b[1m1s\u001b[0m 4ms/step - accuracy: 0.1456 - loss: 2.5929 - val_accuracy: 0.2105 - val_loss: 2.4143\n",
            "Epoch 18/50\n",
            "\u001b[1m131/131\u001b[0m \u001b[32m━━━━━━━━━━━━━━━━━━━━\u001b[0m\u001b[37m\u001b[0m \u001b[1m1s\u001b[0m 4ms/step - accuracy: 0.1509 - loss: 2.5616 - val_accuracy: 0.2093 - val_loss: 2.3918\n",
            "Epoch 19/50\n",
            "\u001b[1m131/131\u001b[0m \u001b[32m━━━━━━━━━━━━━━━━━━━━\u001b[0m\u001b[37m\u001b[0m \u001b[1m1s\u001b[0m 4ms/step - accuracy: 0.1551 - loss: 2.5483 - val_accuracy: 0.2129 - val_loss: 2.3620\n",
            "Epoch 20/50\n",
            "\u001b[1m131/131\u001b[0m \u001b[32m━━━━━━━━━━━━━━━━━━━━\u001b[0m\u001b[37m\u001b[0m \u001b[1m1s\u001b[0m 4ms/step - accuracy: 0.1551 - loss: 2.5061 - val_accuracy: 0.2273 - val_loss: 2.3427\n",
            "Epoch 21/50\n",
            "\u001b[1m131/131\u001b[0m \u001b[32m━━━━━━━━━━━━━━━━━━━━\u001b[0m\u001b[37m\u001b[0m \u001b[1m1s\u001b[0m 3ms/step - accuracy: 0.1590 - loss: 2.5035 - val_accuracy: 0.2177 - val_loss: 2.3435\n",
            "Epoch 22/50\n",
            "\u001b[1m131/131\u001b[0m \u001b[32m━━━━━━━━━━━━━━━━━━━━\u001b[0m\u001b[37m\u001b[0m \u001b[1m1s\u001b[0m 6ms/step - accuracy: 0.1712 - loss: 2.4841 - val_accuracy: 0.2249 - val_loss: 2.3022\n",
            "Epoch 23/50\n",
            "\u001b[1m131/131\u001b[0m \u001b[32m━━━━━━━━━━━━━━━━━━━━\u001b[0m\u001b[37m\u001b[0m \u001b[1m1s\u001b[0m 7ms/step - accuracy: 0.1725 - loss: 2.4574 - val_accuracy: 0.2380 - val_loss: 2.2809\n",
            "Epoch 24/50\n",
            "\u001b[1m131/131\u001b[0m \u001b[32m━━━━━━━━━━━━━━━━━━━━\u001b[0m\u001b[37m\u001b[0m \u001b[1m1s\u001b[0m 4ms/step - accuracy: 0.1694 - loss: 2.4496 - val_accuracy: 0.2333 - val_loss: 2.2665\n",
            "Epoch 25/50\n",
            "\u001b[1m131/131\u001b[0m \u001b[32m━━━━━━━━━━━━━━━━━━━━\u001b[0m\u001b[37m\u001b[0m \u001b[1m1s\u001b[0m 4ms/step - accuracy: 0.1715 - loss: 2.4354 - val_accuracy: 0.2440 - val_loss: 2.2421\n",
            "Epoch 26/50\n",
            "\u001b[1m131/131\u001b[0m \u001b[32m━━━━━━━━━━━━━━━━━━━━\u001b[0m\u001b[37m\u001b[0m \u001b[1m1s\u001b[0m 4ms/step - accuracy: 0.1741 - loss: 2.4260 - val_accuracy: 0.2548 - val_loss: 2.2348\n",
            "Epoch 27/50\n",
            "\u001b[1m131/131\u001b[0m \u001b[32m━━━━━━━━━━━━━━━━━━━━\u001b[0m\u001b[37m\u001b[0m \u001b[1m0s\u001b[0m 4ms/step - accuracy: 0.1802 - loss: 2.4073 - val_accuracy: 0.2500 - val_loss: 2.2155\n",
            "Epoch 28/50\n",
            "\u001b[1m131/131\u001b[0m \u001b[32m━━━━━━━━━━━━━━━━━━━━\u001b[0m\u001b[37m\u001b[0m \u001b[1m1s\u001b[0m 4ms/step - accuracy: 0.1808 - loss: 2.3957 - val_accuracy: 0.2560 - val_loss: 2.2029\n",
            "Epoch 29/50\n",
            "\u001b[1m131/131\u001b[0m \u001b[32m━━━━━━━━━━━━━━━━━━━━\u001b[0m\u001b[37m\u001b[0m \u001b[1m0s\u001b[0m 3ms/step - accuracy: 0.1756 - loss: 2.3792 - val_accuracy: 0.2608 - val_loss: 2.1846\n",
            "Epoch 30/50\n",
            "\u001b[1m131/131\u001b[0m \u001b[32m━━━━━━━━━━━━━━━━━━━━\u001b[0m\u001b[37m\u001b[0m \u001b[1m1s\u001b[0m 4ms/step - accuracy: 0.1864 - loss: 2.3634 - val_accuracy: 0.2656 - val_loss: 2.1706\n",
            "Epoch 31/50\n",
            "\u001b[1m131/131\u001b[0m \u001b[32m━━━━━━━━━━━━━━━━━━━━\u001b[0m\u001b[37m\u001b[0m \u001b[1m1s\u001b[0m 4ms/step - accuracy: 0.1940 - loss: 2.3504 - val_accuracy: 0.2620 - val_loss: 2.1425\n",
            "Epoch 32/50\n",
            "\u001b[1m131/131\u001b[0m \u001b[32m━━━━━━━━━━━━━━━━━━━━\u001b[0m\u001b[37m\u001b[0m \u001b[1m1s\u001b[0m 4ms/step - accuracy: 0.1879 - loss: 2.3390 - val_accuracy: 0.2727 - val_loss: 2.1266\n",
            "Epoch 33/50\n",
            "\u001b[1m131/131\u001b[0m \u001b[32m━━━━━━━━━━━━━━━━━━━━\u001b[0m\u001b[37m\u001b[0m \u001b[1m1s\u001b[0m 4ms/step - accuracy: 0.1849 - loss: 2.3253 - val_accuracy: 0.2811 - val_loss: 2.1183\n",
            "Epoch 34/50\n",
            "\u001b[1m131/131\u001b[0m \u001b[32m━━━━━━━━━━━━━━━━━━━━\u001b[0m\u001b[37m\u001b[0m \u001b[1m1s\u001b[0m 4ms/step - accuracy: 0.1925 - loss: 2.3105 - val_accuracy: 0.2667 - val_loss: 2.1142\n",
            "Epoch 35/50\n",
            "\u001b[1m131/131\u001b[0m \u001b[32m━━━━━━━━━━━━━━━━━━━━\u001b[0m\u001b[37m\u001b[0m \u001b[1m1s\u001b[0m 4ms/step - accuracy: 0.1952 - loss: 2.3006 - val_accuracy: 0.2919 - val_loss: 2.1011\n",
            "Epoch 36/50\n",
            "\u001b[1m131/131\u001b[0m \u001b[32m━━━━━━━━━━━━━━━━━━━━\u001b[0m\u001b[37m\u001b[0m \u001b[1m1s\u001b[0m 3ms/step - accuracy: 0.1963 - loss: 2.2909 - val_accuracy: 0.2775 - val_loss: 2.1010\n",
            "Epoch 37/50\n",
            "\u001b[1m131/131\u001b[0m \u001b[32m━━━━━━━━━━━━━━━━━━━━\u001b[0m\u001b[37m\u001b[0m \u001b[1m1s\u001b[0m 4ms/step - accuracy: 0.1948 - loss: 2.2915 - val_accuracy: 0.2751 - val_loss: 2.0803\n",
            "Epoch 38/50\n",
            "\u001b[1m131/131\u001b[0m \u001b[32m━━━━━━━━━━━━━━━━━━━━\u001b[0m\u001b[37m\u001b[0m \u001b[1m1s\u001b[0m 4ms/step - accuracy: 0.2029 - loss: 2.2691 - val_accuracy: 0.2727 - val_loss: 2.0775\n",
            "Epoch 39/50\n",
            "\u001b[1m131/131\u001b[0m \u001b[32m━━━━━━━━━━━━━━━━━━━━\u001b[0m\u001b[37m\u001b[0m \u001b[1m1s\u001b[0m 4ms/step - accuracy: 0.2023 - loss: 2.2628 - val_accuracy: 0.2823 - val_loss: 2.0631\n",
            "Epoch 40/50\n",
            "\u001b[1m131/131\u001b[0m \u001b[32m━━━━━━━━━━━━━━━━━━━━\u001b[0m\u001b[37m\u001b[0m \u001b[1m1s\u001b[0m 4ms/step - accuracy: 0.1954 - loss: 2.2488 - val_accuracy: 0.2967 - val_loss: 2.0440\n",
            "Epoch 41/50\n",
            "\u001b[1m131/131\u001b[0m \u001b[32m━━━━━━━━━━━━━━━━━━━━\u001b[0m\u001b[37m\u001b[0m \u001b[1m1s\u001b[0m 4ms/step - accuracy: 0.1878 - loss: 2.2537 - val_accuracy: 0.2775 - val_loss: 2.0476\n",
            "Epoch 42/50\n",
            "\u001b[1m131/131\u001b[0m \u001b[32m━━━━━━━━━━━━━━━━━━━━\u001b[0m\u001b[37m\u001b[0m \u001b[1m1s\u001b[0m 6ms/step - accuracy: 0.2060 - loss: 2.2308 - val_accuracy: 0.2787 - val_loss: 2.0429\n",
            "Epoch 43/50\n",
            "\u001b[1m131/131\u001b[0m \u001b[32m━━━━━━━━━━━━━━━━━━━━\u001b[0m\u001b[37m\u001b[0m \u001b[1m1s\u001b[0m 7ms/step - accuracy: 0.2068 - loss: 2.2306 - val_accuracy: 0.2895 - val_loss: 2.0237\n",
            "Epoch 44/50\n",
            "\u001b[1m131/131\u001b[0m \u001b[32m━━━━━━━━━━━━━━━━━━━━\u001b[0m\u001b[37m\u001b[0m \u001b[1m1s\u001b[0m 5ms/step - accuracy: 0.2010 - loss: 2.2256 - val_accuracy: 0.2871 - val_loss: 2.0268\n",
            "Epoch 45/50\n",
            "\u001b[1m131/131\u001b[0m \u001b[32m━━━━━━━━━━━━━━━━━━━━\u001b[0m\u001b[37m\u001b[0m \u001b[1m1s\u001b[0m 4ms/step - accuracy: 0.1992 - loss: 2.2243 - val_accuracy: 0.2787 - val_loss: 2.0182\n",
            "Epoch 46/50\n",
            "\u001b[1m131/131\u001b[0m \u001b[32m━━━━━━━━━━━━━━━━━━━━\u001b[0m\u001b[37m\u001b[0m \u001b[1m1s\u001b[0m 4ms/step - accuracy: 0.2036 - loss: 2.2314 - val_accuracy: 0.2919 - val_loss: 1.9973\n",
            "Epoch 47/50\n",
            "\u001b[1m131/131\u001b[0m \u001b[32m━━━━━━━━━━━━━━━━━━━━\u001b[0m\u001b[37m\u001b[0m \u001b[1m1s\u001b[0m 4ms/step - accuracy: 0.2068 - loss: 2.2157 - val_accuracy: 0.3026 - val_loss: 1.9937\n",
            "Epoch 48/50\n",
            "\u001b[1m131/131\u001b[0m \u001b[32m━━━━━━━━━━━━━━━━━━━━\u001b[0m\u001b[37m\u001b[0m \u001b[1m1s\u001b[0m 4ms/step - accuracy: 0.2094 - loss: 2.1992 - val_accuracy: 0.2847 - val_loss: 1.9940\n",
            "Epoch 49/50\n",
            "\u001b[1m131/131\u001b[0m \u001b[32m━━━━━━━━━━━━━━━━━━━━\u001b[0m\u001b[37m\u001b[0m \u001b[1m0s\u001b[0m 3ms/step - accuracy: 0.2212 - loss: 2.1901 - val_accuracy: 0.3026 - val_loss: 1.9735\n",
            "Epoch 50/50\n",
            "\u001b[1m131/131\u001b[0m \u001b[32m━━━━━━━━━━━━━━━━━━━━\u001b[0m\u001b[37m\u001b[0m \u001b[1m1s\u001b[0m 4ms/step - accuracy: 0.2072 - loss: 2.1845 - val_accuracy: 0.3062 - val_loss: 1.9669\n",
            "\u001b[1m27/27\u001b[0m \u001b[32m━━━━━━━━━━━━━━━━━━━━\u001b[0m\u001b[37m\u001b[0m \u001b[1m0s\u001b[0m 2ms/step - accuracy: 0.3064 - loss: 1.9668 \n"
          ]
        }
      ],
      "source": [
        "# Model Fit\n",
        "model_0, history_0, loss_0, accuracy_0, duration_0 = Model(train_scaled_0, train_target, val_scaled_0, val_target, 2)"
      ]
    },
    {
      "cell_type": "markdown",
      "metadata": {
        "id": "4igCGpWE-Iex"
      },
      "source": [
        "## Model fit With 1 Additional Parameter"
      ]
    },
    {
      "cell_type": "code",
      "execution_count": 61,
      "metadata": {
        "colab": {
          "base_uri": "https://localhost:8080/"
        },
        "id": "j9A0RPgv-BzB",
        "outputId": "4057f747-ccc7-4f58-f711-4ac8986261e3"
      },
      "outputs": [
        {
          "output_type": "stream",
          "name": "stdout",
          "text": [
            "Epoch 1/50\n",
            "\u001b[1m131/131\u001b[0m \u001b[32m━━━━━━━━━━━━━━━━━━━━\u001b[0m\u001b[37m\u001b[0m \u001b[1m2s\u001b[0m 5ms/step - accuracy: 0.0222 - loss: 4.4318 - val_accuracy: 0.0478 - val_loss: 3.6850\n",
            "Epoch 2/50\n",
            "\u001b[1m131/131\u001b[0m \u001b[32m━━━━━━━━━━━━━━━━━━━━\u001b[0m\u001b[37m\u001b[0m \u001b[1m1s\u001b[0m 4ms/step - accuracy: 0.0787 - loss: 3.4833 - val_accuracy: 0.1902 - val_loss: 2.7801\n",
            "Epoch 3/50\n",
            "\u001b[1m131/131\u001b[0m \u001b[32m━━━━━━━━━━━━━━━━━━━━\u001b[0m\u001b[37m\u001b[0m \u001b[1m1s\u001b[0m 4ms/step - accuracy: 0.1912 - loss: 2.7332 - val_accuracy: 0.3218 - val_loss: 2.2955\n",
            "Epoch 4/50\n",
            "\u001b[1m131/131\u001b[0m \u001b[32m━━━━━━━━━━━━━━━━━━━━\u001b[0m\u001b[37m\u001b[0m \u001b[1m1s\u001b[0m 4ms/step - accuracy: 0.2581 - loss: 2.3613 - val_accuracy: 0.3852 - val_loss: 2.0246\n",
            "Epoch 5/50\n",
            "\u001b[1m131/131\u001b[0m \u001b[32m━━━━━━━━━━━━━━━━━━━━\u001b[0m\u001b[37m\u001b[0m \u001b[1m1s\u001b[0m 4ms/step - accuracy: 0.3236 - loss: 2.1363 - val_accuracy: 0.4414 - val_loss: 1.8338\n",
            "Epoch 6/50\n",
            "\u001b[1m131/131\u001b[0m \u001b[32m━━━━━━━━━━━━━━━━━━━━\u001b[0m\u001b[37m\u001b[0m \u001b[1m1s\u001b[0m 4ms/step - accuracy: 0.3578 - loss: 1.9708 - val_accuracy: 0.4797 - val_loss: 1.6930\n",
            "Epoch 7/50\n",
            "\u001b[1m131/131\u001b[0m \u001b[32m━━━━━━━━━━━━━━━━━━━━\u001b[0m\u001b[37m\u001b[0m \u001b[1m1s\u001b[0m 4ms/step - accuracy: 0.3896 - loss: 1.8406 - val_accuracy: 0.4844 - val_loss: 1.5934\n",
            "Epoch 8/50\n",
            "\u001b[1m131/131\u001b[0m \u001b[32m━━━━━━━━━━━━━━━━━━━━\u001b[0m\u001b[37m\u001b[0m \u001b[1m1s\u001b[0m 6ms/step - accuracy: 0.4097 - loss: 1.7471 - val_accuracy: 0.5239 - val_loss: 1.4736\n",
            "Epoch 9/50\n",
            "\u001b[1m131/131\u001b[0m \u001b[32m━━━━━━━━━━━━━━━━━━━━\u001b[0m\u001b[37m\u001b[0m \u001b[1m1s\u001b[0m 6ms/step - accuracy: 0.4371 - loss: 1.6633 - val_accuracy: 0.5502 - val_loss: 1.4127\n",
            "Epoch 10/50\n",
            "\u001b[1m131/131\u001b[0m \u001b[32m━━━━━━━━━━━━━━━━━━━━\u001b[0m\u001b[37m\u001b[0m \u001b[1m2s\u001b[0m 13ms/step - accuracy: 0.4531 - loss: 1.6004 - val_accuracy: 0.5586 - val_loss: 1.3418\n",
            "Epoch 11/50\n",
            "\u001b[1m131/131\u001b[0m \u001b[32m━━━━━━━━━━━━━━━━━━━━\u001b[0m\u001b[37m\u001b[0m \u001b[1m1s\u001b[0m 3ms/step - accuracy: 0.4669 - loss: 1.5381 - val_accuracy: 0.5586 - val_loss: 1.3006\n",
            "Epoch 12/50\n",
            "\u001b[1m131/131\u001b[0m \u001b[32m━━━━━━━━━━━━━━━━━━━━\u001b[0m\u001b[37m\u001b[0m \u001b[1m1s\u001b[0m 4ms/step - accuracy: 0.4929 - loss: 1.4643 - val_accuracy: 0.5933 - val_loss: 1.2422\n",
            "Epoch 13/50\n",
            "\u001b[1m131/131\u001b[0m \u001b[32m━━━━━━━━━━━━━━━━━━━━\u001b[0m\u001b[37m\u001b[0m \u001b[1m1s\u001b[0m 4ms/step - accuracy: 0.4944 - loss: 1.4404 - val_accuracy: 0.5969 - val_loss: 1.1893\n",
            "Epoch 14/50\n",
            "\u001b[1m131/131\u001b[0m \u001b[32m━━━━━━━━━━━━━━━━━━━━\u001b[0m\u001b[37m\u001b[0m \u001b[1m0s\u001b[0m 3ms/step - accuracy: 0.5153 - loss: 1.3895 - val_accuracy: 0.6077 - val_loss: 1.1497\n",
            "Epoch 15/50\n",
            "\u001b[1m131/131\u001b[0m \u001b[32m━━━━━━━━━━━━━━━━━━━━\u001b[0m\u001b[37m\u001b[0m \u001b[1m1s\u001b[0m 4ms/step - accuracy: 0.5317 - loss: 1.3460 - val_accuracy: 0.6423 - val_loss: 1.1063\n",
            "Epoch 16/50\n",
            "\u001b[1m131/131\u001b[0m \u001b[32m━━━━━━━━━━━━━━━━━━━━\u001b[0m\u001b[37m\u001b[0m \u001b[1m1s\u001b[0m 4ms/step - accuracy: 0.5283 - loss: 1.3184 - val_accuracy: 0.6304 - val_loss: 1.0724\n",
            "Epoch 17/50\n",
            "\u001b[1m131/131\u001b[0m \u001b[32m━━━━━━━━━━━━━━━━━━━━\u001b[0m\u001b[37m\u001b[0m \u001b[1m1s\u001b[0m 4ms/step - accuracy: 0.5490 - loss: 1.2788 - val_accuracy: 0.6388 - val_loss: 1.0553\n",
            "Epoch 18/50\n",
            "\u001b[1m131/131\u001b[0m \u001b[32m━━━━━━━━━━━━━━━━━━━━\u001b[0m\u001b[37m\u001b[0m \u001b[1m1s\u001b[0m 4ms/step - accuracy: 0.5575 - loss: 1.2575 - val_accuracy: 0.6639 - val_loss: 1.0132\n",
            "Epoch 19/50\n",
            "\u001b[1m131/131\u001b[0m \u001b[32m━━━━━━━━━━━━━━━━━━━━\u001b[0m\u001b[37m\u001b[0m \u001b[1m1s\u001b[0m 4ms/step - accuracy: 0.5721 - loss: 1.2252 - val_accuracy: 0.6579 - val_loss: 0.9938\n",
            "Epoch 20/50\n",
            "\u001b[1m131/131\u001b[0m \u001b[32m━━━━━━━━━━━━━━━━━━━━\u001b[0m\u001b[37m\u001b[0m \u001b[1m1s\u001b[0m 4ms/step - accuracy: 0.5616 - loss: 1.2173 - val_accuracy: 0.6914 - val_loss: 0.9624\n",
            "Epoch 21/50\n",
            "\u001b[1m131/131\u001b[0m \u001b[32m━━━━━━━━━━━━━━━━━━━━\u001b[0m\u001b[37m\u001b[0m \u001b[1m1s\u001b[0m 4ms/step - accuracy: 0.5807 - loss: 1.2009 - val_accuracy: 0.6962 - val_loss: 0.9568\n",
            "Epoch 22/50\n",
            "\u001b[1m131/131\u001b[0m \u001b[32m━━━━━━━━━━━━━━━━━━━━\u001b[0m\u001b[37m\u001b[0m \u001b[1m1s\u001b[0m 4ms/step - accuracy: 0.5867 - loss: 1.1814 - val_accuracy: 0.7249 - val_loss: 0.9109\n",
            "Epoch 23/50\n",
            "\u001b[1m131/131\u001b[0m \u001b[32m━━━━━━━━━━━━━━━━━━━━\u001b[0m\u001b[37m\u001b[0m \u001b[1m1s\u001b[0m 4ms/step - accuracy: 0.5960 - loss: 1.1517 - val_accuracy: 0.7033 - val_loss: 0.9197\n",
            "Epoch 24/50\n",
            "\u001b[1m131/131\u001b[0m \u001b[32m━━━━━━━━━━━━━━━━━━━━\u001b[0m\u001b[37m\u001b[0m \u001b[1m1s\u001b[0m 4ms/step - accuracy: 0.5790 - loss: 1.1327 - val_accuracy: 0.6962 - val_loss: 0.9085\n",
            "Epoch 25/50\n",
            "\u001b[1m131/131\u001b[0m \u001b[32m━━━━━━━━━━━━━━━━━━━━\u001b[0m\u001b[37m\u001b[0m \u001b[1m1s\u001b[0m 4ms/step - accuracy: 0.6125 - loss: 1.1211 - val_accuracy: 0.7033 - val_loss: 0.9048\n",
            "Epoch 26/50\n",
            "\u001b[1m131/131\u001b[0m \u001b[32m━━━━━━━━━━━━━━━━━━━━\u001b[0m\u001b[37m\u001b[0m \u001b[1m1s\u001b[0m 5ms/step - accuracy: 0.6138 - loss: 1.0965 - val_accuracy: 0.7309 - val_loss: 0.8894\n",
            "Epoch 27/50\n",
            "\u001b[1m131/131\u001b[0m \u001b[32m━━━━━━━━━━━━━━━━━━━━\u001b[0m\u001b[37m\u001b[0m \u001b[1m1s\u001b[0m 6ms/step - accuracy: 0.6037 - loss: 1.0959 - val_accuracy: 0.7416 - val_loss: 0.8311\n",
            "Epoch 28/50\n",
            "\u001b[1m131/131\u001b[0m \u001b[32m━━━━━━━━━━━━━━━━━━━━\u001b[0m\u001b[37m\u001b[0m \u001b[1m1s\u001b[0m 6ms/step - accuracy: 0.6107 - loss: 1.0646 - val_accuracy: 0.7285 - val_loss: 0.8349\n",
            "Epoch 29/50\n",
            "\u001b[1m131/131\u001b[0m \u001b[32m━━━━━━━━━━━━━━━━━━━━\u001b[0m\u001b[37m\u001b[0m \u001b[1m1s\u001b[0m 4ms/step - accuracy: 0.6304 - loss: 1.0483 - val_accuracy: 0.7380 - val_loss: 0.8036\n",
            "Epoch 30/50\n",
            "\u001b[1m131/131\u001b[0m \u001b[32m━━━━━━━━━━━━━━━━━━━━\u001b[0m\u001b[37m\u001b[0m \u001b[1m1s\u001b[0m 4ms/step - accuracy: 0.6303 - loss: 1.0378 - val_accuracy: 0.7416 - val_loss: 0.7997\n",
            "Epoch 31/50\n",
            "\u001b[1m131/131\u001b[0m \u001b[32m━━━━━━━━━━━━━━━━━━━━\u001b[0m\u001b[37m\u001b[0m \u001b[1m1s\u001b[0m 4ms/step - accuracy: 0.6386 - loss: 1.0079 - val_accuracy: 0.7464 - val_loss: 0.7850\n",
            "Epoch 32/50\n",
            "\u001b[1m131/131\u001b[0m \u001b[32m━━━━━━━━━━━━━━━━━━━━\u001b[0m\u001b[37m\u001b[0m \u001b[1m1s\u001b[0m 4ms/step - accuracy: 0.6322 - loss: 1.0226 - val_accuracy: 0.7524 - val_loss: 0.7644\n",
            "Epoch 33/50\n",
            "\u001b[1m131/131\u001b[0m \u001b[32m━━━━━━━━━━━━━━━━━━━━\u001b[0m\u001b[37m\u001b[0m \u001b[1m1s\u001b[0m 4ms/step - accuracy: 0.6439 - loss: 0.9930 - val_accuracy: 0.7416 - val_loss: 0.7943\n",
            "Epoch 34/50\n",
            "\u001b[1m131/131\u001b[0m \u001b[32m━━━━━━━━━━━━━━━━━━━━\u001b[0m\u001b[37m\u001b[0m \u001b[1m1s\u001b[0m 4ms/step - accuracy: 0.6491 - loss: 1.0109 - val_accuracy: 0.7356 - val_loss: 0.7886\n",
            "Epoch 35/50\n",
            "\u001b[1m131/131\u001b[0m \u001b[32m━━━━━━━━━━━━━━━━━━━━\u001b[0m\u001b[37m\u001b[0m \u001b[1m1s\u001b[0m 4ms/step - accuracy: 0.6520 - loss: 0.9850 - val_accuracy: 0.7548 - val_loss: 0.7359\n",
            "Epoch 36/50\n",
            "\u001b[1m131/131\u001b[0m \u001b[32m━━━━━━━━━━━━━━━━━━━━\u001b[0m\u001b[37m\u001b[0m \u001b[1m1s\u001b[0m 4ms/step - accuracy: 0.6506 - loss: 0.9604 - val_accuracy: 0.7596 - val_loss: 0.7439\n",
            "Epoch 37/50\n",
            "\u001b[1m131/131\u001b[0m \u001b[32m━━━━━━━━━━━━━━━━━━━━\u001b[0m\u001b[37m\u001b[0m \u001b[1m1s\u001b[0m 4ms/step - accuracy: 0.6488 - loss: 0.9520 - val_accuracy: 0.7656 - val_loss: 0.7226\n",
            "Epoch 38/50\n",
            "\u001b[1m131/131\u001b[0m \u001b[32m━━━━━━━━━━━━━━━━━━━━\u001b[0m\u001b[37m\u001b[0m \u001b[1m1s\u001b[0m 4ms/step - accuracy: 0.6502 - loss: 0.9514 - val_accuracy: 0.7584 - val_loss: 0.7197\n",
            "Epoch 39/50\n",
            "\u001b[1m131/131\u001b[0m \u001b[32m━━━━━━━━━━━━━━━━━━━━\u001b[0m\u001b[37m\u001b[0m \u001b[1m1s\u001b[0m 4ms/step - accuracy: 0.6686 - loss: 0.9150 - val_accuracy: 0.7691 - val_loss: 0.7206\n",
            "Epoch 40/50\n",
            "\u001b[1m131/131\u001b[0m \u001b[32m━━━━━━━━━━━━━━━━━━━━\u001b[0m\u001b[37m\u001b[0m \u001b[1m1s\u001b[0m 4ms/step - accuracy: 0.6647 - loss: 0.9283 - val_accuracy: 0.7703 - val_loss: 0.6844\n",
            "Epoch 41/50\n",
            "\u001b[1m131/131\u001b[0m \u001b[32m━━━━━━━━━━━━━━━━━━━━\u001b[0m\u001b[37m\u001b[0m \u001b[1m1s\u001b[0m 4ms/step - accuracy: 0.6683 - loss: 0.9199 - val_accuracy: 0.7608 - val_loss: 0.7150\n",
            "Epoch 42/50\n",
            "\u001b[1m131/131\u001b[0m \u001b[32m━━━━━━━━━━━━━━━━━━━━\u001b[0m\u001b[37m\u001b[0m \u001b[1m1s\u001b[0m 4ms/step - accuracy: 0.6586 - loss: 0.9381 - val_accuracy: 0.7775 - val_loss: 0.6935\n",
            "Epoch 43/50\n",
            "\u001b[1m131/131\u001b[0m \u001b[32m━━━━━━━━━━━━━━━━━━━━\u001b[0m\u001b[37m\u001b[0m \u001b[1m1s\u001b[0m 4ms/step - accuracy: 0.6659 - loss: 0.9313 - val_accuracy: 0.7739 - val_loss: 0.6839\n",
            "Epoch 44/50\n",
            "\u001b[1m131/131\u001b[0m \u001b[32m━━━━━━━━━━━━━━━━━━━━\u001b[0m\u001b[37m\u001b[0m \u001b[1m1s\u001b[0m 4ms/step - accuracy: 0.6659 - loss: 0.9197 - val_accuracy: 0.7679 - val_loss: 0.6795\n",
            "Epoch 45/50\n",
            "\u001b[1m131/131\u001b[0m \u001b[32m━━━━━━━━━━━━━━━━━━━━\u001b[0m\u001b[37m\u001b[0m \u001b[1m1s\u001b[0m 4ms/step - accuracy: 0.6736 - loss: 0.8902 - val_accuracy: 0.7871 - val_loss: 0.6624\n",
            "Epoch 46/50\n",
            "\u001b[1m131/131\u001b[0m \u001b[32m━━━━━━━━━━━━━━━━━━━━\u001b[0m\u001b[37m\u001b[0m \u001b[1m1s\u001b[0m 6ms/step - accuracy: 0.6792 - loss: 0.8984 - val_accuracy: 0.7620 - val_loss: 0.6857\n",
            "Epoch 47/50\n",
            "\u001b[1m131/131\u001b[0m \u001b[32m━━━━━━━━━━━━━━━━━━━━\u001b[0m\u001b[37m\u001b[0m \u001b[1m1s\u001b[0m 6ms/step - accuracy: 0.6721 - loss: 0.8994 - val_accuracy: 0.7847 - val_loss: 0.6453\n",
            "Epoch 48/50\n",
            "\u001b[1m131/131\u001b[0m \u001b[32m━━━━━━━━━━━━━━━━━━━━\u001b[0m\u001b[37m\u001b[0m \u001b[1m1s\u001b[0m 4ms/step - accuracy: 0.6782 - loss: 0.8716 - val_accuracy: 0.7464 - val_loss: 0.6966\n",
            "Epoch 49/50\n",
            "\u001b[1m131/131\u001b[0m \u001b[32m━━━━━━━━━━━━━━━━━━━━\u001b[0m\u001b[37m\u001b[0m \u001b[1m1s\u001b[0m 4ms/step - accuracy: 0.6764 - loss: 0.8924 - val_accuracy: 0.7859 - val_loss: 0.6455\n",
            "Epoch 50/50\n",
            "\u001b[1m131/131\u001b[0m \u001b[32m━━━━━━━━━━━━━━━━━━━━\u001b[0m\u001b[37m\u001b[0m \u001b[1m1s\u001b[0m 4ms/step - accuracy: 0.6821 - loss: 0.8852 - val_accuracy: 0.7931 - val_loss: 0.6504\n",
            "\u001b[1m27/27\u001b[0m \u001b[32m━━━━━━━━━━━━━━━━━━━━\u001b[0m\u001b[37m\u001b[0m \u001b[1m0s\u001b[0m 2ms/step - accuracy: 0.8003 - loss: 0.6358 \n"
          ]
        }
      ],
      "source": [
        "model_1, history_1, loss_1, accuracy_1, duration_1 = Model(train_scaled_1, train_target, val_scaled_1, val_target, 3)"
      ]
    },
    {
      "cell_type": "markdown",
      "metadata": {
        "id": "h1RbzN_M-I_U"
      },
      "source": [
        "## Model fit With 2 Additional Parameter"
      ]
    },
    {
      "cell_type": "code",
      "execution_count": 62,
      "metadata": {
        "colab": {
          "base_uri": "https://localhost:8080/"
        },
        "id": "92Crx-6C-Bw8",
        "outputId": "d9c2be0b-67dd-4c6f-a247-19813e6f46b3"
      },
      "outputs": [
        {
          "output_type": "stream",
          "name": "stdout",
          "text": [
            "Epoch 1/50\n",
            "\u001b[1m131/131\u001b[0m \u001b[32m━━━━━━━━━━━━━━━━━━━━\u001b[0m\u001b[37m\u001b[0m \u001b[1m2s\u001b[0m 5ms/step - accuracy: 0.0198 - loss: 4.4223 - val_accuracy: 0.0574 - val_loss: 3.6977\n",
            "Epoch 2/50\n",
            "\u001b[1m131/131\u001b[0m \u001b[32m━━━━━━━━━━━━━━━━━━━━\u001b[0m\u001b[37m\u001b[0m \u001b[1m0s\u001b[0m 4ms/step - accuracy: 0.0863 - loss: 3.5000 - val_accuracy: 0.2440 - val_loss: 2.7295\n",
            "Epoch 3/50\n",
            "\u001b[1m131/131\u001b[0m \u001b[32m━━━━━━━━━━━━━━━━━━━━\u001b[0m\u001b[37m\u001b[0m \u001b[1m1s\u001b[0m 4ms/step - accuracy: 0.2208 - loss: 2.6829 - val_accuracy: 0.3541 - val_loss: 2.2177\n",
            "Epoch 4/50\n",
            "\u001b[1m131/131\u001b[0m \u001b[32m━━━━━━━━━━━━━━━━━━━━\u001b[0m\u001b[37m\u001b[0m \u001b[1m1s\u001b[0m 4ms/step - accuracy: 0.3055 - loss: 2.2661 - val_accuracy: 0.4378 - val_loss: 1.9210\n",
            "Epoch 5/50\n",
            "\u001b[1m131/131\u001b[0m \u001b[32m━━━━━━━━━━━━━━━━━━━━\u001b[0m\u001b[37m\u001b[0m \u001b[1m1s\u001b[0m 4ms/step - accuracy: 0.3795 - loss: 2.0107 - val_accuracy: 0.5096 - val_loss: 1.7011\n",
            "Epoch 6/50\n",
            "\u001b[1m131/131\u001b[0m \u001b[32m━━━━━━━━━━━━━━━━━━━━\u001b[0m\u001b[37m\u001b[0m \u001b[1m1s\u001b[0m 4ms/step - accuracy: 0.4241 - loss: 1.8243 - val_accuracy: 0.5682 - val_loss: 1.5438\n",
            "Epoch 7/50\n",
            "\u001b[1m131/131\u001b[0m \u001b[32m━━━━━━━━━━━━━━━━━━━━\u001b[0m\u001b[37m\u001b[0m \u001b[1m1s\u001b[0m 4ms/step - accuracy: 0.4687 - loss: 1.6696 - val_accuracy: 0.6077 - val_loss: 1.3935\n",
            "Epoch 8/50\n",
            "\u001b[1m131/131\u001b[0m \u001b[32m━━━━━━━━━━━━━━━━━━━━\u001b[0m\u001b[37m\u001b[0m \u001b[1m1s\u001b[0m 4ms/step - accuracy: 0.4944 - loss: 1.5489 - val_accuracy: 0.6483 - val_loss: 1.2678\n",
            "Epoch 9/50\n",
            "\u001b[1m131/131\u001b[0m \u001b[32m━━━━━━━━━━━━━━━━━━━━\u001b[0m\u001b[37m\u001b[0m \u001b[1m1s\u001b[0m 4ms/step - accuracy: 0.5354 - loss: 1.4321 - val_accuracy: 0.6830 - val_loss: 1.1827\n",
            "Epoch 10/50\n",
            "\u001b[1m131/131\u001b[0m \u001b[32m━━━━━━━━━━━━━━━━━━━━\u001b[0m\u001b[37m\u001b[0m \u001b[1m1s\u001b[0m 4ms/step - accuracy: 0.5729 - loss: 1.3251 - val_accuracy: 0.7189 - val_loss: 1.0830\n",
            "Epoch 11/50\n",
            "\u001b[1m131/131\u001b[0m \u001b[32m━━━━━━━━━━━━━━━━━━━━\u001b[0m\u001b[37m\u001b[0m \u001b[1m1s\u001b[0m 4ms/step - accuracy: 0.6006 - loss: 1.2514 - val_accuracy: 0.7428 - val_loss: 0.9974\n",
            "Epoch 12/50\n",
            "\u001b[1m131/131\u001b[0m \u001b[32m━━━━━━━━━━━━━━━━━━━━\u001b[0m\u001b[37m\u001b[0m \u001b[1m1s\u001b[0m 6ms/step - accuracy: 0.6152 - loss: 1.1713 - val_accuracy: 0.7560 - val_loss: 0.9311\n",
            "Epoch 13/50\n",
            "\u001b[1m131/131\u001b[0m \u001b[32m━━━━━━━━━━━━━━━━━━━━\u001b[0m\u001b[37m\u001b[0m \u001b[1m1s\u001b[0m 7ms/step - accuracy: 0.6367 - loss: 1.1241 - val_accuracy: 0.7452 - val_loss: 0.9174\n",
            "Epoch 14/50\n",
            "\u001b[1m131/131\u001b[0m \u001b[32m━━━━━━━━━━━━━━━━━━━━\u001b[0m\u001b[37m\u001b[0m \u001b[1m1s\u001b[0m 6ms/step - accuracy: 0.6522 - loss: 1.0653 - val_accuracy: 0.7584 - val_loss: 0.8583\n",
            "Epoch 15/50\n",
            "\u001b[1m131/131\u001b[0m \u001b[32m━━━━━━━━━━━━━━━━━━━━\u001b[0m\u001b[37m\u001b[0m \u001b[1m1s\u001b[0m 4ms/step - accuracy: 0.6732 - loss: 1.0136 - val_accuracy: 0.7787 - val_loss: 0.8034\n",
            "Epoch 16/50\n",
            "\u001b[1m131/131\u001b[0m \u001b[32m━━━━━━━━━━━━━━━━━━━━\u001b[0m\u001b[37m\u001b[0m \u001b[1m1s\u001b[0m 4ms/step - accuracy: 0.6963 - loss: 0.9506 - val_accuracy: 0.7835 - val_loss: 0.7890\n",
            "Epoch 17/50\n",
            "\u001b[1m131/131\u001b[0m \u001b[32m━━━━━━━━━━━━━━━━━━━━\u001b[0m\u001b[37m\u001b[0m \u001b[1m1s\u001b[0m 4ms/step - accuracy: 0.7031 - loss: 0.9267 - val_accuracy: 0.8026 - val_loss: 0.7308\n",
            "Epoch 18/50\n",
            "\u001b[1m131/131\u001b[0m \u001b[32m━━━━━━━━━━━━━━━━━━━━\u001b[0m\u001b[37m\u001b[0m \u001b[1m1s\u001b[0m 4ms/step - accuracy: 0.7027 - loss: 0.9144 - val_accuracy: 0.7978 - val_loss: 0.7367\n",
            "Epoch 19/50\n",
            "\u001b[1m131/131\u001b[0m \u001b[32m━━━━━━━━━━━━━━━━━━━━\u001b[0m\u001b[37m\u001b[0m \u001b[1m1s\u001b[0m 4ms/step - accuracy: 0.7157 - loss: 0.8796 - val_accuracy: 0.8062 - val_loss: 0.6681\n",
            "Epoch 20/50\n",
            "\u001b[1m131/131\u001b[0m \u001b[32m━━━━━━━━━━━━━━━━━━━━\u001b[0m\u001b[37m\u001b[0m \u001b[1m1s\u001b[0m 4ms/step - accuracy: 0.7326 - loss: 0.8352 - val_accuracy: 0.8206 - val_loss: 0.6673\n",
            "Epoch 21/50\n",
            "\u001b[1m131/131\u001b[0m \u001b[32m━━━━━━━━━━━━━━━━━━━━\u001b[0m\u001b[37m\u001b[0m \u001b[1m1s\u001b[0m 3ms/step - accuracy: 0.7301 - loss: 0.8311 - val_accuracy: 0.8050 - val_loss: 0.6707\n",
            "Epoch 22/50\n",
            "\u001b[1m131/131\u001b[0m \u001b[32m━━━━━━━━━━━━━━━━━━━━\u001b[0m\u001b[37m\u001b[0m \u001b[1m1s\u001b[0m 4ms/step - accuracy: 0.7289 - loss: 0.8238 - val_accuracy: 0.8182 - val_loss: 0.6298\n",
            "Epoch 23/50\n",
            "\u001b[1m131/131\u001b[0m \u001b[32m━━━━━━━━━━━━━━━━━━━━\u001b[0m\u001b[37m\u001b[0m \u001b[1m1s\u001b[0m 3ms/step - accuracy: 0.7390 - loss: 0.7847 - val_accuracy: 0.8170 - val_loss: 0.6335\n",
            "Epoch 24/50\n",
            "\u001b[1m131/131\u001b[0m \u001b[32m━━━━━━━━━━━━━━━━━━━━\u001b[0m\u001b[37m\u001b[0m \u001b[1m1s\u001b[0m 4ms/step - accuracy: 0.7531 - loss: 0.7566 - val_accuracy: 0.8134 - val_loss: 0.6009\n",
            "Epoch 25/50\n",
            "\u001b[1m131/131\u001b[0m \u001b[32m━━━━━━━━━━━━━━━━━━━━\u001b[0m\u001b[37m\u001b[0m \u001b[1m1s\u001b[0m 4ms/step - accuracy: 0.7480 - loss: 0.7504 - val_accuracy: 0.8385 - val_loss: 0.5535\n",
            "Epoch 26/50\n",
            "\u001b[1m131/131\u001b[0m \u001b[32m━━━━━━━━━━━━━━━━━━━━\u001b[0m\u001b[37m\u001b[0m \u001b[1m1s\u001b[0m 4ms/step - accuracy: 0.7589 - loss: 0.7193 - val_accuracy: 0.8254 - val_loss: 0.5617\n",
            "Epoch 27/50\n",
            "\u001b[1m131/131\u001b[0m \u001b[32m━━━━━━━━━━━━━━━━━━━━\u001b[0m\u001b[37m\u001b[0m \u001b[1m1s\u001b[0m 4ms/step - accuracy: 0.7592 - loss: 0.7264 - val_accuracy: 0.8301 - val_loss: 0.5578\n",
            "Epoch 28/50\n",
            "\u001b[1m131/131\u001b[0m \u001b[32m━━━━━━━━━━━━━━━━━━━━\u001b[0m\u001b[37m\u001b[0m \u001b[1m1s\u001b[0m 4ms/step - accuracy: 0.7733 - loss: 0.6840 - val_accuracy: 0.8457 - val_loss: 0.5487\n",
            "Epoch 29/50\n",
            "\u001b[1m131/131\u001b[0m \u001b[32m━━━━━━━━━━━━━━━━━━━━\u001b[0m\u001b[37m\u001b[0m \u001b[1m1s\u001b[0m 4ms/step - accuracy: 0.7699 - loss: 0.6828 - val_accuracy: 0.8409 - val_loss: 0.5280\n",
            "Epoch 30/50\n",
            "\u001b[1m131/131\u001b[0m \u001b[32m━━━━━━━━━━━━━━━━━━━━\u001b[0m\u001b[37m\u001b[0m \u001b[1m1s\u001b[0m 4ms/step - accuracy: 0.7751 - loss: 0.6782 - val_accuracy: 0.8433 - val_loss: 0.5057\n",
            "Epoch 31/50\n",
            "\u001b[1m131/131\u001b[0m \u001b[32m━━━━━━━━━━━━━━━━━━━━\u001b[0m\u001b[37m\u001b[0m \u001b[1m1s\u001b[0m 5ms/step - accuracy: 0.7800 - loss: 0.6539 - val_accuracy: 0.8589 - val_loss: 0.4918\n",
            "Epoch 32/50\n",
            "\u001b[1m131/131\u001b[0m \u001b[32m━━━━━━━━━━━━━━━━━━━━\u001b[0m\u001b[37m\u001b[0m \u001b[1m1s\u001b[0m 6ms/step - accuracy: 0.7875 - loss: 0.6232 - val_accuracy: 0.8505 - val_loss: 0.4935\n",
            "Epoch 33/50\n",
            "\u001b[1m131/131\u001b[0m \u001b[32m━━━━━━━━━━━━━━━━━━━━\u001b[0m\u001b[37m\u001b[0m \u001b[1m1s\u001b[0m 4ms/step - accuracy: 0.7850 - loss: 0.6316 - val_accuracy: 0.8493 - val_loss: 0.4841\n",
            "Epoch 34/50\n",
            "\u001b[1m131/131\u001b[0m \u001b[32m━━━━━━━━━━━━━━━━━━━━\u001b[0m\u001b[37m\u001b[0m \u001b[1m1s\u001b[0m 4ms/step - accuracy: 0.7816 - loss: 0.6111 - val_accuracy: 0.8624 - val_loss: 0.4701\n",
            "Epoch 35/50\n",
            "\u001b[1m131/131\u001b[0m \u001b[32m━━━━━━━━━━━━━━━━━━━━\u001b[0m\u001b[37m\u001b[0m \u001b[1m1s\u001b[0m 4ms/step - accuracy: 0.8004 - loss: 0.5998 - val_accuracy: 0.8756 - val_loss: 0.4564\n",
            "Epoch 36/50\n",
            "\u001b[1m131/131\u001b[0m \u001b[32m━━━━━━━━━━━━━━━━━━━━\u001b[0m\u001b[37m\u001b[0m \u001b[1m1s\u001b[0m 4ms/step - accuracy: 0.7940 - loss: 0.6063 - val_accuracy: 0.8672 - val_loss: 0.4357\n",
            "Epoch 37/50\n",
            "\u001b[1m131/131\u001b[0m \u001b[32m━━━━━━━━━━━━━━━━━━━━\u001b[0m\u001b[37m\u001b[0m \u001b[1m1s\u001b[0m 4ms/step - accuracy: 0.8071 - loss: 0.5849 - val_accuracy: 0.8708 - val_loss: 0.4168\n",
            "Epoch 38/50\n",
            "\u001b[1m131/131\u001b[0m \u001b[32m━━━━━━━━━━━━━━━━━━━━\u001b[0m\u001b[37m\u001b[0m \u001b[1m1s\u001b[0m 4ms/step - accuracy: 0.8090 - loss: 0.5855 - val_accuracy: 0.8804 - val_loss: 0.4369\n",
            "Epoch 39/50\n",
            "\u001b[1m131/131\u001b[0m \u001b[32m━━━━━━━━━━━━━━━━━━━━\u001b[0m\u001b[37m\u001b[0m \u001b[1m1s\u001b[0m 4ms/step - accuracy: 0.8088 - loss: 0.5704 - val_accuracy: 0.8780 - val_loss: 0.4071\n",
            "Epoch 40/50\n",
            "\u001b[1m131/131\u001b[0m \u001b[32m━━━━━━━━━━━━━━━━━━━━\u001b[0m\u001b[37m\u001b[0m \u001b[1m0s\u001b[0m 4ms/step - accuracy: 0.8154 - loss: 0.5435 - val_accuracy: 0.8672 - val_loss: 0.4013\n",
            "Epoch 41/50\n",
            "\u001b[1m131/131\u001b[0m \u001b[32m━━━━━━━━━━━━━━━━━━━━\u001b[0m\u001b[37m\u001b[0m \u001b[1m0s\u001b[0m 4ms/step - accuracy: 0.8055 - loss: 0.5583 - val_accuracy: 0.8888 - val_loss: 0.3957\n",
            "Epoch 42/50\n",
            "\u001b[1m131/131\u001b[0m \u001b[32m━━━━━━━━━━━━━━━━━━━━\u001b[0m\u001b[37m\u001b[0m \u001b[1m1s\u001b[0m 4ms/step - accuracy: 0.8153 - loss: 0.5447 - val_accuracy: 0.8804 - val_loss: 0.4024\n",
            "Epoch 43/50\n",
            "\u001b[1m131/131\u001b[0m \u001b[32m━━━━━━━━━━━━━━━━━━━━\u001b[0m\u001b[37m\u001b[0m \u001b[1m1s\u001b[0m 4ms/step - accuracy: 0.8195 - loss: 0.5432 - val_accuracy: 0.8888 - val_loss: 0.3932\n",
            "Epoch 44/50\n",
            "\u001b[1m131/131\u001b[0m \u001b[32m━━━━━━━━━━━━━━━━━━━━\u001b[0m\u001b[37m\u001b[0m \u001b[1m1s\u001b[0m 4ms/step - accuracy: 0.8246 - loss: 0.5220 - val_accuracy: 0.8804 - val_loss: 0.3932\n",
            "Epoch 45/50\n",
            "\u001b[1m131/131\u001b[0m \u001b[32m━━━━━━━━━━━━━━━━━━━━\u001b[0m\u001b[37m\u001b[0m \u001b[1m1s\u001b[0m 4ms/step - accuracy: 0.8210 - loss: 0.5170 - val_accuracy: 0.8804 - val_loss: 0.3607\n",
            "Epoch 46/50\n",
            "\u001b[1m131/131\u001b[0m \u001b[32m━━━━━━━━━━━━━━━━━━━━\u001b[0m\u001b[37m\u001b[0m \u001b[1m1s\u001b[0m 4ms/step - accuracy: 0.8288 - loss: 0.4935 - val_accuracy: 0.8947 - val_loss: 0.3695\n",
            "Epoch 47/50\n",
            "\u001b[1m131/131\u001b[0m \u001b[32m━━━━━━━━━━━━━━━━━━━━\u001b[0m\u001b[37m\u001b[0m \u001b[1m1s\u001b[0m 4ms/step - accuracy: 0.8299 - loss: 0.5105 - val_accuracy: 0.9043 - val_loss: 0.3501\n",
            "Epoch 48/50\n",
            "\u001b[1m131/131\u001b[0m \u001b[32m━━━━━━━━━━━━━━━━━━━━\u001b[0m\u001b[37m\u001b[0m \u001b[1m0s\u001b[0m 4ms/step - accuracy: 0.8312 - loss: 0.4880 - val_accuracy: 0.8971 - val_loss: 0.3578\n",
            "Epoch 49/50\n",
            "\u001b[1m131/131\u001b[0m \u001b[32m━━━━━━━━━━━━━━━━━━━━\u001b[0m\u001b[37m\u001b[0m \u001b[1m0s\u001b[0m 3ms/step - accuracy: 0.8254 - loss: 0.5077 - val_accuracy: 0.8876 - val_loss: 0.3383\n",
            "Epoch 50/50\n",
            "\u001b[1m131/131\u001b[0m \u001b[32m━━━━━━━━━━━━━━━━━━━━\u001b[0m\u001b[37m\u001b[0m \u001b[1m1s\u001b[0m 4ms/step - accuracy: 0.8330 - loss: 0.4835 - val_accuracy: 0.8864 - val_loss: 0.3534\n",
            "\u001b[1m27/27\u001b[0m \u001b[32m━━━━━━━━━━━━━━━━━━━━\u001b[0m\u001b[37m\u001b[0m \u001b[1m0s\u001b[0m 2ms/step - accuracy: 0.8923 - loss: 0.3397\n"
          ]
        }
      ],
      "source": [
        "model_2, history_2, loss_2, accuracy_2, duration_2 = Model(train_scaled_2, train_target, val_scaled_2, val_target, 4)"
      ]
    },
    {
      "cell_type": "markdown",
      "metadata": {
        "id": "iYqq5DoN-JQz"
      },
      "source": [
        "## Model fit With 3 Additional Parameter"
      ]
    },
    {
      "cell_type": "code",
      "execution_count": 63,
      "metadata": {
        "colab": {
          "base_uri": "https://localhost:8080/"
        },
        "id": "TqYciG7x-Bqw",
        "outputId": "e63bf1ef-60e8-41f3-b0ee-1d0aa75e1cc8"
      },
      "outputs": [
        {
          "output_type": "stream",
          "name": "stdout",
          "text": [
            "Epoch 1/50\n",
            "\u001b[1m131/131\u001b[0m \u001b[32m━━━━━━━━━━━━━━━━━━━━\u001b[0m\u001b[37m\u001b[0m \u001b[1m3s\u001b[0m 9ms/step - accuracy: 0.0233 - loss: 4.3855 - val_accuracy: 0.0718 - val_loss: 3.7173\n",
            "Epoch 2/50\n",
            "\u001b[1m131/131\u001b[0m \u001b[32m━━━━━━━━━━━━━━━━━━━━\u001b[0m\u001b[37m\u001b[0m \u001b[1m1s\u001b[0m 4ms/step - accuracy: 0.0908 - loss: 3.5213 - val_accuracy: 0.2201 - val_loss: 2.7380\n",
            "Epoch 3/50\n",
            "\u001b[1m131/131\u001b[0m \u001b[32m━━━━━━━━━━━━━━━━━━━━\u001b[0m\u001b[37m\u001b[0m \u001b[1m0s\u001b[0m 3ms/step - accuracy: 0.2098 - loss: 2.6794 - val_accuracy: 0.3266 - val_loss: 2.2293\n",
            "Epoch 4/50\n",
            "\u001b[1m131/131\u001b[0m \u001b[32m━━━━━━━━━━━━━━━━━━━━\u001b[0m\u001b[37m\u001b[0m \u001b[1m1s\u001b[0m 4ms/step - accuracy: 0.2892 - loss: 2.2724 - val_accuracy: 0.4007 - val_loss: 1.9446\n",
            "Epoch 5/50\n",
            "\u001b[1m131/131\u001b[0m \u001b[32m━━━━━━━━━━━━━━━━━━━━\u001b[0m\u001b[37m\u001b[0m \u001b[1m1s\u001b[0m 3ms/step - accuracy: 0.3524 - loss: 2.0273 - val_accuracy: 0.4809 - val_loss: 1.7180\n",
            "Epoch 6/50\n",
            "\u001b[1m131/131\u001b[0m \u001b[32m━━━━━━━━━━━━━━━━━━━━\u001b[0m\u001b[37m\u001b[0m \u001b[1m1s\u001b[0m 4ms/step - accuracy: 0.4034 - loss: 1.8482 - val_accuracy: 0.5287 - val_loss: 1.5712\n",
            "Epoch 7/50\n",
            "\u001b[1m131/131\u001b[0m \u001b[32m━━━━━━━━━━━━━━━━━━━━\u001b[0m\u001b[37m\u001b[0m \u001b[1m1s\u001b[0m 4ms/step - accuracy: 0.4358 - loss: 1.7114 - val_accuracy: 0.5538 - val_loss: 1.4312\n",
            "Epoch 8/50\n",
            "\u001b[1m131/131\u001b[0m \u001b[32m━━━━━━━━━━━━━━━━━━━━\u001b[0m\u001b[37m\u001b[0m \u001b[1m1s\u001b[0m 3ms/step - accuracy: 0.4846 - loss: 1.5751 - val_accuracy: 0.6065 - val_loss: 1.3100\n",
            "Epoch 9/50\n",
            "\u001b[1m131/131\u001b[0m \u001b[32m━━━━━━━━━━━━━━━━━━━━\u001b[0m\u001b[37m\u001b[0m \u001b[1m1s\u001b[0m 4ms/step - accuracy: 0.5144 - loss: 1.4719 - val_accuracy: 0.6352 - val_loss: 1.2133\n",
            "Epoch 10/50\n",
            "\u001b[1m131/131\u001b[0m \u001b[32m━━━━━━━━━━━━━━━━━━━━\u001b[0m\u001b[37m\u001b[0m \u001b[1m0s\u001b[0m 4ms/step - accuracy: 0.5599 - loss: 1.3713 - val_accuracy: 0.6806 - val_loss: 1.1170\n",
            "Epoch 11/50\n",
            "\u001b[1m131/131\u001b[0m \u001b[32m━━━━━━━━━━━━━━━━━━━━\u001b[0m\u001b[37m\u001b[0m \u001b[1m1s\u001b[0m 4ms/step - accuracy: 0.5827 - loss: 1.2898 - val_accuracy: 0.6854 - val_loss: 1.0667\n",
            "Epoch 12/50\n",
            "\u001b[1m131/131\u001b[0m \u001b[32m━━━━━━━━━━━━━━━━━━━━\u001b[0m\u001b[37m\u001b[0m \u001b[1m1s\u001b[0m 4ms/step - accuracy: 0.6013 - loss: 1.2229 - val_accuracy: 0.7273 - val_loss: 0.9669\n",
            "Epoch 13/50\n",
            "\u001b[1m131/131\u001b[0m \u001b[32m━━━━━━━━━━━━━━━━━━━━\u001b[0m\u001b[37m\u001b[0m \u001b[1m1s\u001b[0m 4ms/step - accuracy: 0.6341 - loss: 1.1501 - val_accuracy: 0.7464 - val_loss: 0.9166\n",
            "Epoch 14/50\n",
            "\u001b[1m131/131\u001b[0m \u001b[32m━━━━━━━━━━━━━━━━━━━━\u001b[0m\u001b[37m\u001b[0m \u001b[1m1s\u001b[0m 4ms/step - accuracy: 0.6428 - loss: 1.0973 - val_accuracy: 0.7596 - val_loss: 0.8698\n",
            "Epoch 15/50\n",
            "\u001b[1m131/131\u001b[0m \u001b[32m━━━━━━━━━━━━━━━━━━━━\u001b[0m\u001b[37m\u001b[0m \u001b[1m1s\u001b[0m 4ms/step - accuracy: 0.6593 - loss: 1.0293 - val_accuracy: 0.7775 - val_loss: 0.8108\n",
            "Epoch 16/50\n",
            "\u001b[1m131/131\u001b[0m \u001b[32m━━━━━━━━━━━━━━━━━━━━\u001b[0m\u001b[37m\u001b[0m \u001b[1m1s\u001b[0m 4ms/step - accuracy: 0.6726 - loss: 1.0000 - val_accuracy: 0.8002 - val_loss: 0.7841\n",
            "Epoch 17/50\n",
            "\u001b[1m131/131\u001b[0m \u001b[32m━━━━━━━━━━━━━━━━━━━━\u001b[0m\u001b[37m\u001b[0m \u001b[1m1s\u001b[0m 4ms/step - accuracy: 0.6819 - loss: 0.9544 - val_accuracy: 0.7632 - val_loss: 0.7826\n",
            "Epoch 18/50\n",
            "\u001b[1m131/131\u001b[0m \u001b[32m━━━━━━━━━━━━━━━━━━━━\u001b[0m\u001b[37m\u001b[0m \u001b[1m1s\u001b[0m 4ms/step - accuracy: 0.6936 - loss: 0.9278 - val_accuracy: 0.8038 - val_loss: 0.7226\n",
            "Epoch 19/50\n",
            "\u001b[1m131/131\u001b[0m \u001b[32m━━━━━━━━━━━━━━━━━━━━\u001b[0m\u001b[37m\u001b[0m \u001b[1m1s\u001b[0m 6ms/step - accuracy: 0.7107 - loss: 0.8738 - val_accuracy: 0.8050 - val_loss: 0.6897\n",
            "Epoch 20/50\n",
            "\u001b[1m131/131\u001b[0m \u001b[32m━━━━━━━━━━━━━━━━━━━━\u001b[0m\u001b[37m\u001b[0m \u001b[1m1s\u001b[0m 6ms/step - accuracy: 0.7093 - loss: 0.8729 - val_accuracy: 0.8146 - val_loss: 0.6537\n",
            "Epoch 21/50\n",
            "\u001b[1m131/131\u001b[0m \u001b[32m━━━━━━━━━━━━━━━━━━━━\u001b[0m\u001b[37m\u001b[0m \u001b[1m1s\u001b[0m 6ms/step - accuracy: 0.7318 - loss: 0.8077 - val_accuracy: 0.8421 - val_loss: 0.6257\n",
            "Epoch 22/50\n",
            "\u001b[1m131/131\u001b[0m \u001b[32m━━━━━━━━━━━━━━━━━━━━\u001b[0m\u001b[37m\u001b[0m \u001b[1m1s\u001b[0m 4ms/step - accuracy: 0.7304 - loss: 0.8089 - val_accuracy: 0.8146 - val_loss: 0.6211\n",
            "Epoch 23/50\n",
            "\u001b[1m131/131\u001b[0m \u001b[32m━━━━━━━━━━━━━━━━━━━━\u001b[0m\u001b[37m\u001b[0m \u001b[1m1s\u001b[0m 4ms/step - accuracy: 0.7375 - loss: 0.7721 - val_accuracy: 0.8457 - val_loss: 0.5750\n",
            "Epoch 24/50\n",
            "\u001b[1m131/131\u001b[0m \u001b[32m━━━━━━━━━━━━━━━━━━━━\u001b[0m\u001b[37m\u001b[0m \u001b[1m1s\u001b[0m 4ms/step - accuracy: 0.7518 - loss: 0.7468 - val_accuracy: 0.8361 - val_loss: 0.5781\n",
            "Epoch 25/50\n",
            "\u001b[1m131/131\u001b[0m \u001b[32m━━━━━━━━━━━━━━━━━━━━\u001b[0m\u001b[37m\u001b[0m \u001b[1m1s\u001b[0m 4ms/step - accuracy: 0.7439 - loss: 0.7469 - val_accuracy: 0.8457 - val_loss: 0.5844\n",
            "Epoch 26/50\n",
            "\u001b[1m131/131\u001b[0m \u001b[32m━━━━━━━━━━━━━━━━━━━━\u001b[0m\u001b[37m\u001b[0m \u001b[1m1s\u001b[0m 4ms/step - accuracy: 0.7518 - loss: 0.7213 - val_accuracy: 0.8553 - val_loss: 0.5518\n",
            "Epoch 27/50\n",
            "\u001b[1m131/131\u001b[0m \u001b[32m━━━━━━━━━━━━━━━━━━━━\u001b[0m\u001b[37m\u001b[0m \u001b[1m1s\u001b[0m 4ms/step - accuracy: 0.7522 - loss: 0.7144 - val_accuracy: 0.8505 - val_loss: 0.5188\n",
            "Epoch 28/50\n",
            "\u001b[1m131/131\u001b[0m \u001b[32m━━━━━━━━━━━━━━━━━━━━\u001b[0m\u001b[37m\u001b[0m \u001b[1m1s\u001b[0m 4ms/step - accuracy: 0.7719 - loss: 0.6820 - val_accuracy: 0.8565 - val_loss: 0.5100\n",
            "Epoch 29/50\n",
            "\u001b[1m131/131\u001b[0m \u001b[32m━━━━━━━━━━━━━━━━━━━━\u001b[0m\u001b[37m\u001b[0m \u001b[1m1s\u001b[0m 4ms/step - accuracy: 0.7709 - loss: 0.6838 - val_accuracy: 0.8744 - val_loss: 0.5030\n",
            "Epoch 30/50\n",
            "\u001b[1m131/131\u001b[0m \u001b[32m━━━━━━━━━━━━━━━━━━━━\u001b[0m\u001b[37m\u001b[0m \u001b[1m1s\u001b[0m 4ms/step - accuracy: 0.7742 - loss: 0.6724 - val_accuracy: 0.8636 - val_loss: 0.4933\n",
            "Epoch 31/50\n",
            "\u001b[1m131/131\u001b[0m \u001b[32m━━━━━━━━━━━━━━━━━━━━\u001b[0m\u001b[37m\u001b[0m \u001b[1m1s\u001b[0m 4ms/step - accuracy: 0.7929 - loss: 0.6274 - val_accuracy: 0.8696 - val_loss: 0.4833\n",
            "Epoch 32/50\n",
            "\u001b[1m131/131\u001b[0m \u001b[32m━━━━━━━━━━━━━━━━━━━━\u001b[0m\u001b[37m\u001b[0m \u001b[1m1s\u001b[0m 4ms/step - accuracy: 0.7830 - loss: 0.6408 - val_accuracy: 0.8553 - val_loss: 0.4765\n",
            "Epoch 33/50\n",
            "\u001b[1m131/131\u001b[0m \u001b[32m━━━━━━━━━━━━━━━━━━━━\u001b[0m\u001b[37m\u001b[0m \u001b[1m1s\u001b[0m 4ms/step - accuracy: 0.8023 - loss: 0.6029 - val_accuracy: 0.8756 - val_loss: 0.4544\n",
            "Epoch 34/50\n",
            "\u001b[1m131/131\u001b[0m \u001b[32m━━━━━━━━━━━━━━━━━━━━\u001b[0m\u001b[37m\u001b[0m \u001b[1m1s\u001b[0m 4ms/step - accuracy: 0.7949 - loss: 0.5996 - val_accuracy: 0.8672 - val_loss: 0.4757\n",
            "Epoch 35/50\n",
            "\u001b[1m131/131\u001b[0m \u001b[32m━━━━━━━━━━━━━━━━━━━━\u001b[0m\u001b[37m\u001b[0m \u001b[1m1s\u001b[0m 4ms/step - accuracy: 0.7854 - loss: 0.6253 - val_accuracy: 0.8660 - val_loss: 0.4462\n",
            "Epoch 36/50\n",
            "\u001b[1m131/131\u001b[0m \u001b[32m━━━━━━━━━━━━━━━━━━━━\u001b[0m\u001b[37m\u001b[0m \u001b[1m1s\u001b[0m 4ms/step - accuracy: 0.7954 - loss: 0.6000 - val_accuracy: 0.8696 - val_loss: 0.4292\n",
            "Epoch 37/50\n",
            "\u001b[1m131/131\u001b[0m \u001b[32m━━━━━━━━━━━━━━━━━━━━\u001b[0m\u001b[37m\u001b[0m \u001b[1m1s\u001b[0m 4ms/step - accuracy: 0.8075 - loss: 0.5534 - val_accuracy: 0.8720 - val_loss: 0.4340\n",
            "Epoch 38/50\n",
            "\u001b[1m131/131\u001b[0m \u001b[32m━━━━━━━━━━━━━━━━━━━━\u001b[0m\u001b[37m\u001b[0m \u001b[1m1s\u001b[0m 6ms/step - accuracy: 0.8081 - loss: 0.5694 - val_accuracy: 0.8720 - val_loss: 0.4165\n",
            "Epoch 39/50\n",
            "\u001b[1m131/131\u001b[0m \u001b[32m━━━━━━━━━━━━━━━━━━━━\u001b[0m\u001b[37m\u001b[0m \u001b[1m1s\u001b[0m 6ms/step - accuracy: 0.8030 - loss: 0.5690 - val_accuracy: 0.8911 - val_loss: 0.4003\n",
            "Epoch 40/50\n",
            "\u001b[1m131/131\u001b[0m \u001b[32m━━━━━━━━━━━━━━━━━━━━\u001b[0m\u001b[37m\u001b[0m \u001b[1m1s\u001b[0m 7ms/step - accuracy: 0.7970 - loss: 0.5733 - val_accuracy: 0.8900 - val_loss: 0.3996\n",
            "Epoch 41/50\n",
            "\u001b[1m131/131\u001b[0m \u001b[32m━━━━━━━━━━━━━━━━━━━━\u001b[0m\u001b[37m\u001b[0m \u001b[1m1s\u001b[0m 4ms/step - accuracy: 0.8082 - loss: 0.5492 - val_accuracy: 0.8672 - val_loss: 0.4360\n",
            "Epoch 42/50\n",
            "\u001b[1m131/131\u001b[0m \u001b[32m━━━━━━━━━━━━━━━━━━━━\u001b[0m\u001b[37m\u001b[0m \u001b[1m1s\u001b[0m 4ms/step - accuracy: 0.8037 - loss: 0.5599 - val_accuracy: 0.8864 - val_loss: 0.3886\n",
            "Epoch 43/50\n",
            "\u001b[1m131/131\u001b[0m \u001b[32m━━━━━━━━━━━━━━━━━━━━\u001b[0m\u001b[37m\u001b[0m \u001b[1m1s\u001b[0m 4ms/step - accuracy: 0.8253 - loss: 0.5312 - val_accuracy: 0.8840 - val_loss: 0.3934\n",
            "Epoch 44/50\n",
            "\u001b[1m131/131\u001b[0m \u001b[32m━━━━━━━━━━━━━━━━━━━━\u001b[0m\u001b[37m\u001b[0m \u001b[1m0s\u001b[0m 4ms/step - accuracy: 0.8186 - loss: 0.5179 - val_accuracy: 0.8888 - val_loss: 0.3726\n",
            "Epoch 45/50\n",
            "\u001b[1m131/131\u001b[0m \u001b[32m━━━━━━━━━━━━━━━━━━━━\u001b[0m\u001b[37m\u001b[0m \u001b[1m1s\u001b[0m 4ms/step - accuracy: 0.8285 - loss: 0.5027 - val_accuracy: 0.8923 - val_loss: 0.3667\n",
            "Epoch 46/50\n",
            "\u001b[1m131/131\u001b[0m \u001b[32m━━━━━━━━━━━━━━━━━━━━\u001b[0m\u001b[37m\u001b[0m \u001b[1m1s\u001b[0m 4ms/step - accuracy: 0.8321 - loss: 0.4859 - val_accuracy: 0.8900 - val_loss: 0.3837\n",
            "Epoch 47/50\n",
            "\u001b[1m131/131\u001b[0m \u001b[32m━━━━━━━━━━━━━━━━━━━━\u001b[0m\u001b[37m\u001b[0m \u001b[1m1s\u001b[0m 4ms/step - accuracy: 0.8295 - loss: 0.5041 - val_accuracy: 0.8923 - val_loss: 0.3690\n",
            "Epoch 48/50\n",
            "\u001b[1m131/131\u001b[0m \u001b[32m━━━━━━━━━━━━━━━━━━━━\u001b[0m\u001b[37m\u001b[0m \u001b[1m1s\u001b[0m 4ms/step - accuracy: 0.8192 - loss: 0.4982 - val_accuracy: 0.8900 - val_loss: 0.3426\n",
            "Epoch 49/50\n",
            "\u001b[1m131/131\u001b[0m \u001b[32m━━━━━━━━━━━━━━━━━━━━\u001b[0m\u001b[37m\u001b[0m \u001b[1m1s\u001b[0m 4ms/step - accuracy: 0.8315 - loss: 0.4791 - val_accuracy: 0.8900 - val_loss: 0.3714\n",
            "Epoch 50/50\n",
            "\u001b[1m131/131\u001b[0m \u001b[32m━━━━━━━━━━━━━━━━━━━━\u001b[0m\u001b[37m\u001b[0m \u001b[1m1s\u001b[0m 4ms/step - accuracy: 0.8323 - loss: 0.4851 - val_accuracy: 0.8816 - val_loss: 0.3632\n",
            "\u001b[1m27/27\u001b[0m \u001b[32m━━━━━━━━━━━━━━━━━━━━\u001b[0m\u001b[37m\u001b[0m \u001b[1m0s\u001b[0m 2ms/step - accuracy: 0.8866 - loss: 0.3559 \n"
          ]
        }
      ],
      "source": [
        "model_3, history_3, loss_3, accuracy_3, duration_3 = Model(train_scaled_3, train_target, val_scaled_3, val_target, 5)"
      ]
    },
    {
      "cell_type": "markdown",
      "metadata": {
        "id": "1-z97Fqh-NsX"
      },
      "source": [
        "## Model fit With 4 Additional Parameter"
      ]
    },
    {
      "cell_type": "code",
      "execution_count": 64,
      "metadata": {
        "colab": {
          "base_uri": "https://localhost:8080/"
        },
        "id": "ZsXr0eCk-NUk",
        "outputId": "e224a802-33d6-46fe-be28-c3a0094fe60c"
      },
      "outputs": [
        {
          "output_type": "stream",
          "name": "stdout",
          "text": [
            "Epoch 1/50\n",
            "\u001b[1m131/131\u001b[0m \u001b[32m━━━━━━━━━━━━━━━━━━━━\u001b[0m\u001b[37m\u001b[0m \u001b[1m2s\u001b[0m 5ms/step - accuracy: 0.0265 - loss: 4.3990 - val_accuracy: 0.0825 - val_loss: 3.5728\n",
            "Epoch 2/50\n",
            "\u001b[1m131/131\u001b[0m \u001b[32m━━━━━━━━━━━━━━━━━━━━\u001b[0m\u001b[37m\u001b[0m \u001b[1m1s\u001b[0m 4ms/step - accuracy: 0.1003 - loss: 3.3500 - val_accuracy: 0.2727 - val_loss: 2.6023\n",
            "Epoch 3/50\n",
            "\u001b[1m131/131\u001b[0m \u001b[32m━━━━━━━━━━━━━━━━━━━━\u001b[0m\u001b[37m\u001b[0m \u001b[1m1s\u001b[0m 4ms/step - accuracy: 0.2190 - loss: 2.5919 - val_accuracy: 0.3876 - val_loss: 2.1300\n",
            "Epoch 4/50\n",
            "\u001b[1m131/131\u001b[0m \u001b[32m━━━━━━━━━━━━━━━━━━━━\u001b[0m\u001b[37m\u001b[0m \u001b[1m1s\u001b[0m 6ms/step - accuracy: 0.3185 - loss: 2.2166 - val_accuracy: 0.4426 - val_loss: 1.8602\n",
            "Epoch 5/50\n",
            "\u001b[1m131/131\u001b[0m \u001b[32m━━━━━━━━━━━━━━━━━━━━\u001b[0m\u001b[37m\u001b[0m \u001b[1m1s\u001b[0m 6ms/step - accuracy: 0.3800 - loss: 1.9788 - val_accuracy: 0.4988 - val_loss: 1.6504\n",
            "Epoch 6/50\n",
            "\u001b[1m131/131\u001b[0m \u001b[32m━━━━━━━━━━━━━━━━━━━━\u001b[0m\u001b[37m\u001b[0m \u001b[1m1s\u001b[0m 4ms/step - accuracy: 0.4354 - loss: 1.7788 - val_accuracy: 0.5754 - val_loss: 1.4641\n",
            "Epoch 7/50\n",
            "\u001b[1m131/131\u001b[0m \u001b[32m━━━━━━━━━━━━━━━━━━━━\u001b[0m\u001b[37m\u001b[0m \u001b[1m1s\u001b[0m 4ms/step - accuracy: 0.4704 - loss: 1.6379 - val_accuracy: 0.6268 - val_loss: 1.3288\n",
            "Epoch 8/50\n",
            "\u001b[1m131/131\u001b[0m \u001b[32m━━━━━━━━━━━━━━━━━━━━\u001b[0m\u001b[37m\u001b[0m \u001b[1m1s\u001b[0m 7ms/step - accuracy: 0.5214 - loss: 1.5060 - val_accuracy: 0.6711 - val_loss: 1.2133\n",
            "Epoch 9/50\n",
            "\u001b[1m131/131\u001b[0m \u001b[32m━━━━━━━━━━━━━━━━━━━━\u001b[0m\u001b[37m\u001b[0m \u001b[1m1s\u001b[0m 4ms/step - accuracy: 0.5363 - loss: 1.4121 - val_accuracy: 0.6974 - val_loss: 1.1235\n",
            "Epoch 10/50\n",
            "\u001b[1m131/131\u001b[0m \u001b[32m━━━━━━━━━━━━━━━━━━━━\u001b[0m\u001b[37m\u001b[0m \u001b[1m1s\u001b[0m 4ms/step - accuracy: 0.5707 - loss: 1.3084 - val_accuracy: 0.7392 - val_loss: 1.0276\n",
            "Epoch 11/50\n",
            "\u001b[1m131/131\u001b[0m \u001b[32m━━━━━━━━━━━━━━━━━━━━\u001b[0m\u001b[37m\u001b[0m \u001b[1m1s\u001b[0m 5ms/step - accuracy: 0.6278 - loss: 1.1968 - val_accuracy: 0.7416 - val_loss: 0.9783\n",
            "Epoch 12/50\n",
            "\u001b[1m131/131\u001b[0m \u001b[32m━━━━━━━━━━━━━━━━━━━━\u001b[0m\u001b[37m\u001b[0m \u001b[1m1s\u001b[0m 5ms/step - accuracy: 0.6223 - loss: 1.1541 - val_accuracy: 0.7452 - val_loss: 0.9117\n",
            "Epoch 13/50\n",
            "\u001b[1m131/131\u001b[0m \u001b[32m━━━━━━━━━━━━━━━━━━━━\u001b[0m\u001b[37m\u001b[0m \u001b[1m1s\u001b[0m 4ms/step - accuracy: 0.6430 - loss: 1.0868 - val_accuracy: 0.7584 - val_loss: 0.8889\n",
            "Epoch 14/50\n",
            "\u001b[1m131/131\u001b[0m \u001b[32m━━━━━━━━━━━━━━━━━━━━\u001b[0m\u001b[37m\u001b[0m \u001b[1m1s\u001b[0m 5ms/step - accuracy: 0.6597 - loss: 1.0461 - val_accuracy: 0.7859 - val_loss: 0.8043\n",
            "Epoch 15/50\n",
            "\u001b[1m131/131\u001b[0m \u001b[32m━━━━━━━━━━━━━━━━━━━━\u001b[0m\u001b[37m\u001b[0m \u001b[1m1s\u001b[0m 4ms/step - accuracy: 0.6672 - loss: 0.9976 - val_accuracy: 0.7847 - val_loss: 0.7845\n",
            "Epoch 16/50\n",
            "\u001b[1m131/131\u001b[0m \u001b[32m━━━━━━━━━━━━━━━━━━━━\u001b[0m\u001b[37m\u001b[0m \u001b[1m1s\u001b[0m 5ms/step - accuracy: 0.6773 - loss: 0.9645 - val_accuracy: 0.7871 - val_loss: 0.7578\n",
            "Epoch 17/50\n",
            "\u001b[1m131/131\u001b[0m \u001b[32m━━━━━━━━━━━━━━━━━━━━\u001b[0m\u001b[37m\u001b[0m \u001b[1m1s\u001b[0m 4ms/step - accuracy: 0.6914 - loss: 0.9327 - val_accuracy: 0.8146 - val_loss: 0.6886\n",
            "Epoch 18/50\n",
            "\u001b[1m131/131\u001b[0m \u001b[32m━━━━━━━━━━━━━━━━━━━━\u001b[0m\u001b[37m\u001b[0m \u001b[1m1s\u001b[0m 5ms/step - accuracy: 0.7127 - loss: 0.8681 - val_accuracy: 0.7895 - val_loss: 0.7149\n",
            "Epoch 19/50\n",
            "\u001b[1m131/131\u001b[0m \u001b[32m━━━━━━━━━━━━━━━━━━━━\u001b[0m\u001b[37m\u001b[0m \u001b[1m1s\u001b[0m 5ms/step - accuracy: 0.7223 - loss: 0.8544 - val_accuracy: 0.8158 - val_loss: 0.6804\n",
            "Epoch 20/50\n",
            "\u001b[1m131/131\u001b[0m \u001b[32m━━━━━━━━━━━━━━━━━━━━\u001b[0m\u001b[37m\u001b[0m \u001b[1m2s\u001b[0m 10ms/step - accuracy: 0.7184 - loss: 0.8217 - val_accuracy: 0.8206 - val_loss: 0.6355\n",
            "Epoch 21/50\n",
            "\u001b[1m131/131\u001b[0m \u001b[32m━━━━━━━━━━━━━━━━━━━━\u001b[0m\u001b[37m\u001b[0m \u001b[1m1s\u001b[0m 7ms/step - accuracy: 0.7259 - loss: 0.8089 - val_accuracy: 0.8062 - val_loss: 0.6465\n",
            "Epoch 22/50\n",
            "\u001b[1m131/131\u001b[0m \u001b[32m━━━━━━━━━━━━━━━━━━━━\u001b[0m\u001b[37m\u001b[0m \u001b[1m1s\u001b[0m 5ms/step - accuracy: 0.7293 - loss: 0.7958 - val_accuracy: 0.8254 - val_loss: 0.6104\n",
            "Epoch 23/50\n",
            "\u001b[1m131/131\u001b[0m \u001b[32m━━━━━━━━━━━━━━━━━━━━\u001b[0m\u001b[37m\u001b[0m \u001b[1m1s\u001b[0m 4ms/step - accuracy: 0.7357 - loss: 0.7832 - val_accuracy: 0.8313 - val_loss: 0.5968\n",
            "Epoch 24/50\n",
            "\u001b[1m131/131\u001b[0m \u001b[32m━━━━━━━━━━━━━━━━━━━━\u001b[0m\u001b[37m\u001b[0m \u001b[1m1s\u001b[0m 4ms/step - accuracy: 0.7509 - loss: 0.7496 - val_accuracy: 0.8385 - val_loss: 0.5692\n",
            "Epoch 25/50\n",
            "\u001b[1m131/131\u001b[0m \u001b[32m━━━━━━━━━━━━━━━━━━━━\u001b[0m\u001b[37m\u001b[0m \u001b[1m1s\u001b[0m 5ms/step - accuracy: 0.7464 - loss: 0.7405 - val_accuracy: 0.8469 - val_loss: 0.5477\n",
            "Epoch 26/50\n",
            "\u001b[1m131/131\u001b[0m \u001b[32m━━━━━━━━━━━━━━━━━━━━\u001b[0m\u001b[37m\u001b[0m \u001b[1m1s\u001b[0m 4ms/step - accuracy: 0.7657 - loss: 0.7101 - val_accuracy: 0.8421 - val_loss: 0.5370\n",
            "Epoch 27/50\n",
            "\u001b[1m131/131\u001b[0m \u001b[32m━━━━━━━━━━━━━━━━━━━━\u001b[0m\u001b[37m\u001b[0m \u001b[1m1s\u001b[0m 5ms/step - accuracy: 0.7585 - loss: 0.7004 - val_accuracy: 0.8433 - val_loss: 0.5260\n",
            "Epoch 28/50\n",
            "\u001b[1m131/131\u001b[0m \u001b[32m━━━━━━━━━━━━━━━━━━━━\u001b[0m\u001b[37m\u001b[0m \u001b[1m1s\u001b[0m 5ms/step - accuracy: 0.7763 - loss: 0.6501 - val_accuracy: 0.8565 - val_loss: 0.5094\n",
            "Epoch 29/50\n",
            "\u001b[1m131/131\u001b[0m \u001b[32m━━━━━━━━━━━━━━━━━━━━\u001b[0m\u001b[37m\u001b[0m \u001b[1m1s\u001b[0m 4ms/step - accuracy: 0.7609 - loss: 0.6749 - val_accuracy: 0.8612 - val_loss: 0.4917\n",
            "Epoch 30/50\n",
            "\u001b[1m131/131\u001b[0m \u001b[32m━━━━━━━━━━━━━━━━━━━━\u001b[0m\u001b[37m\u001b[0m \u001b[1m1s\u001b[0m 4ms/step - accuracy: 0.7626 - loss: 0.6828 - val_accuracy: 0.8565 - val_loss: 0.4918\n",
            "Epoch 31/50\n",
            "\u001b[1m131/131\u001b[0m \u001b[32m━━━━━━━━━━━━━━━━━━━━\u001b[0m\u001b[37m\u001b[0m \u001b[1m1s\u001b[0m 4ms/step - accuracy: 0.7801 - loss: 0.6421 - val_accuracy: 0.8600 - val_loss: 0.4687\n",
            "Epoch 32/50\n",
            "\u001b[1m131/131\u001b[0m \u001b[32m━━━━━━━━━━━━━━━━━━━━\u001b[0m\u001b[37m\u001b[0m \u001b[1m1s\u001b[0m 4ms/step - accuracy: 0.7840 - loss: 0.6234 - val_accuracy: 0.8517 - val_loss: 0.4628\n",
            "Epoch 33/50\n",
            "\u001b[1m131/131\u001b[0m \u001b[32m━━━━━━━━━━━━━━━━━━━━\u001b[0m\u001b[37m\u001b[0m \u001b[1m1s\u001b[0m 4ms/step - accuracy: 0.7898 - loss: 0.6215 - val_accuracy: 0.8493 - val_loss: 0.4743\n",
            "Epoch 34/50\n",
            "\u001b[1m131/131\u001b[0m \u001b[32m━━━━━━━━━━━━━━━━━━━━\u001b[0m\u001b[37m\u001b[0m \u001b[1m1s\u001b[0m 4ms/step - accuracy: 0.7949 - loss: 0.6084 - val_accuracy: 0.8684 - val_loss: 0.4277\n",
            "Epoch 35/50\n",
            "\u001b[1m131/131\u001b[0m \u001b[32m━━━━━━━━━━━━━━━━━━━━\u001b[0m\u001b[37m\u001b[0m \u001b[1m1s\u001b[0m 4ms/step - accuracy: 0.8014 - loss: 0.5931 - val_accuracy: 0.8648 - val_loss: 0.4455\n",
            "Epoch 36/50\n",
            "\u001b[1m131/131\u001b[0m \u001b[32m━━━━━━━━━━━━━━━━━━━━\u001b[0m\u001b[37m\u001b[0m \u001b[1m1s\u001b[0m 4ms/step - accuracy: 0.7866 - loss: 0.6158 - val_accuracy: 0.8720 - val_loss: 0.4202\n",
            "Epoch 37/50\n",
            "\u001b[1m131/131\u001b[0m \u001b[32m━━━━━━━━━━━━━━━━━━━━\u001b[0m\u001b[37m\u001b[0m \u001b[1m1s\u001b[0m 6ms/step - accuracy: 0.8012 - loss: 0.5697 - val_accuracy: 0.8684 - val_loss: 0.4332\n",
            "Epoch 38/50\n",
            "\u001b[1m131/131\u001b[0m \u001b[32m━━━━━━━━━━━━━━━━━━━━\u001b[0m\u001b[37m\u001b[0m \u001b[1m1s\u001b[0m 7ms/step - accuracy: 0.8065 - loss: 0.5744 - val_accuracy: 0.8816 - val_loss: 0.4093\n",
            "Epoch 39/50\n",
            "\u001b[1m131/131\u001b[0m \u001b[32m━━━━━━━━━━━━━━━━━━━━\u001b[0m\u001b[37m\u001b[0m \u001b[1m1s\u001b[0m 7ms/step - accuracy: 0.8055 - loss: 0.5676 - val_accuracy: 0.8935 - val_loss: 0.3883\n",
            "Epoch 40/50\n",
            "\u001b[1m131/131\u001b[0m \u001b[32m━━━━━━━━━━━━━━━━━━━━\u001b[0m\u001b[37m\u001b[0m \u001b[1m1s\u001b[0m 3ms/step - accuracy: 0.8168 - loss: 0.5188 - val_accuracy: 0.8888 - val_loss: 0.3732\n",
            "Epoch 41/50\n",
            "\u001b[1m131/131\u001b[0m \u001b[32m━━━━━━━━━━━━━━━━━━━━\u001b[0m\u001b[37m\u001b[0m \u001b[1m1s\u001b[0m 4ms/step - accuracy: 0.8070 - loss: 0.5515 - val_accuracy: 0.8840 - val_loss: 0.4012\n",
            "Epoch 42/50\n",
            "\u001b[1m131/131\u001b[0m \u001b[32m━━━━━━━━━━━━━━━━━━━━\u001b[0m\u001b[37m\u001b[0m \u001b[1m1s\u001b[0m 4ms/step - accuracy: 0.7997 - loss: 0.5387 - val_accuracy: 0.8828 - val_loss: 0.3901\n",
            "Epoch 43/50\n",
            "\u001b[1m131/131\u001b[0m \u001b[32m━━━━━━━━━━━━━━━━━━━━\u001b[0m\u001b[37m\u001b[0m \u001b[1m1s\u001b[0m 4ms/step - accuracy: 0.8186 - loss: 0.5195 - val_accuracy: 0.8840 - val_loss: 0.3885\n",
            "Epoch 44/50\n",
            "\u001b[1m131/131\u001b[0m \u001b[32m━━━━━━━━━━━━━━━━━━━━\u001b[0m\u001b[37m\u001b[0m \u001b[1m1s\u001b[0m 4ms/step - accuracy: 0.8290 - loss: 0.5137 - val_accuracy: 0.8900 - val_loss: 0.3611\n",
            "Epoch 45/50\n",
            "\u001b[1m131/131\u001b[0m \u001b[32m━━━━━━━━━━━━━━━━━━━━\u001b[0m\u001b[37m\u001b[0m \u001b[1m1s\u001b[0m 4ms/step - accuracy: 0.8287 - loss: 0.4946 - val_accuracy: 0.8780 - val_loss: 0.3815\n",
            "Epoch 46/50\n",
            "\u001b[1m131/131\u001b[0m \u001b[32m━━━━━━━━━━━━━━━━━━━━\u001b[0m\u001b[37m\u001b[0m \u001b[1m1s\u001b[0m 4ms/step - accuracy: 0.8186 - loss: 0.5110 - val_accuracy: 0.9115 - val_loss: 0.3301\n",
            "Epoch 47/50\n",
            "\u001b[1m131/131\u001b[0m \u001b[32m━━━━━━━━━━━━━━━━━━━━\u001b[0m\u001b[37m\u001b[0m \u001b[1m1s\u001b[0m 4ms/step - accuracy: 0.8375 - loss: 0.4750 - val_accuracy: 0.9043 - val_loss: 0.3381\n",
            "Epoch 48/50\n",
            "\u001b[1m131/131\u001b[0m \u001b[32m━━━━━━━━━━━━━━━━━━━━\u001b[0m\u001b[37m\u001b[0m \u001b[1m1s\u001b[0m 4ms/step - accuracy: 0.8283 - loss: 0.4870 - val_accuracy: 0.8900 - val_loss: 0.3356\n",
            "Epoch 49/50\n",
            "\u001b[1m131/131\u001b[0m \u001b[32m━━━━━━━━━━━━━━━━━━━━\u001b[0m\u001b[37m\u001b[0m \u001b[1m1s\u001b[0m 4ms/step - accuracy: 0.8335 - loss: 0.4834 - val_accuracy: 0.9055 - val_loss: 0.3159\n",
            "Epoch 50/50\n",
            "\u001b[1m131/131\u001b[0m \u001b[32m━━━━━━━━━━━━━━━━━━━━\u001b[0m\u001b[37m\u001b[0m \u001b[1m1s\u001b[0m 4ms/step - accuracy: 0.8364 - loss: 0.4761 - val_accuracy: 0.8983 - val_loss: 0.3226\n",
            "\u001b[1m27/27\u001b[0m \u001b[32m━━━━━━━━━━━━━━━━━━━━\u001b[0m\u001b[37m\u001b[0m \u001b[1m0s\u001b[0m 1ms/step - accuracy: 0.9157 - loss: 0.3113 \n"
          ]
        }
      ],
      "source": [
        "model_4, history_4, loss_4, accuracy_4, duration_4 = Model(train_scaled_4, train_target, val_scaled_4, val_target, 6)"
      ]
    },
    {
      "cell_type": "markdown",
      "metadata": {
        "id": "cLTEtxj2-PUR"
      },
      "source": [
        "## Model fit With 5 Additional Parameter"
      ]
    },
    {
      "cell_type": "code",
      "execution_count": 65,
      "metadata": {
        "colab": {
          "base_uri": "https://localhost:8080/"
        },
        "id": "tEt8Elfo-QD8",
        "outputId": "8e6f8f11-f7f5-4781-aa15-9ac2b1a2c5f8"
      },
      "outputs": [
        {
          "output_type": "stream",
          "name": "stdout",
          "text": [
            "Epoch 1/50\n",
            "\u001b[1m131/131\u001b[0m \u001b[32m━━━━━━━━━━━━━━━━━━━━\u001b[0m\u001b[37m\u001b[0m \u001b[1m2s\u001b[0m 5ms/step - accuracy: 0.0218 - loss: 4.3944 - val_accuracy: 0.0885 - val_loss: 3.6285\n",
            "Epoch 2/50\n",
            "\u001b[1m131/131\u001b[0m \u001b[32m━━━━━━━━━━━━━━━━━━━━\u001b[0m\u001b[37m\u001b[0m \u001b[1m1s\u001b[0m 4ms/step - accuracy: 0.1047 - loss: 3.3980 - val_accuracy: 0.2488 - val_loss: 2.6320\n",
            "Epoch 3/50\n",
            "\u001b[1m131/131\u001b[0m \u001b[32m━━━━━━━━━━━━━━━━━━━━\u001b[0m\u001b[37m\u001b[0m \u001b[1m1s\u001b[0m 3ms/step - accuracy: 0.2197 - loss: 2.5998 - val_accuracy: 0.3577 - val_loss: 2.1436\n",
            "Epoch 4/50\n",
            "\u001b[1m131/131\u001b[0m \u001b[32m━━━━━━━━━━━━━━━━━━━━\u001b[0m\u001b[37m\u001b[0m \u001b[1m1s\u001b[0m 6ms/step - accuracy: 0.3082 - loss: 2.2082 - val_accuracy: 0.4510 - val_loss: 1.8493\n",
            "Epoch 5/50\n",
            "\u001b[1m131/131\u001b[0m \u001b[32m━━━━━━━━━━━━━━━━━━━━\u001b[0m\u001b[37m\u001b[0m \u001b[1m1s\u001b[0m 6ms/step - accuracy: 0.3769 - loss: 1.9652 - val_accuracy: 0.5203 - val_loss: 1.6400\n",
            "Epoch 6/50\n",
            "\u001b[1m131/131\u001b[0m \u001b[32m━━━━━━━━━━━━━━━━━━━━\u001b[0m\u001b[37m\u001b[0m \u001b[1m1s\u001b[0m 6ms/step - accuracy: 0.4423 - loss: 1.7829 - val_accuracy: 0.5897 - val_loss: 1.4525\n",
            "Epoch 7/50\n",
            "\u001b[1m131/131\u001b[0m \u001b[32m━━━━━━━━━━━━━━━━━━━━\u001b[0m\u001b[37m\u001b[0m \u001b[1m1s\u001b[0m 7ms/step - accuracy: 0.4867 - loss: 1.6285 - val_accuracy: 0.6304 - val_loss: 1.3153\n",
            "Epoch 8/50\n",
            "\u001b[1m131/131\u001b[0m \u001b[32m━━━━━━━━━━━━━━━━━━━━\u001b[0m\u001b[37m\u001b[0m \u001b[1m1s\u001b[0m 4ms/step - accuracy: 0.5204 - loss: 1.4911 - val_accuracy: 0.6507 - val_loss: 1.2114\n",
            "Epoch 9/50\n",
            "\u001b[1m131/131\u001b[0m \u001b[32m━━━━━━━━━━━━━━━━━━━━\u001b[0m\u001b[37m\u001b[0m \u001b[1m1s\u001b[0m 4ms/step - accuracy: 0.5544 - loss: 1.3806 - val_accuracy: 0.6866 - val_loss: 1.1086\n",
            "Epoch 10/50\n",
            "\u001b[1m131/131\u001b[0m \u001b[32m━━━━━━━━━━━━━━━━━━━━\u001b[0m\u001b[37m\u001b[0m \u001b[1m1s\u001b[0m 4ms/step - accuracy: 0.5807 - loss: 1.2924 - val_accuracy: 0.7309 - val_loss: 1.0154\n",
            "Epoch 11/50\n",
            "\u001b[1m131/131\u001b[0m \u001b[32m━━━━━━━━━━━━━━━━━━━━\u001b[0m\u001b[37m\u001b[0m \u001b[1m1s\u001b[0m 4ms/step - accuracy: 0.6084 - loss: 1.2007 - val_accuracy: 0.7512 - val_loss: 0.9401\n",
            "Epoch 12/50\n",
            "\u001b[1m131/131\u001b[0m \u001b[32m━━━━━━━━━━━━━━━━━━━━\u001b[0m\u001b[37m\u001b[0m \u001b[1m1s\u001b[0m 4ms/step - accuracy: 0.6403 - loss: 1.1194 - val_accuracy: 0.7644 - val_loss: 0.8851\n",
            "Epoch 13/50\n",
            "\u001b[1m131/131\u001b[0m \u001b[32m━━━━━━━━━━━━━━━━━━━━\u001b[0m\u001b[37m\u001b[0m \u001b[1m0s\u001b[0m 3ms/step - accuracy: 0.6469 - loss: 1.0665 - val_accuracy: 0.7739 - val_loss: 0.8421\n",
            "Epoch 14/50\n",
            "\u001b[1m131/131\u001b[0m \u001b[32m━━━━━━━━━━━━━━━━━━━━\u001b[0m\u001b[37m\u001b[0m \u001b[1m1s\u001b[0m 4ms/step - accuracy: 0.6709 - loss: 1.0135 - val_accuracy: 0.8014 - val_loss: 0.7801\n",
            "Epoch 15/50\n",
            "\u001b[1m131/131\u001b[0m \u001b[32m━━━━━━━━━━━━━━━━━━━━\u001b[0m\u001b[37m\u001b[0m \u001b[1m1s\u001b[0m 3ms/step - accuracy: 0.6839 - loss: 0.9704 - val_accuracy: 0.8002 - val_loss: 0.7482\n",
            "Epoch 16/50\n",
            "\u001b[1m131/131\u001b[0m \u001b[32m━━━━━━━━━━━━━━━━━━━━\u001b[0m\u001b[37m\u001b[0m \u001b[1m1s\u001b[0m 4ms/step - accuracy: 0.7031 - loss: 0.9319 - val_accuracy: 0.7943 - val_loss: 0.7325\n",
            "Epoch 17/50\n",
            "\u001b[1m131/131\u001b[0m \u001b[32m━━━━━━━━━━━━━━━━━━━━\u001b[0m\u001b[37m\u001b[0m \u001b[1m1s\u001b[0m 4ms/step - accuracy: 0.7040 - loss: 0.9082 - val_accuracy: 0.8182 - val_loss: 0.6889\n",
            "Epoch 18/50\n",
            "\u001b[1m131/131\u001b[0m \u001b[32m━━━━━━━━━━━━━━━━━━━━\u001b[0m\u001b[37m\u001b[0m \u001b[1m1s\u001b[0m 3ms/step - accuracy: 0.7100 - loss: 0.8900 - val_accuracy: 0.8182 - val_loss: 0.6849\n",
            "Epoch 19/50\n",
            "\u001b[1m131/131\u001b[0m \u001b[32m━━━━━━━━━━━━━━━━━━━━\u001b[0m\u001b[37m\u001b[0m \u001b[1m1s\u001b[0m 4ms/step - accuracy: 0.7229 - loss: 0.8484 - val_accuracy: 0.8337 - val_loss: 0.6471\n",
            "Epoch 20/50\n",
            "\u001b[1m131/131\u001b[0m \u001b[32m━━━━━━━━━━━━━━━━━━━━\u001b[0m\u001b[37m\u001b[0m \u001b[1m1s\u001b[0m 4ms/step - accuracy: 0.7135 - loss: 0.8274 - val_accuracy: 0.8254 - val_loss: 0.6198\n",
            "Epoch 21/50\n",
            "\u001b[1m131/131\u001b[0m \u001b[32m━━━━━━━━━━━━━━━━━━━━\u001b[0m\u001b[37m\u001b[0m \u001b[1m1s\u001b[0m 4ms/step - accuracy: 0.7337 - loss: 0.7916 - val_accuracy: 0.8278 - val_loss: 0.6027\n",
            "Epoch 22/50\n",
            "\u001b[1m131/131\u001b[0m \u001b[32m━━━━━━━━━━━━━━━━━━━━\u001b[0m\u001b[37m\u001b[0m \u001b[1m1s\u001b[0m 4ms/step - accuracy: 0.7452 - loss: 0.7749 - val_accuracy: 0.8349 - val_loss: 0.6013\n",
            "Epoch 23/50\n",
            "\u001b[1m131/131\u001b[0m \u001b[32m━━━━━━━━━━━━━━━━━━━━\u001b[0m\u001b[37m\u001b[0m \u001b[1m1s\u001b[0m 4ms/step - accuracy: 0.7608 - loss: 0.7646 - val_accuracy: 0.8301 - val_loss: 0.5982\n",
            "Epoch 24/50\n",
            "\u001b[1m131/131\u001b[0m \u001b[32m━━━━━━━━━━━━━━━━━━━━\u001b[0m\u001b[37m\u001b[0m \u001b[1m1s\u001b[0m 4ms/step - accuracy: 0.7451 - loss: 0.7457 - val_accuracy: 0.8325 - val_loss: 0.5663\n",
            "Epoch 25/50\n",
            "\u001b[1m131/131\u001b[0m \u001b[32m━━━━━━━━━━━━━━━━━━━━\u001b[0m\u001b[37m\u001b[0m \u001b[1m1s\u001b[0m 6ms/step - accuracy: 0.7553 - loss: 0.7246 - val_accuracy: 0.8337 - val_loss: 0.5539\n",
            "Epoch 26/50\n",
            "\u001b[1m131/131\u001b[0m \u001b[32m━━━━━━━━━━━━━━━━━━━━\u001b[0m\u001b[37m\u001b[0m \u001b[1m1s\u001b[0m 6ms/step - accuracy: 0.7581 - loss: 0.7059 - val_accuracy: 0.8230 - val_loss: 0.5527\n",
            "Epoch 27/50\n",
            "\u001b[1m131/131\u001b[0m \u001b[32m━━━━━━━━━━━━━━━━━━━━\u001b[0m\u001b[37m\u001b[0m \u001b[1m1s\u001b[0m 4ms/step - accuracy: 0.7611 - loss: 0.7013 - val_accuracy: 0.8337 - val_loss: 0.5429\n",
            "Epoch 28/50\n",
            "\u001b[1m131/131\u001b[0m \u001b[32m━━━━━━━━━━━━━━━━━━━━\u001b[0m\u001b[37m\u001b[0m \u001b[1m1s\u001b[0m 4ms/step - accuracy: 0.7701 - loss: 0.6883 - val_accuracy: 0.8565 - val_loss: 0.4928\n",
            "Epoch 29/50\n",
            "\u001b[1m131/131\u001b[0m \u001b[32m━━━━━━━━━━━━━━━━━━━━\u001b[0m\u001b[37m\u001b[0m \u001b[1m1s\u001b[0m 4ms/step - accuracy: 0.7724 - loss: 0.6708 - val_accuracy: 0.8565 - val_loss: 0.4958\n",
            "Epoch 30/50\n",
            "\u001b[1m131/131\u001b[0m \u001b[32m━━━━━━━━━━━━━━━━━━━━\u001b[0m\u001b[37m\u001b[0m \u001b[1m1s\u001b[0m 4ms/step - accuracy: 0.7772 - loss: 0.6387 - val_accuracy: 0.8624 - val_loss: 0.4731\n",
            "Epoch 31/50\n",
            "\u001b[1m131/131\u001b[0m \u001b[32m━━━━━━━━━━━━━━━━━━━━\u001b[0m\u001b[37m\u001b[0m \u001b[1m1s\u001b[0m 4ms/step - accuracy: 0.7936 - loss: 0.6181 - val_accuracy: 0.8600 - val_loss: 0.4800\n",
            "Epoch 32/50\n",
            "\u001b[1m131/131\u001b[0m \u001b[32m━━━━━━━━━━━━━━━━━━━━\u001b[0m\u001b[37m\u001b[0m \u001b[1m1s\u001b[0m 4ms/step - accuracy: 0.7905 - loss: 0.6318 - val_accuracy: 0.8612 - val_loss: 0.4571\n",
            "Epoch 33/50\n",
            "\u001b[1m131/131\u001b[0m \u001b[32m━━━━━━━━━━━━━━━━━━━━\u001b[0m\u001b[37m\u001b[0m \u001b[1m1s\u001b[0m 3ms/step - accuracy: 0.8026 - loss: 0.5915 - val_accuracy: 0.8469 - val_loss: 0.4663\n",
            "Epoch 34/50\n",
            "\u001b[1m131/131\u001b[0m \u001b[32m━━━━━━━━━━━━━━━━━━━━\u001b[0m\u001b[37m\u001b[0m \u001b[1m1s\u001b[0m 3ms/step - accuracy: 0.7951 - loss: 0.6013 - val_accuracy: 0.8732 - val_loss: 0.4478\n",
            "Epoch 35/50\n",
            "\u001b[1m131/131\u001b[0m \u001b[32m━━━━━━━━━━━━━━━━━━━━\u001b[0m\u001b[37m\u001b[0m \u001b[1m1s\u001b[0m 4ms/step - accuracy: 0.7992 - loss: 0.6104 - val_accuracy: 0.8612 - val_loss: 0.4486\n",
            "Epoch 36/50\n",
            "\u001b[1m131/131\u001b[0m \u001b[32m━━━━━━━━━━━━━━━━━━━━\u001b[0m\u001b[37m\u001b[0m \u001b[1m1s\u001b[0m 4ms/step - accuracy: 0.8078 - loss: 0.5757 - val_accuracy: 0.8732 - val_loss: 0.4075\n",
            "Epoch 37/50\n",
            "\u001b[1m131/131\u001b[0m \u001b[32m━━━━━━━━━━━━━━━━━━━━\u001b[0m\u001b[37m\u001b[0m \u001b[1m0s\u001b[0m 4ms/step - accuracy: 0.8095 - loss: 0.5634 - val_accuracy: 0.8804 - val_loss: 0.4064\n",
            "Epoch 38/50\n",
            "\u001b[1m131/131\u001b[0m \u001b[32m━━━━━━━━━━━━━━━━━━━━\u001b[0m\u001b[37m\u001b[0m \u001b[1m1s\u001b[0m 4ms/step - accuracy: 0.8096 - loss: 0.5525 - val_accuracy: 0.8816 - val_loss: 0.3982\n",
            "Epoch 39/50\n",
            "\u001b[1m131/131\u001b[0m \u001b[32m━━━━━━━━━━━━━━━━━━━━\u001b[0m\u001b[37m\u001b[0m \u001b[1m1s\u001b[0m 3ms/step - accuracy: 0.8206 - loss: 0.5411 - val_accuracy: 0.8840 - val_loss: 0.3821\n",
            "Epoch 40/50\n",
            "\u001b[1m131/131\u001b[0m \u001b[32m━━━━━━━━━━━━━━━━━━━━\u001b[0m\u001b[37m\u001b[0m \u001b[1m1s\u001b[0m 4ms/step - accuracy: 0.8200 - loss: 0.5433 - val_accuracy: 0.8864 - val_loss: 0.3827\n",
            "Epoch 41/50\n",
            "\u001b[1m131/131\u001b[0m \u001b[32m━━━━━━━━━━━━━━━━━━━━\u001b[0m\u001b[37m\u001b[0m \u001b[1m0s\u001b[0m 4ms/step - accuracy: 0.8216 - loss: 0.5129 - val_accuracy: 0.8828 - val_loss: 0.3835\n",
            "Epoch 42/50\n",
            "\u001b[1m131/131\u001b[0m \u001b[32m━━━━━━━━━━━━━━━━━━━━\u001b[0m\u001b[37m\u001b[0m \u001b[1m1s\u001b[0m 4ms/step - accuracy: 0.8268 - loss: 0.5159 - val_accuracy: 0.8852 - val_loss: 0.3782\n",
            "Epoch 43/50\n",
            "\u001b[1m131/131\u001b[0m \u001b[32m━━━━━━━━━━━━━━━━━━━━\u001b[0m\u001b[37m\u001b[0m \u001b[1m1s\u001b[0m 4ms/step - accuracy: 0.8189 - loss: 0.5152 - val_accuracy: 0.8876 - val_loss: 0.3651\n",
            "Epoch 44/50\n",
            "\u001b[1m131/131\u001b[0m \u001b[32m━━━━━━━━━━━━━━━━━━━━\u001b[0m\u001b[37m\u001b[0m \u001b[1m1s\u001b[0m 7ms/step - accuracy: 0.8204 - loss: 0.5166 - val_accuracy: 0.8971 - val_loss: 0.3528\n",
            "Epoch 45/50\n",
            "\u001b[1m131/131\u001b[0m \u001b[32m━━━━━━━━━━━━━━━━━━━━\u001b[0m\u001b[37m\u001b[0m \u001b[1m1s\u001b[0m 6ms/step - accuracy: 0.8221 - loss: 0.4980 - val_accuracy: 0.9019 - val_loss: 0.3432\n",
            "Epoch 46/50\n",
            "\u001b[1m131/131\u001b[0m \u001b[32m━━━━━━━━━━━━━━━━━━━━\u001b[0m\u001b[37m\u001b[0m \u001b[1m1s\u001b[0m 7ms/step - accuracy: 0.8299 - loss: 0.4834 - val_accuracy: 0.9115 - val_loss: 0.3314\n",
            "Epoch 47/50\n",
            "\u001b[1m131/131\u001b[0m \u001b[32m━━━━━━━━━━━━━━━━━━━━\u001b[0m\u001b[37m\u001b[0m \u001b[1m0s\u001b[0m 3ms/step - accuracy: 0.8299 - loss: 0.4844 - val_accuracy: 0.9007 - val_loss: 0.3392\n",
            "Epoch 48/50\n",
            "\u001b[1m131/131\u001b[0m \u001b[32m━━━━━━━━━━━━━━━━━━━━\u001b[0m\u001b[37m\u001b[0m \u001b[1m1s\u001b[0m 4ms/step - accuracy: 0.8355 - loss: 0.4806 - val_accuracy: 0.8995 - val_loss: 0.3379\n",
            "Epoch 49/50\n",
            "\u001b[1m131/131\u001b[0m \u001b[32m━━━━━━━━━━━━━━━━━━━━\u001b[0m\u001b[37m\u001b[0m \u001b[1m1s\u001b[0m 4ms/step - accuracy: 0.8280 - loss: 0.4847 - val_accuracy: 0.9151 - val_loss: 0.3168\n",
            "Epoch 50/50\n",
            "\u001b[1m131/131\u001b[0m \u001b[32m━━━━━━━━━━━━━━━━━━━━\u001b[0m\u001b[37m\u001b[0m \u001b[1m1s\u001b[0m 4ms/step - accuracy: 0.8408 - loss: 0.4699 - val_accuracy: 0.9091 - val_loss: 0.3181\n",
            "\u001b[1m27/27\u001b[0m \u001b[32m━━━━━━━━━━━━━━━━━━━━\u001b[0m\u001b[37m\u001b[0m \u001b[1m0s\u001b[0m 2ms/step - accuracy: 0.9167 - loss: 0.3094 \n"
          ]
        }
      ],
      "source": [
        "model_5, history_5, loss_5, accuracy_5, duration_5 = Model(train_scaled_5, train_target, val_scaled_5, val_target, 7)"
      ]
    },
    {
      "cell_type": "markdown",
      "metadata": {
        "id": "D6iUQubiEvnH"
      },
      "source": [
        "# **Compare Accuracies**"
      ]
    },
    {
      "cell_type": "code",
      "execution_count": 66,
      "metadata": {
        "colab": {
          "base_uri": "https://localhost:8080/"
        },
        "id": "Rr88o1pvEvgY",
        "outputId": "22c8ed3b-b568-4c13-f110-cd728b99f21e"
      },
      "outputs": [
        {
          "output_type": "stream",
          "name": "stdout",
          "text": [
            "\u001b[1m27/27\u001b[0m \u001b[32m━━━━━━━━━━━━━━━━━━━━\u001b[0m\u001b[37m\u001b[0m \u001b[1m0s\u001b[0m 2ms/step - accuracy: 0.3064 - loss: 1.9668 \n",
            "\u001b[1m27/27\u001b[0m \u001b[32m━━━━━━━━━━━━━━━━━━━━\u001b[0m\u001b[37m\u001b[0m \u001b[1m0s\u001b[0m 1ms/step - accuracy: 0.8003 - loss: 0.6358 \n",
            "\u001b[1m27/27\u001b[0m \u001b[32m━━━━━━━━━━━━━━━━━━━━\u001b[0m\u001b[37m\u001b[0m \u001b[1m0s\u001b[0m 2ms/step - accuracy: 0.8923 - loss: 0.3397 \n",
            "\u001b[1m27/27\u001b[0m \u001b[32m━━━━━━━━━━━━━━━━━━━━\u001b[0m\u001b[37m\u001b[0m \u001b[1m0s\u001b[0m 2ms/step - accuracy: 0.8866 - loss: 0.3559 \n",
            "\u001b[1m27/27\u001b[0m \u001b[32m━━━━━━━━━━━━━━━━━━━━\u001b[0m\u001b[37m\u001b[0m \u001b[1m0s\u001b[0m 1ms/step - accuracy: 0.9157 - loss: 0.3113 \n",
            "\u001b[1m27/27\u001b[0m \u001b[32m━━━━━━━━━━━━━━━━━━━━\u001b[0m\u001b[37m\u001b[0m \u001b[1m0s\u001b[0m 1ms/step - accuracy: 0.9167 - loss: 0.3094 \n"
          ]
        }
      ],
      "source": [
        "result_model0 = model_0.evaluate(val_scaled_0, val_target)\n",
        "result_model1 = model_1.evaluate(val_scaled_1, val_target)\n",
        "result_model2 = model_2.evaluate(val_scaled_2, val_target)\n",
        "result_model3 = model_3.evaluate(val_scaled_3, val_target)\n",
        "result_model4 = model_4.evaluate(val_scaled_4, val_target)\n",
        "result_model5 = model_5.evaluate(val_scaled_5, val_target)"
      ]
    },
    {
      "cell_type": "code",
      "execution_count": 71,
      "metadata": {
        "colab": {
          "base_uri": "https://localhost:8080/"
        },
        "id": "yKBwt9r6EvOc",
        "outputId": "f263a2d7-2932-4fba-e9ba-062adb1ba411"
      },
      "outputs": [
        {
          "output_type": "stream",
          "name": "stdout",
          "text": [
            "Add 0 parameter: \n",
            "Loss:  1.966920018196106\n",
            "Accuracy:  30.62 %\n",
            "Add 1 parameter: \n",
            "Loss:  0.65035080909729\n",
            "Accuracy:  79.31 %\n",
            "Add 2 parameter: \n",
            "Loss:  0.3533753454685211\n",
            "Accuracy:  88.64 %\n",
            "Add 3 parameter: \n",
            "Loss:  0.36316439509391785\n",
            "Accuracy:  88.16 %\n",
            "Add 4 parameter: \n",
            "Loss:  0.3226277530193329\n",
            "Accuracy:  89.83 %\n",
            "Add 5 parameter: \n",
            "Loss:  0.31805434823036194\n",
            "Accuracy:  90.91 %\n"
          ]
        }
      ],
      "source": [
        "print(\"Add 0 parameter: \")\n",
        "print(\"Loss: \", result_model0[0])\n",
        "print(\"Accuracy: \", np.round(result_model0[1]*100, 2), \"%\")\n",
        "\n",
        "print(\"Add 1 parameter: \")\n",
        "print(\"Loss: \", result_model1[0])\n",
        "print(\"Accuracy: \", np.round(result_model1[1]*100, 2), \"%\")\n",
        "\n",
        "print(\"Add 2 parameter: \")\n",
        "print(\"Loss: \", result_model2[0])\n",
        "print(\"Accuracy: \", np.round(result_model2[1]*100, 2), \"%\")\n",
        "\n",
        "print(\"Add 3 parameter: \")\n",
        "print(\"Loss: \", result_model3[0])\n",
        "print(\"Accuracy: \", np.round(result_model3[1]*100, 2), \"%\")\n",
        "\n",
        "print(\"Add 4 parameter: \")\n",
        "print(\"Loss: \", result_model4[0])\n",
        "print(\"Accuracy: \", np.round(result_model4[1]*100, 2), \"%\")\n",
        "\n",
        "print(\"Add 5 parameter: \")\n",
        "print(\"Loss: \", result_model5[0])\n",
        "print(\"Accuracy: \", np.round(result_model5[1]*100, 2), \"%\")"
      ]
    },
    {
      "cell_type": "markdown",
      "source": [
        "# **Compare Time Cost to Train**"
      ],
      "metadata": {
        "id": "5zzvD1jggQCJ"
      }
    },
    {
      "cell_type": "code",
      "source": [
        "print(\"Time cost for each epoch (total 50 epochs) for model with 0 additional parameter: \", np.round(duration_0/50, 2), \"seconds\")\n",
        "print(\"Time cost for each epoch (total 50 epochs) model with 1 additional parameter: \", np.round(duration_1/50, 2), \"seconds\")\n",
        "print(\"Time cost for each epoch (total 50 epochs) model with 2 additional parameter: \", np.round(duration_2/50, 2), \"seconds\")\n",
        "print(\"Time cost for each epoch (total 50 epochs) model with 3 additional parameter: \", np.round(duration_3/50, 2), \"seconds\")\n",
        "print(\"Time cost for each epoch (total 50 epochs) model with 4 additional parameter: \", np.round(duration_4/50, 2), \"seconds\")\n",
        "print(\"Time cost for each epoch (total 50 epochs) model with 5 additional parameter: \", np.round(duration_5/50, 2), \"seconds\")"
      ],
      "metadata": {
        "id": "qLIbBxeYgOwr",
        "colab": {
          "base_uri": "https://localhost:8080/"
        },
        "outputId": "0d42711e-55c7-45d5-a6ed-3868c4695103"
      },
      "execution_count": 74,
      "outputs": [
        {
          "output_type": "stream",
          "name": "stdout",
          "text": [
            "Time cost for each epoch (total 50 epochs) for model with 0 additional parameter:  0.72 seconds\n",
            "Time cost for each epoch (total 50 epochs) model with 1 additional parameter:  0.74 seconds\n",
            "Time cost for each epoch (total 50 epochs) model with 2 additional parameter:  0.68 seconds\n",
            "Time cost for each epoch (total 50 epochs) model with 3 additional parameter:  0.71 seconds\n",
            "Time cost for each epoch (total 50 epochs) model with 4 additional parameter:  0.8 seconds\n",
            "Time cost for each epoch (total 50 epochs) model with 5 additional parameter:  0.7 seconds\n"
          ]
        }
      ]
    },
    {
      "cell_type": "code",
      "source": [],
      "metadata": {
        "id": "Q0amROonvXXN"
      },
      "execution_count": 68,
      "outputs": []
    }
  ],
  "metadata": {
    "colab": {
      "provenance": []
    },
    "kernelspec": {
      "display_name": "Python 3",
      "name": "python3"
    },
    "language_info": {
      "name": "python"
    }
  },
  "nbformat": 4,
  "nbformat_minor": 0
}
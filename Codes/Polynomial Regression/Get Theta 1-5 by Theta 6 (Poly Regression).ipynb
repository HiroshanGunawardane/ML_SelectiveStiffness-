{
 "cells": [
  {
   "cell_type": "markdown",
   "id": "ef5f8cd7",
   "metadata": {},
   "source": [
    "# Import Libraries"
   ]
  },
  {
   "cell_type": "code",
   "execution_count": 1,
   "id": "9f0a92e8",
   "metadata": {},
   "outputs": [],
   "source": [
    "from tensorflow import keras\n",
    "from keras.models import Sequential\n",
    "from keras.layers import Dense, Dropout, Flatten\n",
    "from sklearn.model_selection import train_test_split\n",
    "from sklearn.linear_model import LinearRegression  \n",
    "from sklearn.metrics import r2_score, mean_squared_error, mean_absolute_error\n",
    "import numpy as np\n",
    "import pandas as pd\n",
    "import matplotlib.pyplot as plt"
   ]
  },
  {
   "cell_type": "markdown",
   "id": "b9e9bfe1",
   "metadata": {},
   "source": [
    "# Data Pre-processing"
   ]
  },
  {
   "cell_type": "markdown",
   "id": "1a7c4174",
   "metadata": {},
   "source": [
    "## Import Dataset"
   ]
  },
  {
   "cell_type": "code",
   "execution_count": 2,
   "id": "9f2fb794",
   "metadata": {},
   "outputs": [],
   "source": [
    "dt=pd.read_csv('C:/Users/Duhyeon/Desktop/UBC/UBC Research/Work_Learn/SPAs Data/Experimental Data/Interpolated_Training_Data.csv')"
   ]
  },
  {
   "cell_type": "code",
   "execution_count": 3,
   "id": "ec7807c8",
   "metadata": {},
   "outputs": [
    {
     "data": {
      "text/html": [
       "<div>\n",
       "<style scoped>\n",
       "    .dataframe tbody tr th:only-of-type {\n",
       "        vertical-align: middle;\n",
       "    }\n",
       "\n",
       "    .dataframe tbody tr th {\n",
       "        vertical-align: top;\n",
       "    }\n",
       "\n",
       "    .dataframe thead th {\n",
       "        text-align: right;\n",
       "    }\n",
       "</style>\n",
       "<table border=\"1\" class=\"dataframe\">\n",
       "  <thead>\n",
       "    <tr style=\"text-align: right;\">\n",
       "      <th></th>\n",
       "      <th>Configuration</th>\n",
       "      <th>Pressure</th>\n",
       "      <th>Theta1</th>\n",
       "      <th>Theta2</th>\n",
       "      <th>Theta3</th>\n",
       "      <th>Theta4</th>\n",
       "      <th>Theta5</th>\n",
       "      <th>Theta6</th>\n",
       "    </tr>\n",
       "  </thead>\n",
       "  <tbody>\n",
       "    <tr>\n",
       "      <th>0</th>\n",
       "      <td>DS10DS10_0_1</td>\n",
       "      <td>0.0</td>\n",
       "      <td>-14.266649</td>\n",
       "      <td>-8.307888</td>\n",
       "      <td>-5.844170</td>\n",
       "      <td>-4.538399</td>\n",
       "      <td>-3.596456</td>\n",
       "      <td>-3.205699</td>\n",
       "    </tr>\n",
       "    <tr>\n",
       "      <th>1</th>\n",
       "      <td>DS10DS10_0_1</td>\n",
       "      <td>8.5</td>\n",
       "      <td>-14.408452</td>\n",
       "      <td>-8.399550</td>\n",
       "      <td>-5.738773</td>\n",
       "      <td>-4.142236</td>\n",
       "      <td>-2.953373</td>\n",
       "      <td>-2.136300</td>\n",
       "    </tr>\n",
       "    <tr>\n",
       "      <th>2</th>\n",
       "      <td>DS10DS10_0_1</td>\n",
       "      <td>17.0</td>\n",
       "      <td>-13.957240</td>\n",
       "      <td>-7.325239</td>\n",
       "      <td>-4.092228</td>\n",
       "      <td>-2.035293</td>\n",
       "      <td>-0.421883</td>\n",
       "      <td>0.750848</td>\n",
       "    </tr>\n",
       "    <tr>\n",
       "      <th>3</th>\n",
       "      <td>DS10DS10_0_1</td>\n",
       "      <td>25.5</td>\n",
       "      <td>-13.576226</td>\n",
       "      <td>-6.441465</td>\n",
       "      <td>-2.790626</td>\n",
       "      <td>-0.286894</td>\n",
       "      <td>1.695869</td>\n",
       "      <td>3.151817</td>\n",
       "    </tr>\n",
       "    <tr>\n",
       "      <th>4</th>\n",
       "      <td>DS10DS10_0_1</td>\n",
       "      <td>34.0</td>\n",
       "      <td>-13.579100</td>\n",
       "      <td>-6.399944</td>\n",
       "      <td>-2.623292</td>\n",
       "      <td>0.035310</td>\n",
       "      <td>2.201195</td>\n",
       "      <td>3.861465</td>\n",
       "    </tr>\n",
       "  </tbody>\n",
       "</table>\n",
       "</div>"
      ],
      "text/plain": [
       "  Configuration  Pressure     Theta1    Theta2    Theta3    Theta4    Theta5  \\\n",
       "0  DS10DS10_0_1       0.0 -14.266649 -8.307888 -5.844170 -4.538399 -3.596456   \n",
       "1  DS10DS10_0_1       8.5 -14.408452 -8.399550 -5.738773 -4.142236 -2.953373   \n",
       "2  DS10DS10_0_1      17.0 -13.957240 -7.325239 -4.092228 -2.035293 -0.421883   \n",
       "3  DS10DS10_0_1      25.5 -13.576226 -6.441465 -2.790626 -0.286894  1.695869   \n",
       "4  DS10DS10_0_1      34.0 -13.579100 -6.399944 -2.623292  0.035310  2.201195   \n",
       "\n",
       "     Theta6  \n",
       "0 -3.205699  \n",
       "1 -2.136300  \n",
       "2  0.750848  \n",
       "3  3.151817  \n",
       "4  3.861465  "
      ]
     },
     "execution_count": 3,
     "metadata": {},
     "output_type": "execute_result"
    }
   ],
   "source": [
    "dt.head()"
   ]
  },
  {
   "cell_type": "code",
   "execution_count": 4,
   "id": "7e5438ab",
   "metadata": {},
   "outputs": [
    {
     "data": {
      "text/html": [
       "<div>\n",
       "<style scoped>\n",
       "    .dataframe tbody tr th:only-of-type {\n",
       "        vertical-align: middle;\n",
       "    }\n",
       "\n",
       "    .dataframe tbody tr th {\n",
       "        vertical-align: top;\n",
       "    }\n",
       "\n",
       "    .dataframe thead th {\n",
       "        text-align: right;\n",
       "    }\n",
       "</style>\n",
       "<table border=\"1\" class=\"dataframe\">\n",
       "  <thead>\n",
       "    <tr style=\"text-align: right;\">\n",
       "      <th></th>\n",
       "      <th>Configuration</th>\n",
       "      <th>Pressure</th>\n",
       "      <th>Theta1</th>\n",
       "      <th>Theta2</th>\n",
       "      <th>Theta3</th>\n",
       "      <th>Theta4</th>\n",
       "      <th>Theta5</th>\n",
       "      <th>Theta6</th>\n",
       "    </tr>\n",
       "  </thead>\n",
       "  <tbody>\n",
       "    <tr>\n",
       "      <th>0</th>\n",
       "      <td>DS10DS10_0_1</td>\n",
       "      <td>0.0</td>\n",
       "      <td>-14.266649</td>\n",
       "      <td>-8.307888</td>\n",
       "      <td>-5.844170</td>\n",
       "      <td>-4.538399</td>\n",
       "      <td>-3.596456</td>\n",
       "      <td>-3.205699</td>\n",
       "    </tr>\n",
       "    <tr>\n",
       "      <th>1</th>\n",
       "      <td>DS10DS10_0_1</td>\n",
       "      <td>8.5</td>\n",
       "      <td>-14.408452</td>\n",
       "      <td>-8.399550</td>\n",
       "      <td>-5.738773</td>\n",
       "      <td>-4.142236</td>\n",
       "      <td>-2.953373</td>\n",
       "      <td>-2.136300</td>\n",
       "    </tr>\n",
       "    <tr>\n",
       "      <th>2</th>\n",
       "      <td>DS10DS10_0_1</td>\n",
       "      <td>17.0</td>\n",
       "      <td>-13.957240</td>\n",
       "      <td>-7.325239</td>\n",
       "      <td>-4.092228</td>\n",
       "      <td>-2.035293</td>\n",
       "      <td>-0.421883</td>\n",
       "      <td>0.750848</td>\n",
       "    </tr>\n",
       "    <tr>\n",
       "      <th>3</th>\n",
       "      <td>DS10DS10_0_1</td>\n",
       "      <td>25.5</td>\n",
       "      <td>-13.576226</td>\n",
       "      <td>-6.441465</td>\n",
       "      <td>-2.790626</td>\n",
       "      <td>-0.286894</td>\n",
       "      <td>1.695869</td>\n",
       "      <td>3.151817</td>\n",
       "    </tr>\n",
       "    <tr>\n",
       "      <th>4</th>\n",
       "      <td>DS10DS10_0_1</td>\n",
       "      <td>34.0</td>\n",
       "      <td>-13.579100</td>\n",
       "      <td>-6.399944</td>\n",
       "      <td>-2.623292</td>\n",
       "      <td>0.035310</td>\n",
       "      <td>2.201195</td>\n",
       "      <td>3.861465</td>\n",
       "    </tr>\n",
       "    <tr>\n",
       "      <th>...</th>\n",
       "      <td>...</td>\n",
       "      <td>...</td>\n",
       "      <td>...</td>\n",
       "      <td>...</td>\n",
       "      <td>...</td>\n",
       "      <td>...</td>\n",
       "      <td>...</td>\n",
       "      <td>...</td>\n",
       "    </tr>\n",
       "    <tr>\n",
       "      <th>4177</th>\n",
       "      <td>E30E30_3_6</td>\n",
       "      <td>306.0</td>\n",
       "      <td>-15.068790</td>\n",
       "      <td>-9.740283</td>\n",
       "      <td>-6.932789</td>\n",
       "      <td>-5.844170</td>\n",
       "      <td>-5.786874</td>\n",
       "      <td>-6.119189</td>\n",
       "    </tr>\n",
       "    <tr>\n",
       "      <th>4178</th>\n",
       "      <td>E30E30_3_6</td>\n",
       "      <td>314.5</td>\n",
       "      <td>-15.068790</td>\n",
       "      <td>-9.740283</td>\n",
       "      <td>-6.932789</td>\n",
       "      <td>-5.892871</td>\n",
       "      <td>-5.844170</td>\n",
       "      <td>-6.179350</td>\n",
       "    </tr>\n",
       "    <tr>\n",
       "      <th>4179</th>\n",
       "      <td>E30E30_3_6</td>\n",
       "      <td>323.0</td>\n",
       "      <td>-15.126086</td>\n",
       "      <td>-9.740283</td>\n",
       "      <td>-6.932789</td>\n",
       "      <td>-5.901465</td>\n",
       "      <td>-5.844170</td>\n",
       "      <td>-6.296806</td>\n",
       "    </tr>\n",
       "    <tr>\n",
       "      <th>4180</th>\n",
       "      <td>E30E30_3_6</td>\n",
       "      <td>331.5</td>\n",
       "      <td>-15.068790</td>\n",
       "      <td>-9.740283</td>\n",
       "      <td>-6.932789</td>\n",
       "      <td>-5.844170</td>\n",
       "      <td>-5.789739</td>\n",
       "      <td>-6.356967</td>\n",
       "    </tr>\n",
       "    <tr>\n",
       "      <th>4181</th>\n",
       "      <td>E30E30_3_6</td>\n",
       "      <td>340.0</td>\n",
       "      <td>-15.126086</td>\n",
       "      <td>-9.740283</td>\n",
       "      <td>-6.932789</td>\n",
       "      <td>-5.844170</td>\n",
       "      <td>-5.786874</td>\n",
       "      <td>-6.187944</td>\n",
       "    </tr>\n",
       "  </tbody>\n",
       "</table>\n",
       "<p>4182 rows × 8 columns</p>\n",
       "</div>"
      ],
      "text/plain": [
       "     Configuration  Pressure     Theta1    Theta2    Theta3    Theta4  \\\n",
       "0     DS10DS10_0_1       0.0 -14.266649 -8.307888 -5.844170 -4.538399   \n",
       "1     DS10DS10_0_1       8.5 -14.408452 -8.399550 -5.738773 -4.142236   \n",
       "2     DS10DS10_0_1      17.0 -13.957240 -7.325239 -4.092228 -2.035293   \n",
       "3     DS10DS10_0_1      25.5 -13.576226 -6.441465 -2.790626 -0.286894   \n",
       "4     DS10DS10_0_1      34.0 -13.579100 -6.399944 -2.623292  0.035310   \n",
       "...            ...       ...        ...       ...       ...       ...   \n",
       "4177    E30E30_3_6     306.0 -15.068790 -9.740283 -6.932789 -5.844170   \n",
       "4178    E30E30_3_6     314.5 -15.068790 -9.740283 -6.932789 -5.892871   \n",
       "4179    E30E30_3_6     323.0 -15.126086 -9.740283 -6.932789 -5.901465   \n",
       "4180    E30E30_3_6     331.5 -15.068790 -9.740283 -6.932789 -5.844170   \n",
       "4181    E30E30_3_6     340.0 -15.126086 -9.740283 -6.932789 -5.844170   \n",
       "\n",
       "        Theta5    Theta6  \n",
       "0    -3.596456 -3.205699  \n",
       "1    -2.953373 -2.136300  \n",
       "2    -0.421883  0.750848  \n",
       "3     1.695869  3.151817  \n",
       "4     2.201195  3.861465  \n",
       "...        ...       ...  \n",
       "4177 -5.786874 -6.119189  \n",
       "4178 -5.844170 -6.179350  \n",
       "4179 -5.844170 -6.296806  \n",
       "4180 -5.789739 -6.356967  \n",
       "4181 -5.786874 -6.187944  \n",
       "\n",
       "[4182 rows x 8 columns]"
      ]
     },
     "execution_count": 4,
     "metadata": {},
     "output_type": "execute_result"
    }
   ],
   "source": [
    "dt"
   ]
  },
  {
   "cell_type": "code",
   "execution_count": 5,
   "id": "50997864",
   "metadata": {},
   "outputs": [
    {
     "name": "stderr",
     "output_type": "stream",
     "text": [
      "C:\\Users\\Duhyeon\\AppData\\Local\\Temp\\ipykernel_11848\\1397589372.py:3: FutureWarning: The frame.append method is deprecated and will be removed from pandas in a future version. Use pandas.concat instead.\n",
      "  dt_new = dt.append(dt, ignore_index=True)\n"
     ]
    }
   ],
   "source": [
    "# Expand dataset to separate train & data set\n",
    "for i in range(5):\n",
    "    dt_new = dt.append(dt, ignore_index=True)"
   ]
  },
  {
   "cell_type": "markdown",
   "id": "938b4a7b",
   "metadata": {},
   "source": [
    "## Divide Dataset into Data and Target Sets"
   ]
  },
  {
   "cell_type": "code",
   "execution_count": 6,
   "id": "7ea68498",
   "metadata": {},
   "outputs": [],
   "source": [
    "# Dividing Data and Target set\n",
    "data = dt_new[['Pressure', 'Theta6']].to_numpy() \n",
    "# target = dt_new[dt_new.columns[2:6]].to_numpy()\n",
    "\n",
    "target_theta1 = dt_new[['Theta1']].to_numpy() \n",
    "target_theta2 = dt_new[['Theta2']].to_numpy()\n",
    "target_theta3 = dt_new[['Theta3']].to_numpy()\n",
    "target_theta4 = dt_new[['Theta4']].to_numpy()\n",
    "target_theta5 = dt_new[['Theta5']].to_numpy()"
   ]
  },
  {
   "cell_type": "code",
   "execution_count": 7,
   "id": "ebb8042d",
   "metadata": {},
   "outputs": [
    {
     "data": {
      "text/plain": [
       "(8364, 2)"
      ]
     },
     "execution_count": 7,
     "metadata": {},
     "output_type": "execute_result"
    }
   ],
   "source": [
    "np.shape(data)"
   ]
  },
  {
   "cell_type": "code",
   "execution_count": 8,
   "id": "22fcf208",
   "metadata": {},
   "outputs": [],
   "source": [
    "# Split train and Validation Set\n",
    "\n",
    "# Theta 1\n",
    "train_theta1, val_theta1, train_target_theta1, val_target_theta1 = train_test_split(\n",
    "    data, target_theta1, test_size=0.2, random_state=42\n",
    ")\n",
    "\n",
    "# Theta 2\n",
    "train_theta2, val_theta2, train_target_theta2, val_target_theta2 = train_test_split(\n",
    "    data, target_theta2, test_size=0.2, random_state=42\n",
    ")\n",
    "\n",
    "# Theta 3\n",
    "train_theta3, val_theta3, train_target_theta3, val_target_theta3 = train_test_split(\n",
    "    data, target_theta3, test_size=0.2, random_state=42\n",
    ")\n",
    "\n",
    "# Theta 4\n",
    "train_theta4, val_theta4, train_target_theta4, val_target_theta4 = train_test_split(\n",
    "    data, target_theta4, test_size=0.2, random_state=42\n",
    ")\n",
    "\n",
    "# Theta 5\n",
    "train_theta5, val_theta5, train_target_theta5, val_target_theta5 = train_test_split(\n",
    "    data, target_theta5, test_size=0.2, random_state=42\n",
    ")"
   ]
  },
  {
   "cell_type": "markdown",
   "id": "95c33ca0",
   "metadata": {},
   "source": [
    "# Create Polynomial Regression Model"
   ]
  },
  {
   "cell_type": "code",
   "execution_count": 9,
   "id": "2b1d5e77",
   "metadata": {},
   "outputs": [],
   "source": [
    "# Fitting the Polynomial regression to the dataset  \n",
    "\n",
    "from sklearn.preprocessing import PolynomialFeatures  \n",
    "\n",
    "poly = PolynomialFeatures(degree= 4)\n",
    "\n",
    "poly.fit(data)\n",
    "\n",
    "# Theta 1\n",
    "train_theta1_poly = poly.transform(train_theta1)\n",
    "val_theta1_poly = poly.transform(val_theta1)\n",
    "\n",
    "# Theta 2\n",
    "train_theta2_poly = poly.fit_transform(train_theta2)\n",
    "val_theta2_poly = poly.transform(val_theta2)\n",
    "\n",
    "# Theta 3\n",
    "train_theta3_poly = poly.fit_transform(train_theta3)\n",
    "val_theta3_poly = poly.transform(val_theta3)\n",
    "\n",
    "# Theta 4\n",
    "train_theta4_poly = poly.fit_transform(train_theta4)\n",
    "val_theta4_poly = poly.transform(val_theta4)\n",
    "\n",
    "# Theta 5\n",
    "train_theta5_poly = poly.fit_transform(train_theta5)\n",
    "val_theta5_poly = poly.transform(val_theta5)"
   ]
  },
  {
   "cell_type": "code",
   "execution_count": 10,
   "id": "0bee3e46",
   "metadata": {},
   "outputs": [
    {
     "data": {
      "text/plain": [
       "LinearRegression()"
      ]
     },
     "execution_count": 10,
     "metadata": {},
     "output_type": "execute_result"
    }
   ],
   "source": [
    "# Linear Regression\n",
    "\n",
    "# Theta 1\n",
    "lr1 = LinearRegression()\n",
    "lr1.fit(train_theta1_poly, train_target_theta1)\n",
    "\n",
    "# Theta 2\n",
    "lr2 = LinearRegression()\n",
    "lr2.fit(train_theta2_poly, train_target_theta2)\n",
    "\n",
    "# Theta 3\n",
    "lr3 = LinearRegression()\n",
    "lr3.fit(train_theta3_poly, train_target_theta3)\n",
    "\n",
    "# Theta 4\n",
    "lr4 = LinearRegression()\n",
    "lr4.fit(train_theta4_poly, train_target_theta4)\n",
    "\n",
    "# Theta 5\n",
    "lr5 = LinearRegression()\n",
    "lr5.fit(train_theta5_poly, train_target_theta5)"
   ]
  },
  {
   "cell_type": "markdown",
   "id": "42196af4",
   "metadata": {},
   "source": [
    "## Polynomial Regression Model Equations"
   ]
  },
  {
   "cell_type": "code",
   "execution_count": 11,
   "id": "8de5ffd4",
   "metadata": {
    "scrolled": true
   },
   "outputs": [
    {
     "name": "stdout",
     "output_type": "stream",
     "text": [
      "Theta 1\n",
      "Coefficients: [[ 0.00000000e+00  6.20536738e-03  3.49366232e-01 -5.67661453e-05\n",
      "  -2.74436309e-03  8.09869406e-04  3.20406925e-07  1.10377036e-05\n",
      "  -1.66196984e-05 -1.29314068e-05 -5.31505037e-10 -1.49199448e-08\n",
      "   2.41472145e-08  3.43186838e-08  6.46304710e-07]]\n",
      "Intercept: [-15.52856512]\n",
      "\n",
      "Theta 2\n",
      "Coefficients: [[ 0.00000000e+00  1.02186604e-02  4.40175871e-01 -7.90343429e-05\n",
      "  -1.83236436e-03  5.46473347e-04  3.37127051e-07  7.68803588e-06\n",
      "  -1.35826680e-05 -2.69248632e-05 -5.09813757e-10 -1.10199154e-08\n",
      "   2.15824538e-08  7.34802819e-08  4.30416656e-07]]\n",
      "Intercept: [-8.63749564]\n",
      "\n",
      "Theta 3\n",
      "Coefficients: [[ 0.00000000e+00  1.77084493e-02  5.27951017e-01 -7.62825665e-05\n",
      "  -1.10830534e-03 -2.37143540e-03  1.15950561e-07  4.56636430e-06\n",
      "   7.02208766e-06  5.50050849e-06 -2.55843980e-11 -6.13734022e-09\n",
      "  -1.47443700e-08 -1.74755704e-08  3.36675174e-07]]\n",
      "Intercept: [-5.16431811]\n",
      "\n",
      "Theta 4\n",
      "Coefficients: [[ 0.00000000e+00  1.61227423e-02  6.30200575e-01 -4.76267136e-05\n",
      "  -2.99081536e-04 -2.56207701e-03 -2.51530661e-08  1.18541632e-06\n",
      "   9.53558571e-06  8.22800183e-06  1.81341875e-10 -1.60270491e-09\n",
      "  -1.79512021e-08 -1.57865308e-08  2.26675941e-07]]\n",
      "Intercept: [-3.10465689]\n",
      "\n",
      "Theta 5\n",
      "Coefficients: [[ 0.00000000e+00  5.37397827e-03  7.74755713e-01  3.83217638e-06\n",
      "   1.90305576e-04 -2.70203470e-03 -1.62418789e-07 -5.61274292e-07\n",
      "   1.55310327e-05  6.53218446e-06  3.46219369e-10  4.02494830e-10\n",
      "  -3.02660753e-08  2.60760740e-09  3.23661880e-07]]\n",
      "Intercept: [-1.44282069]\n",
      "\n"
     ]
    }
   ],
   "source": [
    "print(\"Theta 1\")\n",
    "print(f\"Coefficients: {lr1.coef_}\")\n",
    "print(f\"Intercept: {lr1.intercept_}\")\n",
    "print(\"\")\n",
    "print(\"Theta 2\")\n",
    "print(f\"Coefficients: {lr2.coef_}\")\n",
    "print(f\"Intercept: {lr2.intercept_}\")\n",
    "print(\"\")\n",
    "print(\"Theta 3\")\n",
    "print(f\"Coefficients: {lr3.coef_}\")\n",
    "print(f\"Intercept: {lr3.intercept_}\")\n",
    "print(\"\")\n",
    "print(\"Theta 4\")\n",
    "print(f\"Coefficients: {lr4.coef_}\")\n",
    "print(f\"Intercept: {lr4.intercept_}\")\n",
    "print(\"\")\n",
    "print(\"Theta 5\")\n",
    "print(f\"Coefficients: {lr5.coef_}\")\n",
    "print(f\"Intercept: {lr5.intercept_}\")\n",
    "print(\"\")"
   ]
  },
  {
   "cell_type": "code",
   "execution_count": 12,
   "id": "955bdffd",
   "metadata": {},
   "outputs": [],
   "source": [
    "# Making predictions with polynomial model\n",
    "\n",
    "train_pred_theta1 = lr1.predict(train_theta1_poly)\n",
    "train_pred_theta2 = lr2.predict(train_theta2_poly)\n",
    "train_pred_theta3 = lr3.predict(train_theta3_poly)\n",
    "train_pred_theta4 = lr4.predict(train_theta4_poly)\n",
    "train_pred_theta5 = lr5.predict(train_theta5_poly)"
   ]
  },
  {
   "cell_type": "code",
   "execution_count": 13,
   "id": "9caef196",
   "metadata": {},
   "outputs": [],
   "source": [
    "# Making predictions with polynomial model\n",
    "\n",
    "val_pred_theta1 = lr1.predict(val_theta1_poly)\n",
    "val_pred_theta2 = lr2.predict(val_theta2_poly)\n",
    "val_pred_theta3 = lr3.predict(val_theta3_poly)\n",
    "val_pred_theta4 = lr4.predict(val_theta4_poly)\n",
    "val_pred_theta5 = lr5.predict(val_theta5_poly)"
   ]
  },
  {
   "cell_type": "markdown",
   "id": "c42015a2",
   "metadata": {},
   "source": [
    "# Evaluate the Polynomial Regression Model"
   ]
  },
  {
   "cell_type": "markdown",
   "id": "518b6055",
   "metadata": {},
   "source": [
    "## R^2 value"
   ]
  },
  {
   "cell_type": "code",
   "execution_count": 14,
   "id": "47111216",
   "metadata": {
    "scrolled": false
   },
   "outputs": [
    {
     "name": "stdout",
     "output_type": "stream",
     "text": [
      "Train Score for Theta 1:  0.802063892778103\n"
     ]
    },
    {
     "ename": "ValueError",
     "evalue": "X has 1 features, but LinearRegression is expecting 15 features as input.",
     "output_type": "error",
     "traceback": [
      "\u001b[1;31m---------------------------------------------------------------------------\u001b[0m",
      "\u001b[1;31mValueError\u001b[0m                                Traceback (most recent call last)",
      "\u001b[1;32m~\\AppData\\Local\\Temp\\ipykernel_11848\\1465558372.py\u001b[0m in \u001b[0;36m<module>\u001b[1;34m\u001b[0m\n\u001b[0;32m      1\u001b[0m \u001b[0mprint\u001b[0m\u001b[1;33m(\u001b[0m\u001b[1;34m\"Train Score for Theta 1: \"\u001b[0m\u001b[1;33m,\u001b[0m\u001b[0mlr1\u001b[0m\u001b[1;33m.\u001b[0m\u001b[0mscore\u001b[0m\u001b[1;33m(\u001b[0m\u001b[0mtrain_theta1_poly\u001b[0m\u001b[1;33m,\u001b[0m \u001b[0mtrain_target_theta1\u001b[0m\u001b[1;33m)\u001b[0m\u001b[1;33m)\u001b[0m\u001b[1;33m\u001b[0m\u001b[1;33m\u001b[0m\u001b[0m\n\u001b[1;32m----> 2\u001b[1;33m \u001b[0mprint\u001b[0m\u001b[1;33m(\u001b[0m\u001b[1;34m\"Validation Score for Theta 1: \"\u001b[0m\u001b[1;33m,\u001b[0m \u001b[0mlr1\u001b[0m\u001b[1;33m.\u001b[0m\u001b[0mscore\u001b[0m\u001b[1;33m(\u001b[0m\u001b[0mval_pred_theta1\u001b[0m\u001b[1;33m,\u001b[0m \u001b[0mval_target_theta1\u001b[0m\u001b[1;33m)\u001b[0m\u001b[1;33m)\u001b[0m\u001b[1;33m\u001b[0m\u001b[1;33m\u001b[0m\u001b[0m\n\u001b[0m\u001b[0;32m      3\u001b[0m \u001b[0mprint\u001b[0m\u001b[1;33m(\u001b[0m\u001b[1;34m\"\"\u001b[0m\u001b[1;33m)\u001b[0m\u001b[1;33m\u001b[0m\u001b[1;33m\u001b[0m\u001b[0m\n\u001b[0;32m      4\u001b[0m \u001b[1;33m\u001b[0m\u001b[0m\n\u001b[0;32m      5\u001b[0m \u001b[0mprint\u001b[0m\u001b[1;33m(\u001b[0m\u001b[1;34m\"Train Score for Theta 2: \"\u001b[0m\u001b[1;33m,\u001b[0m\u001b[0mlr2\u001b[0m\u001b[1;33m.\u001b[0m\u001b[0mscore\u001b[0m\u001b[1;33m(\u001b[0m\u001b[0mtrain_theta2_poly\u001b[0m\u001b[1;33m,\u001b[0m \u001b[0mtrain_target_theta2\u001b[0m\u001b[1;33m)\u001b[0m\u001b[1;33m)\u001b[0m\u001b[1;33m\u001b[0m\u001b[1;33m\u001b[0m\u001b[0m\n",
      "\u001b[1;32m~\\anaconda3\\lib\\site-packages\\sklearn\\base.py\u001b[0m in \u001b[0;36mscore\u001b[1;34m(self, X, y, sample_weight)\u001b[0m\n\u001b[0;32m    703\u001b[0m         \u001b[1;32mfrom\u001b[0m \u001b[1;33m.\u001b[0m\u001b[0mmetrics\u001b[0m \u001b[1;32mimport\u001b[0m \u001b[0mr2_score\u001b[0m\u001b[1;33m\u001b[0m\u001b[1;33m\u001b[0m\u001b[0m\n\u001b[0;32m    704\u001b[0m \u001b[1;33m\u001b[0m\u001b[0m\n\u001b[1;32m--> 705\u001b[1;33m         \u001b[0my_pred\u001b[0m \u001b[1;33m=\u001b[0m \u001b[0mself\u001b[0m\u001b[1;33m.\u001b[0m\u001b[0mpredict\u001b[0m\u001b[1;33m(\u001b[0m\u001b[0mX\u001b[0m\u001b[1;33m)\u001b[0m\u001b[1;33m\u001b[0m\u001b[1;33m\u001b[0m\u001b[0m\n\u001b[0m\u001b[0;32m    706\u001b[0m         \u001b[1;32mreturn\u001b[0m \u001b[0mr2_score\u001b[0m\u001b[1;33m(\u001b[0m\u001b[0my\u001b[0m\u001b[1;33m,\u001b[0m \u001b[0my_pred\u001b[0m\u001b[1;33m,\u001b[0m \u001b[0msample_weight\u001b[0m\u001b[1;33m=\u001b[0m\u001b[0msample_weight\u001b[0m\u001b[1;33m)\u001b[0m\u001b[1;33m\u001b[0m\u001b[1;33m\u001b[0m\u001b[0m\n\u001b[0;32m    707\u001b[0m \u001b[1;33m\u001b[0m\u001b[0m\n",
      "\u001b[1;32m~\\anaconda3\\lib\\site-packages\\sklearn\\linear_model\\_base.py\u001b[0m in \u001b[0;36mpredict\u001b[1;34m(self, X)\u001b[0m\n\u001b[0;32m    360\u001b[0m             \u001b[0mReturns\u001b[0m \u001b[0mpredicted\u001b[0m \u001b[0mvalues\u001b[0m\u001b[1;33m.\u001b[0m\u001b[1;33m\u001b[0m\u001b[1;33m\u001b[0m\u001b[0m\n\u001b[0;32m    361\u001b[0m         \"\"\"\n\u001b[1;32m--> 362\u001b[1;33m         \u001b[1;32mreturn\u001b[0m \u001b[0mself\u001b[0m\u001b[1;33m.\u001b[0m\u001b[0m_decision_function\u001b[0m\u001b[1;33m(\u001b[0m\u001b[0mX\u001b[0m\u001b[1;33m)\u001b[0m\u001b[1;33m\u001b[0m\u001b[1;33m\u001b[0m\u001b[0m\n\u001b[0m\u001b[0;32m    363\u001b[0m \u001b[1;33m\u001b[0m\u001b[0m\n\u001b[0;32m    364\u001b[0m     \u001b[0m_preprocess_data\u001b[0m \u001b[1;33m=\u001b[0m \u001b[0mstaticmethod\u001b[0m\u001b[1;33m(\u001b[0m\u001b[0m_preprocess_data\u001b[0m\u001b[1;33m)\u001b[0m\u001b[1;33m\u001b[0m\u001b[1;33m\u001b[0m\u001b[0m\n",
      "\u001b[1;32m~\\anaconda3\\lib\\site-packages\\sklearn\\linear_model\\_base.py\u001b[0m in \u001b[0;36m_decision_function\u001b[1;34m(self, X)\u001b[0m\n\u001b[0;32m    343\u001b[0m         \u001b[0mcheck_is_fitted\u001b[0m\u001b[1;33m(\u001b[0m\u001b[0mself\u001b[0m\u001b[1;33m)\u001b[0m\u001b[1;33m\u001b[0m\u001b[1;33m\u001b[0m\u001b[0m\n\u001b[0;32m    344\u001b[0m \u001b[1;33m\u001b[0m\u001b[0m\n\u001b[1;32m--> 345\u001b[1;33m         \u001b[0mX\u001b[0m \u001b[1;33m=\u001b[0m \u001b[0mself\u001b[0m\u001b[1;33m.\u001b[0m\u001b[0m_validate_data\u001b[0m\u001b[1;33m(\u001b[0m\u001b[0mX\u001b[0m\u001b[1;33m,\u001b[0m \u001b[0maccept_sparse\u001b[0m\u001b[1;33m=\u001b[0m\u001b[1;33m[\u001b[0m\u001b[1;34m\"csr\"\u001b[0m\u001b[1;33m,\u001b[0m \u001b[1;34m\"csc\"\u001b[0m\u001b[1;33m,\u001b[0m \u001b[1;34m\"coo\"\u001b[0m\u001b[1;33m]\u001b[0m\u001b[1;33m,\u001b[0m \u001b[0mreset\u001b[0m\u001b[1;33m=\u001b[0m\u001b[1;32mFalse\u001b[0m\u001b[1;33m)\u001b[0m\u001b[1;33m\u001b[0m\u001b[1;33m\u001b[0m\u001b[0m\n\u001b[0m\u001b[0;32m    346\u001b[0m         \u001b[1;32mreturn\u001b[0m \u001b[0msafe_sparse_dot\u001b[0m\u001b[1;33m(\u001b[0m\u001b[0mX\u001b[0m\u001b[1;33m,\u001b[0m \u001b[0mself\u001b[0m\u001b[1;33m.\u001b[0m\u001b[0mcoef_\u001b[0m\u001b[1;33m.\u001b[0m\u001b[0mT\u001b[0m\u001b[1;33m,\u001b[0m \u001b[0mdense_output\u001b[0m\u001b[1;33m=\u001b[0m\u001b[1;32mTrue\u001b[0m\u001b[1;33m)\u001b[0m \u001b[1;33m+\u001b[0m \u001b[0mself\u001b[0m\u001b[1;33m.\u001b[0m\u001b[0mintercept_\u001b[0m\u001b[1;33m\u001b[0m\u001b[1;33m\u001b[0m\u001b[0m\n\u001b[0;32m    347\u001b[0m \u001b[1;33m\u001b[0m\u001b[0m\n",
      "\u001b[1;32m~\\anaconda3\\lib\\site-packages\\sklearn\\base.py\u001b[0m in \u001b[0;36m_validate_data\u001b[1;34m(self, X, y, reset, validate_separately, **check_params)\u001b[0m\n\u001b[0;32m    583\u001b[0m \u001b[1;33m\u001b[0m\u001b[0m\n\u001b[0;32m    584\u001b[0m         \u001b[1;32mif\u001b[0m \u001b[1;32mnot\u001b[0m \u001b[0mno_val_X\u001b[0m \u001b[1;32mand\u001b[0m \u001b[0mcheck_params\u001b[0m\u001b[1;33m.\u001b[0m\u001b[0mget\u001b[0m\u001b[1;33m(\u001b[0m\u001b[1;34m\"ensure_2d\"\u001b[0m\u001b[1;33m,\u001b[0m \u001b[1;32mTrue\u001b[0m\u001b[1;33m)\u001b[0m\u001b[1;33m:\u001b[0m\u001b[1;33m\u001b[0m\u001b[1;33m\u001b[0m\u001b[0m\n\u001b[1;32m--> 585\u001b[1;33m             \u001b[0mself\u001b[0m\u001b[1;33m.\u001b[0m\u001b[0m_check_n_features\u001b[0m\u001b[1;33m(\u001b[0m\u001b[0mX\u001b[0m\u001b[1;33m,\u001b[0m \u001b[0mreset\u001b[0m\u001b[1;33m=\u001b[0m\u001b[0mreset\u001b[0m\u001b[1;33m)\u001b[0m\u001b[1;33m\u001b[0m\u001b[1;33m\u001b[0m\u001b[0m\n\u001b[0m\u001b[0;32m    586\u001b[0m \u001b[1;33m\u001b[0m\u001b[0m\n\u001b[0;32m    587\u001b[0m         \u001b[1;32mreturn\u001b[0m \u001b[0mout\u001b[0m\u001b[1;33m\u001b[0m\u001b[1;33m\u001b[0m\u001b[0m\n",
      "\u001b[1;32m~\\anaconda3\\lib\\site-packages\\sklearn\\base.py\u001b[0m in \u001b[0;36m_check_n_features\u001b[1;34m(self, X, reset)\u001b[0m\n\u001b[0;32m    398\u001b[0m \u001b[1;33m\u001b[0m\u001b[0m\n\u001b[0;32m    399\u001b[0m         \u001b[1;32mif\u001b[0m \u001b[0mn_features\u001b[0m \u001b[1;33m!=\u001b[0m \u001b[0mself\u001b[0m\u001b[1;33m.\u001b[0m\u001b[0mn_features_in_\u001b[0m\u001b[1;33m:\u001b[0m\u001b[1;33m\u001b[0m\u001b[1;33m\u001b[0m\u001b[0m\n\u001b[1;32m--> 400\u001b[1;33m             raise ValueError(\n\u001b[0m\u001b[0;32m    401\u001b[0m                 \u001b[1;34mf\"X has {n_features} features, but {self.__class__.__name__} \"\u001b[0m\u001b[1;33m\u001b[0m\u001b[1;33m\u001b[0m\u001b[0m\n\u001b[0;32m    402\u001b[0m                 \u001b[1;34mf\"is expecting {self.n_features_in_} features as input.\"\u001b[0m\u001b[1;33m\u001b[0m\u001b[1;33m\u001b[0m\u001b[0m\n",
      "\u001b[1;31mValueError\u001b[0m: X has 1 features, but LinearRegression is expecting 15 features as input."
     ]
    }
   ],
   "source": [
    "print(\"Train Score for Theta 1: \",lr1.score(train_theta1_poly, train_target_theta1))\n",
    "print(\"Validation Score for Theta 1: \", lr1.score(val_pred_theta1, val_target_theta1))\n",
    "print(\"\")\n",
    "\n",
    "print(\"Train Score for Theta 2: \",lr2.score(train_theta2_poly, train_target_theta2))\n",
    "print(\"Validation Score for Theta 2: \", lr2.score(val_pred_theta2, val_target_theta2))\n",
    "print(\"\")\n",
    "\n",
    "print(\"Train Score for Theta 3: \",lr3.score(train_theta3_poly, train_target_theta3))\n",
    "print(\"Validation Score for Theta 3: \", lr3.score(val_pred_theta3, val_target_theta3))\n",
    "print(\"\")\n",
    "\n",
    "print(\"Train Score for Theta 4: \",lr4.score(train_theta4_poly, train_target_theta4))\n",
    "print(\"Validation Score for Theta 4: \", lr4.score(val_pred_theta4, val_target_theta4))\n",
    "print(\"\")\n",
    "\n",
    "print(\"Train Score for Theta 5: \",lr5.score(train_theta5_poly, train_target_theta5))\n",
    "print(\"Validation Score for Theta 5: \", lr5.score(val_pred_theta5, val_target_theta5))"
   ]
  },
  {
   "cell_type": "markdown",
   "id": "532de879",
   "metadata": {},
   "source": [
    "## Mean Squared Error (MSE)"
   ]
  },
  {
   "cell_type": "code",
   "execution_count": null,
   "id": "8a7b2d99",
   "metadata": {},
   "outputs": [],
   "source": [
    "print(\"Train Score for Theta 1: \",mean_squared_error(train_pred_theta1, train_target_theta1))\n",
    "print(\"Validation Score for Theta 1: \", mean_squared_error(val_pred_theta1, val_target_theta1))\n",
    "print(\"\")\n",
    "\n",
    "print(\"Train Score for Theta 2: \",mean_squared_error(train_pred_theta2, train_target_theta2))\n",
    "print(\"Validation Score for Theta 2: \", mean_squared_error(val_pred_theta2, val_target_theta2))\n",
    "print(\"\")\n",
    "\n",
    "print(\"Train Score for Theta 3: \",mean_squared_error(train_pred_theta3, train_target_theta3))\n",
    "print(\"Validation Score for Theta 3: \", mean_squared_error(val_pred_theta3, val_target_theta3))\n",
    "print(\"\")\n",
    "\n",
    "print(\"Train Score for Theta 4: \",mean_squared_error(train_pred_theta4, train_target_theta4))\n",
    "print(\"Validation Score for Theta 4: \", mean_squared_error(val_pred_theta4, val_target_theta4))\n",
    "print(\"\")\n",
    "\n",
    "print(\"Train Score for Theta 5: \",mean_squared_error(train_pred_theta5, train_target_theta5))\n",
    "print(\"Validation Score for Theta 5: \", mean_squared_error(val_pred_theta5, val_target_theta5))"
   ]
  },
  {
   "cell_type": "markdown",
   "id": "4c05ff06",
   "metadata": {},
   "source": [
    "## Root Mean Squared Error (RMSE)"
   ]
  },
  {
   "cell_type": "code",
   "execution_count": null,
   "id": "945fc369",
   "metadata": {
    "scrolled": true
   },
   "outputs": [],
   "source": [
    "print(\"Train Score for Theta 1: \",np.sqrt(mean_squared_error(train_pred_theta1, train_target_theta1)))\n",
    "print(\"Validation Score for Theta 1: \", np.sqrt(mean_squared_error(val_pred_theta1, val_target_theta1)))\n",
    "print(\"\")\n",
    "\n",
    "print(\"Train Score for Theta 2: \",np.sqrt(mean_squared_error(train_pred_theta2, train_target_theta2)))\n",
    "print(\"Validation Score for Theta 2: \", np.sqrt(mean_squared_error(val_pred_theta2, val_target_theta2)))\n",
    "print(\"\")\n",
    "\n",
    "print(\"Train Score for Theta 3: \",np.sqrt(mean_squared_error(train_pred_theta3, train_target_theta3)))\n",
    "print(\"Validation Score for Theta 3: \", np.sqrt(mean_squared_error(val_pred_theta3, val_target_theta3)))\n",
    "print(\"\")\n",
    "\n",
    "print(\"Train Score for Theta 4: \",np.sqrt(mean_squared_error(train_pred_theta4, train_target_theta4)))\n",
    "print(\"Validation Score for Theta 4: \", np.sqrt(mean_squared_error(val_pred_theta4, val_target_theta4)))\n",
    "print(\"\")\n",
    "\n",
    "print(\"Train Score for Theta 5: \",np.sqrt(mean_squared_error(train_pred_theta5, train_target_theta5)))\n",
    "print(\"Validation Score for Theta 5: \", np.sqrt(mean_squared_error(val_pred_theta5, val_target_theta5)))"
   ]
  },
  {
   "cell_type": "markdown",
   "id": "4bed858a",
   "metadata": {},
   "source": [
    "## Mean Absolute Error (MAE)"
   ]
  },
  {
   "cell_type": "code",
   "execution_count": null,
   "id": "8d225bef",
   "metadata": {
    "scrolled": true
   },
   "outputs": [],
   "source": [
    "print(\"Train Score for Theta 1: \",mean_absolute_error(train_pred_theta1, train_target_theta1))\n",
    "print(\"Validation Score for Theta 1: \", mean_absolute_error(val_pred_theta1, val_target_theta1))\n",
    "print(\"\")\n",
    "\n",
    "print(\"Train Score for Theta 2: \",mean_absolute_error(train_pred_theta2, train_target_theta2))\n",
    "print(\"Validation Score for Theta 2: \", mean_absolute_error(val_pred_theta2, val_target_theta2))\n",
    "print(\"\")\n",
    "\n",
    "print(\"Train Score for Theta 3: \",mean_absolute_error(train_pred_theta3, train_target_theta3))\n",
    "print(\"Validation Score for Theta 3: \", mean_absolute_error(val_pred_theta3, val_target_theta3))\n",
    "print(\"\")\n",
    "\n",
    "print(\"Train Score for Theta 4: \",mean_absolute_error(train_pred_theta4, train_target_theta4))\n",
    "print(\"Validation Score for Theta 4: \", mean_absolute_error(val_pred_theta4, val_target_theta4))\n",
    "print(\"\")\n",
    "\n",
    "print(\"Train Score for Theta 5: \",mean_absolute_error(train_pred_theta5, train_target_theta5))\n",
    "print(\"Validation Score for Theta 5: \", mean_absolute_error(val_pred_theta5, val_target_theta5))"
   ]
  },
  {
   "cell_type": "markdown",
   "id": "9cedec0d",
   "metadata": {},
   "source": [
    "# Save into an Excel (.csv)"
   ]
  },
  {
   "cell_type": "markdown",
   "id": "05e915a0",
   "metadata": {},
   "source": [
    "## With Original Dataset"
   ]
  },
  {
   "cell_type": "code",
   "execution_count": null,
   "id": "c382958f",
   "metadata": {},
   "outputs": [],
   "source": [
    "# Predict random value\n",
    "data_ori = dt[['Pressure', 'Theta6']].to_numpy()\n",
    "\n",
    "data_poly = poly.transform(data_ori)\n",
    "\n",
    "pred_theta1 = lr1.predict(data_poly)\n",
    "pred_theta2 = lr2.predict(data_poly)\n",
    "pred_theta3 = lr3.predict(data_poly)\n",
    "pred_theta4 = lr4.predict(data_poly)\n",
    "pred_theta5 = lr5.predict(data_poly)"
   ]
  },
  {
   "cell_type": "code",
   "execution_count": null,
   "id": "68cbfd92",
   "metadata": {},
   "outputs": [],
   "source": [
    "# Combine all the Data\n",
    "\n",
    "theta1 = pd.DataFrame(pred_theta1, columns = ['Theta1'])\n",
    "theta2 = pd.DataFrame(pred_theta2, columns = ['Theta2'])\n",
    "theta3 = pd.DataFrame(pred_theta3, columns = ['Theta3'])\n",
    "theta4 = pd.DataFrame(pred_theta4, columns = ['Theta4'])\n",
    "theta5 = pd.DataFrame(pred_theta5, columns = ['Theta5'])\n",
    "\n",
    "dataSet = pd.concat([dt['Configuration'], dt['Pressure'], theta1, theta2, theta3, theta4, theta5, dt['Theta6']], axis=1)\n",
    "dataSet"
   ]
  },
  {
   "cell_type": "code",
   "execution_count": null,
   "id": "2cd99148",
   "metadata": {},
   "outputs": [],
   "source": [
    "dataSet.to_csv('Predicted_Thetas.csv', encoding='utf-8', index=False)"
   ]
  },
  {
   "cell_type": "markdown",
   "id": "3532f914",
   "metadata": {},
   "source": [
    "# Evaluate the Model\n",
    "#### Likely need to delete"
   ]
  },
  {
   "cell_type": "code",
   "execution_count": null,
   "id": "eefa7f08",
   "metadata": {},
   "outputs": [],
   "source": [
    "rand1 = [[340, 38.04704253]]\n",
    "rand2 = [[340, -19.02560604]]\n",
    "rand3 = [[340, -48.0127875]]"
   ]
  },
  {
   "cell_type": "code",
   "execution_count": null,
   "id": "91c74540",
   "metadata": {},
   "outputs": [],
   "source": [
    "# Change to Poly\n",
    "rand1_poly = poly.transform(rand1)\n",
    "rand2_poly = poly.transform(rand2)\n",
    "rand3_poly = poly.transform(rand3)"
   ]
  },
  {
   "cell_type": "code",
   "execution_count": null,
   "id": "8c9ec783",
   "metadata": {},
   "outputs": [],
   "source": [
    "#rand1\n",
    "pred_rand1_theta1 = lr1.predict(rand1_poly)\n",
    "pred_rand1_theta2 = lr2.predict(rand1_poly)\n",
    "pred_rand1_theta3 = lr3.predict(rand1_poly)\n",
    "pred_rand1_theta4 = lr4.predict(rand1_poly)\n",
    "pred_rand1_theta5 = lr5.predict(rand1_poly)\n",
    "\n",
    "#rand2\n",
    "pred_rand2_theta1 = lr1.predict(rand2_poly)\n",
    "pred_rand2_theta2 = lr2.predict(rand2_poly)\n",
    "pred_rand2_theta3 = lr3.predict(rand2_poly)\n",
    "pred_rand2_theta4 = lr4.predict(rand2_poly)\n",
    "pred_rand2_theta5 = lr5.predict(rand2_poly)\n",
    "\n",
    "#rand3\n",
    "pred_rand3_theta1 = lr1.predict(rand3_poly)\n",
    "pred_rand3_theta2 = lr2.predict(rand3_poly)\n",
    "pred_rand3_theta3 = lr3.predict(rand3_poly)\n",
    "pred_rand3_theta4 = lr4.predict(rand3_poly)\n",
    "pred_rand3_theta5 = lr5.predict(rand3_poly)"
   ]
  },
  {
   "cell_type": "code",
   "execution_count": null,
   "id": "2e51d674",
   "metadata": {},
   "outputs": [],
   "source": [
    "# Combine all the Data\n",
    "\n",
    "print(\"Rand1: \",rand1[0][0], pred_rand1_theta1, pred_rand1_theta2, pred_rand1_theta3, pred_rand1_theta4, pred_rand1_theta5, rand1[0][1])\n",
    "print(\"Rand2: \",rand2[0][0], pred_rand2_theta1, pred_rand2_theta2, pred_rand2_theta3, pred_rand2_theta4, pred_rand2_theta5, rand2[0][1])\n",
    "print(\"Rand3: \",rand3[0][0], pred_rand3_theta1, pred_rand3_theta2, pred_rand3_theta3, pred_rand3_theta4, pred_rand3_theta5, rand3[0][1])"
   ]
  },
  {
   "cell_type": "code",
   "execution_count": null,
   "id": "5aee9753",
   "metadata": {},
   "outputs": [],
   "source": [
    "# Creating a 3D plot\n",
    "fig = plt.figure(figsize=(10, 7))\n",
    "ax = fig.add_subplot(111, projection='3d')\n",
    "\n",
    "# Scatter plot for 'Pressure', 'Theta6', and 'Theta1'\n",
    "sc = ax.scatter(dt['Pressure'], dt['Theta6'], dt['Theta1'], c=dt['Theta1'], cmap='viridis', s=50)\n",
    "ax.set_xlabel('Pressure')\n",
    "ax.set_ylabel('Theta6')\n",
    "ax.set_zlabel('Theta1')\n",
    "\n",
    "# Adding a color bar to indicate the values of Theta1\n",
    "cbar = plt.colorbar(sc, ax=ax)\n",
    "cbar.set_label('Theta1 Value')\n",
    "\n",
    "plt.title('3D Scatter Plot Showing the Influence of Pressure and Theta6 on Theta1')\n",
    "plt.show()"
   ]
  },
  {
   "cell_type": "code",
   "execution_count": null,
   "id": "531ff26b",
   "metadata": {
    "scrolled": true
   },
   "outputs": [],
   "source": [
    "from mpl_toolkits.mplot3d import Axes3D\n",
    "\n",
    "# Creating a mesh grid of Pressure and Theta6 values\n",
    "pressure_range = np.linspace(dt['Pressure'].min(), dt['Pressure'].max(), 100)\n",
    "theta6_range = np.linspace(dt['Theta6'].min(), dt['Theta6'].max(), 100)\n",
    "pressure_grid, theta6_grid = np.meshgrid(pressure_range, theta6_range)\n",
    "\n",
    "coeff_pressure = np.array([lr.coef_[0], lr.coef_[1], lr.coef_[2]])\n",
    "coeff_theta6 = np.array([lr.coef_[3], lr.coef_[4], lr.coef_[5]])\n",
    "intercept = lr.intercept_"
   ]
  },
  {
   "cell_type": "code",
   "execution_count": null,
   "id": "a0c0d885",
   "metadata": {},
   "outputs": [],
   "source": [
    "# Predicting Theta1 using the simplified linear regression equation\n",
    "\n",
    "theta1_pred = intercept + lr.coef_[0] * pressure_grid + lr.coef_[1] * pressure_grid + lr.coef_[2] * pressure_grid + lr.coef_[3] * theta6_grid + lr.coef_[4] * theta6_grid + lr.coef_[5] * theta6_grid"
   ]
  },
  {
   "cell_type": "code",
   "execution_count": null,
   "id": "4579e3b5",
   "metadata": {
    "scrolled": false
   },
   "outputs": [],
   "source": [
    "# Plotting\n",
    "\n",
    "fig = plt.figure(figsize=(10, 7))\n",
    "\n",
    "ax = fig.add_subplot(111, projection='3d')\n",
    "\n",
    "\n",
    "\n",
    "# Plotting the surface\n",
    "\n",
    "surf = ax.plot_surface(pressure_grid, theta6_grid, theta1_pred, cmap='coolwarm', alpha=0.6, edgecolor='none')\n",
    "\n",
    "\n",
    "\n",
    "# Scatter plot for the actual data points\n",
    "\n",
    "sc = ax.scatter(dt['Pressure'], dt['Theta6'], dt['Theta1'], c=dt['Theta1'], cmap='viridis', s=50)\n",
    "\n",
    "\n",
    "\n",
    "ax.set_xlabel('Pressure')\n",
    "\n",
    "ax.set_ylabel('Theta6')\n",
    "\n",
    "ax.set_zlabel('Theta1')\n",
    "\n",
    "plt.title('Influence of Pressure and Theta6 on Theta1 with Linear Regression Model')\n",
    "\n",
    "plt.show()"
   ]
  },
  {
   "cell_type": "code",
   "execution_count": null,
   "id": "c0d2de43",
   "metadata": {},
   "outputs": [],
   "source": [
    "# Train Set Score\n",
    "print(lr.score(train_data_poly, train_target))\n",
    "\n",
    "# Test Set Score\n",
    "print(lr.score(val_data_poly, val_target))"
   ]
  },
  {
   "cell_type": "markdown",
   "id": "d9fa62c8",
   "metadata": {},
   "source": [
    "# Finger Trajectories"
   ]
  },
  {
   "cell_type": "markdown",
   "id": "446c84d6",
   "metadata": {},
   "source": [
    "## Import Dataset"
   ]
  },
  {
   "cell_type": "code",
   "execution_count": 23,
   "id": "007bf1af",
   "metadata": {},
   "outputs": [],
   "source": [
    "dt_fingers=pd.read_csv('C:/Users/Duhyeon/Desktop/UBC/UBC Research/Work_Learn/SPAs Data/FingerTips/Finger Dataset.csv')"
   ]
  },
  {
   "cell_type": "code",
   "execution_count": 24,
   "id": "d2c1bb11",
   "metadata": {},
   "outputs": [],
   "source": [
    "dt_fingers = dt_fingers.dropna()"
   ]
  },
  {
   "cell_type": "code",
   "execution_count": 25,
   "id": "fec86a12",
   "metadata": {},
   "outputs": [
    {
     "data": {
      "text/html": [
       "<div>\n",
       "<style scoped>\n",
       "    .dataframe tbody tr th:only-of-type {\n",
       "        vertical-align: middle;\n",
       "    }\n",
       "\n",
       "    .dataframe tbody tr th {\n",
       "        vertical-align: top;\n",
       "    }\n",
       "\n",
       "    .dataframe thead th {\n",
       "        text-align: right;\n",
       "    }\n",
       "</style>\n",
       "<table border=\"1\" class=\"dataframe\">\n",
       "  <thead>\n",
       "    <tr style=\"text-align: right;\">\n",
       "      <th></th>\n",
       "      <th>Finger Type</th>\n",
       "      <th>Pressure</th>\n",
       "      <th>Theta6</th>\n",
       "    </tr>\n",
       "  </thead>\n",
       "  <tbody>\n",
       "    <tr>\n",
       "      <th>0</th>\n",
       "      <td>Finger_Large</td>\n",
       "      <td>0.00</td>\n",
       "      <td>0.780000</td>\n",
       "    </tr>\n",
       "    <tr>\n",
       "      <th>1</th>\n",
       "      <td>Finger_Large</td>\n",
       "      <td>2.07</td>\n",
       "      <td>3.900000</td>\n",
       "    </tr>\n",
       "    <tr>\n",
       "      <th>2</th>\n",
       "      <td>Finger_Large</td>\n",
       "      <td>4.15</td>\n",
       "      <td>4.710000</td>\n",
       "    </tr>\n",
       "    <tr>\n",
       "      <th>3</th>\n",
       "      <td>Finger_Large</td>\n",
       "      <td>6.22</td>\n",
       "      <td>5.490000</td>\n",
       "    </tr>\n",
       "    <tr>\n",
       "      <th>4</th>\n",
       "      <td>Finger_Large</td>\n",
       "      <td>8.29</td>\n",
       "      <td>6.450000</td>\n",
       "    </tr>\n",
       "    <tr>\n",
       "      <th>...</th>\n",
       "      <td>...</td>\n",
       "      <td>...</td>\n",
       "      <td>...</td>\n",
       "    </tr>\n",
       "    <tr>\n",
       "      <th>379</th>\n",
       "      <td>Finger_Small_2</td>\n",
       "      <td>323.41</td>\n",
       "      <td>47.764106</td>\n",
       "    </tr>\n",
       "    <tr>\n",
       "      <th>380</th>\n",
       "      <td>Finger_Small_2</td>\n",
       "      <td>327.56</td>\n",
       "      <td>47.720295</td>\n",
       "    </tr>\n",
       "    <tr>\n",
       "      <th>381</th>\n",
       "      <td>Finger_Small_2</td>\n",
       "      <td>331.70</td>\n",
       "      <td>47.381473</td>\n",
       "    </tr>\n",
       "    <tr>\n",
       "      <th>382</th>\n",
       "      <td>Finger_Small_2</td>\n",
       "      <td>335.85</td>\n",
       "      <td>47.372901</td>\n",
       "    </tr>\n",
       "    <tr>\n",
       "      <th>383</th>\n",
       "      <td>Finger_Small_2</td>\n",
       "      <td>340.00</td>\n",
       "      <td>45.952657</td>\n",
       "    </tr>\n",
       "  </tbody>\n",
       "</table>\n",
       "<p>382 rows × 3 columns</p>\n",
       "</div>"
      ],
      "text/plain": [
       "        Finger Type  Pressure     Theta6\n",
       "0      Finger_Large      0.00   0.780000\n",
       "1      Finger_Large      2.07   3.900000\n",
       "2      Finger_Large      4.15   4.710000\n",
       "3      Finger_Large      6.22   5.490000\n",
       "4      Finger_Large      8.29   6.450000\n",
       "..              ...       ...        ...\n",
       "379  Finger_Small_2    323.41  47.764106\n",
       "380  Finger_Small_2    327.56  47.720295\n",
       "381  Finger_Small_2    331.70  47.381473\n",
       "382  Finger_Small_2    335.85  47.372901\n",
       "383  Finger_Small_2    340.00  45.952657\n",
       "\n",
       "[382 rows x 3 columns]"
      ]
     },
     "execution_count": 25,
     "metadata": {},
     "output_type": "execute_result"
    }
   ],
   "source": [
    "dt_fingers"
   ]
  },
  {
   "cell_type": "markdown",
   "id": "37a5f7a6",
   "metadata": {},
   "source": [
    "# Prediction"
   ]
  },
  {
   "cell_type": "code",
   "execution_count": 26,
   "id": "2b1b72be",
   "metadata": {},
   "outputs": [],
   "source": [
    "# Predict random value\n",
    "data_fingers = dt_fingers[['Pressure', 'Theta6']].to_numpy()\n",
    "\n",
    "data_poly = poly.transform(data_fingers)\n",
    "\n",
    "pred_theta1 = lr1.predict(data_poly)\n",
    "pred_theta2 = lr2.predict(data_poly)\n",
    "pred_theta3 = lr3.predict(data_poly)\n",
    "pred_theta4 = lr4.predict(data_poly)\n",
    "pred_theta5 = lr5.predict(data_poly)"
   ]
  },
  {
   "cell_type": "markdown",
   "id": "d60cb20d",
   "metadata": {},
   "source": [
    "## Save into an Excel File (.csv)"
   ]
  },
  {
   "cell_type": "code",
   "execution_count": 27,
   "id": "d2b4e0d4",
   "metadata": {},
   "outputs": [
    {
     "data": {
      "text/html": [
       "<div>\n",
       "<style scoped>\n",
       "    .dataframe tbody tr th:only-of-type {\n",
       "        vertical-align: middle;\n",
       "    }\n",
       "\n",
       "    .dataframe tbody tr th {\n",
       "        vertical-align: top;\n",
       "    }\n",
       "\n",
       "    .dataframe thead th {\n",
       "        text-align: right;\n",
       "    }\n",
       "</style>\n",
       "<table border=\"1\" class=\"dataframe\">\n",
       "  <thead>\n",
       "    <tr style=\"text-align: right;\">\n",
       "      <th></th>\n",
       "      <th>Finger Type</th>\n",
       "      <th>Pressure</th>\n",
       "      <th>Theta1</th>\n",
       "      <th>Theta2</th>\n",
       "      <th>Theta3</th>\n",
       "      <th>Theta4</th>\n",
       "      <th>Theta5</th>\n",
       "      <th>Theta6</th>\n",
       "    </tr>\n",
       "  </thead>\n",
       "  <tbody>\n",
       "    <tr>\n",
       "      <th>0</th>\n",
       "      <td>Finger_Large</td>\n",
       "      <td>0.00</td>\n",
       "      <td>-15.255573</td>\n",
       "      <td>-8.293839</td>\n",
       "      <td>-4.753956</td>\n",
       "      <td>-2.614655</td>\n",
       "      <td>-0.840152</td>\n",
       "      <td>0.780000</td>\n",
       "    </tr>\n",
       "    <tr>\n",
       "      <th>1</th>\n",
       "      <td>Finger_Large</td>\n",
       "      <td>2.07</td>\n",
       "      <td>-14.164220</td>\n",
       "      <td>-6.908260</td>\n",
       "      <td>-3.113297</td>\n",
       "      <td>-0.654231</td>\n",
       "      <td>1.551244</td>\n",
       "      <td>3.900000</td>\n",
       "    </tr>\n",
       "    <tr>\n",
       "      <th>2</th>\n",
       "      <td>Finger_Large</td>\n",
       "      <td>4.15</td>\n",
       "      <td>-13.895578</td>\n",
       "      <td>-6.550082</td>\n",
       "      <td>-2.678014</td>\n",
       "      <td>-0.131077</td>\n",
       "      <td>2.174629</td>\n",
       "      <td>4.710000</td>\n",
       "    </tr>\n",
       "    <tr>\n",
       "      <th>3</th>\n",
       "      <td>Finger_Large</td>\n",
       "      <td>6.22</td>\n",
       "      <td>-13.645652</td>\n",
       "      <td>-6.211339</td>\n",
       "      <td>-2.264506</td>\n",
       "      <td>0.369713</td>\n",
       "      <td>2.773318</td>\n",
       "      <td>5.490000</td>\n",
       "    </tr>\n",
       "    <tr>\n",
       "      <th>4</th>\n",
       "      <td>Finger_Large</td>\n",
       "      <td>8.29</td>\n",
       "      <td>-13.343581</td>\n",
       "      <td>-5.801705</td>\n",
       "      <td>-1.768926</td>\n",
       "      <td>0.974249</td>\n",
       "      <td>3.504182</td>\n",
       "      <td>6.450000</td>\n",
       "    </tr>\n",
       "    <tr>\n",
       "      <th>...</th>\n",
       "      <td>...</td>\n",
       "      <td>...</td>\n",
       "      <td>...</td>\n",
       "      <td>...</td>\n",
       "      <td>...</td>\n",
       "      <td>...</td>\n",
       "      <td>...</td>\n",
       "      <td>...</td>\n",
       "    </tr>\n",
       "    <tr>\n",
       "      <th>381</th>\n",
       "      <td>Finger_Small_2</td>\n",
       "      <td>331.70</td>\n",
       "      <td>-11.195542</td>\n",
       "      <td>3.074572</td>\n",
       "      <td>14.263919</td>\n",
       "      <td>24.337420</td>\n",
       "      <td>35.610957</td>\n",
       "      <td>47.381473</td>\n",
       "    </tr>\n",
       "    <tr>\n",
       "      <th>382</th>\n",
       "      <td>Finger_Small_2</td>\n",
       "      <td>335.85</td>\n",
       "      <td>NaN</td>\n",
       "      <td>NaN</td>\n",
       "      <td>NaN</td>\n",
       "      <td>NaN</td>\n",
       "      <td>NaN</td>\n",
       "      <td>47.372901</td>\n",
       "    </tr>\n",
       "    <tr>\n",
       "      <th>383</th>\n",
       "      <td>Finger_Small_2</td>\n",
       "      <td>340.00</td>\n",
       "      <td>NaN</td>\n",
       "      <td>NaN</td>\n",
       "      <td>NaN</td>\n",
       "      <td>NaN</td>\n",
       "      <td>NaN</td>\n",
       "      <td>45.952657</td>\n",
       "    </tr>\n",
       "    <tr>\n",
       "      <th>165</th>\n",
       "      <td>NaN</td>\n",
       "      <td>NaN</td>\n",
       "      <td>-15.528565</td>\n",
       "      <td>-8.637496</td>\n",
       "      <td>-5.164318</td>\n",
       "      <td>-3.104657</td>\n",
       "      <td>-1.442821</td>\n",
       "      <td>NaN</td>\n",
       "    </tr>\n",
       "    <tr>\n",
       "      <th>300</th>\n",
       "      <td>NaN</td>\n",
       "      <td>NaN</td>\n",
       "      <td>-14.951056</td>\n",
       "      <td>-7.890461</td>\n",
       "      <td>-4.245774</td>\n",
       "      <td>-2.020760</td>\n",
       "      <td>-0.164260</td>\n",
       "      <td>NaN</td>\n",
       "    </tr>\n",
       "  </tbody>\n",
       "</table>\n",
       "<p>384 rows × 8 columns</p>\n",
       "</div>"
      ],
      "text/plain": [
       "        Finger Type  Pressure     Theta1    Theta2     Theta3     Theta4  \\\n",
       "0      Finger_Large      0.00 -15.255573 -8.293839  -4.753956  -2.614655   \n",
       "1      Finger_Large      2.07 -14.164220 -6.908260  -3.113297  -0.654231   \n",
       "2      Finger_Large      4.15 -13.895578 -6.550082  -2.678014  -0.131077   \n",
       "3      Finger_Large      6.22 -13.645652 -6.211339  -2.264506   0.369713   \n",
       "4      Finger_Large      8.29 -13.343581 -5.801705  -1.768926   0.974249   \n",
       "..              ...       ...        ...       ...        ...        ...   \n",
       "381  Finger_Small_2    331.70 -11.195542  3.074572  14.263919  24.337420   \n",
       "382  Finger_Small_2    335.85        NaN       NaN        NaN        NaN   \n",
       "383  Finger_Small_2    340.00        NaN       NaN        NaN        NaN   \n",
       "165             NaN       NaN -15.528565 -8.637496  -5.164318  -3.104657   \n",
       "300             NaN       NaN -14.951056 -7.890461  -4.245774  -2.020760   \n",
       "\n",
       "        Theta5     Theta6  \n",
       "0    -0.840152   0.780000  \n",
       "1     1.551244   3.900000  \n",
       "2     2.174629   4.710000  \n",
       "3     2.773318   5.490000  \n",
       "4     3.504182   6.450000  \n",
       "..         ...        ...  \n",
       "381  35.610957  47.381473  \n",
       "382        NaN  47.372901  \n",
       "383        NaN  45.952657  \n",
       "165  -1.442821        NaN  \n",
       "300  -0.164260        NaN  \n",
       "\n",
       "[384 rows x 8 columns]"
      ]
     },
     "execution_count": 27,
     "metadata": {},
     "output_type": "execute_result"
    }
   ],
   "source": [
    "# Combine all the Data\n",
    "\n",
    "theta1 = pd.DataFrame(pred_theta1, columns = ['Theta1'])\n",
    "theta2 = pd.DataFrame(pred_theta2, columns = ['Theta2'])\n",
    "theta3 = pd.DataFrame(pred_theta3, columns = ['Theta3'])\n",
    "theta4 = pd.DataFrame(pred_theta4, columns = ['Theta4'])\n",
    "theta5 = pd.DataFrame(pred_theta5, columns = ['Theta5'])\n",
    "\n",
    "dataSet = pd.concat([dt_fingers['Finger Type'], dt_fingers['Pressure'], theta1, theta2, theta3, theta4, theta5, dt_fingers['Theta6']], axis=1)\n",
    "dataSet"
   ]
  },
  {
   "cell_type": "code",
   "execution_count": 29,
   "id": "cac77541",
   "metadata": {},
   "outputs": [],
   "source": [
    "dataSet.to_csv('Predicted_Thetas_Fingers.csv', encoding='utf-8', index=False)"
   ]
  },
  {
   "cell_type": "code",
   "execution_count": null,
   "id": "040dd400",
   "metadata": {},
   "outputs": [],
   "source": []
  }
 ],
 "metadata": {
  "kernelspec": {
   "display_name": "Python 3 (ipykernel)",
   "language": "python",
   "name": "python3"
  },
  "language_info": {
   "codemirror_mode": {
    "name": "ipython",
    "version": 3
   },
   "file_extension": ".py",
   "mimetype": "text/x-python",
   "name": "python",
   "nbconvert_exporter": "python",
   "pygments_lexer": "ipython3",
   "version": "3.9.13"
  }
 },
 "nbformat": 4,
 "nbformat_minor": 5
}

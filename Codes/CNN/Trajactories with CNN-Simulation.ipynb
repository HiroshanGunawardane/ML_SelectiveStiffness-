{
 "cells": [
  {
   "cell_type": "markdown",
   "id": "31674e86",
   "metadata": {},
   "source": [
    "# Import Libraries"
   ]
  },
  {
   "cell_type": "code",
   "execution_count": 1,
   "id": "62341209",
   "metadata": {},
   "outputs": [],
   "source": [
    "import os\n",
    "import cv2\n",
    "import numpy as np\n",
    "from sklearn.model_selection import train_test_split\n",
    "import tensorflow as tf\n",
    "from tensorflow.keras import layers, models\n",
    "from tensorflow import keras"
   ]
  },
  {
   "cell_type": "code",
   "execution_count": 2,
   "id": "e03ff5ec",
   "metadata": {},
   "outputs": [],
   "source": [
    "# Function to preprocess images\n",
    "def preprocess_image(image):\n",
    "    # Resize image to a fixed size\n",
    "    resized_image = cv2.resize(image, (224, 224))\n",
    "    # Normalize pixel values (assuming images are in the range [0, 255])\n",
    "    normalized_image = resized_image / 255.0\n",
    "    return normalized_image"
   ]
  },
  {
   "cell_type": "markdown",
   "id": "a28594ab",
   "metadata": {},
   "source": [
    "# Data Pre-processing"
   ]
  },
  {
   "cell_type": "markdown",
   "id": "887f8b4b",
   "metadata": {},
   "source": [
    "## Import Data and separate into Images and Labels"
   ]
  },
  {
   "cell_type": "code",
   "execution_count": 3,
   "id": "7b26570d",
   "metadata": {},
   "outputs": [],
   "source": [
    "# Directory containing your images\n",
    "directory = 'C:/Users/Duhyeon/Desktop/UBC/UBC Research/Work_Learn/SPAs Data/Simulation Data/Pictures/Real Trajectory Pictures'\n",
    "\n",
    "# List all files in the directory\n",
    "files = os.listdir(directory)\n",
    "\n",
    "# Lists to store images and labelsqA\n",
    "images = []\n",
    "labels = []\n",
    "\n",
    "# Iterate over each file\n",
    "for file in files:\n",
    "    if file.endswith('.jpg') or file.endswith('.jpeg') or file.endswith('.png'):\n",
    "        file_path = os.path.join(directory, file)\n",
    "        # Read the image\n",
    "        image = cv2.imread(file_path)\n",
    "        \n",
    "        # convert the input image to grayscale\n",
    "        gray = cv2.cvtColor(image, cv2.COLOR_BGR2GRAY)\n",
    "        \n",
    "        # apply thresholding to convert grayscale to binary image\n",
    "        ret,thresh = cv2.threshold(gray,224,224,0)\n",
    "        \n",
    "        # Preprocess the image\n",
    "        preprocessed_image = preprocess_image(thresh)\n",
    "        \n",
    "        # Add the preprocessed image to the list of images\n",
    "        images.append(preprocessed_image)\n",
    "        \n",
    "        label = file.split('.')[0]  # Extract label from file name\n",
    "        labels.append(label)\n",
    "\n",
    "# Convert lists to numpy arrays\n",
    "images = np.array(images)\n",
    "labels = np.array(labels)"
   ]
  },
  {
   "cell_type": "code",
   "execution_count": 4,
   "id": "431946e1",
   "metadata": {},
   "outputs": [
    {
     "data": {
      "text/plain": [
       "(39, 224, 224)"
      ]
     },
     "execution_count": 4,
     "metadata": {},
     "output_type": "execute_result"
    }
   ],
   "source": [
    "np.shape(images)"
   ]
  },
  {
   "cell_type": "markdown",
   "id": "eab1e16d",
   "metadata": {},
   "source": [
    "## Label Encoding"
   ]
  },
  {
   "cell_type": "code",
   "execution_count": 5,
   "id": "42571990",
   "metadata": {
    "scrolled": true
   },
   "outputs": [
    {
     "name": "stdout",
     "output_type": "stream",
     "text": [
      "Encoded Labels: [ 0  1  2  3  4  5  6  7  8  9 10 11 12 13 14 15 16 17 18 19 20 21 22 23\n",
      " 24 25 26 27 28 29 30 31 32 33 34 35 36 37 38]\n",
      "Decoded Labels: ['DS10DS10_0_1' 'DS10DS10_2_0' 'DS10DS10_2_1' 'DS10DS10_3_0'\n",
      " 'DS10DS10_3_1' 'DS10DS10_3_2' 'DS10DS10_6_1' 'DS10DS10_6_2'\n",
      " 'DS10DS10_6_3' 'DS10DS30_2_1' 'DS10DS30_3_1' 'DS10DS30_3_2'\n",
      " 'DS30DS30_2_1' 'DS30DS30_3_1' 'DS30DS30_3_2' 'DS30DS30_6_0'\n",
      " 'DS30DS30_6_1' 'DS30DS30_6_2' 'DS30DS30_6_3' 'DS30E30_1_1' 'DS30E30_2_0'\n",
      " 'DS30E30_2_1' 'DS30E30_2_2' 'DS30E30_3_0' 'DS30E30_3_1' 'DS30E30_3_2'\n",
      " 'DS30E30_3_3' 'DS30E30_6_1' 'DS30E30_6_2' 'DS30E30_6_3' 'DS30E30_6_6'\n",
      " 'E30DS30_0_1' 'E30DS30_2_1' 'E30DS30_3_1' 'E30DS30_3_2' 'E30DS30_6_0'\n",
      " 'E30DS30_6_1' 'E30DS30_6_2' 'E30DS30_6_3']\n"
     ]
    }
   ],
   "source": [
    "# Label Encoding\n",
    "from sklearn import preprocessing\n",
    "from keras.utils import to_categorical\n",
    "\n",
    "le = preprocessing.LabelEncoder()\n",
    "\n",
    "# Fit the encoder to the categories and transform (encode) them\n",
    "encoded_labels = le.fit_transform(labels)\n",
    "\n",
    "# Now to decode, use inverse_transform\n",
    "decoded_labels = le.inverse_transform(encoded_labels)\n",
    "\n",
    "# Print encoded and decoded results for comparison\n",
    "print(\"Encoded Labels:\", encoded_labels)\n",
    "print(\"Decoded Labels:\", decoded_labels)"
   ]
  },
  {
   "cell_type": "code",
   "execution_count": 6,
   "id": "21a85433",
   "metadata": {},
   "outputs": [
    {
     "data": {
      "text/plain": [
       "(39, 39)"
      ]
     },
     "execution_count": 6,
     "metadata": {},
     "output_type": "execute_result"
    }
   ],
   "source": [
    "# Label encoding, Using it for Calculating R2, MSE, RMSE, MAE\n",
    "\n",
    "le.fit(labels)\n",
    "target_encoded = to_categorical(le.transform(labels), 39) # Number has to be changed\n",
    "np.shape(target_encoded)"
   ]
  },
  {
   "cell_type": "markdown",
   "id": "a9a571ef",
   "metadata": {},
   "source": [
    "## Split Dataset into Train and Test Set"
   ]
  },
  {
   "cell_type": "code",
   "execution_count": 7,
   "id": "c71a2530",
   "metadata": {},
   "outputs": [],
   "source": [
    "# Split data into training and testing sets\n",
    "X_train, X_test, y_train, y_test = train_test_split(images, target_encoded, test_size=0.2, random_state=42)"
   ]
  },
  {
   "cell_type": "markdown",
   "id": "56b67691",
   "metadata": {},
   "source": [
    "# Create CNN Model"
   ]
  },
  {
   "cell_type": "code",
   "execution_count": 8,
   "id": "6b69c3c6",
   "metadata": {},
   "outputs": [],
   "source": [
    "checkpoint_cb = keras.callbacks.ModelCheckpoint('patience=10, restore_best_weights=True')\n",
    "early_stopping_cb = keras.callbacks.EarlyStopping(patience=10, restore_best_weights=True)"
   ]
  },
  {
   "cell_type": "code",
   "execution_count": 9,
   "id": "a80441d9",
   "metadata": {},
   "outputs": [],
   "source": [
    "# Define CNN model architecture\n",
    "model = models.Sequential([\n",
    "    layers.Conv2D(32, (3, 3), activation='relu', input_shape=(224, 224, 1)),\n",
    "    layers.MaxPooling2D((2, 2)),\n",
    "    layers.Conv2D(64, (3, 3), activation='relu'),\n",
    "    layers.MaxPooling2D((2, 2)),\n",
    "    layers.Conv2D(128, (3, 3), activation='relu'),\n",
    "    layers.MaxPooling2D((2, 2)),\n",
    "    layers.Flatten(),\n",
    "    layers.Dense(128, activation='relu'),\n",
    "    layers.Dropout(0.4),\n",
    "    layers.Dense(39, activation='softmax') # Number has to be changed\n",
    "])"
   ]
  },
  {
   "cell_type": "code",
   "execution_count": 10,
   "id": "bd02ab1a",
   "metadata": {},
   "outputs": [],
   "source": [
    "# Compile the model\n",
    "model.compile(optimizer='adam',\n",
    "              loss='sparse_categorical_crossentropy',\n",
    "              metrics=['accuracy'])"
   ]
  },
  {
   "cell_type": "code",
   "execution_count": 11,
   "id": "b4ebaa81",
   "metadata": {
    "scrolled": true
   },
   "outputs": [
    {
     "name": "stdout",
     "output_type": "stream",
     "text": [
      "Epoch 1/50\n",
      "2/2 [==============================] - ETA: 0s - loss: 4.1063 - accuracy: 0.0513"
     ]
    },
    {
     "name": "stderr",
     "output_type": "stream",
     "text": [
      "WARNING:absl:Found untraced functions such as _jit_compiled_convolution_op, _jit_compiled_convolution_op, _jit_compiled_convolution_op, _update_step_xla while saving (showing 4 of 4). These functions will not be directly callable after loading.\n"
     ]
    },
    {
     "name": "stdout",
     "output_type": "stream",
     "text": [
      "INFO:tensorflow:Assets written to: patience=10, restore_best_weights=True\\assets\n"
     ]
    },
    {
     "name": "stderr",
     "output_type": "stream",
     "text": [
      "INFO:tensorflow:Assets written to: patience=10, restore_best_weights=True\\assets\n"
     ]
    },
    {
     "name": "stdout",
     "output_type": "stream",
     "text": [
      "2/2 [==============================] - 4s 2s/step - loss: 4.1063 - accuracy: 0.0513 - val_loss: 3.9066 - val_accuracy: 0.0256\n",
      "Epoch 2/50\n",
      "2/2 [==============================] - ETA: 0s - loss: 4.1999 - accuracy: 0.0513"
     ]
    },
    {
     "name": "stderr",
     "output_type": "stream",
     "text": [
      "WARNING:absl:Found untraced functions such as _jit_compiled_convolution_op, _jit_compiled_convolution_op, _jit_compiled_convolution_op, _update_step_xla while saving (showing 4 of 4). These functions will not be directly callable after loading.\n"
     ]
    },
    {
     "name": "stdout",
     "output_type": "stream",
     "text": [
      "INFO:tensorflow:Assets written to: patience=10, restore_best_weights=True\\assets\n"
     ]
    },
    {
     "name": "stderr",
     "output_type": "stream",
     "text": [
      "INFO:tensorflow:Assets written to: patience=10, restore_best_weights=True\\assets\n"
     ]
    },
    {
     "name": "stdout",
     "output_type": "stream",
     "text": [
      "2/2 [==============================] - 3s 2s/step - loss: 4.1999 - accuracy: 0.0513 - val_loss: 3.6850 - val_accuracy: 0.0256\n",
      "Epoch 3/50\n",
      "2/2 [==============================] - ETA: 0s - loss: 3.7112 - accuracy: 0.0000e+00"
     ]
    },
    {
     "name": "stderr",
     "output_type": "stream",
     "text": [
      "WARNING:absl:Found untraced functions such as _jit_compiled_convolution_op, _jit_compiled_convolution_op, _jit_compiled_convolution_op, _update_step_xla while saving (showing 4 of 4). These functions will not be directly callable after loading.\n"
     ]
    },
    {
     "name": "stdout",
     "output_type": "stream",
     "text": [
      "INFO:tensorflow:Assets written to: patience=10, restore_best_weights=True\\assets\n"
     ]
    },
    {
     "name": "stderr",
     "output_type": "stream",
     "text": [
      "INFO:tensorflow:Assets written to: patience=10, restore_best_weights=True\\assets\n"
     ]
    },
    {
     "name": "stdout",
     "output_type": "stream",
     "text": [
      "2/2 [==============================] - 3s 2s/step - loss: 3.7112 - accuracy: 0.0000e+00 - val_loss: 3.6600 - val_accuracy: 0.0256\n",
      "Epoch 4/50\n",
      "2/2 [==============================] - ETA: 0s - loss: 3.6594 - accuracy: 0.0000e+00"
     ]
    },
    {
     "name": "stderr",
     "output_type": "stream",
     "text": [
      "WARNING:absl:Found untraced functions such as _jit_compiled_convolution_op, _jit_compiled_convolution_op, _jit_compiled_convolution_op, _update_step_xla while saving (showing 4 of 4). These functions will not be directly callable after loading.\n"
     ]
    },
    {
     "name": "stdout",
     "output_type": "stream",
     "text": [
      "INFO:tensorflow:Assets written to: patience=10, restore_best_weights=True\\assets\n"
     ]
    },
    {
     "name": "stderr",
     "output_type": "stream",
     "text": [
      "INFO:tensorflow:Assets written to: patience=10, restore_best_weights=True\\assets\n"
     ]
    },
    {
     "name": "stdout",
     "output_type": "stream",
     "text": [
      "2/2 [==============================] - 3s 2s/step - loss: 3.6594 - accuracy: 0.0000e+00 - val_loss: 3.6462 - val_accuracy: 0.0256\n",
      "Epoch 5/50\n",
      "2/2 [==============================] - ETA: 0s - loss: 3.6674 - accuracy: 0.0256"
     ]
    },
    {
     "name": "stderr",
     "output_type": "stream",
     "text": [
      "WARNING:absl:Found untraced functions such as _jit_compiled_convolution_op, _jit_compiled_convolution_op, _jit_compiled_convolution_op, _update_step_xla while saving (showing 4 of 4). These functions will not be directly callable after loading.\n"
     ]
    },
    {
     "name": "stdout",
     "output_type": "stream",
     "text": [
      "INFO:tensorflow:Assets written to: patience=10, restore_best_weights=True\\assets\n"
     ]
    },
    {
     "name": "stderr",
     "output_type": "stream",
     "text": [
      "INFO:tensorflow:Assets written to: patience=10, restore_best_weights=True\\assets\n"
     ]
    },
    {
     "name": "stdout",
     "output_type": "stream",
     "text": [
      "2/2 [==============================] - 3s 2s/step - loss: 3.6674 - accuracy: 0.0256 - val_loss: 3.6260 - val_accuracy: 0.1282\n",
      "Epoch 6/50\n",
      "2/2 [==============================] - ETA: 0s - loss: 3.6581 - accuracy: 0.0000e+00"
     ]
    },
    {
     "name": "stderr",
     "output_type": "stream",
     "text": [
      "WARNING:absl:Found untraced functions such as _jit_compiled_convolution_op, _jit_compiled_convolution_op, _jit_compiled_convolution_op, _update_step_xla while saving (showing 4 of 4). These functions will not be directly callable after loading.\n"
     ]
    },
    {
     "name": "stdout",
     "output_type": "stream",
     "text": [
      "INFO:tensorflow:Assets written to: patience=10, restore_best_weights=True\\assets\n"
     ]
    },
    {
     "name": "stderr",
     "output_type": "stream",
     "text": [
      "INFO:tensorflow:Assets written to: patience=10, restore_best_weights=True\\assets\n"
     ]
    },
    {
     "name": "stdout",
     "output_type": "stream",
     "text": [
      "2/2 [==============================] - 2s 2s/step - loss: 3.6581 - accuracy: 0.0000e+00 - val_loss: 3.6184 - val_accuracy: 0.1282\n",
      "Epoch 7/50\n",
      "2/2 [==============================] - ETA: 0s - loss: 3.6400 - accuracy: 0.0513"
     ]
    },
    {
     "name": "stderr",
     "output_type": "stream",
     "text": [
      "WARNING:absl:Found untraced functions such as _jit_compiled_convolution_op, _jit_compiled_convolution_op, _jit_compiled_convolution_op, _update_step_xla while saving (showing 4 of 4). These functions will not be directly callable after loading.\n"
     ]
    },
    {
     "name": "stdout",
     "output_type": "stream",
     "text": [
      "INFO:tensorflow:Assets written to: patience=10, restore_best_weights=True\\assets\n"
     ]
    },
    {
     "name": "stderr",
     "output_type": "stream",
     "text": [
      "INFO:tensorflow:Assets written to: patience=10, restore_best_weights=True\\assets\n"
     ]
    },
    {
     "name": "stdout",
     "output_type": "stream",
     "text": [
      "2/2 [==============================] - 3s 2s/step - loss: 3.6400 - accuracy: 0.0513 - val_loss: 3.5640 - val_accuracy: 0.1282\n",
      "Epoch 8/50\n",
      "2/2 [==============================] - ETA: 0s - loss: 3.5745 - accuracy: 0.1282"
     ]
    },
    {
     "name": "stderr",
     "output_type": "stream",
     "text": [
      "WARNING:absl:Found untraced functions such as _jit_compiled_convolution_op, _jit_compiled_convolution_op, _jit_compiled_convolution_op, _update_step_xla while saving (showing 4 of 4). These functions will not be directly callable after loading.\n"
     ]
    },
    {
     "name": "stdout",
     "output_type": "stream",
     "text": [
      "INFO:tensorflow:Assets written to: patience=10, restore_best_weights=True\\assets\n"
     ]
    },
    {
     "name": "stderr",
     "output_type": "stream",
     "text": [
      "INFO:tensorflow:Assets written to: patience=10, restore_best_weights=True\\assets\n"
     ]
    },
    {
     "name": "stdout",
     "output_type": "stream",
     "text": [
      "2/2 [==============================] - 3s 2s/step - loss: 3.5745 - accuracy: 0.1282 - val_loss: 3.4665 - val_accuracy: 0.1026\n",
      "Epoch 9/50\n",
      "2/2 [==============================] - ETA: 0s - loss: 3.5229 - accuracy: 0.0256    "
     ]
    },
    {
     "name": "stderr",
     "output_type": "stream",
     "text": [
      "WARNING:absl:Found untraced functions such as _jit_compiled_convolution_op, _jit_compiled_convolution_op, _jit_compiled_convolution_op, _update_step_xla while saving (showing 4 of 4). These functions will not be directly callable after loading.\n"
     ]
    },
    {
     "name": "stdout",
     "output_type": "stream",
     "text": [
      "INFO:tensorflow:Assets written to: patience=10, restore_best_weights=True\\assets\n"
     ]
    },
    {
     "name": "stderr",
     "output_type": "stream",
     "text": [
      "INFO:tensorflow:Assets written to: patience=10, restore_best_weights=True\\assets\n"
     ]
    },
    {
     "name": "stdout",
     "output_type": "stream",
     "text": [
      "2/2 [==============================] - 2s 2s/step - loss: 3.5229 - accuracy: 0.0256 - val_loss: 3.3560 - val_accuracy: 0.2564\n",
      "Epoch 10/50\n",
      "2/2 [==============================] - ETA: 0s - loss: 3.3669 - accuracy: 0.1795"
     ]
    },
    {
     "name": "stderr",
     "output_type": "stream",
     "text": [
      "WARNING:absl:Found untraced functions such as _jit_compiled_convolution_op, _jit_compiled_convolution_op, _jit_compiled_convolution_op, _update_step_xla while saving (showing 4 of 4). These functions will not be directly callable after loading.\n"
     ]
    },
    {
     "name": "stdout",
     "output_type": "stream",
     "text": [
      "INFO:tensorflow:Assets written to: patience=10, restore_best_weights=True\\assets\n"
     ]
    },
    {
     "name": "stderr",
     "output_type": "stream",
     "text": [
      "INFO:tensorflow:Assets written to: patience=10, restore_best_weights=True\\assets\n"
     ]
    },
    {
     "name": "stdout",
     "output_type": "stream",
     "text": [
      "2/2 [==============================] - 2s 2s/step - loss: 3.3669 - accuracy: 0.1795 - val_loss: 3.1494 - val_accuracy: 0.2308\n",
      "Epoch 11/50\n",
      "2/2 [==============================] - ETA: 0s - loss: 3.1725 - accuracy: 0.1795"
     ]
    },
    {
     "name": "stderr",
     "output_type": "stream",
     "text": [
      "WARNING:absl:Found untraced functions such as _jit_compiled_convolution_op, _jit_compiled_convolution_op, _jit_compiled_convolution_op, _update_step_xla while saving (showing 4 of 4). These functions will not be directly callable after loading.\n"
     ]
    },
    {
     "name": "stdout",
     "output_type": "stream",
     "text": [
      "INFO:tensorflow:Assets written to: patience=10, restore_best_weights=True\\assets\n"
     ]
    },
    {
     "name": "stderr",
     "output_type": "stream",
     "text": [
      "INFO:tensorflow:Assets written to: patience=10, restore_best_weights=True\\assets\n"
     ]
    },
    {
     "name": "stdout",
     "output_type": "stream",
     "text": [
      "2/2 [==============================] - 2s 2s/step - loss: 3.1725 - accuracy: 0.1795 - val_loss: 2.7961 - val_accuracy: 0.2051\n",
      "Epoch 12/50\n",
      "2/2 [==============================] - ETA: 0s - loss: 3.0485 - accuracy: 0.1538"
     ]
    },
    {
     "name": "stderr",
     "output_type": "stream",
     "text": [
      "WARNING:absl:Found untraced functions such as _jit_compiled_convolution_op, _jit_compiled_convolution_op, _jit_compiled_convolution_op, _update_step_xla while saving (showing 4 of 4). These functions will not be directly callable after loading.\n"
     ]
    },
    {
     "name": "stdout",
     "output_type": "stream",
     "text": [
      "INFO:tensorflow:Assets written to: patience=10, restore_best_weights=True\\assets\n"
     ]
    },
    {
     "name": "stderr",
     "output_type": "stream",
     "text": [
      "INFO:tensorflow:Assets written to: patience=10, restore_best_weights=True\\assets\n"
     ]
    },
    {
     "name": "stdout",
     "output_type": "stream",
     "text": [
      "2/2 [==============================] - 3s 2s/step - loss: 3.0485 - accuracy: 0.1538 - val_loss: 2.5235 - val_accuracy: 0.2564\n",
      "Epoch 13/50\n",
      "2/2 [==============================] - ETA: 0s - loss: 2.5191 - accuracy: 0.3333"
     ]
    },
    {
     "name": "stderr",
     "output_type": "stream",
     "text": [
      "WARNING:absl:Found untraced functions such as _jit_compiled_convolution_op, _jit_compiled_convolution_op, _jit_compiled_convolution_op, _update_step_xla while saving (showing 4 of 4). These functions will not be directly callable after loading.\n"
     ]
    },
    {
     "name": "stdout",
     "output_type": "stream",
     "text": [
      "INFO:tensorflow:Assets written to: patience=10, restore_best_weights=True\\assets\n"
     ]
    },
    {
     "name": "stderr",
     "output_type": "stream",
     "text": [
      "INFO:tensorflow:Assets written to: patience=10, restore_best_weights=True\\assets\n"
     ]
    },
    {
     "name": "stdout",
     "output_type": "stream",
     "text": [
      "2/2 [==============================] - 2s 2s/step - loss: 2.5191 - accuracy: 0.3333 - val_loss: 2.1612 - val_accuracy: 0.3077\n",
      "Epoch 14/50\n",
      "2/2 [==============================] - ETA: 0s - loss: 2.3095 - accuracy: 0.3333"
     ]
    },
    {
     "name": "stderr",
     "output_type": "stream",
     "text": [
      "WARNING:absl:Found untraced functions such as _jit_compiled_convolution_op, _jit_compiled_convolution_op, _jit_compiled_convolution_op, _update_step_xla while saving (showing 4 of 4). These functions will not be directly callable after loading.\n"
     ]
    },
    {
     "name": "stdout",
     "output_type": "stream",
     "text": [
      "INFO:tensorflow:Assets written to: patience=10, restore_best_weights=True\\assets\n"
     ]
    },
    {
     "name": "stderr",
     "output_type": "stream",
     "text": [
      "INFO:tensorflow:Assets written to: patience=10, restore_best_weights=True\\assets\n"
     ]
    },
    {
     "name": "stdout",
     "output_type": "stream",
     "text": [
      "2/2 [==============================] - 3s 3s/step - loss: 2.3095 - accuracy: 0.3333 - val_loss: 1.8705 - val_accuracy: 0.4359\n",
      "Epoch 15/50\n",
      "2/2 [==============================] - ETA: 0s - loss: 2.1344 - accuracy: 0.3333"
     ]
    },
    {
     "name": "stderr",
     "output_type": "stream",
     "text": [
      "WARNING:absl:Found untraced functions such as _jit_compiled_convolution_op, _jit_compiled_convolution_op, _jit_compiled_convolution_op, _update_step_xla while saving (showing 4 of 4). These functions will not be directly callable after loading.\n"
     ]
    },
    {
     "name": "stdout",
     "output_type": "stream",
     "text": [
      "INFO:tensorflow:Assets written to: patience=10, restore_best_weights=True\\assets\n"
     ]
    },
    {
     "name": "stderr",
     "output_type": "stream",
     "text": [
      "INFO:tensorflow:Assets written to: patience=10, restore_best_weights=True\\assets\n"
     ]
    },
    {
     "name": "stdout",
     "output_type": "stream",
     "text": [
      "2/2 [==============================] - 4s 3s/step - loss: 2.1344 - accuracy: 0.3333 - val_loss: 1.6563 - val_accuracy: 0.4103\n",
      "Epoch 16/50\n",
      "2/2 [==============================] - ETA: 0s - loss: 2.1280 - accuracy: 0.3846"
     ]
    },
    {
     "name": "stderr",
     "output_type": "stream",
     "text": [
      "WARNING:absl:Found untraced functions such as _jit_compiled_convolution_op, _jit_compiled_convolution_op, _jit_compiled_convolution_op, _update_step_xla while saving (showing 4 of 4). These functions will not be directly callable after loading.\n"
     ]
    },
    {
     "name": "stdout",
     "output_type": "stream",
     "text": [
      "INFO:tensorflow:Assets written to: patience=10, restore_best_weights=True\\assets\n"
     ]
    },
    {
     "name": "stderr",
     "output_type": "stream",
     "text": [
      "INFO:tensorflow:Assets written to: patience=10, restore_best_weights=True\\assets\n"
     ]
    },
    {
     "name": "stdout",
     "output_type": "stream",
     "text": [
      "2/2 [==============================] - 4s 2s/step - loss: 2.1280 - accuracy: 0.3846 - val_loss: 1.4945 - val_accuracy: 0.5128\n",
      "Epoch 17/50\n",
      "2/2 [==============================] - ETA: 0s - loss: 1.6775 - accuracy: 0.4615"
     ]
    },
    {
     "name": "stderr",
     "output_type": "stream",
     "text": [
      "WARNING:absl:Found untraced functions such as _jit_compiled_convolution_op, _jit_compiled_convolution_op, _jit_compiled_convolution_op, _update_step_xla while saving (showing 4 of 4). These functions will not be directly callable after loading.\n"
     ]
    },
    {
     "name": "stdout",
     "output_type": "stream",
     "text": [
      "INFO:tensorflow:Assets written to: patience=10, restore_best_weights=True\\assets\n"
     ]
    },
    {
     "name": "stderr",
     "output_type": "stream",
     "text": [
      "INFO:tensorflow:Assets written to: patience=10, restore_best_weights=True\\assets\n"
     ]
    },
    {
     "name": "stdout",
     "output_type": "stream",
     "text": [
      "2/2 [==============================] - 4s 3s/step - loss: 1.6775 - accuracy: 0.4615 - val_loss: 1.3176 - val_accuracy: 0.5385\n",
      "Epoch 18/50\n",
      "2/2 [==============================] - ETA: 0s - loss: 1.9211 - accuracy: 0.4359"
     ]
    },
    {
     "name": "stderr",
     "output_type": "stream",
     "text": [
      "WARNING:absl:Found untraced functions such as _jit_compiled_convolution_op, _jit_compiled_convolution_op, _jit_compiled_convolution_op, _update_step_xla while saving (showing 4 of 4). These functions will not be directly callable after loading.\n"
     ]
    },
    {
     "name": "stdout",
     "output_type": "stream",
     "text": [
      "INFO:tensorflow:Assets written to: patience=10, restore_best_weights=True\\assets\n"
     ]
    },
    {
     "name": "stderr",
     "output_type": "stream",
     "text": [
      "INFO:tensorflow:Assets written to: patience=10, restore_best_weights=True\\assets\n"
     ]
    },
    {
     "name": "stdout",
     "output_type": "stream",
     "text": [
      "2/2 [==============================] - 3s 2s/step - loss: 1.9211 - accuracy: 0.4359 - val_loss: 1.1024 - val_accuracy: 0.6154\n",
      "Epoch 19/50\n",
      "2/2 [==============================] - ETA: 0s - loss: 1.9025 - accuracy: 0.4359"
     ]
    },
    {
     "name": "stderr",
     "output_type": "stream",
     "text": [
      "WARNING:absl:Found untraced functions such as _jit_compiled_convolution_op, _jit_compiled_convolution_op, _jit_compiled_convolution_op, _update_step_xla while saving (showing 4 of 4). These functions will not be directly callable after loading.\n"
     ]
    },
    {
     "name": "stdout",
     "output_type": "stream",
     "text": [
      "INFO:tensorflow:Assets written to: patience=10, restore_best_weights=True\\assets\n"
     ]
    },
    {
     "name": "stderr",
     "output_type": "stream",
     "text": [
      "INFO:tensorflow:Assets written to: patience=10, restore_best_weights=True\\assets\n"
     ]
    },
    {
     "name": "stdout",
     "output_type": "stream",
     "text": [
      "2/2 [==============================] - 3s 2s/step - loss: 1.9025 - accuracy: 0.4359 - val_loss: 1.0366 - val_accuracy: 0.6923\n",
      "Epoch 20/50\n",
      "2/2 [==============================] - ETA: 0s - loss: 1.5049 - accuracy: 0.5128"
     ]
    },
    {
     "name": "stderr",
     "output_type": "stream",
     "text": [
      "WARNING:absl:Found untraced functions such as _jit_compiled_convolution_op, _jit_compiled_convolution_op, _jit_compiled_convolution_op, _update_step_xla while saving (showing 4 of 4). These functions will not be directly callable after loading.\n"
     ]
    },
    {
     "name": "stdout",
     "output_type": "stream",
     "text": [
      "INFO:tensorflow:Assets written to: patience=10, restore_best_weights=True\\assets\n"
     ]
    },
    {
     "name": "stderr",
     "output_type": "stream",
     "text": [
      "INFO:tensorflow:Assets written to: patience=10, restore_best_weights=True\\assets\n"
     ]
    },
    {
     "name": "stdout",
     "output_type": "stream",
     "text": [
      "2/2 [==============================] - 3s 2s/step - loss: 1.5049 - accuracy: 0.5128 - val_loss: 1.0654 - val_accuracy: 0.7436\n",
      "Epoch 21/50\n",
      "2/2 [==============================] - ETA: 0s - loss: 1.3061 - accuracy: 0.5641"
     ]
    },
    {
     "name": "stderr",
     "output_type": "stream",
     "text": [
      "WARNING:absl:Found untraced functions such as _jit_compiled_convolution_op, _jit_compiled_convolution_op, _jit_compiled_convolution_op, _update_step_xla while saving (showing 4 of 4). These functions will not be directly callable after loading.\n"
     ]
    },
    {
     "name": "stdout",
     "output_type": "stream",
     "text": [
      "INFO:tensorflow:Assets written to: patience=10, restore_best_weights=True\\assets\n"
     ]
    },
    {
     "name": "stderr",
     "output_type": "stream",
     "text": [
      "INFO:tensorflow:Assets written to: patience=10, restore_best_weights=True\\assets\n"
     ]
    },
    {
     "name": "stdout",
     "output_type": "stream",
     "text": [
      "2/2 [==============================] - 3s 2s/step - loss: 1.3061 - accuracy: 0.5641 - val_loss: 0.9799 - val_accuracy: 0.6667\n",
      "Epoch 22/50\n",
      "2/2 [==============================] - ETA: 0s - loss: 1.4248 - accuracy: 0.5128"
     ]
    },
    {
     "name": "stderr",
     "output_type": "stream",
     "text": [
      "WARNING:absl:Found untraced functions such as _jit_compiled_convolution_op, _jit_compiled_convolution_op, _jit_compiled_convolution_op, _update_step_xla while saving (showing 4 of 4). These functions will not be directly callable after loading.\n"
     ]
    },
    {
     "name": "stdout",
     "output_type": "stream",
     "text": [
      "INFO:tensorflow:Assets written to: patience=10, restore_best_weights=True\\assets\n"
     ]
    },
    {
     "name": "stderr",
     "output_type": "stream",
     "text": [
      "INFO:tensorflow:Assets written to: patience=10, restore_best_weights=True\\assets\n"
     ]
    },
    {
     "name": "stdout",
     "output_type": "stream",
     "text": [
      "2/2 [==============================] - 3s 2s/step - loss: 1.4248 - accuracy: 0.5128 - val_loss: 0.8779 - val_accuracy: 0.6923\n",
      "Epoch 23/50\n",
      "2/2 [==============================] - ETA: 0s - loss: 1.2378 - accuracy: 0.5641"
     ]
    },
    {
     "name": "stderr",
     "output_type": "stream",
     "text": [
      "WARNING:absl:Found untraced functions such as _jit_compiled_convolution_op, _jit_compiled_convolution_op, _jit_compiled_convolution_op, _update_step_xla while saving (showing 4 of 4). These functions will not be directly callable after loading.\n"
     ]
    },
    {
     "name": "stdout",
     "output_type": "stream",
     "text": [
      "INFO:tensorflow:Assets written to: patience=10, restore_best_weights=True\\assets\n"
     ]
    },
    {
     "name": "stderr",
     "output_type": "stream",
     "text": [
      "INFO:tensorflow:Assets written to: patience=10, restore_best_weights=True\\assets\n"
     ]
    },
    {
     "name": "stdout",
     "output_type": "stream",
     "text": [
      "2/2 [==============================] - 2s 2s/step - loss: 1.2378 - accuracy: 0.5641 - val_loss: 0.8133 - val_accuracy: 0.6923\n",
      "Epoch 24/50\n",
      "2/2 [==============================] - ETA: 0s - loss: 1.0217 - accuracy: 0.6923"
     ]
    },
    {
     "name": "stderr",
     "output_type": "stream",
     "text": [
      "WARNING:absl:Found untraced functions such as _jit_compiled_convolution_op, _jit_compiled_convolution_op, _jit_compiled_convolution_op, _update_step_xla while saving (showing 4 of 4). These functions will not be directly callable after loading.\n"
     ]
    },
    {
     "name": "stdout",
     "output_type": "stream",
     "text": [
      "INFO:tensorflow:Assets written to: patience=10, restore_best_weights=True\\assets\n"
     ]
    },
    {
     "name": "stderr",
     "output_type": "stream",
     "text": [
      "INFO:tensorflow:Assets written to: patience=10, restore_best_weights=True\\assets\n"
     ]
    },
    {
     "name": "stdout",
     "output_type": "stream",
     "text": [
      "2/2 [==============================] - 3s 2s/step - loss: 1.0217 - accuracy: 0.6923 - val_loss: 0.7793 - val_accuracy: 0.7436\n",
      "Epoch 25/50\n",
      "2/2 [==============================] - ETA: 0s - loss: 1.3365 - accuracy: 0.5128"
     ]
    },
    {
     "name": "stderr",
     "output_type": "stream",
     "text": [
      "WARNING:absl:Found untraced functions such as _jit_compiled_convolution_op, _jit_compiled_convolution_op, _jit_compiled_convolution_op, _update_step_xla while saving (showing 4 of 4). These functions will not be directly callable after loading.\n"
     ]
    },
    {
     "name": "stdout",
     "output_type": "stream",
     "text": [
      "INFO:tensorflow:Assets written to: patience=10, restore_best_weights=True\\assets\n"
     ]
    },
    {
     "name": "stderr",
     "output_type": "stream",
     "text": [
      "INFO:tensorflow:Assets written to: patience=10, restore_best_weights=True\\assets\n"
     ]
    },
    {
     "name": "stdout",
     "output_type": "stream",
     "text": [
      "2/2 [==============================] - 3s 2s/step - loss: 1.3365 - accuracy: 0.5128 - val_loss: 0.7205 - val_accuracy: 0.7949\n",
      "Epoch 26/50\n",
      "2/2 [==============================] - ETA: 0s - loss: 1.3356 - accuracy: 0.5641"
     ]
    },
    {
     "name": "stderr",
     "output_type": "stream",
     "text": [
      "WARNING:absl:Found untraced functions such as _jit_compiled_convolution_op, _jit_compiled_convolution_op, _jit_compiled_convolution_op, _update_step_xla while saving (showing 4 of 4). These functions will not be directly callable after loading.\n"
     ]
    },
    {
     "name": "stdout",
     "output_type": "stream",
     "text": [
      "INFO:tensorflow:Assets written to: patience=10, restore_best_weights=True\\assets\n"
     ]
    },
    {
     "name": "stderr",
     "output_type": "stream",
     "text": [
      "INFO:tensorflow:Assets written to: patience=10, restore_best_weights=True\\assets\n"
     ]
    },
    {
     "name": "stdout",
     "output_type": "stream",
     "text": [
      "2/2 [==============================] - 3s 3s/step - loss: 1.3356 - accuracy: 0.5641 - val_loss: 0.6300 - val_accuracy: 0.7692\n",
      "Epoch 27/50\n",
      "2/2 [==============================] - ETA: 0s - loss: 1.1396 - accuracy: 0.6923"
     ]
    },
    {
     "name": "stderr",
     "output_type": "stream",
     "text": [
      "WARNING:absl:Found untraced functions such as _jit_compiled_convolution_op, _jit_compiled_convolution_op, _jit_compiled_convolution_op, _update_step_xla while saving (showing 4 of 4). These functions will not be directly callable after loading.\n"
     ]
    },
    {
     "name": "stdout",
     "output_type": "stream",
     "text": [
      "INFO:tensorflow:Assets written to: patience=10, restore_best_weights=True\\assets\n"
     ]
    },
    {
     "name": "stderr",
     "output_type": "stream",
     "text": [
      "INFO:tensorflow:Assets written to: patience=10, restore_best_weights=True\\assets\n"
     ]
    },
    {
     "name": "stdout",
     "output_type": "stream",
     "text": [
      "2/2 [==============================] - 2s 2s/step - loss: 1.1396 - accuracy: 0.6923 - val_loss: 0.5937 - val_accuracy: 0.8205\n",
      "Epoch 28/50\n",
      "2/2 [==============================] - ETA: 0s - loss: 0.8938 - accuracy: 0.6923"
     ]
    },
    {
     "name": "stderr",
     "output_type": "stream",
     "text": [
      "WARNING:absl:Found untraced functions such as _jit_compiled_convolution_op, _jit_compiled_convolution_op, _jit_compiled_convolution_op, _update_step_xla while saving (showing 4 of 4). These functions will not be directly callable after loading.\n"
     ]
    },
    {
     "name": "stdout",
     "output_type": "stream",
     "text": [
      "INFO:tensorflow:Assets written to: patience=10, restore_best_weights=True\\assets\n"
     ]
    },
    {
     "name": "stderr",
     "output_type": "stream",
     "text": [
      "INFO:tensorflow:Assets written to: patience=10, restore_best_weights=True\\assets\n"
     ]
    },
    {
     "name": "stdout",
     "output_type": "stream",
     "text": [
      "2/2 [==============================] - 3s 2s/step - loss: 0.8938 - accuracy: 0.6923 - val_loss: 0.5693 - val_accuracy: 0.7949\n",
      "Epoch 29/50\n",
      "2/2 [==============================] - ETA: 0s - loss: 0.8879 - accuracy: 0.6410"
     ]
    },
    {
     "name": "stderr",
     "output_type": "stream",
     "text": [
      "WARNING:absl:Found untraced functions such as _jit_compiled_convolution_op, _jit_compiled_convolution_op, _jit_compiled_convolution_op, _update_step_xla while saving (showing 4 of 4). These functions will not be directly callable after loading.\n"
     ]
    },
    {
     "name": "stdout",
     "output_type": "stream",
     "text": [
      "INFO:tensorflow:Assets written to: patience=10, restore_best_weights=True\\assets\n"
     ]
    },
    {
     "name": "stderr",
     "output_type": "stream",
     "text": [
      "INFO:tensorflow:Assets written to: patience=10, restore_best_weights=True\\assets\n"
     ]
    },
    {
     "name": "stdout",
     "output_type": "stream",
     "text": [
      "2/2 [==============================] - 2s 2s/step - loss: 0.8879 - accuracy: 0.6410 - val_loss: 0.5368 - val_accuracy: 0.7949\n",
      "Epoch 30/50\n",
      "2/2 [==============================] - ETA: 0s - loss: 0.8472 - accuracy: 0.6410"
     ]
    },
    {
     "name": "stderr",
     "output_type": "stream",
     "text": [
      "WARNING:absl:Found untraced functions such as _jit_compiled_convolution_op, _jit_compiled_convolution_op, _jit_compiled_convolution_op, _update_step_xla while saving (showing 4 of 4). These functions will not be directly callable after loading.\n"
     ]
    },
    {
     "name": "stdout",
     "output_type": "stream",
     "text": [
      "INFO:tensorflow:Assets written to: patience=10, restore_best_weights=True\\assets\n"
     ]
    },
    {
     "name": "stderr",
     "output_type": "stream",
     "text": [
      "INFO:tensorflow:Assets written to: patience=10, restore_best_weights=True\\assets\n"
     ]
    },
    {
     "name": "stdout",
     "output_type": "stream",
     "text": [
      "2/2 [==============================] - 3s 2s/step - loss: 0.8472 - accuracy: 0.6410 - val_loss: 0.5240 - val_accuracy: 0.7949\n",
      "Epoch 31/50\n",
      "2/2 [==============================] - ETA: 0s - loss: 0.8378 - accuracy: 0.6923"
     ]
    },
    {
     "name": "stderr",
     "output_type": "stream",
     "text": [
      "WARNING:absl:Found untraced functions such as _jit_compiled_convolution_op, _jit_compiled_convolution_op, _jit_compiled_convolution_op, _update_step_xla while saving (showing 4 of 4). These functions will not be directly callable after loading.\n"
     ]
    },
    {
     "name": "stdout",
     "output_type": "stream",
     "text": [
      "INFO:tensorflow:Assets written to: patience=10, restore_best_weights=True\\assets\n"
     ]
    },
    {
     "name": "stderr",
     "output_type": "stream",
     "text": [
      "INFO:tensorflow:Assets written to: patience=10, restore_best_weights=True\\assets\n"
     ]
    },
    {
     "name": "stdout",
     "output_type": "stream",
     "text": [
      "2/2 [==============================] - 2s 2s/step - loss: 0.8378 - accuracy: 0.6923 - val_loss: 0.5088 - val_accuracy: 0.8462\n",
      "Epoch 32/50\n",
      "2/2 [==============================] - ETA: 0s - loss: 0.8565 - accuracy: 0.6410"
     ]
    },
    {
     "name": "stderr",
     "output_type": "stream",
     "text": [
      "WARNING:absl:Found untraced functions such as _jit_compiled_convolution_op, _jit_compiled_convolution_op, _jit_compiled_convolution_op, _update_step_xla while saving (showing 4 of 4). These functions will not be directly callable after loading.\n"
     ]
    },
    {
     "name": "stdout",
     "output_type": "stream",
     "text": [
      "INFO:tensorflow:Assets written to: patience=10, restore_best_weights=True\\assets\n"
     ]
    },
    {
     "name": "stderr",
     "output_type": "stream",
     "text": [
      "INFO:tensorflow:Assets written to: patience=10, restore_best_weights=True\\assets\n"
     ]
    },
    {
     "name": "stdout",
     "output_type": "stream",
     "text": [
      "2/2 [==============================] - 2s 2s/step - loss: 0.8565 - accuracy: 0.6410 - val_loss: 0.4982 - val_accuracy: 0.8205\n",
      "Epoch 33/50\n",
      "2/2 [==============================] - ETA: 0s - loss: 0.8398 - accuracy: 0.7436"
     ]
    },
    {
     "name": "stderr",
     "output_type": "stream",
     "text": [
      "WARNING:absl:Found untraced functions such as _jit_compiled_convolution_op, _jit_compiled_convolution_op, _jit_compiled_convolution_op, _update_step_xla while saving (showing 4 of 4). These functions will not be directly callable after loading.\n"
     ]
    },
    {
     "name": "stdout",
     "output_type": "stream",
     "text": [
      "INFO:tensorflow:Assets written to: patience=10, restore_best_weights=True\\assets\n"
     ]
    },
    {
     "name": "stderr",
     "output_type": "stream",
     "text": [
      "INFO:tensorflow:Assets written to: patience=10, restore_best_weights=True\\assets\n"
     ]
    },
    {
     "name": "stdout",
     "output_type": "stream",
     "text": [
      "2/2 [==============================] - 2s 2s/step - loss: 0.8398 - accuracy: 0.7436 - val_loss: 0.4867 - val_accuracy: 0.8205\n",
      "Epoch 34/50\n",
      "2/2 [==============================] - ETA: 0s - loss: 0.6286 - accuracy: 0.7949"
     ]
    },
    {
     "name": "stderr",
     "output_type": "stream",
     "text": [
      "WARNING:absl:Found untraced functions such as _jit_compiled_convolution_op, _jit_compiled_convolution_op, _jit_compiled_convolution_op, _update_step_xla while saving (showing 4 of 4). These functions will not be directly callable after loading.\n"
     ]
    },
    {
     "name": "stdout",
     "output_type": "stream",
     "text": [
      "INFO:tensorflow:Assets written to: patience=10, restore_best_weights=True\\assets\n"
     ]
    },
    {
     "name": "stderr",
     "output_type": "stream",
     "text": [
      "INFO:tensorflow:Assets written to: patience=10, restore_best_weights=True\\assets\n"
     ]
    },
    {
     "name": "stdout",
     "output_type": "stream",
     "text": [
      "2/2 [==============================] - 2s 2s/step - loss: 0.6286 - accuracy: 0.7949 - val_loss: 0.4639 - val_accuracy: 0.8462\n",
      "Epoch 35/50\n",
      "2/2 [==============================] - ETA: 0s - loss: 0.6356 - accuracy: 0.7436"
     ]
    },
    {
     "name": "stderr",
     "output_type": "stream",
     "text": [
      "WARNING:absl:Found untraced functions such as _jit_compiled_convolution_op, _jit_compiled_convolution_op, _jit_compiled_convolution_op, _update_step_xla while saving (showing 4 of 4). These functions will not be directly callable after loading.\n"
     ]
    },
    {
     "name": "stdout",
     "output_type": "stream",
     "text": [
      "INFO:tensorflow:Assets written to: patience=10, restore_best_weights=True\\assets\n"
     ]
    },
    {
     "name": "stderr",
     "output_type": "stream",
     "text": [
      "INFO:tensorflow:Assets written to: patience=10, restore_best_weights=True\\assets\n"
     ]
    },
    {
     "name": "stdout",
     "output_type": "stream",
     "text": [
      "2/2 [==============================] - 2s 2s/step - loss: 0.6356 - accuracy: 0.7436 - val_loss: 0.4264 - val_accuracy: 0.8205\n",
      "Epoch 36/50\n",
      "2/2 [==============================] - ETA: 0s - loss: 0.8326 - accuracy: 0.7436"
     ]
    },
    {
     "name": "stderr",
     "output_type": "stream",
     "text": [
      "WARNING:absl:Found untraced functions such as _jit_compiled_convolution_op, _jit_compiled_convolution_op, _jit_compiled_convolution_op, _update_step_xla while saving (showing 4 of 4). These functions will not be directly callable after loading.\n"
     ]
    },
    {
     "name": "stdout",
     "output_type": "stream",
     "text": [
      "INFO:tensorflow:Assets written to: patience=10, restore_best_weights=True\\assets\n"
     ]
    },
    {
     "name": "stderr",
     "output_type": "stream",
     "text": [
      "INFO:tensorflow:Assets written to: patience=10, restore_best_weights=True\\assets\n"
     ]
    },
    {
     "name": "stdout",
     "output_type": "stream",
     "text": [
      "2/2 [==============================] - 3s 2s/step - loss: 0.8326 - accuracy: 0.7436 - val_loss: 0.3971 - val_accuracy: 0.8205\n",
      "Epoch 37/50\n",
      "2/2 [==============================] - ETA: 0s - loss: 0.7016 - accuracy: 0.7436"
     ]
    },
    {
     "name": "stderr",
     "output_type": "stream",
     "text": [
      "WARNING:absl:Found untraced functions such as _jit_compiled_convolution_op, _jit_compiled_convolution_op, _jit_compiled_convolution_op, _update_step_xla while saving (showing 4 of 4). These functions will not be directly callable after loading.\n"
     ]
    },
    {
     "name": "stdout",
     "output_type": "stream",
     "text": [
      "INFO:tensorflow:Assets written to: patience=10, restore_best_weights=True\\assets\n"
     ]
    },
    {
     "name": "stderr",
     "output_type": "stream",
     "text": [
      "INFO:tensorflow:Assets written to: patience=10, restore_best_weights=True\\assets\n"
     ]
    },
    {
     "name": "stdout",
     "output_type": "stream",
     "text": [
      "2/2 [==============================] - 3s 2s/step - loss: 0.7016 - accuracy: 0.7436 - val_loss: 0.3932 - val_accuracy: 0.8462\n",
      "Epoch 38/50\n",
      "2/2 [==============================] - ETA: 0s - loss: 0.6746 - accuracy: 0.7949"
     ]
    },
    {
     "name": "stderr",
     "output_type": "stream",
     "text": [
      "WARNING:absl:Found untraced functions such as _jit_compiled_convolution_op, _jit_compiled_convolution_op, _jit_compiled_convolution_op, _update_step_xla while saving (showing 4 of 4). These functions will not be directly callable after loading.\n"
     ]
    },
    {
     "name": "stdout",
     "output_type": "stream",
     "text": [
      "INFO:tensorflow:Assets written to: patience=10, restore_best_weights=True\\assets\n"
     ]
    },
    {
     "name": "stderr",
     "output_type": "stream",
     "text": [
      "INFO:tensorflow:Assets written to: patience=10, restore_best_weights=True\\assets\n"
     ]
    },
    {
     "name": "stdout",
     "output_type": "stream",
     "text": [
      "2/2 [==============================] - 3s 2s/step - loss: 0.6746 - accuracy: 0.7949 - val_loss: 0.3748 - val_accuracy: 0.8462\n",
      "Epoch 39/50\n",
      "2/2 [==============================] - ETA: 0s - loss: 0.5930 - accuracy: 0.7436"
     ]
    },
    {
     "name": "stderr",
     "output_type": "stream",
     "text": [
      "WARNING:absl:Found untraced functions such as _jit_compiled_convolution_op, _jit_compiled_convolution_op, _jit_compiled_convolution_op, _update_step_xla while saving (showing 4 of 4). These functions will not be directly callable after loading.\n"
     ]
    },
    {
     "name": "stdout",
     "output_type": "stream",
     "text": [
      "INFO:tensorflow:Assets written to: patience=10, restore_best_weights=True\\assets\n"
     ]
    },
    {
     "name": "stderr",
     "output_type": "stream",
     "text": [
      "INFO:tensorflow:Assets written to: patience=10, restore_best_weights=True\\assets\n"
     ]
    },
    {
     "name": "stdout",
     "output_type": "stream",
     "text": [
      "2/2 [==============================] - 2s 2s/step - loss: 0.5930 - accuracy: 0.7436 - val_loss: 0.3523 - val_accuracy: 0.8462\n",
      "Epoch 40/50\n",
      "2/2 [==============================] - ETA: 0s - loss: 0.6722 - accuracy: 0.7692"
     ]
    },
    {
     "name": "stderr",
     "output_type": "stream",
     "text": [
      "WARNING:absl:Found untraced functions such as _jit_compiled_convolution_op, _jit_compiled_convolution_op, _jit_compiled_convolution_op, _update_step_xla while saving (showing 4 of 4). These functions will not be directly callable after loading.\n"
     ]
    },
    {
     "name": "stdout",
     "output_type": "stream",
     "text": [
      "INFO:tensorflow:Assets written to: patience=10, restore_best_weights=True\\assets\n"
     ]
    },
    {
     "name": "stderr",
     "output_type": "stream",
     "text": [
      "INFO:tensorflow:Assets written to: patience=10, restore_best_weights=True\\assets\n"
     ]
    },
    {
     "name": "stdout",
     "output_type": "stream",
     "text": [
      "2/2 [==============================] - 3s 2s/step - loss: 0.6722 - accuracy: 0.7692 - val_loss: 0.3337 - val_accuracy: 0.8974\n",
      "Epoch 41/50\n",
      "2/2 [==============================] - ETA: 0s - loss: 0.5304 - accuracy: 0.7949"
     ]
    },
    {
     "name": "stderr",
     "output_type": "stream",
     "text": [
      "WARNING:absl:Found untraced functions such as _jit_compiled_convolution_op, _jit_compiled_convolution_op, _jit_compiled_convolution_op, _update_step_xla while saving (showing 4 of 4). These functions will not be directly callable after loading.\n"
     ]
    },
    {
     "name": "stdout",
     "output_type": "stream",
     "text": [
      "INFO:tensorflow:Assets written to: patience=10, restore_best_weights=True\\assets\n"
     ]
    },
    {
     "name": "stderr",
     "output_type": "stream",
     "text": [
      "INFO:tensorflow:Assets written to: patience=10, restore_best_weights=True\\assets\n"
     ]
    },
    {
     "name": "stdout",
     "output_type": "stream",
     "text": [
      "2/2 [==============================] - 3s 2s/step - loss: 0.5304 - accuracy: 0.7949 - val_loss: 0.3004 - val_accuracy: 0.8718\n",
      "Epoch 42/50\n",
      "2/2 [==============================] - ETA: 0s - loss: 0.4384 - accuracy: 0.7949"
     ]
    },
    {
     "name": "stderr",
     "output_type": "stream",
     "text": [
      "WARNING:absl:Found untraced functions such as _jit_compiled_convolution_op, _jit_compiled_convolution_op, _jit_compiled_convolution_op, _update_step_xla while saving (showing 4 of 4). These functions will not be directly callable after loading.\n"
     ]
    },
    {
     "name": "stdout",
     "output_type": "stream",
     "text": [
      "INFO:tensorflow:Assets written to: patience=10, restore_best_weights=True\\assets\n"
     ]
    },
    {
     "name": "stderr",
     "output_type": "stream",
     "text": [
      "INFO:tensorflow:Assets written to: patience=10, restore_best_weights=True\\assets\n"
     ]
    },
    {
     "name": "stdout",
     "output_type": "stream",
     "text": [
      "2/2 [==============================] - 3s 2s/step - loss: 0.4384 - accuracy: 0.7949 - val_loss: 0.2820 - val_accuracy: 0.8462\n",
      "Epoch 43/50\n",
      "2/2 [==============================] - ETA: 0s - loss: 0.6279 - accuracy: 0.7436"
     ]
    },
    {
     "name": "stderr",
     "output_type": "stream",
     "text": [
      "WARNING:absl:Found untraced functions such as _jit_compiled_convolution_op, _jit_compiled_convolution_op, _jit_compiled_convolution_op, _update_step_xla while saving (showing 4 of 4). These functions will not be directly callable after loading.\n"
     ]
    },
    {
     "name": "stdout",
     "output_type": "stream",
     "text": [
      "INFO:tensorflow:Assets written to: patience=10, restore_best_weights=True\\assets\n"
     ]
    },
    {
     "name": "stderr",
     "output_type": "stream",
     "text": [
      "INFO:tensorflow:Assets written to: patience=10, restore_best_weights=True\\assets\n"
     ]
    },
    {
     "name": "stdout",
     "output_type": "stream",
     "text": [
      "2/2 [==============================] - 2s 2s/step - loss: 0.6279 - accuracy: 0.7436 - val_loss: 0.2668 - val_accuracy: 0.8718\n",
      "Epoch 44/50\n",
      "2/2 [==============================] - ETA: 0s - loss: 0.5419 - accuracy: 0.8462"
     ]
    },
    {
     "name": "stderr",
     "output_type": "stream",
     "text": [
      "WARNING:absl:Found untraced functions such as _jit_compiled_convolution_op, _jit_compiled_convolution_op, _jit_compiled_convolution_op, _update_step_xla while saving (showing 4 of 4). These functions will not be directly callable after loading.\n"
     ]
    },
    {
     "name": "stdout",
     "output_type": "stream",
     "text": [
      "INFO:tensorflow:Assets written to: patience=10, restore_best_weights=True\\assets\n"
     ]
    },
    {
     "name": "stderr",
     "output_type": "stream",
     "text": [
      "INFO:tensorflow:Assets written to: patience=10, restore_best_weights=True\\assets\n"
     ]
    },
    {
     "name": "stdout",
     "output_type": "stream",
     "text": [
      "2/2 [==============================] - 2s 2s/step - loss: 0.5419 - accuracy: 0.8462 - val_loss: 0.2367 - val_accuracy: 0.9487\n",
      "Epoch 45/50\n",
      "2/2 [==============================] - ETA: 0s - loss: 0.3020 - accuracy: 0.8974"
     ]
    },
    {
     "name": "stderr",
     "output_type": "stream",
     "text": [
      "WARNING:absl:Found untraced functions such as _jit_compiled_convolution_op, _jit_compiled_convolution_op, _jit_compiled_convolution_op, _update_step_xla while saving (showing 4 of 4). These functions will not be directly callable after loading.\n"
     ]
    },
    {
     "name": "stdout",
     "output_type": "stream",
     "text": [
      "INFO:tensorflow:Assets written to: patience=10, restore_best_weights=True\\assets\n"
     ]
    },
    {
     "name": "stderr",
     "output_type": "stream",
     "text": [
      "INFO:tensorflow:Assets written to: patience=10, restore_best_weights=True\\assets\n"
     ]
    },
    {
     "name": "stdout",
     "output_type": "stream",
     "text": [
      "2/2 [==============================] - 2s 2s/step - loss: 0.3020 - accuracy: 0.8974 - val_loss: 0.2301 - val_accuracy: 0.9231\n",
      "Epoch 46/50\n",
      "2/2 [==============================] - ETA: 0s - loss: 0.6475 - accuracy: 0.8205"
     ]
    },
    {
     "name": "stderr",
     "output_type": "stream",
     "text": [
      "WARNING:absl:Found untraced functions such as _jit_compiled_convolution_op, _jit_compiled_convolution_op, _jit_compiled_convolution_op, _update_step_xla while saving (showing 4 of 4). These functions will not be directly callable after loading.\n"
     ]
    },
    {
     "name": "stdout",
     "output_type": "stream",
     "text": [
      "INFO:tensorflow:Assets written to: patience=10, restore_best_weights=True\\assets\n"
     ]
    },
    {
     "name": "stderr",
     "output_type": "stream",
     "text": [
      "INFO:tensorflow:Assets written to: patience=10, restore_best_weights=True\\assets\n"
     ]
    },
    {
     "name": "stdout",
     "output_type": "stream",
     "text": [
      "2/2 [==============================] - 2s 2s/step - loss: 0.6475 - accuracy: 0.8205 - val_loss: 0.2504 - val_accuracy: 0.9231\n",
      "Epoch 47/50\n",
      "2/2 [==============================] - ETA: 0s - loss: 0.4918 - accuracy: 0.7949"
     ]
    },
    {
     "name": "stderr",
     "output_type": "stream",
     "text": [
      "WARNING:absl:Found untraced functions such as _jit_compiled_convolution_op, _jit_compiled_convolution_op, _jit_compiled_convolution_op, _update_step_xla while saving (showing 4 of 4). These functions will not be directly callable after loading.\n"
     ]
    },
    {
     "name": "stdout",
     "output_type": "stream",
     "text": [
      "INFO:tensorflow:Assets written to: patience=10, restore_best_weights=True\\assets\n"
     ]
    },
    {
     "name": "stderr",
     "output_type": "stream",
     "text": [
      "INFO:tensorflow:Assets written to: patience=10, restore_best_weights=True\\assets\n"
     ]
    },
    {
     "name": "stdout",
     "output_type": "stream",
     "text": [
      "2/2 [==============================] - 2s 2s/step - loss: 0.4918 - accuracy: 0.7949 - val_loss: 0.2747 - val_accuracy: 0.8974\n",
      "Epoch 48/50\n",
      "2/2 [==============================] - ETA: 0s - loss: 0.4857 - accuracy: 0.8205"
     ]
    },
    {
     "name": "stderr",
     "output_type": "stream",
     "text": [
      "WARNING:absl:Found untraced functions such as _jit_compiled_convolution_op, _jit_compiled_convolution_op, _jit_compiled_convolution_op, _update_step_xla while saving (showing 4 of 4). These functions will not be directly callable after loading.\n"
     ]
    },
    {
     "name": "stdout",
     "output_type": "stream",
     "text": [
      "INFO:tensorflow:Assets written to: patience=10, restore_best_weights=True\\assets\n"
     ]
    },
    {
     "name": "stderr",
     "output_type": "stream",
     "text": [
      "INFO:tensorflow:Assets written to: patience=10, restore_best_weights=True\\assets\n"
     ]
    },
    {
     "name": "stdout",
     "output_type": "stream",
     "text": [
      "2/2 [==============================] - 2s 2s/step - loss: 0.4857 - accuracy: 0.8205 - val_loss: 0.2938 - val_accuracy: 0.8974\n",
      "Epoch 49/50\n",
      "2/2 [==============================] - ETA: 0s - loss: 0.4587 - accuracy: 0.8718"
     ]
    },
    {
     "name": "stderr",
     "output_type": "stream",
     "text": [
      "WARNING:absl:Found untraced functions such as _jit_compiled_convolution_op, _jit_compiled_convolution_op, _jit_compiled_convolution_op, _update_step_xla while saving (showing 4 of 4). These functions will not be directly callable after loading.\n"
     ]
    },
    {
     "name": "stdout",
     "output_type": "stream",
     "text": [
      "INFO:tensorflow:Assets written to: patience=10, restore_best_weights=True\\assets\n"
     ]
    },
    {
     "name": "stderr",
     "output_type": "stream",
     "text": [
      "INFO:tensorflow:Assets written to: patience=10, restore_best_weights=True\\assets\n"
     ]
    },
    {
     "name": "stdout",
     "output_type": "stream",
     "text": [
      "2/2 [==============================] - 2s 2s/step - loss: 0.4587 - accuracy: 0.8718 - val_loss: 0.2865 - val_accuracy: 0.8718\n",
      "Epoch 50/50\n",
      "2/2 [==============================] - ETA: 0s - loss: 0.4276 - accuracy: 0.8718"
     ]
    },
    {
     "name": "stderr",
     "output_type": "stream",
     "text": [
      "WARNING:absl:Found untraced functions such as _jit_compiled_convolution_op, _jit_compiled_convolution_op, _jit_compiled_convolution_op, _update_step_xla while saving (showing 4 of 4). These functions will not be directly callable after loading.\n"
     ]
    },
    {
     "name": "stdout",
     "output_type": "stream",
     "text": [
      "INFO:tensorflow:Assets written to: patience=10, restore_best_weights=True\\assets\n"
     ]
    },
    {
     "name": "stderr",
     "output_type": "stream",
     "text": [
      "INFO:tensorflow:Assets written to: patience=10, restore_best_weights=True\\assets\n"
     ]
    },
    {
     "name": "stdout",
     "output_type": "stream",
     "text": [
      "2/2 [==============================] - 2s 2s/step - loss: 0.4276 - accuracy: 0.8718 - val_loss: 0.2701 - val_accuracy: 0.8974\n"
     ]
    }
   ],
   "source": [
    "# Train the model\n",
    "history = model.fit(images, encoded_labels, epochs=50,\n",
    "                    validation_data=(images, encoded_labels),\n",
    "                    callbacks=[checkpoint_cb, early_stopping_cb])"
   ]
  },
  {
   "cell_type": "markdown",
   "id": "1df1e1fe",
   "metadata": {},
   "source": [
    "# Evaluating the Model"
   ]
  },
  {
   "cell_type": "code",
   "execution_count": 16,
   "id": "fe065250",
   "metadata": {
    "scrolled": true
   },
   "outputs": [
    {
     "name": "stdout",
     "output_type": "stream",
     "text": [
      "2/2 [==============================] - 0s 45ms/step - loss: 0.2701 - accuracy: 0.8974\n"
     ]
    },
    {
     "data": {
      "text/plain": [
       "[0.270120769739151, 0.8974359035491943]"
      ]
     },
     "execution_count": 16,
     "metadata": {},
     "output_type": "execute_result"
    }
   ],
   "source": [
    "# Evaluating the model\n",
    "model.evaluate(images, encoded_labels)"
   ]
  },
  {
   "cell_type": "code",
   "execution_count": 15,
   "id": "4c18e60b",
   "metadata": {},
   "outputs": [
    {
     "name": "stdout",
     "output_type": "stream",
     "text": [
      "dict_keys(['loss', 'accuracy', 'val_loss', 'val_accuracy'])\n"
     ]
    }
   ],
   "source": [
    "print(history.history.keys())"
   ]
  },
  {
   "cell_type": "code",
   "execution_count": 14,
   "id": "3e22c675",
   "metadata": {},
   "outputs": [
    {
     "data": {
      "image/png": "[encoded data removed]",
      "text/plain": [
       "<Figure size 640x480 with 1 Axes>"
      ]
     },
     "metadata": {},
     "output_type": "display_data"
    }
   ],
   "source": [
    "# Plot Loss of both training and validation set\n",
    "import matplotlib.pyplot as plt\n",
    "\n",
    "plt.title('Compare the Loss in Training and Validation Set')\n",
    "plt.plot(history.history['loss'])\n",
    "plt.plot(history.history['val_loss'])\n",
    "plt.xlabel('epoch')\n",
    "plt.ylabel('loss')\n",
    "plt.legend(['train', 'val'])\n",
    "plt.show()"
   ]
  },
  {
   "cell_type": "code",
   "execution_count": 17,
   "id": "5348a34b",
   "metadata": {},
   "outputs": [
    {
     "data": {
      "image/png": "[encoded data removed]",
      "text/plain": [
       "<Figure size 640x480 with 1 Axes>"
      ]
     },
     "metadata": {},
     "output_type": "display_data"
    }
   ],
   "source": [
    "# Plot Loss of both training and validation set\n",
    "\n",
    "plt.title('Compare the Accuracy in Training and Validation Set')\n",
    "plt.plot(history.history['accuracy'])\n",
    "plt.plot(history.history['val_accuracy'])\n",
    "plt.xlabel('epoch')\n",
    "plt.ylabel('accuracy')\n",
    "plt.legend(['train', 'val'])\n",
    "plt.show()"
   ]
  },
  {
   "cell_type": "code",
   "execution_count": 18,
   "id": "c729e8c3",
   "metadata": {},
   "outputs": [
    {
     "data": {
      "text/plain": [
       "array([[0., 0., 0., 0., 0., 0., 0., 0., 0., 0., 0., 0., 0., 0., 0., 0.,\n",
       "        0., 0., 0., 0., 0., 0., 0., 0., 0., 0., 0., 0., 0., 0., 0., 0.,\n",
       "        0., 1., 0., 0., 0., 0., 0.],\n",
       "       [0., 0., 0., 0., 0., 0., 0., 0., 0., 0., 0., 0., 0., 0., 0., 0.,\n",
       "        0., 0., 0., 0., 0., 0., 0., 0., 0., 0., 0., 0., 0., 0., 0., 0.,\n",
       "        0., 0., 0., 0., 1., 0., 0.],\n",
       "       [0., 0., 0., 0., 1., 0., 0., 0., 0., 0., 0., 0., 0., 0., 0., 0.,\n",
       "        0., 0., 0., 0., 0., 0., 0., 0., 0., 0., 0., 0., 0., 0., 0., 0.,\n",
       "        0., 0., 0., 0., 0., 0., 0.],\n",
       "       [0., 0., 0., 0., 0., 0., 0., 0., 0., 0., 0., 0., 0., 1., 0., 0.,\n",
       "        0., 0., 0., 0., 0., 0., 0., 0., 0., 0., 0., 0., 0., 0., 0., 0.,\n",
       "        0., 0., 0., 0., 0., 0., 0.],\n",
       "       [0., 0., 0., 0., 0., 0., 0., 0., 0., 0., 0., 0., 0., 0., 0., 0.,\n",
       "        0., 0., 0., 0., 0., 0., 0., 0., 0., 0., 0., 0., 0., 0., 1., 0.,\n",
       "        0., 0., 0., 0., 0., 0., 0.],\n",
       "       [0., 0., 0., 0., 0., 0., 0., 0., 0., 0., 0., 0., 0., 0., 0., 0.,\n",
       "        0., 0., 0., 0., 0., 0., 0., 0., 0., 0., 1., 0., 0., 0., 0., 0.,\n",
       "        0., 0., 0., 0., 0., 0., 0.],\n",
       "       [0., 0., 0., 0., 0., 0., 1., 0., 0., 0., 0., 0., 0., 0., 0., 0.,\n",
       "        0., 0., 0., 0., 0., 0., 0., 0., 0., 0., 0., 0., 0., 0., 0., 0.,\n",
       "        0., 0., 0., 0., 0., 0., 0.],\n",
       "       [0., 0., 0., 0., 0., 0., 0., 0., 0., 0., 0., 0., 0., 0., 0., 0.,\n",
       "        0., 0., 0., 0., 0., 0., 0., 0., 0., 0., 0., 1., 0., 0., 0., 0.,\n",
       "        0., 0., 0., 0., 0., 0., 0.]], dtype=float32)"
      ]
     },
     "execution_count": 18,
     "metadata": {},
     "output_type": "execute_result"
    }
   ],
   "source": [
    "y_test"
   ]
  },
  {
   "cell_type": "markdown",
   "id": "d469f0b2",
   "metadata": {},
   "source": [
    "## Confusion Matrix"
   ]
  },
  {
   "cell_type": "code",
   "execution_count": 19,
   "id": "7750abb4",
   "metadata": {
    "scrolled": true
   },
   "outputs": [
    {
     "name": "stdout",
     "output_type": "stream",
     "text": [
      "2/2 [==============================] - 0s 44ms/step\n",
      "[[1. 0. 0. ... 0. 0. 0.]\n",
      " [0. 1. 0. ... 0. 0. 0.]\n",
      " [0. 0. 0. ... 0. 0. 0.]\n",
      " ...\n",
      " [0. 0. 0. ... 1. 0. 0.]\n",
      " [0. 0. 0. ... 0. 1. 0.]\n",
      " [0. 0. 0. ... 0. 0. 1.]]\n"
     ]
    },
    {
     "data": {
      "image/png": "[encoded data removed]",
      "text/plain": [
       "<Figure size 3900x3900 with 2 Axes>"
      ]
     },
     "metadata": {},
     "output_type": "display_data"
    }
   ],
   "source": [
    "from sklearn.metrics import confusion_matrix, ConfusionMatrixDisplay\n",
    "\n",
    "# Get predictions\n",
    "predictions = model.predict(images)\n",
    "\n",
    "# Convert predictions to labels\n",
    "predicted_labels = np.argmax(predictions, axis=1)\n",
    "# Convert target labels back to original labels\n",
    "predicted_labels = le.inverse_transform(predicted_labels)\n",
    "\n",
    "# Get true labels\n",
    "true_labels = decoded_labels\n",
    "\n",
    "# Generate confusion matrix\n",
    "cm = confusion_matrix(true_labels, predicted_labels)\n",
    "\n",
    "# Normalize the confusion matrix to show values between 0 and 1\n",
    "cm_normalized = cm.astype('float') / cm.sum(axis=1)[:, np.newaxis]\n",
    "\n",
    "# Print normalized confusion matrix\n",
    "print(cm_normalized)\n",
    "\n",
    "# Visualize the confusion matrix\n",
    "disp = ConfusionMatrixDisplay(confusion_matrix=cm, display_labels=decoded_labels)\n",
    "fig, ax = plt.subplots(figsize=(39,39))\n",
    "disp.plot(ax=ax, cmap='viridis', values_format='.2f', colorbar=False) # Disable the automatic color bar\n",
    "ax.set_title('Confusion Matrix for Simulation', fontsize = 100, fontweight = 'bold')  # Set the title font\n",
    "ax.set_xlabel('Predicted Configurations', fontsize = 50, fontweight = 'bold')  # Set the x-axis label\n",
    "ax.set_ylabel('True Configurations', fontsize = 50, fontweight = 'bold')       # Set the y-axis label\n",
    "\n",
    "# Remove the text from the matrix cells\n",
    "for i in range(cm.shape[0]):\n",
    "    for j in range(cm.shape[1]):\n",
    "        ax.texts[i * cm.shape[1] + j].set_visible(False)\n",
    "        \n",
    "# Hide tick labels\n",
    "ax.set_xticklabels([])\n",
    "ax.set_yticklabels([])\n",
    "\n",
    "# Add a single color bar\n",
    "cbar = fig.colorbar(disp.im_, ax=ax)\n",
    "cbar.ax.set_ylabel('Normalized Value', rotation=-90, va=\"bottom\", fontsize=50, fontweight = 'bold')  # Increase font size of the color bar label\n",
    "cbar.ax.tick_params(labelsize=40)  # Increase font size of the color bar ticks\n",
    "\n",
    "plt.show()"
   ]
  },
  {
   "cell_type": "markdown",
   "id": "cfb61147",
   "metadata": {},
   "source": [
    "## R-sqaured value, MSE, RMSE, MAE "
   ]
  },
  {
   "cell_type": "code",
   "execution_count": 20,
   "id": "523358d5",
   "metadata": {},
   "outputs": [
    {
     "name": "stdout",
     "output_type": "stream",
     "text": [
      "1/1 [==============================] - 0s 166ms/step\n",
      "1/1 [==============================] - 0s 65ms/step\n",
      "R-squared for Train Model: 0.6615728763442645\n",
      "R-squared for Validation Model: 0.19650499749078607\n",
      "\n",
      "MSE for Train Model: 0.0044158394\n",
      "MSE for Validation Model: 0.001059856\n",
      "\n",
      "RMSE for Train Model: 0.06645178\n",
      "RMSE for Validation Model: 0.03255543\n",
      "\n",
      "MAE for Train Model: 0.010279755\n",
      "MAE for Validation Model: 0.006151886\n"
     ]
    }
   ],
   "source": [
    "from sklearn.metrics import r2_score, mean_squared_error, mean_absolute_error\n",
    "\n",
    "# Predict the trainig & validation data\n",
    "y_pred_train = model.predict(X_train)\n",
    "y_pred_val = model.predict(X_test)\n",
    "\n",
    "# Calculate the R-squared value\n",
    "r2_train = r2_score(y_train, y_pred_train)\n",
    "r2_val = r2_score(y_test, y_pred_val)\n",
    "\n",
    "# Calculate the mean squared error\n",
    "mse_train = mean_squared_error(y_train, y_pred_train)\n",
    "mse_val = mean_squared_error(y_test, y_pred_val)\n",
    "\n",
    "# Calculate the root mean squared error\n",
    "rmse_train = np.sqrt(mse_train)\n",
    "rmse_val = np.sqrt(mse_val)\n",
    "\n",
    "# Calculate the mean absolute error\n",
    "mae_train = mean_absolute_error(y_train, y_pred_train)\n",
    "mae_val = mean_absolute_error(y_test, y_pred_val)\n",
    "\n",
    "# Print the results\n",
    "print(\"R-squared for Train Model:\", r2_train)\n",
    "print(\"R-squared for Validation Model:\", r2_val)\n",
    "print()\n",
    "\n",
    "print(\"MSE for Train Model:\", mse_train)\n",
    "print(\"MSE for Validation Model:\", mse_val)\n",
    "print()\n",
    "\n",
    "print(\"RMSE for Train Model:\", rmse_train)\n",
    "print(\"RMSE for Validation Model:\", rmse_val)\n",
    "print()\n",
    "\n",
    "print(\"MAE for Train Model:\", mae_train)\n",
    "print(\"MAE for Validation Model:\", mae_val)"
   ]
  },
  {
   "cell_type": "markdown",
   "id": "e19c6ab4",
   "metadata": {},
   "source": [
    "## Model Summary and Structure Diagram"
   ]
  },
  {
   "cell_type": "code",
   "execution_count": 21,
   "id": "44c8114f",
   "metadata": {
    "scrolled": true
   },
   "outputs": [
    {
     "name": "stdout",
     "output_type": "stream",
     "text": [
      "Model: \"sequential\"\n",
      "_________________________________________________________________\n",
      " Layer (type)                Output Shape              Param #   \n",
      "=================================================================\n",
      " conv2d (Conv2D)             (None, 222, 222, 32)      320       \n",
      "                                                                 \n",
      " max_pooling2d (MaxPooling2D  (None, 111, 111, 32)     0         \n",
      " )                                                               \n",
      "                                                                 \n",
      " conv2d_1 (Conv2D)           (None, 109, 109, 64)      18496     \n",
      "                                                                 \n",
      " max_pooling2d_1 (MaxPooling  (None, 54, 54, 64)       0         \n",
      " 2D)                                                             \n",
      "                                                                 \n",
      " conv2d_2 (Conv2D)           (None, 52, 52, 128)       73856     \n",
      "                                                                 \n",
      " max_pooling2d_2 (MaxPooling  (None, 26, 26, 128)      0         \n",
      " 2D)                                                             \n",
      "                                                                 \n",
      " flatten (Flatten)           (None, 86528)             0         \n",
      "                                                                 \n",
      " dense (Dense)               (None, 128)               11075712  \n",
      "                                                                 \n",
      " dropout (Dropout)           (None, 128)               0         \n",
      "                                                                 \n",
      " dense_1 (Dense)             (None, 39)                5031      \n",
      "                                                                 \n",
      "=================================================================\n",
      "Total params: 11,173,415\n",
      "Trainable params: 11,173,415\n",
      "Non-trainable params: 0\n",
      "_________________________________________________________________\n"
     ]
    }
   ],
   "source": [
    "model.summary()"
   ]
  },
  {
   "cell_type": "code",
   "execution_count": 22,
   "id": "6cf1bfb5",
   "metadata": {
    "scrolled": true
   },
   "outputs": [
    {
     "data": {
      "image/png": "[encoded data removed]",
      "text/plain": [
       "<PIL.Image.Image image mode=RGBA size=842x1318>"
      ]
     },
     "execution_count": 22,
     "metadata": {},
     "output_type": "execute_result"
    }
   ],
   "source": [
    "import visualkeras\n",
    "from PIL import ImageFont\n",
    "\n",
    "font = ImageFont.truetype(\"arial.ttf\", 32)  # using comic sans is strictly prohibited!\n",
    "visualkeras.layered_view(model, legend=True, font=font)  # font is optional!"
   ]
  },
  {
   "cell_type": "markdown",
   "id": "e01d9735",
   "metadata": {},
   "source": [
    "## With Equation Graphs"
   ]
  },
  {
   "cell_type": "code",
   "execution_count": 25,
   "id": "4d646751",
   "metadata": {},
   "outputs": [],
   "source": [
    "# Directory containing your images\n",
    "directory = 'C:/Users/Duhyeon/Desktop/UBC/UBC Research/Work_Learn/SPAs Data/Simulation Data/Pictures/Equation Trajectory Pictures'\n",
    "\n",
    "# List all files in the directory\n",
    "files = os.listdir(directory)\n",
    "\n",
    "# Lists to store images and labels\n",
    "images = []\n",
    "labels = []\n",
    "\n",
    "# Iterate over each file\n",
    "for file in files:\n",
    "    if file.endswith('.jpg') or file.endswith('.jpeg') or file.endswith('.png'):\n",
    "        file_path = os.path.join(directory, file)\n",
    "        # Read and preprocess the image\n",
    "        image = cv2.imread(file_path)\n",
    "        # convert the input image to grayscale\n",
    "        gray = cv2.cvtColor(image, cv2.COLOR_BGR2GRAY)\n",
    "        \n",
    "        # apply thresholding to convert grayscale to binary image\n",
    "        ret,thresh = cv2.threshold(gray,224,224,0)\n",
    "        \n",
    "        # Preprocess the image\n",
    "        preprocessed_image = preprocess_image(thresh)\n",
    "        \n",
    "        # Add the preprocessed image to the list of images\n",
    "        images.append(preprocessed_image)\n",
    "\n",
    "        label = file.split('.')[0]  # Extract label from file name\n",
    "        labels.append(label)\n",
    "\n",
    "# Convert lists to numpy arrays\n",
    "images2Eval = np.array(images)\n",
    "labels2Eval = np.array(labels)"
   ]
  },
  {
   "cell_type": "code",
   "execution_count": 26,
   "id": "f9e790a0",
   "metadata": {},
   "outputs": [
    {
     "data": {
      "text/plain": [
       "(39, 224, 224)"
      ]
     },
     "execution_count": 26,
     "metadata": {},
     "output_type": "execute_result"
    }
   ],
   "source": [
    "np.shape(images2Eval)"
   ]
  },
  {
   "cell_type": "code",
   "execution_count": 27,
   "id": "87a2a1b2",
   "metadata": {
    "scrolled": true
   },
   "outputs": [
    {
     "name": "stdout",
     "output_type": "stream",
     "text": [
      "2/2 [==============================] - 0s 43ms/step\n",
      "[0, 1, 5, 3, 4, 5, 6, 7, 8, 9, 10, 11, 12, 13, 14, 15, 16, 17, 18, 19, 20, 22, 22, 23, 25, 25, 26, 27, 29, 29, 30, 31, 33, 33, 34, 35, 36, 34, 38]\n",
      "['DS10DS10_0_1' 'DS10DS10_2_0' 'DS10DS10_3_2' 'DS10DS10_3_0'\n",
      " 'DS10DS10_3_1' 'DS10DS10_3_2' 'DS10DS10_6_1' 'DS10DS10_6_2'\n",
      " 'DS10DS10_6_3' 'DS10DS30_2_1' 'DS10DS30_3_1' 'DS10DS30_3_2'\n",
      " 'DS30DS30_2_1' 'DS30DS30_3_1' 'DS30DS30_3_2' 'DS30DS30_6_0'\n",
      " 'DS30DS30_6_1' 'DS30DS30_6_2' 'DS30DS30_6_3' 'DS30E30_1_1' 'DS30E30_2_0'\n",
      " 'DS30E30_2_2' 'DS30E30_2_2' 'DS30E30_3_0' 'DS30E30_3_2' 'DS30E30_3_2'\n",
      " 'DS30E30_3_3' 'DS30E30_6_1' 'DS30E30_6_3' 'DS30E30_6_3' 'DS30E30_6_6'\n",
      " 'E30DS30_0_1' 'E30DS30_3_1' 'E30DS30_3_1' 'E30DS30_3_2' 'E30DS30_6_0'\n",
      " 'E30DS30_6_1' 'E30DS30_3_2' 'E30DS30_6_3']\n"
     ]
    }
   ],
   "source": [
    "# Prediction\n",
    "pred_eval = model.predict(images2Eval)\n",
    "\n",
    "# Decoding Predictions\n",
    "\n",
    "maxarg2val_list = []\n",
    "for i in range(len(pred_eval)):\n",
    "    maxarg2val = np.argmax(pred_eval[i])\n",
    "    maxarg2val_list.append(maxarg2val)\n",
    "\n",
    "print(maxarg2val_list)\n",
    "decoded_pred2Eval = le.inverse_transform(maxarg2val_list)\n",
    "print(decoded_pred2Eval)"
   ]
  },
  {
   "cell_type": "code",
   "execution_count": 28,
   "id": "63b9327a",
   "metadata": {},
   "outputs": [
    {
     "name": "stdout",
     "output_type": "stream",
     "text": [
      "Accuracy: 84.61538461538461%\n",
      "Incorrect: 15.384615384615387%\n"
     ]
    }
   ],
   "source": [
    "# Calculate the number of correct predictions\n",
    "correct_predictions = sum(labels2Eval == decoded_pred2Eval)\n",
    "\n",
    "# Calculate the total number of predictions\n",
    "total_predictions = len(labels2Eval)\n",
    "\n",
    "# Calculate the percentage of correct predictions\n",
    "accuracy_percent = (correct_predictions / total_predictions) * 100\n",
    "\n",
    "# Calculate the percentage of incorrect predictions\n",
    "incorrect_percent = 100 - accuracy_percent\n",
    "\n",
    "# Print the results\n",
    "print(\"Accuracy: {}%\".format(accuracy_percent))\n",
    "print(\"Incorrect: {}%\".format(incorrect_percent))"
   ]
  },
  {
   "cell_type": "markdown",
   "id": "e03ab392",
   "metadata": {},
   "source": [
    "## With 4 Arbitrary (Leaning) Trajactories"
   ]
  },
  {
   "cell_type": "code",
   "execution_count": 29,
   "id": "29ff9b4f",
   "metadata": {},
   "outputs": [],
   "source": [
    "# Directory containing your images\n",
    "directory = 'C:/Users/Duhyeon/Desktop/UBC/UBC Research/Work_Learn/SPAs Data/Simulation Data/Pictures/Arbitrary Trajectory Pictures'\n",
    "\n",
    "# List all files in the directory\n",
    "files = os.listdir(directory)\n",
    "\n",
    "# Lists to store images and labels\n",
    "images = []\n",
    "labels = []\n",
    "\n",
    "# Iterate over each file\n",
    "for file in files:\n",
    "    if file.endswith('.jpg') or file.endswith('.jpeg') or file.endswith('.png'):\n",
    "        file_path = os.path.join(directory, file)\n",
    "        # Read and preprocess the image\n",
    "        image = cv2.imread(file_path)\n",
    "        # convert the input image to grayscale\n",
    "        gray = cv2.cvtColor(image, cv2.COLOR_BGR2GRAY)\n",
    "        \n",
    "        # apply thresholding to convert grayscale to binary image\n",
    "        ret,thresh = cv2.threshold(gray,224,224,0)\n",
    "        \n",
    "        # Preprocess the image\n",
    "        preprocessed_image = preprocess_image(thresh)\n",
    "        \n",
    "        # Add the preprocessed image to the list of images\n",
    "        images.append(preprocessed_image)\n",
    "        # Assuming your file names contain the class label (e.g., 'cat', 'dog')\n",
    "        label = file.split('.')[0]  # Extract label from file name\n",
    "        labels.append(label)\n",
    "\n",
    "# Convert lists to numpy arrays\n",
    "images2Eval = np.array(images)\n",
    "labels2Eval = np.array(labels)"
   ]
  },
  {
   "cell_type": "code",
   "execution_count": 30,
   "id": "9aea39ec",
   "metadata": {},
   "outputs": [
    {
     "data": {
      "text/plain": [
       "(4, 224, 224)"
      ]
     },
     "execution_count": 30,
     "metadata": {},
     "output_type": "execute_result"
    }
   ],
   "source": [
    "np.shape(images2Eval)"
   ]
  },
  {
   "cell_type": "code",
   "execution_count": 31,
   "id": "cc3dd2af",
   "metadata": {
    "scrolled": true
   },
   "outputs": [
    {
     "data": {
      "text/plain": [
       "array(['DS10DS10_0_1_VS_DS30DS30_6_1', 'DS10DS30_3_1_VS_DS10DS30_2_1',\n",
       "       'DS30DS30_6_1_VS_DS10DS30_3_1', 'E30DS30_6_3_VS_DS10DS10_0_1'],\n",
       "      dtype='<U28')"
      ]
     },
     "execution_count": 31,
     "metadata": {},
     "output_type": "execute_result"
    }
   ],
   "source": [
    "labels2Eval"
   ]
  },
  {
   "cell_type": "code",
   "execution_count": 32,
   "id": "e47261f2",
   "metadata": {},
   "outputs": [],
   "source": [
    "# The prediction should be left trajactory\n",
    "labels2Eval[0] = 'DS10DS10_0_1'\n",
    "labels2Eval[1] = 'DS10DS30_3_1'\n",
    "labels2Eval[2] = 'DS30DS30_6_1'\n",
    "labels2Eval[3] = 'E30DS30_6_3'"
   ]
  },
  {
   "cell_type": "code",
   "execution_count": 33,
   "id": "163c98cc",
   "metadata": {},
   "outputs": [
    {
     "data": {
      "text/plain": [
       "array(['DS10DS10_0_1', 'DS10DS30_3_1', 'DS30DS30_6_1', 'E30DS30_6_3'],\n",
       "      dtype='<U28')"
      ]
     },
     "execution_count": 33,
     "metadata": {},
     "output_type": "execute_result"
    }
   ],
   "source": [
    "labels2Eval"
   ]
  },
  {
   "cell_type": "code",
   "execution_count": 34,
   "id": "f3287bfd",
   "metadata": {},
   "outputs": [
    {
     "name": "stdout",
     "output_type": "stream",
     "text": [
      "1/1 [==============================] - 0s 48ms/step\n",
      "[0, 10, 16, 38]\n",
      "['DS10DS10_0_1' 'DS10DS30_3_1' 'DS30DS30_6_1' 'E30DS30_6_3']\n"
     ]
    }
   ],
   "source": [
    "# Prediction\n",
    "pred_eval = model.predict(images2Eval)\n",
    "\n",
    "# Decoding Predictions\n",
    "\n",
    "maxarg2val_list = []\n",
    "for i in range(len(pred_eval)):\n",
    "    maxarg2val = np.argmax(pred_eval[i])\n",
    "    maxarg2val_list.append(maxarg2val)\n",
    "\n",
    "print(maxarg2val_list)\n",
    "decoded_pred2Eval = le.inverse_transform(maxarg2val_list)\n",
    "print(decoded_pred2Eval)"
   ]
  },
  {
   "cell_type": "code",
   "execution_count": 35,
   "id": "d01798b5",
   "metadata": {},
   "outputs": [
    {
     "name": "stdout",
     "output_type": "stream",
     "text": [
      "Row 0:\n",
      "Top 5 indices: [ 0 16 38 14  4]\n",
      "Top 5 configurations:  ['DS10DS10_0_1' 'DS30DS30_6_1' 'E30DS30_6_3' 'DS30DS30_3_2' 'DS10DS10_3_1']\n",
      "Top 5 values: [9.7862404e+01 1.9482810e+00 1.2198684e-01 1.2445528e-02 7.4818265e-03]\n",
      "\n",
      "Row 1:\n",
      "Top 5 indices: [10  9 16 17 23]\n",
      "Top 5 configurations:  ['DS10DS30_3_1' 'DS10DS30_2_1' 'DS30DS30_6_1' 'DS30DS30_6_2' 'DS30E30_3_0']\n",
      "Top 5 values: [94.08691     2.1623747   0.9248381   0.78307045  0.46796766]\n",
      "\n",
      "Row 2:\n",
      "Top 5 indices: [16 10  0 11 20]\n",
      "Top 5 configurations:  ['DS30DS30_6_1' 'DS10DS30_3_1' 'DS10DS10_0_1' 'DS10DS30_3_2' 'DS30E30_2_0']\n",
      "Top 5 values: [9.7168106e+01 2.5423701e+00 8.1826903e-02 4.4039622e-02 2.2541318e-02]\n",
      "\n",
      "Row 3:\n",
      "Top 5 indices: [38  0 37 19 27]\n",
      "Top 5 configurations:  ['E30DS30_6_3' 'DS10DS10_0_1' 'E30DS30_6_2' 'DS30E30_1_1' 'DS30E30_6_1']\n",
      "Top 5 values: [9.9562088e+01 3.1344396e-01 7.7231981e-02 1.8475248e-02 4.9387636e-03]\n",
      "\n"
     ]
    }
   ],
   "source": [
    "# Function to find top 5 values and their indices in each row\n",
    "def get_top_5_indices_and_values(array):\n",
    "    top_5_indices = np.argsort(array)[-5:][::-1]\n",
    "    top_5_decoded = le.inverse_transform(top_5_indices)\n",
    "    top_5_values = array[top_5_indices]*100\n",
    "    \n",
    "    return top_5_indices, top_5_decoded, top_5_values, \n",
    "\n",
    "# Iterate through each row in the array and find top 5 indices and values\n",
    "for i, row in enumerate(pred_eval):\n",
    "    indices, configurations, values = get_top_5_indices_and_values(row)\n",
    "    print(f\"Row {i}:\")\n",
    "    print(\"Top 5 indices:\", indices)\n",
    "    print(\"Top 5 configurations: \", configurations)\n",
    "    print(\"Top 5 values:\", values)\n",
    "    print()"
   ]
  },
  {
   "cell_type": "code",
   "execution_count": 36,
   "id": "d2295a56",
   "metadata": {},
   "outputs": [
    {
     "name": "stdout",
     "output_type": "stream",
     "text": [
      "Accuracy: 100.0%\n",
      "Incorrect: 0.0%\n"
     ]
    }
   ],
   "source": [
    "# Calculate the number of correct predictions\n",
    "correct_predictions = sum(labels2Eval == decoded_pred2Eval)\n",
    "\n",
    "# Calculate the total number of predictions\n",
    "total_predictions = len(labels2Eval)\n",
    "\n",
    "# Calculate the percentage of correct predictions\n",
    "accuracy_percent = (correct_predictions / total_predictions) * 100\n",
    "\n",
    "# Calculate the percentage of incorrect predictions\n",
    "incorrect_percent = 100 - accuracy_percent\n",
    "\n",
    "# Print the results\n",
    "print(\"Accuracy: {}%\".format(accuracy_percent))\n",
    "print(\"Incorrect: {}%\".format(incorrect_percent))"
   ]
  },
  {
   "cell_type": "markdown",
   "id": "c60d2b41",
   "metadata": {},
   "source": [
    "# Validating with Increasement Dataset (0%, 1%, 2%, and 5%)"
   ]
  },
  {
   "cell_type": "code",
   "execution_count": 37,
   "id": "070e8b45",
   "metadata": {},
   "outputs": [],
   "source": [
    "directory = 'C:/Users/Duhyeon/Desktop/UBC/UBC Research/Work_Learn/SPAs Data/Simulation Data/Pictures/Increasement Picture/0%'\n",
    "\n",
    "# List all files in the directory\n",
    "files = os.listdir(directory)\n",
    "\n",
    "# Lists to store images and labels\n",
    "images_0 = []\n",
    "labels_0 = []\n",
    "\n",
    "# Iterate over each file\n",
    "for file in files:\n",
    "    if file.endswith('.jpg') or file.endswith('.jpeg') or file.endswith('.png'):\n",
    "        file_path = os.path.join(directory, file)\n",
    "        # Read the image\n",
    "        image = cv2.imread(file_path)\n",
    "        \n",
    "        # convert the input image to grayscale\n",
    "        gray = cv2.cvtColor(image, cv2.COLOR_BGR2GRAY)\n",
    "        \n",
    "        # apply thresholding to convert grayscale to binary image\n",
    "        ret,thresh = cv2.threshold(gray,224,224,0)\n",
    "        \n",
    "        # Preprocess the image\n",
    "        preprocessed_image = preprocess_image(thresh)\n",
    "        \n",
    "        # Add the preprocessed image to the list of images\n",
    "        images_0.append(preprocessed_image)\n",
    "\n",
    "        label = file.split('.')[0]  # Extract label from file name\n",
    "        labels_0.append(label)\n",
    "\n",
    "# Convert lists to numpy arrays\n",
    "images_0 = np.array(images_0)\n",
    "labels_0 = np.array(labels_0)"
   ]
  },
  {
   "cell_type": "code",
   "execution_count": 38,
   "id": "4a0c7df9",
   "metadata": {},
   "outputs": [
    {
     "name": "stdout",
     "output_type": "stream",
     "text": [
      "Encoded Labels: [ 0  1  2  3  4  5  6  7  8  9 10 11 12 13 14 15 16 17 18 19 20 21 22 23\n",
      " 24 25 26 27 28 29 30 31 32 33 34 35 36 37 38]\n",
      "Decoded Labels: ['DS10DS10_0_1' 'DS10DS10_2_0' 'DS10DS10_2_1' 'DS10DS10_3_0'\n",
      " 'DS10DS10_3_1' 'DS10DS10_3_2' 'DS10DS10_6_1' 'DS10DS10_6_2'\n",
      " 'DS10DS10_6_3' 'DS10DS30_2_1' 'DS10DS30_3_1' 'DS10DS30_3_2'\n",
      " 'DS30DS30_2_1' 'DS30DS30_3_1' 'DS30DS30_3_2' 'DS30DS30_6_0'\n",
      " 'DS30DS30_6_1' 'DS30DS30_6_2' 'DS30DS30_6_3' 'DS30E30_1_1' 'DS30E30_2_0'\n",
      " 'DS30E30_2_1' 'DS30E30_2_2' 'DS30E30_3_0' 'DS30E30_3_1' 'DS30E30_3_2'\n",
      " 'DS30E30_3_3' 'DS30E30_6_1' 'DS30E30_6_2' 'DS30E30_6_3' 'DS30E30_6_6'\n",
      " 'E30DS30_0_1' 'E30DS30_2_1' 'E30DS30_3_1' 'E30DS30_3_2' 'E30DS30_6_0'\n",
      " 'E30DS30_6_1' 'E30DS30_6_2' 'E30DS30_6_3']\n"
     ]
    }
   ],
   "source": [
    "le = preprocessing.LabelEncoder()\n",
    "\n",
    "# Fit the encoder to the categories and transform (encode) them\n",
    "encoded_labels_0 = le.fit_transform(labels_0)\n",
    "\n",
    "# Now to decode, use inverse_transform\n",
    "decoded_labels_0 = le.inverse_transform(encoded_labels_0)\n",
    "\n",
    "# Print encoded and decoded results for comparison\n",
    "print(\"Encoded Labels:\", encoded_labels_0)\n",
    "print(\"Decoded Labels:\", decoded_labels_0)"
   ]
  },
  {
   "cell_type": "code",
   "execution_count": 39,
   "id": "126c92a7",
   "metadata": {},
   "outputs": [],
   "source": [
    "# Define CNN model architecture\n",
    "model_0 = models.Sequential([\n",
    "    layers.Conv2D(32, (3, 3), activation='relu', input_shape=(224, 224, 1)),\n",
    "    layers.MaxPooling2D((2, 2)),\n",
    "    layers.Conv2D(64, (3, 3), activation='relu'),\n",
    "    layers.MaxPooling2D((2, 2)),\n",
    "    layers.Conv2D(128, (3, 3), activation='relu'),\n",
    "    layers.MaxPooling2D((2, 2)),\n",
    "    layers.Flatten(),\n",
    "    layers.Dense(128, activation='relu'),\n",
    "    layers.Dropout(0.4),\n",
    "    layers.Dense(102, activation='softmax') # Number has to be changed\n",
    "])"
   ]
  },
  {
   "cell_type": "code",
   "execution_count": 40,
   "id": "e6412c0c",
   "metadata": {},
   "outputs": [],
   "source": [
    "# Compile the model\n",
    "model_0.compile(optimizer='adam',\n",
    "              loss='sparse_categorical_crossentropy',\n",
    "              metrics=['accuracy'])"
   ]
  },
  {
   "cell_type": "code",
   "execution_count": 41,
   "id": "a3dc9cf3",
   "metadata": {},
   "outputs": [
    {
     "name": "stdout",
     "output_type": "stream",
     "text": [
      "Epoch 1/50\n",
      "2/2 [==============================] - ETA: 0s - loss: 5.1579 - accuracy: 0.0256"
     ]
    },
    {
     "name": "stderr",
     "output_type": "stream",
     "text": [
      "WARNING:absl:Found untraced functions such as _jit_compiled_convolution_op, _jit_compiled_convolution_op, _jit_compiled_convolution_op, _update_step_xla while saving (showing 4 of 4). These functions will not be directly callable after loading.\n"
     ]
    },
    {
     "name": "stdout",
     "output_type": "stream",
     "text": [
      "INFO:tensorflow:Assets written to: patience=10, restore_best_weights=True\\assets\n"
     ]
    },
    {
     "name": "stderr",
     "output_type": "stream",
     "text": [
      "INFO:tensorflow:Assets written to: patience=10, restore_best_weights=True\\assets\n"
     ]
    },
    {
     "name": "stdout",
     "output_type": "stream",
     "text": [
      "2/2 [==============================] - 4s 2s/step - loss: 5.1579 - accuracy: 0.0256 - val_loss: 4.7698 - val_accuracy: 0.0256\n",
      "Epoch 2/50\n",
      "2/2 [==============================] - ETA: 0s - loss: 5.0895 - accuracy: 0.0256"
     ]
    },
    {
     "name": "stderr",
     "output_type": "stream",
     "text": [
      "WARNING:absl:Found untraced functions such as _jit_compiled_convolution_op, _jit_compiled_convolution_op, _jit_compiled_convolution_op, _update_step_xla while saving (showing 4 of 4). These functions will not be directly callable after loading.\n"
     ]
    },
    {
     "name": "stdout",
     "output_type": "stream",
     "text": [
      "INFO:tensorflow:Assets written to: patience=10, restore_best_weights=True\\assets\n"
     ]
    },
    {
     "name": "stderr",
     "output_type": "stream",
     "text": [
      "INFO:tensorflow:Assets written to: patience=10, restore_best_weights=True\\assets\n"
     ]
    },
    {
     "name": "stdout",
     "output_type": "stream",
     "text": [
      "2/2 [==============================] - 2s 2s/step - loss: 5.0895 - accuracy: 0.0256 - val_loss: 4.5063 - val_accuracy: 0.0256\n",
      "Epoch 3/50\n",
      "2/2 [==============================] - ETA: 0s - loss: 4.5385 - accuracy: 0.0000e+00"
     ]
    },
    {
     "name": "stderr",
     "output_type": "stream",
     "text": [
      "WARNING:absl:Found untraced functions such as _jit_compiled_convolution_op, _jit_compiled_convolution_op, _jit_compiled_convolution_op, _update_step_xla while saving (showing 4 of 4). These functions will not be directly callable after loading.\n"
     ]
    },
    {
     "name": "stdout",
     "output_type": "stream",
     "text": [
      "INFO:tensorflow:Assets written to: patience=10, restore_best_weights=True\\assets\n"
     ]
    },
    {
     "name": "stderr",
     "output_type": "stream",
     "text": [
      "INFO:tensorflow:Assets written to: patience=10, restore_best_weights=True\\assets\n"
     ]
    },
    {
     "name": "stdout",
     "output_type": "stream",
     "text": [
      "2/2 [==============================] - 3s 2s/step - loss: 4.5385 - accuracy: 0.0000e+00 - val_loss: 4.5360 - val_accuracy: 0.0256\n",
      "Epoch 4/50\n",
      "2/2 [==============================] - ETA: 0s - loss: 4.5671 - accuracy: 0.0000e+00"
     ]
    },
    {
     "name": "stderr",
     "output_type": "stream",
     "text": [
      "WARNING:absl:Found untraced functions such as _jit_compiled_convolution_op, _jit_compiled_convolution_op, _jit_compiled_convolution_op, _update_step_xla while saving (showing 4 of 4). These functions will not be directly callable after loading.\n"
     ]
    },
    {
     "name": "stdout",
     "output_type": "stream",
     "text": [
      "INFO:tensorflow:Assets written to: patience=10, restore_best_weights=True\\assets\n"
     ]
    },
    {
     "name": "stderr",
     "output_type": "stream",
     "text": [
      "INFO:tensorflow:Assets written to: patience=10, restore_best_weights=True\\assets\n"
     ]
    },
    {
     "name": "stdout",
     "output_type": "stream",
     "text": [
      "2/2 [==============================] - 3s 2s/step - loss: 4.5671 - accuracy: 0.0000e+00 - val_loss: 4.5709 - val_accuracy: 0.0256\n",
      "Epoch 5/50\n",
      "2/2 [==============================] - ETA: 0s - loss: 4.5517 - accuracy: 0.0256"
     ]
    },
    {
     "name": "stderr",
     "output_type": "stream",
     "text": [
      "WARNING:absl:Found untraced functions such as _jit_compiled_convolution_op, _jit_compiled_convolution_op, _jit_compiled_convolution_op, _update_step_xla while saving (showing 4 of 4). These functions will not be directly callable after loading.\n"
     ]
    },
    {
     "name": "stdout",
     "output_type": "stream",
     "text": [
      "INFO:tensorflow:Assets written to: patience=10, restore_best_weights=True\\assets\n"
     ]
    },
    {
     "name": "stderr",
     "output_type": "stream",
     "text": [
      "INFO:tensorflow:Assets written to: patience=10, restore_best_weights=True\\assets\n"
     ]
    },
    {
     "name": "stdout",
     "output_type": "stream",
     "text": [
      "2/2 [==============================] - 2s 2s/step - loss: 4.5517 - accuracy: 0.0256 - val_loss: 4.5386 - val_accuracy: 0.0256\n",
      "Epoch 6/50\n",
      "2/2 [==============================] - ETA: 0s - loss: 4.5525 - accuracy: 0.0256"
     ]
    },
    {
     "name": "stderr",
     "output_type": "stream",
     "text": [
      "WARNING:absl:Found untraced functions such as _jit_compiled_convolution_op, _jit_compiled_convolution_op, _jit_compiled_convolution_op, _update_step_xla while saving (showing 4 of 4). These functions will not be directly callable after loading.\n"
     ]
    },
    {
     "name": "stdout",
     "output_type": "stream",
     "text": [
      "INFO:tensorflow:Assets written to: patience=10, restore_best_weights=True\\assets\n"
     ]
    },
    {
     "name": "stderr",
     "output_type": "stream",
     "text": [
      "INFO:tensorflow:Assets written to: patience=10, restore_best_weights=True\\assets\n"
     ]
    },
    {
     "name": "stdout",
     "output_type": "stream",
     "text": [
      "2/2 [==============================] - 2s 2s/step - loss: 4.5525 - accuracy: 0.0256 - val_loss: 4.4445 - val_accuracy: 0.0256\n",
      "Epoch 7/50\n",
      "2/2 [==============================] - ETA: 0s - loss: 4.4354 - accuracy: 0.0000e+00"
     ]
    },
    {
     "name": "stderr",
     "output_type": "stream",
     "text": [
      "WARNING:absl:Found untraced functions such as _jit_compiled_convolution_op, _jit_compiled_convolution_op, _jit_compiled_convolution_op, _update_step_xla while saving (showing 4 of 4). These functions will not be directly callable after loading.\n"
     ]
    },
    {
     "name": "stdout",
     "output_type": "stream",
     "text": [
      "INFO:tensorflow:Assets written to: patience=10, restore_best_weights=True\\assets\n"
     ]
    },
    {
     "name": "stderr",
     "output_type": "stream",
     "text": [
      "INFO:tensorflow:Assets written to: patience=10, restore_best_weights=True\\assets\n"
     ]
    },
    {
     "name": "stdout",
     "output_type": "stream",
     "text": [
      "2/2 [==============================] - 2s 2s/step - loss: 4.4354 - accuracy: 0.0000e+00 - val_loss: 4.3525 - val_accuracy: 0.0256\n",
      "Epoch 8/50\n",
      "2/2 [==============================] - ETA: 0s - loss: 4.5664 - accuracy: 0.0000e+00"
     ]
    },
    {
     "name": "stderr",
     "output_type": "stream",
     "text": [
      "WARNING:absl:Found untraced functions such as _jit_compiled_convolution_op, _jit_compiled_convolution_op, _jit_compiled_convolution_op, _update_step_xla while saving (showing 4 of 4). These functions will not be directly callable after loading.\n"
     ]
    },
    {
     "name": "stdout",
     "output_type": "stream",
     "text": [
      "INFO:tensorflow:Assets written to: patience=10, restore_best_weights=True\\assets\n"
     ]
    },
    {
     "name": "stderr",
     "output_type": "stream",
     "text": [
      "INFO:tensorflow:Assets written to: patience=10, restore_best_weights=True\\assets\n"
     ]
    },
    {
     "name": "stdout",
     "output_type": "stream",
     "text": [
      "2/2 [==============================] - 2s 1s/step - loss: 4.5664 - accuracy: 0.0000e+00 - val_loss: 4.3217 - val_accuracy: 0.0256\n",
      "Epoch 9/50\n",
      "2/2 [==============================] - ETA: 0s - loss: 4.5141 - accuracy: 0.0256    "
     ]
    },
    {
     "name": "stderr",
     "output_type": "stream",
     "text": [
      "WARNING:absl:Found untraced functions such as _jit_compiled_convolution_op, _jit_compiled_convolution_op, _jit_compiled_convolution_op, _update_step_xla while saving (showing 4 of 4). These functions will not be directly callable after loading.\n"
     ]
    },
    {
     "name": "stdout",
     "output_type": "stream",
     "text": [
      "INFO:tensorflow:Assets written to: patience=10, restore_best_weights=True\\assets\n"
     ]
    },
    {
     "name": "stderr",
     "output_type": "stream",
     "text": [
      "INFO:tensorflow:Assets written to: patience=10, restore_best_weights=True\\assets\n"
     ]
    },
    {
     "name": "stdout",
     "output_type": "stream",
     "text": [
      "2/2 [==============================] - 2s 2s/step - loss: 4.5141 - accuracy: 0.0256 - val_loss: 4.2918 - val_accuracy: 0.0256\n",
      "Epoch 10/50\n",
      "2/2 [==============================] - ETA: 0s - loss: 4.4751 - accuracy: 0.0000e+00"
     ]
    },
    {
     "name": "stderr",
     "output_type": "stream",
     "text": [
      "WARNING:absl:Found untraced functions such as _jit_compiled_convolution_op, _jit_compiled_convolution_op, _jit_compiled_convolution_op, _update_step_xla while saving (showing 4 of 4). These functions will not be directly callable after loading.\n"
     ]
    },
    {
     "name": "stdout",
     "output_type": "stream",
     "text": [
      "INFO:tensorflow:Assets written to: patience=10, restore_best_weights=True\\assets\n"
     ]
    },
    {
     "name": "stderr",
     "output_type": "stream",
     "text": [
      "INFO:tensorflow:Assets written to: patience=10, restore_best_weights=True\\assets\n"
     ]
    },
    {
     "name": "stdout",
     "output_type": "stream",
     "text": [
      "2/2 [==============================] - 2s 1s/step - loss: 4.4751 - accuracy: 0.0000e+00 - val_loss: 4.2704 - val_accuracy: 0.0256\n",
      "Epoch 11/50\n",
      "2/2 [==============================] - ETA: 0s - loss: 4.3839 - accuracy: 0.0000e+00"
     ]
    },
    {
     "name": "stderr",
     "output_type": "stream",
     "text": [
      "WARNING:absl:Found untraced functions such as _jit_compiled_convolution_op, _jit_compiled_convolution_op, _jit_compiled_convolution_op, _update_step_xla while saving (showing 4 of 4). These functions will not be directly callable after loading.\n"
     ]
    },
    {
     "name": "stdout",
     "output_type": "stream",
     "text": [
      "INFO:tensorflow:Assets written to: patience=10, restore_best_weights=True\\assets\n"
     ]
    },
    {
     "name": "stderr",
     "output_type": "stream",
     "text": [
      "INFO:tensorflow:Assets written to: patience=10, restore_best_weights=True\\assets\n"
     ]
    },
    {
     "name": "stdout",
     "output_type": "stream",
     "text": [
      "2/2 [==============================] - 2s 2s/step - loss: 4.3839 - accuracy: 0.0000e+00 - val_loss: 4.2555 - val_accuracy: 0.0256\n",
      "Epoch 12/50\n",
      "2/2 [==============================] - ETA: 0s - loss: 4.3191 - accuracy: 0.0256    "
     ]
    },
    {
     "name": "stderr",
     "output_type": "stream",
     "text": [
      "WARNING:absl:Found untraced functions such as _jit_compiled_convolution_op, _jit_compiled_convolution_op, _jit_compiled_convolution_op, _update_step_xla while saving (showing 4 of 4). These functions will not be directly callable after loading.\n"
     ]
    },
    {
     "name": "stdout",
     "output_type": "stream",
     "text": [
      "INFO:tensorflow:Assets written to: patience=10, restore_best_weights=True\\assets\n"
     ]
    },
    {
     "name": "stderr",
     "output_type": "stream",
     "text": [
      "INFO:tensorflow:Assets written to: patience=10, restore_best_weights=True\\assets\n"
     ]
    },
    {
     "name": "stdout",
     "output_type": "stream",
     "text": [
      "2/2 [==============================] - 2s 2s/step - loss: 4.3191 - accuracy: 0.0256 - val_loss: 4.2398 - val_accuracy: 0.0256\n",
      "Epoch 13/50\n",
      "2/2 [==============================] - ETA: 0s - loss: 4.2935 - accuracy: 0.0000e+00"
     ]
    },
    {
     "name": "stderr",
     "output_type": "stream",
     "text": [
      "WARNING:absl:Found untraced functions such as _jit_compiled_convolution_op, _jit_compiled_convolution_op, _jit_compiled_convolution_op, _update_step_xla while saving (showing 4 of 4). These functions will not be directly callable after loading.\n"
     ]
    },
    {
     "name": "stdout",
     "output_type": "stream",
     "text": [
      "INFO:tensorflow:Assets written to: patience=10, restore_best_weights=True\\assets\n"
     ]
    },
    {
     "name": "stderr",
     "output_type": "stream",
     "text": [
      "INFO:tensorflow:Assets written to: patience=10, restore_best_weights=True\\assets\n"
     ]
    },
    {
     "name": "stdout",
     "output_type": "stream",
     "text": [
      "2/2 [==============================] - 2s 2s/step - loss: 4.2935 - accuracy: 0.0000e+00 - val_loss: 4.2116 - val_accuracy: 0.0256\n",
      "Epoch 14/50\n",
      "2/2 [==============================] - ETA: 0s - loss: 4.2919 - accuracy: 0.0256"
     ]
    },
    {
     "name": "stderr",
     "output_type": "stream",
     "text": [
      "WARNING:absl:Found untraced functions such as _jit_compiled_convolution_op, _jit_compiled_convolution_op, _jit_compiled_convolution_op, _update_step_xla while saving (showing 4 of 4). These functions will not be directly callable after loading.\n"
     ]
    },
    {
     "name": "stdout",
     "output_type": "stream",
     "text": [
      "INFO:tensorflow:Assets written to: patience=10, restore_best_weights=True\\assets\n"
     ]
    },
    {
     "name": "stderr",
     "output_type": "stream",
     "text": [
      "INFO:tensorflow:Assets written to: patience=10, restore_best_weights=True\\assets\n"
     ]
    },
    {
     "name": "stdout",
     "output_type": "stream",
     "text": [
      "2/2 [==============================] - 2s 2s/step - loss: 4.2919 - accuracy: 0.0256 - val_loss: 4.1900 - val_accuracy: 0.0256\n",
      "Epoch 15/50\n",
      "2/2 [==============================] - ETA: 0s - loss: 4.2493 - accuracy: 0.0513"
     ]
    },
    {
     "name": "stderr",
     "output_type": "stream",
     "text": [
      "WARNING:absl:Found untraced functions such as _jit_compiled_convolution_op, _jit_compiled_convolution_op, _jit_compiled_convolution_op, _update_step_xla while saving (showing 4 of 4). These functions will not be directly callable after loading.\n"
     ]
    },
    {
     "name": "stdout",
     "output_type": "stream",
     "text": [
      "INFO:tensorflow:Assets written to: patience=10, restore_best_weights=True\\assets\n"
     ]
    },
    {
     "name": "stderr",
     "output_type": "stream",
     "text": [
      "INFO:tensorflow:Assets written to: patience=10, restore_best_weights=True\\assets\n"
     ]
    },
    {
     "name": "stdout",
     "output_type": "stream",
     "text": [
      "2/2 [==============================] - 2s 2s/step - loss: 4.2493 - accuracy: 0.0513 - val_loss: 4.1771 - val_accuracy: 0.0256\n",
      "Epoch 16/50\n",
      "2/2 [==============================] - ETA: 0s - loss: 4.2078 - accuracy: 0.0000e+00"
     ]
    },
    {
     "name": "stderr",
     "output_type": "stream",
     "text": [
      "WARNING:absl:Found untraced functions such as _jit_compiled_convolution_op, _jit_compiled_convolution_op, _jit_compiled_convolution_op, _update_step_xla while saving (showing 4 of 4). These functions will not be directly callable after loading.\n"
     ]
    },
    {
     "name": "stdout",
     "output_type": "stream",
     "text": [
      "INFO:tensorflow:Assets written to: patience=10, restore_best_weights=True\\assets\n"
     ]
    },
    {
     "name": "stderr",
     "output_type": "stream",
     "text": [
      "INFO:tensorflow:Assets written to: patience=10, restore_best_weights=True\\assets\n"
     ]
    },
    {
     "name": "stdout",
     "output_type": "stream",
     "text": [
      "2/2 [==============================] - 2s 1s/step - loss: 4.2078 - accuracy: 0.0000e+00 - val_loss: 4.1332 - val_accuracy: 0.0256\n",
      "Epoch 17/50\n",
      "2/2 [==============================] - ETA: 0s - loss: 4.2091 - accuracy: 0.0000e+00"
     ]
    },
    {
     "name": "stderr",
     "output_type": "stream",
     "text": [
      "WARNING:absl:Found untraced functions such as _jit_compiled_convolution_op, _jit_compiled_convolution_op, _jit_compiled_convolution_op, _update_step_xla while saving (showing 4 of 4). These functions will not be directly callable after loading.\n"
     ]
    },
    {
     "name": "stdout",
     "output_type": "stream",
     "text": [
      "INFO:tensorflow:Assets written to: patience=10, restore_best_weights=True\\assets\n"
     ]
    },
    {
     "name": "stderr",
     "output_type": "stream",
     "text": [
      "INFO:tensorflow:Assets written to: patience=10, restore_best_weights=True\\assets\n"
     ]
    },
    {
     "name": "stdout",
     "output_type": "stream",
     "text": [
      "2/2 [==============================] - 2s 2s/step - loss: 4.2091 - accuracy: 0.0000e+00 - val_loss: 4.0791 - val_accuracy: 0.0256\n",
      "Epoch 18/50\n",
      "2/2 [==============================] - ETA: 0s - loss: 4.3548 - accuracy: 0.0000e+00"
     ]
    },
    {
     "name": "stderr",
     "output_type": "stream",
     "text": [
      "WARNING:absl:Found untraced functions such as _jit_compiled_convolution_op, _jit_compiled_convolution_op, _jit_compiled_convolution_op, _update_step_xla while saving (showing 4 of 4). These functions will not be directly callable after loading.\n"
     ]
    },
    {
     "name": "stdout",
     "output_type": "stream",
     "text": [
      "INFO:tensorflow:Assets written to: patience=10, restore_best_weights=True\\assets\n"
     ]
    },
    {
     "name": "stderr",
     "output_type": "stream",
     "text": [
      "INFO:tensorflow:Assets written to: patience=10, restore_best_weights=True\\assets\n"
     ]
    },
    {
     "name": "stdout",
     "output_type": "stream",
     "text": [
      "2/2 [==============================] - 2s 2s/step - loss: 4.3548 - accuracy: 0.0000e+00 - val_loss: 4.0692 - val_accuracy: 0.0256\n",
      "Epoch 19/50\n",
      "2/2 [==============================] - ETA: 0s - loss: 4.2464 - accuracy: 0.0000e+00"
     ]
    },
    {
     "name": "stderr",
     "output_type": "stream",
     "text": [
      "WARNING:absl:Found untraced functions such as _jit_compiled_convolution_op, _jit_compiled_convolution_op, _jit_compiled_convolution_op, _update_step_xla while saving (showing 4 of 4). These functions will not be directly callable after loading.\n"
     ]
    },
    {
     "name": "stdout",
     "output_type": "stream",
     "text": [
      "INFO:tensorflow:Assets written to: patience=10, restore_best_weights=True\\assets\n"
     ]
    },
    {
     "name": "stderr",
     "output_type": "stream",
     "text": [
      "INFO:tensorflow:Assets written to: patience=10, restore_best_weights=True\\assets\n"
     ]
    },
    {
     "name": "stdout",
     "output_type": "stream",
     "text": [
      "2/2 [==============================] - 2s 2s/step - loss: 4.2464 - accuracy: 0.0000e+00 - val_loss: 4.0666 - val_accuracy: 0.0256\n",
      "Epoch 20/50\n",
      "2/2 [==============================] - ETA: 0s - loss: 4.1158 - accuracy: 0.0769"
     ]
    },
    {
     "name": "stderr",
     "output_type": "stream",
     "text": [
      "WARNING:absl:Found untraced functions such as _jit_compiled_convolution_op, _jit_compiled_convolution_op, _jit_compiled_convolution_op, _update_step_xla while saving (showing 4 of 4). These functions will not be directly callable after loading.\n"
     ]
    },
    {
     "name": "stdout",
     "output_type": "stream",
     "text": [
      "INFO:tensorflow:Assets written to: patience=10, restore_best_weights=True\\assets\n"
     ]
    },
    {
     "name": "stderr",
     "output_type": "stream",
     "text": [
      "INFO:tensorflow:Assets written to: patience=10, restore_best_weights=True\\assets\n"
     ]
    },
    {
     "name": "stdout",
     "output_type": "stream",
     "text": [
      "2/2 [==============================] - 2s 2s/step - loss: 4.1158 - accuracy: 0.0769 - val_loss: 4.0048 - val_accuracy: 0.0256\n",
      "Epoch 21/50\n",
      "2/2 [==============================] - ETA: 0s - loss: 4.0574 - accuracy: 0.0769"
     ]
    },
    {
     "name": "stderr",
     "output_type": "stream",
     "text": [
      "WARNING:absl:Found untraced functions such as _jit_compiled_convolution_op, _jit_compiled_convolution_op, _jit_compiled_convolution_op, _update_step_xla while saving (showing 4 of 4). These functions will not be directly callable after loading.\n"
     ]
    },
    {
     "name": "stdout",
     "output_type": "stream",
     "text": [
      "INFO:tensorflow:Assets written to: patience=10, restore_best_weights=True\\assets\n"
     ]
    },
    {
     "name": "stderr",
     "output_type": "stream",
     "text": [
      "INFO:tensorflow:Assets written to: patience=10, restore_best_weights=True\\assets\n"
     ]
    },
    {
     "name": "stdout",
     "output_type": "stream",
     "text": [
      "2/2 [==============================] - 3s 2s/step - loss: 4.0574 - accuracy: 0.0769 - val_loss: 3.8670 - val_accuracy: 0.0513\n",
      "Epoch 22/50\n",
      "2/2 [==============================] - ETA: 0s - loss: 4.0277 - accuracy: 0.0513"
     ]
    },
    {
     "name": "stderr",
     "output_type": "stream",
     "text": [
      "WARNING:absl:Found untraced functions such as _jit_compiled_convolution_op, _jit_compiled_convolution_op, _jit_compiled_convolution_op, _update_step_xla while saving (showing 4 of 4). These functions will not be directly callable after loading.\n"
     ]
    },
    {
     "name": "stdout",
     "output_type": "stream",
     "text": [
      "INFO:tensorflow:Assets written to: patience=10, restore_best_weights=True\\assets\n"
     ]
    },
    {
     "name": "stderr",
     "output_type": "stream",
     "text": [
      "INFO:tensorflow:Assets written to: patience=10, restore_best_weights=True\\assets\n"
     ]
    },
    {
     "name": "stdout",
     "output_type": "stream",
     "text": [
      "2/2 [==============================] - 2s 2s/step - loss: 4.0277 - accuracy: 0.0513 - val_loss: 3.7902 - val_accuracy: 0.0513\n",
      "Epoch 23/50\n",
      "2/2 [==============================] - ETA: 0s - loss: 3.7961 - accuracy: 0.0256"
     ]
    },
    {
     "name": "stderr",
     "output_type": "stream",
     "text": [
      "WARNING:absl:Found untraced functions such as _jit_compiled_convolution_op, _jit_compiled_convolution_op, _jit_compiled_convolution_op, _update_step_xla while saving (showing 4 of 4). These functions will not be directly callable after loading.\n"
     ]
    },
    {
     "name": "stdout",
     "output_type": "stream",
     "text": [
      "INFO:tensorflow:Assets written to: patience=10, restore_best_weights=True\\assets\n"
     ]
    },
    {
     "name": "stderr",
     "output_type": "stream",
     "text": [
      "INFO:tensorflow:Assets written to: patience=10, restore_best_weights=True\\assets\n"
     ]
    },
    {
     "name": "stdout",
     "output_type": "stream",
     "text": [
      "2/2 [==============================] - 3s 2s/step - loss: 3.7961 - accuracy: 0.0256 - val_loss: 3.7167 - val_accuracy: 0.1026\n",
      "Epoch 24/50\n",
      "2/2 [==============================] - ETA: 0s - loss: 3.7947 - accuracy: 0.0513"
     ]
    },
    {
     "name": "stderr",
     "output_type": "stream",
     "text": [
      "WARNING:absl:Found untraced functions such as _jit_compiled_convolution_op, _jit_compiled_convolution_op, _jit_compiled_convolution_op, _update_step_xla while saving (showing 4 of 4). These functions will not be directly callable after loading.\n"
     ]
    },
    {
     "name": "stdout",
     "output_type": "stream",
     "text": [
      "INFO:tensorflow:Assets written to: patience=10, restore_best_weights=True\\assets\n"
     ]
    },
    {
     "name": "stderr",
     "output_type": "stream",
     "text": [
      "INFO:tensorflow:Assets written to: patience=10, restore_best_weights=True\\assets\n"
     ]
    },
    {
     "name": "stdout",
     "output_type": "stream",
     "text": [
      "2/2 [==============================] - 2s 2s/step - loss: 3.7947 - accuracy: 0.0513 - val_loss: 3.6233 - val_accuracy: 0.1026\n",
      "Epoch 25/50\n",
      "2/2 [==============================] - ETA: 0s - loss: 3.8178 - accuracy: 0.0000e+00"
     ]
    },
    {
     "name": "stderr",
     "output_type": "stream",
     "text": [
      "WARNING:absl:Found untraced functions such as _jit_compiled_convolution_op, _jit_compiled_convolution_op, _jit_compiled_convolution_op, _update_step_xla while saving (showing 4 of 4). These functions will not be directly callable after loading.\n"
     ]
    },
    {
     "name": "stdout",
     "output_type": "stream",
     "text": [
      "INFO:tensorflow:Assets written to: patience=10, restore_best_weights=True\\assets\n"
     ]
    },
    {
     "name": "stderr",
     "output_type": "stream",
     "text": [
      "INFO:tensorflow:Assets written to: patience=10, restore_best_weights=True\\assets\n"
     ]
    },
    {
     "name": "stdout",
     "output_type": "stream",
     "text": [
      "2/2 [==============================] - 2s 2s/step - loss: 3.8178 - accuracy: 0.0000e+00 - val_loss: 3.5322 - val_accuracy: 0.1538\n",
      "Epoch 26/50\n",
      "2/2 [==============================] - ETA: 0s - loss: 3.6471 - accuracy: 0.0769"
     ]
    },
    {
     "name": "stderr",
     "output_type": "stream",
     "text": [
      "WARNING:absl:Found untraced functions such as _jit_compiled_convolution_op, _jit_compiled_convolution_op, _jit_compiled_convolution_op, _update_step_xla while saving (showing 4 of 4). These functions will not be directly callable after loading.\n"
     ]
    },
    {
     "name": "stdout",
     "output_type": "stream",
     "text": [
      "INFO:tensorflow:Assets written to: patience=10, restore_best_weights=True\\assets\n"
     ]
    },
    {
     "name": "stderr",
     "output_type": "stream",
     "text": [
      "INFO:tensorflow:Assets written to: patience=10, restore_best_weights=True\\assets\n"
     ]
    },
    {
     "name": "stdout",
     "output_type": "stream",
     "text": [
      "2/2 [==============================] - 2s 2s/step - loss: 3.6471 - accuracy: 0.0769 - val_loss: 3.2545 - val_accuracy: 0.1538\n",
      "Epoch 27/50\n",
      "2/2 [==============================] - ETA: 0s - loss: 3.3712 - accuracy: 0.1538"
     ]
    },
    {
     "name": "stderr",
     "output_type": "stream",
     "text": [
      "WARNING:absl:Found untraced functions such as _jit_compiled_convolution_op, _jit_compiled_convolution_op, _jit_compiled_convolution_op, _update_step_xla while saving (showing 4 of 4). These functions will not be directly callable after loading.\n"
     ]
    },
    {
     "name": "stdout",
     "output_type": "stream",
     "text": [
      "INFO:tensorflow:Assets written to: patience=10, restore_best_weights=True\\assets\n"
     ]
    },
    {
     "name": "stderr",
     "output_type": "stream",
     "text": [
      "INFO:tensorflow:Assets written to: patience=10, restore_best_weights=True\\assets\n"
     ]
    },
    {
     "name": "stdout",
     "output_type": "stream",
     "text": [
      "2/2 [==============================] - 2s 2s/step - loss: 3.3712 - accuracy: 0.1538 - val_loss: 3.0044 - val_accuracy: 0.1538\n",
      "Epoch 28/50\n",
      "2/2 [==============================] - ETA: 0s - loss: 3.3595 - accuracy: 0.0769"
     ]
    },
    {
     "name": "stderr",
     "output_type": "stream",
     "text": [
      "WARNING:absl:Found untraced functions such as _jit_compiled_convolution_op, _jit_compiled_convolution_op, _jit_compiled_convolution_op, _update_step_xla while saving (showing 4 of 4). These functions will not be directly callable after loading.\n"
     ]
    },
    {
     "name": "stdout",
     "output_type": "stream",
     "text": [
      "INFO:tensorflow:Assets written to: patience=10, restore_best_weights=True\\assets\n"
     ]
    },
    {
     "name": "stderr",
     "output_type": "stream",
     "text": [
      "INFO:tensorflow:Assets written to: patience=10, restore_best_weights=True\\assets\n"
     ]
    },
    {
     "name": "stdout",
     "output_type": "stream",
     "text": [
      "2/2 [==============================] - 2s 2s/step - loss: 3.3595 - accuracy: 0.0769 - val_loss: 2.8183 - val_accuracy: 0.3077\n",
      "Epoch 29/50\n",
      "2/2 [==============================] - ETA: 0s - loss: 2.9988 - accuracy: 0.1538"
     ]
    },
    {
     "name": "stderr",
     "output_type": "stream",
     "text": [
      "WARNING:absl:Found untraced functions such as _jit_compiled_convolution_op, _jit_compiled_convolution_op, _jit_compiled_convolution_op, _update_step_xla while saving (showing 4 of 4). These functions will not be directly callable after loading.\n"
     ]
    },
    {
     "name": "stdout",
     "output_type": "stream",
     "text": [
      "INFO:tensorflow:Assets written to: patience=10, restore_best_weights=True\\assets\n"
     ]
    },
    {
     "name": "stderr",
     "output_type": "stream",
     "text": [
      "INFO:tensorflow:Assets written to: patience=10, restore_best_weights=True\\assets\n"
     ]
    },
    {
     "name": "stdout",
     "output_type": "stream",
     "text": [
      "2/2 [==============================] - 2s 2s/step - loss: 2.9988 - accuracy: 0.1538 - val_loss: 2.5803 - val_accuracy: 0.3590\n",
      "Epoch 30/50\n",
      "2/2 [==============================] - ETA: 0s - loss: 2.9403 - accuracy: 0.2564"
     ]
    },
    {
     "name": "stderr",
     "output_type": "stream",
     "text": [
      "WARNING:absl:Found untraced functions such as _jit_compiled_convolution_op, _jit_compiled_convolution_op, _jit_compiled_convolution_op, _update_step_xla while saving (showing 4 of 4). These functions will not be directly callable after loading.\n"
     ]
    },
    {
     "name": "stdout",
     "output_type": "stream",
     "text": [
      "INFO:tensorflow:Assets written to: patience=10, restore_best_weights=True\\assets\n"
     ]
    },
    {
     "name": "stderr",
     "output_type": "stream",
     "text": [
      "INFO:tensorflow:Assets written to: patience=10, restore_best_weights=True\\assets\n"
     ]
    },
    {
     "name": "stdout",
     "output_type": "stream",
     "text": [
      "2/2 [==============================] - 2s 2s/step - loss: 2.9403 - accuracy: 0.2564 - val_loss: 2.3590 - val_accuracy: 0.3333\n",
      "Epoch 31/50\n",
      "2/2 [==============================] - ETA: 0s - loss: 2.9834 - accuracy: 0.2821"
     ]
    },
    {
     "name": "stderr",
     "output_type": "stream",
     "text": [
      "WARNING:absl:Found untraced functions such as _jit_compiled_convolution_op, _jit_compiled_convolution_op, _jit_compiled_convolution_op, _update_step_xla while saving (showing 4 of 4). These functions will not be directly callable after loading.\n"
     ]
    },
    {
     "name": "stdout",
     "output_type": "stream",
     "text": [
      "INFO:tensorflow:Assets written to: patience=10, restore_best_weights=True\\assets\n"
     ]
    },
    {
     "name": "stderr",
     "output_type": "stream",
     "text": [
      "INFO:tensorflow:Assets written to: patience=10, restore_best_weights=True\\assets\n"
     ]
    },
    {
     "name": "stdout",
     "output_type": "stream",
     "text": [
      "2/2 [==============================] - 2s 2s/step - loss: 2.9834 - accuracy: 0.2821 - val_loss: 2.1922 - val_accuracy: 0.4103\n",
      "Epoch 32/50\n",
      "2/2 [==============================] - ETA: 0s - loss: 2.6905 - accuracy: 0.3077"
     ]
    },
    {
     "name": "stderr",
     "output_type": "stream",
     "text": [
      "WARNING:absl:Found untraced functions such as _jit_compiled_convolution_op, _jit_compiled_convolution_op, _jit_compiled_convolution_op, _update_step_xla while saving (showing 4 of 4). These functions will not be directly callable after loading.\n"
     ]
    },
    {
     "name": "stdout",
     "output_type": "stream",
     "text": [
      "INFO:tensorflow:Assets written to: patience=10, restore_best_weights=True\\assets\n"
     ]
    },
    {
     "name": "stderr",
     "output_type": "stream",
     "text": [
      "INFO:tensorflow:Assets written to: patience=10, restore_best_weights=True\\assets\n"
     ]
    },
    {
     "name": "stdout",
     "output_type": "stream",
     "text": [
      "2/2 [==============================] - 3s 2s/step - loss: 2.6905 - accuracy: 0.3077 - val_loss: 1.9300 - val_accuracy: 0.4615\n",
      "Epoch 33/50\n",
      "2/2 [==============================] - ETA: 0s - loss: 2.5624 - accuracy: 0.3077"
     ]
    },
    {
     "name": "stderr",
     "output_type": "stream",
     "text": [
      "WARNING:absl:Found untraced functions such as _jit_compiled_convolution_op, _jit_compiled_convolution_op, _jit_compiled_convolution_op, _update_step_xla while saving (showing 4 of 4). These functions will not be directly callable after loading.\n"
     ]
    },
    {
     "name": "stdout",
     "output_type": "stream",
     "text": [
      "INFO:tensorflow:Assets written to: patience=10, restore_best_weights=True\\assets\n"
     ]
    },
    {
     "name": "stderr",
     "output_type": "stream",
     "text": [
      "INFO:tensorflow:Assets written to: patience=10, restore_best_weights=True\\assets\n"
     ]
    },
    {
     "name": "stdout",
     "output_type": "stream",
     "text": [
      "2/2 [==============================] - 2s 2s/step - loss: 2.5624 - accuracy: 0.3077 - val_loss: 1.6782 - val_accuracy: 0.5128\n",
      "Epoch 34/50\n",
      "2/2 [==============================] - ETA: 0s - loss: 2.1264 - accuracy: 0.4103"
     ]
    },
    {
     "name": "stderr",
     "output_type": "stream",
     "text": [
      "WARNING:absl:Found untraced functions such as _jit_compiled_convolution_op, _jit_compiled_convolution_op, _jit_compiled_convolution_op, _update_step_xla while saving (showing 4 of 4). These functions will not be directly callable after loading.\n"
     ]
    },
    {
     "name": "stdout",
     "output_type": "stream",
     "text": [
      "INFO:tensorflow:Assets written to: patience=10, restore_best_weights=True\\assets\n"
     ]
    },
    {
     "name": "stderr",
     "output_type": "stream",
     "text": [
      "INFO:tensorflow:Assets written to: patience=10, restore_best_weights=True\\assets\n"
     ]
    },
    {
     "name": "stdout",
     "output_type": "stream",
     "text": [
      "2/2 [==============================] - 2s 2s/step - loss: 2.1264 - accuracy: 0.4103 - val_loss: 1.5058 - val_accuracy: 0.5641\n",
      "Epoch 35/50\n",
      "2/2 [==============================] - ETA: 0s - loss: 2.2183 - accuracy: 0.3590"
     ]
    },
    {
     "name": "stderr",
     "output_type": "stream",
     "text": [
      "WARNING:absl:Found untraced functions such as _jit_compiled_convolution_op, _jit_compiled_convolution_op, _jit_compiled_convolution_op, _update_step_xla while saving (showing 4 of 4). These functions will not be directly callable after loading.\n"
     ]
    },
    {
     "name": "stdout",
     "output_type": "stream",
     "text": [
      "INFO:tensorflow:Assets written to: patience=10, restore_best_weights=True\\assets\n"
     ]
    },
    {
     "name": "stderr",
     "output_type": "stream",
     "text": [
      "INFO:tensorflow:Assets written to: patience=10, restore_best_weights=True\\assets\n"
     ]
    },
    {
     "name": "stdout",
     "output_type": "stream",
     "text": [
      "2/2 [==============================] - 2s 2s/step - loss: 2.2183 - accuracy: 0.3590 - val_loss: 1.3076 - val_accuracy: 0.6667\n",
      "Epoch 36/50\n",
      "2/2 [==============================] - ETA: 0s - loss: 1.6018 - accuracy: 0.4615"
     ]
    },
    {
     "name": "stderr",
     "output_type": "stream",
     "text": [
      "WARNING:absl:Found untraced functions such as _jit_compiled_convolution_op, _jit_compiled_convolution_op, _jit_compiled_convolution_op, _update_step_xla while saving (showing 4 of 4). These functions will not be directly callable after loading.\n"
     ]
    },
    {
     "name": "stdout",
     "output_type": "stream",
     "text": [
      "INFO:tensorflow:Assets written to: patience=10, restore_best_weights=True\\assets\n"
     ]
    },
    {
     "name": "stderr",
     "output_type": "stream",
     "text": [
      "INFO:tensorflow:Assets written to: patience=10, restore_best_weights=True\\assets\n"
     ]
    },
    {
     "name": "stdout",
     "output_type": "stream",
     "text": [
      "2/2 [==============================] - 2s 2s/step - loss: 1.6018 - accuracy: 0.4615 - val_loss: 1.0990 - val_accuracy: 0.5897\n",
      "Epoch 37/50\n",
      "2/2 [==============================] - ETA: 0s - loss: 1.9666 - accuracy: 0.4103"
     ]
    },
    {
     "name": "stderr",
     "output_type": "stream",
     "text": [
      "WARNING:absl:Found untraced functions such as _jit_compiled_convolution_op, _jit_compiled_convolution_op, _jit_compiled_convolution_op, _update_step_xla while saving (showing 4 of 4). These functions will not be directly callable after loading.\n"
     ]
    },
    {
     "name": "stdout",
     "output_type": "stream",
     "text": [
      "INFO:tensorflow:Assets written to: patience=10, restore_best_weights=True\\assets\n"
     ]
    },
    {
     "name": "stderr",
     "output_type": "stream",
     "text": [
      "INFO:tensorflow:Assets written to: patience=10, restore_best_weights=True\\assets\n"
     ]
    },
    {
     "name": "stdout",
     "output_type": "stream",
     "text": [
      "2/2 [==============================] - 3s 2s/step - loss: 1.9666 - accuracy: 0.4103 - val_loss: 0.9741 - val_accuracy: 0.6154\n",
      "Epoch 38/50\n",
      "2/2 [==============================] - ETA: 0s - loss: 1.5572 - accuracy: 0.4615"
     ]
    },
    {
     "name": "stderr",
     "output_type": "stream",
     "text": [
      "WARNING:absl:Found untraced functions such as _jit_compiled_convolution_op, _jit_compiled_convolution_op, _jit_compiled_convolution_op, _update_step_xla while saving (showing 4 of 4). These functions will not be directly callable after loading.\n"
     ]
    },
    {
     "name": "stdout",
     "output_type": "stream",
     "text": [
      "INFO:tensorflow:Assets written to: patience=10, restore_best_weights=True\\assets\n"
     ]
    },
    {
     "name": "stderr",
     "output_type": "stream",
     "text": [
      "INFO:tensorflow:Assets written to: patience=10, restore_best_weights=True\\assets\n"
     ]
    },
    {
     "name": "stdout",
     "output_type": "stream",
     "text": [
      "2/2 [==============================] - 2s 2s/step - loss: 1.5572 - accuracy: 0.4615 - val_loss: 0.9022 - val_accuracy: 0.6410\n",
      "Epoch 39/50\n",
      "2/2 [==============================] - ETA: 0s - loss: 1.7963 - accuracy: 0.4103"
     ]
    },
    {
     "name": "stderr",
     "output_type": "stream",
     "text": [
      "WARNING:absl:Found untraced functions such as _jit_compiled_convolution_op, _jit_compiled_convolution_op, _jit_compiled_convolution_op, _update_step_xla while saving (showing 4 of 4). These functions will not be directly callable after loading.\n"
     ]
    },
    {
     "name": "stdout",
     "output_type": "stream",
     "text": [
      "INFO:tensorflow:Assets written to: patience=10, restore_best_weights=True\\assets\n"
     ]
    },
    {
     "name": "stderr",
     "output_type": "stream",
     "text": [
      "INFO:tensorflow:Assets written to: patience=10, restore_best_weights=True\\assets\n"
     ]
    },
    {
     "name": "stdout",
     "output_type": "stream",
     "text": [
      "2/2 [==============================] - 2s 2s/step - loss: 1.7963 - accuracy: 0.4103 - val_loss: 0.8570 - val_accuracy: 0.6667\n",
      "Epoch 40/50\n",
      "2/2 [==============================] - ETA: 0s - loss: 1.3608 - accuracy: 0.4359"
     ]
    },
    {
     "name": "stderr",
     "output_type": "stream",
     "text": [
      "WARNING:absl:Found untraced functions such as _jit_compiled_convolution_op, _jit_compiled_convolution_op, _jit_compiled_convolution_op, _update_step_xla while saving (showing 4 of 4). These functions will not be directly callable after loading.\n"
     ]
    },
    {
     "name": "stdout",
     "output_type": "stream",
     "text": [
      "INFO:tensorflow:Assets written to: patience=10, restore_best_weights=True\\assets\n"
     ]
    },
    {
     "name": "stderr",
     "output_type": "stream",
     "text": [
      "INFO:tensorflow:Assets written to: patience=10, restore_best_weights=True\\assets\n"
     ]
    },
    {
     "name": "stdout",
     "output_type": "stream",
     "text": [
      "2/2 [==============================] - 2s 2s/step - loss: 1.3608 - accuracy: 0.4359 - val_loss: 0.8348 - val_accuracy: 0.6923\n",
      "Epoch 41/50\n",
      "2/2 [==============================] - ETA: 0s - loss: 1.2313 - accuracy: 0.6410"
     ]
    },
    {
     "name": "stderr",
     "output_type": "stream",
     "text": [
      "WARNING:absl:Found untraced functions such as _jit_compiled_convolution_op, _jit_compiled_convolution_op, _jit_compiled_convolution_op, _update_step_xla while saving (showing 4 of 4). These functions will not be directly callable after loading.\n"
     ]
    },
    {
     "name": "stdout",
     "output_type": "stream",
     "text": [
      "INFO:tensorflow:Assets written to: patience=10, restore_best_weights=True\\assets\n"
     ]
    },
    {
     "name": "stderr",
     "output_type": "stream",
     "text": [
      "INFO:tensorflow:Assets written to: patience=10, restore_best_weights=True\\assets\n"
     ]
    },
    {
     "name": "stdout",
     "output_type": "stream",
     "text": [
      "2/2 [==============================] - 2s 2s/step - loss: 1.2313 - accuracy: 0.6410 - val_loss: 0.7858 - val_accuracy: 0.7179\n",
      "Epoch 42/50\n",
      "2/2 [==============================] - ETA: 0s - loss: 1.3383 - accuracy: 0.5641"
     ]
    },
    {
     "name": "stderr",
     "output_type": "stream",
     "text": [
      "WARNING:absl:Found untraced functions such as _jit_compiled_convolution_op, _jit_compiled_convolution_op, _jit_compiled_convolution_op, _update_step_xla while saving (showing 4 of 4). These functions will not be directly callable after loading.\n"
     ]
    },
    {
     "name": "stdout",
     "output_type": "stream",
     "text": [
      "INFO:tensorflow:Assets written to: patience=10, restore_best_weights=True\\assets\n"
     ]
    },
    {
     "name": "stderr",
     "output_type": "stream",
     "text": [
      "INFO:tensorflow:Assets written to: patience=10, restore_best_weights=True\\assets\n"
     ]
    },
    {
     "name": "stdout",
     "output_type": "stream",
     "text": [
      "2/2 [==============================] - 3s 2s/step - loss: 1.3383 - accuracy: 0.5641 - val_loss: 0.7039 - val_accuracy: 0.7692\n",
      "Epoch 43/50\n",
      "2/2 [==============================] - ETA: 0s - loss: 1.2199 - accuracy: 0.6154"
     ]
    },
    {
     "name": "stderr",
     "output_type": "stream",
     "text": [
      "WARNING:absl:Found untraced functions such as _jit_compiled_convolution_op, _jit_compiled_convolution_op, _jit_compiled_convolution_op, _update_step_xla while saving (showing 4 of 4). These functions will not be directly callable after loading.\n"
     ]
    },
    {
     "name": "stdout",
     "output_type": "stream",
     "text": [
      "INFO:tensorflow:Assets written to: patience=10, restore_best_weights=True\\assets\n"
     ]
    },
    {
     "name": "stderr",
     "output_type": "stream",
     "text": [
      "INFO:tensorflow:Assets written to: patience=10, restore_best_weights=True\\assets\n"
     ]
    },
    {
     "name": "stdout",
     "output_type": "stream",
     "text": [
      "2/2 [==============================] - 3s 2s/step - loss: 1.2199 - accuracy: 0.6154 - val_loss: 0.6241 - val_accuracy: 0.7949\n",
      "Epoch 44/50\n",
      "2/2 [==============================] - ETA: 0s - loss: 1.1036 - accuracy: 0.6667"
     ]
    },
    {
     "name": "stderr",
     "output_type": "stream",
     "text": [
      "WARNING:absl:Found untraced functions such as _jit_compiled_convolution_op, _jit_compiled_convolution_op, _jit_compiled_convolution_op, _update_step_xla while saving (showing 4 of 4). These functions will not be directly callable after loading.\n"
     ]
    },
    {
     "name": "stdout",
     "output_type": "stream",
     "text": [
      "INFO:tensorflow:Assets written to: patience=10, restore_best_weights=True\\assets\n"
     ]
    },
    {
     "name": "stderr",
     "output_type": "stream",
     "text": [
      "INFO:tensorflow:Assets written to: patience=10, restore_best_weights=True\\assets\n"
     ]
    },
    {
     "name": "stdout",
     "output_type": "stream",
     "text": [
      "2/2 [==============================] - 3s 2s/step - loss: 1.1036 - accuracy: 0.6667 - val_loss: 0.6075 - val_accuracy: 0.8205\n",
      "Epoch 45/50\n",
      "2/2 [==============================] - ETA: 0s - loss: 1.1679 - accuracy: 0.5897"
     ]
    },
    {
     "name": "stderr",
     "output_type": "stream",
     "text": [
      "WARNING:absl:Found untraced functions such as _jit_compiled_convolution_op, _jit_compiled_convolution_op, _jit_compiled_convolution_op, _update_step_xla while saving (showing 4 of 4). These functions will not be directly callable after loading.\n"
     ]
    },
    {
     "name": "stdout",
     "output_type": "stream",
     "text": [
      "INFO:tensorflow:Assets written to: patience=10, restore_best_weights=True\\assets\n"
     ]
    },
    {
     "name": "stderr",
     "output_type": "stream",
     "text": [
      "INFO:tensorflow:Assets written to: patience=10, restore_best_weights=True\\assets\n"
     ]
    },
    {
     "name": "stdout",
     "output_type": "stream",
     "text": [
      "2/2 [==============================] - 3s 2s/step - loss: 1.1679 - accuracy: 0.5897 - val_loss: 0.6084 - val_accuracy: 0.7436\n",
      "Epoch 46/50\n",
      "2/2 [==============================] - ETA: 0s - loss: 1.0552 - accuracy: 0.7179"
     ]
    },
    {
     "name": "stderr",
     "output_type": "stream",
     "text": [
      "WARNING:absl:Found untraced functions such as _jit_compiled_convolution_op, _jit_compiled_convolution_op, _jit_compiled_convolution_op, _update_step_xla while saving (showing 4 of 4). These functions will not be directly callable after loading.\n"
     ]
    },
    {
     "name": "stdout",
     "output_type": "stream",
     "text": [
      "INFO:tensorflow:Assets written to: patience=10, restore_best_weights=True\\assets\n"
     ]
    },
    {
     "name": "stderr",
     "output_type": "stream",
     "text": [
      "INFO:tensorflow:Assets written to: patience=10, restore_best_weights=True\\assets\n"
     ]
    },
    {
     "name": "stdout",
     "output_type": "stream",
     "text": [
      "2/2 [==============================] - 2s 2s/step - loss: 1.0552 - accuracy: 0.7179 - val_loss: 0.5996 - val_accuracy: 0.7436\n",
      "Epoch 47/50\n",
      "2/2 [==============================] - ETA: 0s - loss: 0.8511 - accuracy: 0.7436"
     ]
    },
    {
     "name": "stderr",
     "output_type": "stream",
     "text": [
      "WARNING:absl:Found untraced functions such as _jit_compiled_convolution_op, _jit_compiled_convolution_op, _jit_compiled_convolution_op, _update_step_xla while saving (showing 4 of 4). These functions will not be directly callable after loading.\n"
     ]
    },
    {
     "name": "stdout",
     "output_type": "stream",
     "text": [
      "INFO:tensorflow:Assets written to: patience=10, restore_best_weights=True\\assets\n"
     ]
    },
    {
     "name": "stderr",
     "output_type": "stream",
     "text": [
      "INFO:tensorflow:Assets written to: patience=10, restore_best_weights=True\\assets\n"
     ]
    },
    {
     "name": "stdout",
     "output_type": "stream",
     "text": [
      "2/2 [==============================] - 3s 2s/step - loss: 0.8511 - accuracy: 0.7436 - val_loss: 0.5377 - val_accuracy: 0.7692\n",
      "Epoch 48/50\n",
      "2/2 [==============================] - ETA: 0s - loss: 1.1636 - accuracy: 0.6667"
     ]
    },
    {
     "name": "stderr",
     "output_type": "stream",
     "text": [
      "WARNING:absl:Found untraced functions such as _jit_compiled_convolution_op, _jit_compiled_convolution_op, _jit_compiled_convolution_op, _update_step_xla while saving (showing 4 of 4). These functions will not be directly callable after loading.\n"
     ]
    },
    {
     "name": "stdout",
     "output_type": "stream",
     "text": [
      "INFO:tensorflow:Assets written to: patience=10, restore_best_weights=True\\assets\n"
     ]
    },
    {
     "name": "stderr",
     "output_type": "stream",
     "text": [
      "INFO:tensorflow:Assets written to: patience=10, restore_best_weights=True\\assets\n"
     ]
    },
    {
     "name": "stdout",
     "output_type": "stream",
     "text": [
      "2/2 [==============================] - 4s 3s/step - loss: 1.1636 - accuracy: 0.6667 - val_loss: 0.4521 - val_accuracy: 0.7949\n",
      "Epoch 49/50\n",
      "2/2 [==============================] - ETA: 0s - loss: 0.8532 - accuracy: 0.6667"
     ]
    },
    {
     "name": "stderr",
     "output_type": "stream",
     "text": [
      "WARNING:absl:Found untraced functions such as _jit_compiled_convolution_op, _jit_compiled_convolution_op, _jit_compiled_convolution_op, _update_step_xla while saving (showing 4 of 4). These functions will not be directly callable after loading.\n"
     ]
    },
    {
     "name": "stdout",
     "output_type": "stream",
     "text": [
      "INFO:tensorflow:Assets written to: patience=10, restore_best_weights=True\\assets\n"
     ]
    },
    {
     "name": "stderr",
     "output_type": "stream",
     "text": [
      "INFO:tensorflow:Assets written to: patience=10, restore_best_weights=True\\assets\n"
     ]
    },
    {
     "name": "stdout",
     "output_type": "stream",
     "text": [
      "2/2 [==============================] - 3s 2s/step - loss: 0.8532 - accuracy: 0.6667 - val_loss: 0.4080 - val_accuracy: 0.8462\n",
      "Epoch 50/50\n",
      "2/2 [==============================] - ETA: 0s - loss: 0.6906 - accuracy: 0.7692"
     ]
    },
    {
     "name": "stderr",
     "output_type": "stream",
     "text": [
      "WARNING:absl:Found untraced functions such as _jit_compiled_convolution_op, _jit_compiled_convolution_op, _jit_compiled_convolution_op, _update_step_xla while saving (showing 4 of 4). These functions will not be directly callable after loading.\n"
     ]
    },
    {
     "name": "stdout",
     "output_type": "stream",
     "text": [
      "INFO:tensorflow:Assets written to: patience=10, restore_best_weights=True\\assets\n"
     ]
    },
    {
     "name": "stderr",
     "output_type": "stream",
     "text": [
      "INFO:tensorflow:Assets written to: patience=10, restore_best_weights=True\\assets\n"
     ]
    },
    {
     "name": "stdout",
     "output_type": "stream",
     "text": [
      "2/2 [==============================] - 2s 2s/step - loss: 0.6906 - accuracy: 0.7692 - val_loss: 0.3937 - val_accuracy: 0.8205\n"
     ]
    }
   ],
   "source": [
    "# Train the model\n",
    "history_0 = model_0.fit(images_0, encoded_labels_0, epochs=50,\n",
    "                    validation_data=(images_0, encoded_labels_0),\n",
    "                    callbacks=[checkpoint_cb, early_stopping_cb])"
   ]
  },
  {
   "cell_type": "code",
   "execution_count": null,
   "id": "544fe801",
   "metadata": {},
   "outputs": [],
   "source": []
  },
  {
   "cell_type": "code",
   "execution_count": null,
   "id": "4a6dfea3",
   "metadata": {},
   "outputs": [],
   "source": []
  },
  {
   "cell_type": "markdown",
   "id": "f493f7e2",
   "metadata": {},
   "source": [
    "## 0%"
   ]
  },
  {
   "cell_type": "code",
   "execution_count": 57,
   "id": "5676e36d",
   "metadata": {},
   "outputs": [],
   "source": [
    "directory = 'C:/Users/Duhyeon/Desktop/UBC/UBC Research/Work_Learn/SPAs Data/Simulation Data/Pictures/Increasement Picture/0%'\n",
    "\n",
    "# List all files in the directory\n",
    "files = os.listdir(directory)\n",
    "\n",
    "# Lists to store images and labels\n",
    "images_0 = []\n",
    "labels_0 = []\n",
    "\n",
    "# Iterate over each file\n",
    "for file in files:\n",
    "    if file.endswith('.jpg') or file.endswith('.jpeg') or file.endswith('.png'):\n",
    "        file_path = os.path.join(directory, file)\n",
    "        # Read the image\n",
    "        image = cv2.imread(file_path)\n",
    "        \n",
    "        # convert the input image to grayscale\n",
    "        gray = cv2.cvtColor(image, cv2.COLOR_BGR2GRAY)\n",
    "        \n",
    "        # apply thresholding to convert grayscale to binary image\n",
    "        ret,thresh = cv2.threshold(gray,224,224,0)\n",
    "        \n",
    "        # Preprocess the image\n",
    "        preprocessed_image = preprocess_image(thresh)\n",
    "        \n",
    "        # Add the preprocessed image to the list of images\n",
    "        images_0.append(preprocessed_image)\n",
    "\n",
    "        label = file.split('.')[0]  # Extract label from file name\n",
    "        labels_0.append(label)\n",
    "\n",
    "# Convert lists to numpy arrays\n",
    "images_0 = np.array(images_0)\n",
    "labels_0 = np.array(labels_0)"
   ]
  },
  {
   "cell_type": "code",
   "execution_count": 58,
   "id": "e584aa0a",
   "metadata": {},
   "outputs": [
    {
     "name": "stdout",
     "output_type": "stream",
     "text": [
      "2/2 [==============================] - 0s 40ms/step\n",
      "['DS10DS10_0_1' 'DS10DS10_2_0' 'DS10DS10_2_1' 'DS10DS10_3_0'\n",
      " 'DS10DS10_3_1' 'DS10DS10_2_1' 'DS30DS30_6_2' 'DS10DS10_6_2'\n",
      " 'DS10DS10_6_3' 'DS10DS30_2_1' 'DS10DS30_3_1' 'DS10DS30_3_2'\n",
      " 'DS30DS30_2_1' 'DS30DS30_3_1' 'DS30DS30_3_2' 'DS30DS30_6_0'\n",
      " 'DS30DS30_6_1' 'DS30DS30_6_2' 'DS30DS30_6_3' 'DS30E30_1_1' 'DS30E30_2_0'\n",
      " 'DS30E30_2_2' 'DS30E30_2_2' 'DS30E30_3_0' 'DS30E30_3_1' 'DS30E30_3_3'\n",
      " 'DS30E30_3_3' 'DS30E30_6_1' 'DS30E30_6_2' 'DS30E30_6_2' 'DS30E30_6_6'\n",
      " 'E30DS30_0_1' 'E30DS30_2_1' 'E30DS30_2_1' 'E30DS30_3_2' 'E30DS30_6_0'\n",
      " 'E30DS30_6_1' 'E30DS30_3_2' 'E30DS30_6_3']\n"
     ]
    }
   ],
   "source": [
    "# Prediction\n",
    "pred_0 = model_0.predict(images_0)\n",
    "\n",
    "# Decoding Predictions\n",
    "\n",
    "maxarg2val_list = []\n",
    "for i in range(len(pred_0)):\n",
    "    maxarg2val = np.argmax(pred_0[i])\n",
    "    maxarg2val_list.append(maxarg2val)\n",
    "\n",
    "decoded_pred_0 = le.inverse_transform(maxarg2val_list)\n",
    "print(decoded_pred_0)"
   ]
  },
  {
   "cell_type": "code",
   "execution_count": 59,
   "id": "a313a4a3",
   "metadata": {},
   "outputs": [
    {
     "name": "stdout",
     "output_type": "stream",
     "text": [
      "Accuracy: 82.05128205128204%\n",
      "Incorrect: 17.948717948717956%\n"
     ]
    }
   ],
   "source": [
    "# Calculate the number of correct predictions\n",
    "correct_predictions = sum(decoded_pred_0 == labels_0)\n",
    "\n",
    "# Calculate the total number of predictions\n",
    "total_predictions = len(labels_0)\n",
    "\n",
    "# Calculate the percentage of correct predictions\n",
    "accuracy_percent_0 = (correct_predictions / total_predictions) * 100\n",
    "\n",
    "# Calculate the percentage of incorrect predictions\n",
    "incorrect_percent_0 = 100 - accuracy_percent_0\n",
    "\n",
    "# Print the results\n",
    "print(\"Accuracy: {}%\".format(accuracy_percent_0))\n",
    "print(\"Incorrect: {}%\".format(incorrect_percent_0))"
   ]
  },
  {
   "cell_type": "markdown",
   "id": "0ac68056",
   "metadata": {},
   "source": [
    "## 1%"
   ]
  },
  {
   "cell_type": "code",
   "execution_count": 60,
   "id": "a9d7dee4",
   "metadata": {},
   "outputs": [],
   "source": [
    "directory = 'C:/Users/Duhyeon/Desktop/UBC/UBC Research/Work_Learn/SPAs Data/Simulation Data/Pictures/Increasement Picture/1%'\n",
    "\n",
    "# List all files in the directory\n",
    "files = os.listdir(directory)\n",
    "\n",
    "# Lists to store images and labels\n",
    "images_1 = []\n",
    "labels_1 = []\n",
    "\n",
    "# Iterate over each file\n",
    "for file in files:\n",
    "    if file.endswith('.jpg') or file.endswith('.jpeg') or file.endswith('.png'):\n",
    "        file_path = os.path.join(directory, file)\n",
    "        # Read the image\n",
    "        image = cv2.imread(file_path)\n",
    "        \n",
    "        # convert the input image to grayscale\n",
    "        gray = cv2.cvtColor(image, cv2.COLOR_BGR2GRAY)\n",
    "        \n",
    "        # apply thresholding to convert grayscale to binary image\n",
    "        ret,thresh = cv2.threshold(gray,224,224,0)\n",
    "        \n",
    "        # Preprocess the image\n",
    "        preprocessed_image = preprocess_image(thresh)\n",
    "        \n",
    "        # Add the preprocessed image to the list of images\n",
    "        images_1.append(preprocessed_image)\n",
    "\n",
    "        label = file.split('.')[0]  # Extract label from file name\n",
    "        labels_1.append(label)\n",
    "\n",
    "# Convert lists to numpy arrays\n",
    "images_1 = np.array(images_1)\n",
    "labels_1 = np.array(labels_1)"
   ]
  },
  {
   "cell_type": "code",
   "execution_count": 61,
   "id": "8ad92e96",
   "metadata": {},
   "outputs": [
    {
     "name": "stdout",
     "output_type": "stream",
     "text": [
      "2/2 [==============================] - 0s 41ms/step\n",
      "['DS10DS10_0_1' 'DS10DS10_2_0' 'DS10DS10_2_1' 'DS10DS10_3_0'\n",
      " 'DS10DS10_3_1' 'DS10DS10_2_1' 'DS30DS30_6_2' 'DS10DS10_6_2'\n",
      " 'DS10DS10_6_3' 'DS10DS30_2_1' 'DS10DS30_3_1' 'DS10DS30_3_2'\n",
      " 'DS30DS30_2_1' 'DS30DS30_3_1' 'DS30DS30_3_2' 'DS30DS30_6_0'\n",
      " 'DS30DS30_6_1' 'DS30DS30_6_2' 'DS30DS30_6_3' 'DS30E30_1_1' 'DS30E30_2_0'\n",
      " 'DS30E30_2_2' 'DS30E30_2_2' 'DS30E30_3_0' 'DS30E30_3_3' 'DS30E30_3_3'\n",
      " 'DS30E30_3_3' 'DS30E30_6_1' 'DS30E30_6_2' 'DS30E30_6_2' 'DS30E30_6_6'\n",
      " 'E30DS30_0_1' 'E30DS30_2_1' 'E30DS30_2_1' 'E30DS30_3_2' 'E30DS30_6_0'\n",
      " 'E30DS30_6_1' 'E30DS30_3_2' 'E30DS30_6_3']\n"
     ]
    }
   ],
   "source": [
    "# Prediction\n",
    "pred_1 = model_0.predict(images_1)\n",
    "\n",
    "# Decoding Predictions\n",
    "\n",
    "maxarg2val_list = []\n",
    "for i in range(len(pred_1)):\n",
    "    maxarg2val = np.argmax(pred_1[i])\n",
    "    maxarg2val_list.append(maxarg2val)\n",
    "\n",
    "decoded_pred_1 = le.inverse_transform(maxarg2val_list)\n",
    "print(decoded_pred_1)"
   ]
  },
  {
   "cell_type": "code",
   "execution_count": 62,
   "id": "f7d301ec",
   "metadata": {},
   "outputs": [
    {
     "name": "stdout",
     "output_type": "stream",
     "text": [
      "Accuracy: 79.48717948717949%\n",
      "Incorrect: 20.51282051282051%\n"
     ]
    }
   ],
   "source": [
    "# Calculate the number of correct predictions\n",
    "correct_predictions = sum(decoded_pred_1 == labels_1)\n",
    "\n",
    "# Calculate the total number of predictions\n",
    "total_predictions = len(labels_1)\n",
    "\n",
    "# Calculate the percentage of correct predictions\n",
    "accuracy_percent_1 = (correct_predictions / total_predictions) * 100\n",
    "\n",
    "# Calculate the percentage of incorrect predictions\n",
    "incorrect_percent_1 = 100 - accuracy_percent_1\n",
    "\n",
    "# Print the results\n",
    "print(\"Accuracy: {}%\".format(accuracy_percent_1))\n",
    "print(\"Incorrect: {}%\".format(incorrect_percent_1))"
   ]
  },
  {
   "cell_type": "markdown",
   "id": "50d9ddae",
   "metadata": {},
   "source": [
    "## 2%"
   ]
  },
  {
   "cell_type": "code",
   "execution_count": 63,
   "id": "634f9c5d",
   "metadata": {},
   "outputs": [],
   "source": [
    "directory = 'C:/Users/Duhyeon/Desktop/UBC/UBC Research/Work_Learn/SPAs Data/Simulation Data/Pictures/Increasement Picture/2%'\n",
    "\n",
    "# List all files in the directory\n",
    "files = os.listdir(directory)\n",
    "\n",
    "# Lists to store images and labels\n",
    "images_2 = []\n",
    "labels_2 = []\n",
    "\n",
    "# Iterate over each file\n",
    "for file in files:\n",
    "    if file.endswith('.jpg') or file.endswith('.jpeg') or file.endswith('.png'):\n",
    "        file_path = os.path.join(directory, file)\n",
    "        # Read the image\n",
    "        image = cv2.imread(file_path)\n",
    "        \n",
    "        # convert the input image to grayscale\n",
    "        gray = cv2.cvtColor(image, cv2.COLOR_BGR2GRAY)\n",
    "        \n",
    "        # apply thresholding to convert grayscale to binary image\n",
    "        ret,thresh = cv2.threshold(gray,224,224,0)\n",
    "        \n",
    "        # Preprocess the image\n",
    "        preprocessed_image = preprocess_image(thresh)\n",
    "        \n",
    "        # Add the preprocessed image to the list of images\n",
    "        images_2.append(preprocessed_image)\n",
    "\n",
    "        label = file.split('.')[0]  # Extract label from file name\n",
    "        labels_2.append(label)\n",
    "\n",
    "# Convert lists to numpy arrays\n",
    "images_2 = np.array(images_2)\n",
    "labels_2 = np.array(labels_2)"
   ]
  },
  {
   "cell_type": "code",
   "execution_count": 64,
   "id": "818f3c02",
   "metadata": {},
   "outputs": [
    {
     "name": "stdout",
     "output_type": "stream",
     "text": [
      "2/2 [==============================] - 0s 44ms/step\n",
      "['DS10DS10_0_1' 'DS10DS10_2_0' 'DS10DS10_2_1' 'DS10DS10_3_0'\n",
      " 'DS10DS10_3_1' 'DS10DS10_2_1' 'DS30DS30_6_2' 'DS10DS10_6_2'\n",
      " 'DS10DS10_6_3' 'DS10DS30_2_1' 'DS10DS30_3_1' 'DS10DS30_3_2'\n",
      " 'DS30DS30_2_1' 'DS30DS30_3_1' 'DS30DS30_3_2' 'DS30DS30_6_0'\n",
      " 'DS30DS30_6_1' 'DS30DS30_6_2' 'DS30DS30_6_3' 'DS30E30_1_1' 'DS30E30_2_0'\n",
      " 'DS30E30_2_2' 'DS30E30_2_2' 'DS30E30_2_1' 'DS30E30_3_3' 'DS30E30_3_3'\n",
      " 'DS30E30_3_3' 'DS30E30_6_1' 'DS30E30_6_2' 'DS30E30_6_2' 'DS30E30_6_6'\n",
      " 'E30DS30_0_1' 'E30DS30_6_1' 'E30DS30_6_1' 'E30DS30_3_2' 'E30DS30_6_0'\n",
      " 'E30DS30_6_1' 'E30DS30_3_2' 'E30DS30_6_3']\n"
     ]
    }
   ],
   "source": [
    "# Prediction\n",
    "pred_2 = model_0.predict(images_2)\n",
    "\n",
    "# Decoding Predictions\n",
    "\n",
    "maxarg2val_list = []\n",
    "for i in range(len(pred_2)):\n",
    "    maxarg2val = np.argmax(pred_2[i])\n",
    "    maxarg2val_list.append(maxarg2val)\n",
    "\n",
    "decoded_pred_2 = le.inverse_transform(maxarg2val_list)\n",
    "print(decoded_pred_2)"
   ]
  },
  {
   "cell_type": "code",
   "execution_count": 65,
   "id": "8aa94972",
   "metadata": {},
   "outputs": [
    {
     "name": "stdout",
     "output_type": "stream",
     "text": [
      "Accuracy: 74.35897435897436%\n",
      "Incorrect: 25.641025641025635%\n"
     ]
    }
   ],
   "source": [
    "# Calculate the number of correct predictions\n",
    "correct_predictions = sum(decoded_pred_2 == labels_2)\n",
    "\n",
    "# Calculate the total number of predictions\n",
    "total_predictions = len(labels_2)\n",
    "\n",
    "# Calculate the percentage of correct predictions\n",
    "accuracy_percent_2 = (correct_predictions / total_predictions) * 100\n",
    "\n",
    "# Calculate the percentage of incorrect predictions\n",
    "incorrect_percent_2 = 100 - accuracy_percent_2\n",
    "\n",
    "# Print the results\n",
    "print(\"Accuracy: {}%\".format(accuracy_percent_2))\n",
    "print(\"Incorrect: {}%\".format(incorrect_percent_2))"
   ]
  },
  {
   "cell_type": "markdown",
   "id": "dd846204",
   "metadata": {},
   "source": [
    "## 5%"
   ]
  },
  {
   "cell_type": "code",
   "execution_count": 66,
   "id": "e901d0a4",
   "metadata": {},
   "outputs": [],
   "source": [
    "directory = 'C:/Users/Duhyeon/Desktop/UBC/UBC Research/Work_Learn/SPAs Data/Simulation Data/Pictures/Increasement Picture/5%'\n",
    "\n",
    "# List all files in the directory\n",
    "files = os.listdir(directory)\n",
    "\n",
    "# Lists to store images and labels\n",
    "images_5 = []\n",
    "labels_5 = []\n",
    "\n",
    "# Iterate over each file\n",
    "for file in files:\n",
    "    if file.endswith('.jpg') or file.endswith('.jpeg') or file.endswith('.png'):\n",
    "        file_path = os.path.join(directory, file)\n",
    "        # Read the image\n",
    "        image = cv2.imread(file_path)\n",
    "        \n",
    "        # convert the input image to grayscale\n",
    "        gray = cv2.cvtColor(image, cv2.COLOR_BGR2GRAY)\n",
    "        \n",
    "        # apply thresholding to convert grayscale to binary image\n",
    "        ret,thresh = cv2.threshold(gray,224,224,0)\n",
    "        \n",
    "        # Preprocess the image\n",
    "        preprocessed_image = preprocess_image(thresh)\n",
    "        \n",
    "        # Add the preprocessed image to the list of images\n",
    "        images_5.append(preprocessed_image)\n",
    "\n",
    "        label = file.split('.')[0]  # Extract label from file name\n",
    "        labels_5.append(label)\n",
    "\n",
    "# Convert lists to numpy arrays\n",
    "images_5 = np.array(images_5)\n",
    "labels_5 = np.array(labels_5)"
   ]
  },
  {
   "cell_type": "code",
   "execution_count": 67,
   "id": "74f4d12e",
   "metadata": {},
   "outputs": [
    {
     "name": "stdout",
     "output_type": "stream",
     "text": [
      "2/2 [==============================] - 0s 46ms/step\n",
      "['DS10DS10_0_1' 'DS10DS10_2_0' 'DS10DS10_2_1' 'DS10DS10_3_0'\n",
      " 'DS10DS10_3_1' 'DS10DS10_2_1' 'DS30DS30_6_2' 'DS30DS30_6_3'\n",
      " 'DS30DS30_3_1' 'DS10DS30_2_1' 'DS10DS30_3_1' 'DS10DS30_3_2'\n",
      " 'DS30DS30_2_1' 'DS30DS30_3_1' 'DS30DS30_3_2' 'DS30DS30_6_0'\n",
      " 'DS30DS30_6_1' 'DS30DS30_6_2' 'DS30DS30_6_3' 'DS30E30_1_1' 'DS30E30_1_1'\n",
      " 'DS30E30_2_0' 'DS30E30_2_0' 'DS30E30_2_2' 'DS30E30_3_3' 'DS30E30_3_3'\n",
      " 'DS30E30_3_0' 'DS30E30_6_2' 'DS30E30_6_6' 'DS30E30_6_6' 'DS30DS30_6_0'\n",
      " 'E30DS30_2_1' 'E30DS30_6_1' 'E30DS30_6_1' 'E30DS30_0_1' 'E30DS30_6_0'\n",
      " 'E30DS30_6_1' 'E30DS30_0_1' 'E30DS30_6_3']\n"
     ]
    }
   ],
   "source": [
    "# Prediction\n",
    "pred_5 = model_0.predict(images_5)\n",
    "\n",
    "# Decoding Predictions\n",
    "\n",
    "maxarg2val_list = []\n",
    "for i in range(len(pred_5)):\n",
    "    maxarg2val = np.argmax(pred_5[i])\n",
    "    maxarg2val_list.append(maxarg2val)\n",
    "\n",
    "decoded_pred_5 = le.inverse_transform(maxarg2val_list)\n",
    "print(decoded_pred_5)"
   ]
  },
  {
   "cell_type": "code",
   "execution_count": 68,
   "id": "3575127a",
   "metadata": {},
   "outputs": [
    {
     "name": "stdout",
     "output_type": "stream",
     "text": [
      "Accuracy: 48.717948717948715%\n",
      "Incorrect: 51.282051282051285%\n"
     ]
    }
   ],
   "source": [
    "# Calculate the number of correct predictions\n",
    "correct_predictions = sum(decoded_pred_5 == labels_5)\n",
    "\n",
    "# Calculate the total number of predictions\n",
    "total_predictions = len(labels_5)\n",
    "\n",
    "# Calculate the percentage of correct predictions\n",
    "accuracy_percent_5 = (correct_predictions / total_predictions) * 100\n",
    "\n",
    "# Calculate the percentage of incorrect predictions\n",
    "incorrect_percent_5 = 100 - accuracy_percent_5\n",
    "\n",
    "# Print the results\n",
    "print(\"Accuracy: {}%\".format(accuracy_percent_5))\n",
    "print(\"Incorrect: {}%\".format(incorrect_percent_5))"
   ]
  },
  {
   "cell_type": "markdown",
   "id": "50729e47",
   "metadata": {},
   "source": [
    "## Accuracies for 0%, 1%, 2%, and 5%"
   ]
  },
  {
   "cell_type": "code",
   "execution_count": 69,
   "id": "28ad399a",
   "metadata": {},
   "outputs": [
    {
     "name": "stdout",
     "output_type": "stream",
     "text": [
      "0% Accuracy: 82.05128205128204%\n",
      "1% Accuracy: 79.48717948717949%\n",
      "2% Accuracy: 74.35897435897436%\n",
      "5% Accuracy: 48.717948717948715%\n"
     ]
    }
   ],
   "source": [
    "print(\"0% Accuracy: {}%\".format(accuracy_percent_0))\n",
    "print(\"1% Accuracy: {}%\".format(accuracy_percent_1))\n",
    "print(\"2% Accuracy: {}%\".format(accuracy_percent_2))\n",
    "print(\"5% Accuracy: {}%\".format(accuracy_percent_5))"
   ]
  }
 ],
 "metadata": {
  "kernelspec": {
   "display_name": "Python 3 (ipykernel)",
   "language": "python",
   "name": "python3"
  },
  "language_info": {
   "codemirror_mode": {
    "name": "ipython",
    "version": 3
   },
   "file_extension": ".py",
   "mimetype": "text/x-python",
   "name": "python",
   "nbconvert_exporter": "python",
   "pygments_lexer": "ipython3",
   "version": "3.9.13"
  }
 },
 "nbformat": 4,
 "nbformat_minor": 5
}
